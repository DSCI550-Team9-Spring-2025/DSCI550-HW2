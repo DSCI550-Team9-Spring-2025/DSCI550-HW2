{
 "cells": [
  {
   "cell_type": "code",
   "execution_count": 29,
   "metadata": {},
   "outputs": [
    {
     "data": {
      "text/plain": [
       "Index(['city', 'country', 'description', 'location', 'state', 'state_abbrev',\n",
       "       'longitude', 'latitude', 'city_longitude', 'city_latitude',\n",
       "       'clean_description', 'clean_spelling', 'Audio Evidence',\n",
       "       'Audio Reasoning', 'time_of_day', 'Witness Count', 'Witness Reasoning',\n",
       "       'tokenized', 'pos_tokenized', 'filtered_tokenized',\n",
       "       'lemma_filtered_tokenized', 'lemma_pos_tokenized', 'Event',\n",
       "       'apparition_types', 'apparition_descriptors', 'apparition_gender',\n",
       "       'apparition_age', 'apparition_types_str', 'apparition_descriptors_str',\n",
       "       'apparition_gender_str', 'apparition_age_str',\n",
       "       'unique_apparition_mentions', 'adjectives',\n",
       "       'unique_app_descriptor_mentions', 'FBI.Population.Covered',\n",
       "       'Murder per capita', 'Violent Crime per capita',\n",
       "       'Property Crime per capita', 'Undergrad_Grad_Rate', 'HS_Grad_Rate',\n",
       "       'STEM_Grad_Percentage', 'Visual Evidence', 'Visual Reasoning',\n",
       "       'death_rate_Alzheimer's disease', 'death_rate_Cancer',\n",
       "       'death_rate_Heart disease', 'death_rate_Unintentional injuries',\n",
       "       'death_rate_All causes', 'death_rate_Influenza and pneumonia',\n",
       "       'death_rate_Suicide', 'death_rate_Kidney disease', 'death_rate_CLRD',\n",
       "       'death_rate_Diabetes', 'Haunted Places Date', 'Alcohol Deaths',\n",
       "       'Alcohol Deaths Under 21', 'State', 'Daylight Data USNO Navy',\n",
       "       'Daylight Data TimeandDate'],\n",
       "      dtype='object')"
      ]
     },
     "execution_count": 29,
     "metadata": {},
     "output_type": "execute_result"
    }
   ],
   "source": [
    "import pandas as pd\n",
    "\n",
    "df = pd.read_csv('../data/finalized_df.tsv', sep='\\t')\n",
    "df.columns"
   ]
  },
  {
   "cell_type": "markdown",
   "metadata": {},
   "source": [
    "## Match and Extract Keyword"
   ]
  },
  {
   "cell_type": "code",
   "execution_count": 30,
   "metadata": {},
   "outputs": [],
   "source": [
    "def extract_keywords(text, keywords):\n",
    "    \"\"\"Extract keywords from the text.\"\"\"\n",
    "    text = text.lower()  # Convert to lowercase\n",
    "    keywords = [str(word) for word in keywords if pd.notna(word)]\n",
    "    matches = [word for word in keywords if re.search(r'\\b' + word + r'(s)?\\b', text)]\n",
    "    return matches"
   ]
  },
  {
   "cell_type": "markdown",
   "metadata": {},
   "source": [
    "## Keyword Bank File Download"
   ]
  },
  {
   "cell_type": "code",
   "execution_count": 27,
   "metadata": {},
   "outputs": [],
   "source": [
    "#Reading the Keyword bank\n",
    "keyword_bank_df = pd.read_csv('../data/keywords_dictionary_v2.csv', encoding = 'latin1')"
   ]
  },
  {
   "cell_type": "markdown",
   "metadata": {},
   "source": [
    "### Apparition Descriptors"
   ]
  },
  {
   "cell_type": "code",
   "execution_count": 16,
   "metadata": {},
   "outputs": [
    {
     "name": "stdout",
     "output_type": "stream",
     "text": [
      "0    [('misty', 'figure'), ('blue', 'figure')]\n",
      "1                                           []\n",
      "2                                           []\n",
      "3                                           []\n",
      "4                                           []\n",
      "Name: adjectives, dtype: object\n"
     ]
    }
   ],
   "source": [
    "print(df['adjectives'].head())"
   ]
  },
  {
   "cell_type": "markdown",
   "metadata": {},
   "source": [
    "This was an attempt to  take the adjectives associated to apparitions and extract out the unique keywords that could be used in the keyword bank \"Apparition_Adjectives\". \n",
    "\n",
    "df['adjectives'] represents the adj-apparition pairs where the adj are +/- 1to2 words from a matched apparition. "
   ]
  },
  {
   "cell_type": "code",
   "execution_count": 76,
   "metadata": {},
   "outputs": [
    {
     "data": {
      "text/plain": [
       "0        <class 'list'>\n",
       "1        <class 'list'>\n",
       "2        <class 'list'>\n",
       "3        <class 'list'>\n",
       "4        <class 'list'>\n",
       "              ...      \n",
       "10975    <class 'list'>\n",
       "10976    <class 'list'>\n",
       "10977    <class 'list'>\n",
       "10978    <class 'list'>\n",
       "10979    <class 'list'>\n",
       "Name: adjectives, Length: 10980, dtype: object"
      ]
     },
     "execution_count": 76,
     "metadata": {},
     "output_type": "execute_result"
    }
   ],
   "source": [
    "# Check the type of each value in the 'adjectives' column\n",
    "# downloading the TSV file converted the data type to strings -> later on the column is converted back to tuples in lists\n",
    "df['adjectives'].apply(type)\n"
   ]
  },
  {
   "cell_type": "code",
   "execution_count": 66,
   "metadata": {},
   "outputs": [
    {
     "name": "stdout",
     "output_type": "stream",
     "text": [
      "{'popular', 't', 'transparent', 'running', 'last', 'next', 'weird', 'abandoned', 'different', 'recent', 'manly', 'heavy', 'big', 'rumored', 'wonderful', 'black', 'supernatural', 'unknown', 'certain', 'nail', 'low', 'inexperienced', 'greenish', 'malignant', 'active', 'bride', 'bad', 'menacing', 'wild', 'distinct', 'shaowy', 'Third', 'negative', 'Wiccademous', 'dark', 'main', 'phantom', 'green', 'smoky', 'mischievous', 'bodily', 'enormous', 'attic', 'Male', 'good', 'nude', 'invisible', 'classic', 'same', 'boy', 'hostile', 'ill', 'dead', 'nameless', 'start', 'whit', 'cold', 'orbs', 'public', 'portal', 'whole', 'playful', 'metaphysical', 'benign', 'upper', 'hooded', 'early', 'several', 'unhappy', 'blue', 'careful', 'lonely', 'male', 'lingering', 'furry', 'rushes', 'freaky', 'dramatic', 'vengeful', 'full', 'responsible', 'dense', 'unexplained', 'unseen', 'random', 'charred', 'few', 'multiple', 'common', 'stronger', 'hazy', 'murdered', 'tan', 'demonic', 'rare', 'happy', 'horrible', 'foggy', 'elemental', 'sincere', 'nervous', 'silent', 'custodian', 'Strong', 'Strange', 'local', 'many', 'filmy', 'aggressive', 'short', 'further', 'empty', 'bluish', 'red', 'nearby', 'shadow', 'eerie', 'pale', 'disembodied', 'library', 'large', 'restless', 'extra', 'infamous', 'Other', 'unidentified', 'occassional', 'professional', 'bright', 's', 'grayish', 'separate', 'mad', 'strange', 'thick', 'helpful', 'open', 'mid', 'constant', 'visible', 'dust', 'malevolent', 'physical', 'strong', 'positive', 'general', 'prominent', 'Amateur', 'final', 'religious', 'pregnant', 'malicious', 'whitish', 'small', 'heavyset', 'historical', 'other', 'Unexplainable', 'gaudian', 'violent', 'much', 'suspicious', 'glowing', 'headless', 'gray', 'likely', 'right', 'activty', 'teenage', 'real', 'unpleasant', 'outside', 'second', 'indistinct', 'legendary', 'Went', 'nasty', 'old', 'darkened', 'jaguar', 'fish', 'only', 'more', 'welcoming', 'human', 'scary', 'top', 'past', 'soldier', 'girl', 'shadowy', 'white', 'guaranteed', 'evil', 'Indian', 'most', 'long', 'personal', 'benevolent', 'own', 'angry', 'unwanting', 'frightful', 'path', 'ear', 'floating', 'covered', 'prolific', 'mild', 'mean', 'elderly', 'bother', 'bloody', 'free', 'such', 'deserted', 'suspected', 'third', 'cantankerous', 'unfriendly', 'practical', 'clear', 'ominous', 'threatening', 'numerous', 'nice', 'neutral', 'beautiful', 'ANGRY', 'deceased', 'greatest', 'protective', 'specific', 'yellow', 'true', 'reported', 'female', 'nun', 'shrouded', 'miss', 'late', 'thin', 'spiritual', 'former', 'hateful', 'better', 'various', 'lady', 'favorite', 'Numerous', 'single', 'insane', 'lantern', 'believed', 'possible', 'grey', 'less', 'electrical', 'patient', 'peaceful', 'light', 'odd', 'gear', 'least', 'hard', 'interested', 'dangerous', 'casual', 'little', 'best', 'famous', 'directional', 'tall', 'shaped', 'paranormal', 'additional', 'fleeting', 'definite', 'hairy', 'uneasiness', 'tricky', 'pearl', 'uncomfortable', 'likable', 'purple', 'faint', 'close', 'sad', 'known', 'torso', 'friendly', 'notorious', 'mysterious', 'resident', 'Hawaiian', 'particular', 'young', 'occasional', 'disgruntled', 'misty', 'elementary', 'dormitory', 'cloaked', 'first', 'actual', 'present', 'ectoplasm', 'ghostly', 'fellow', 'passing', 'high', 'Many'}\n"
     ]
    }
   ],
   "source": [
    "import ast\n",
    "\n",
    "# Assuming 'df['adjectives']' contains string representations of lists of tuples\n",
    "df['adjectives'] = df['adjectives'].apply(lambda x: ast.literal_eval(x))\n",
    "\n",
    "# Now you can extract the adjectives as you did before\n",
    "adjectives = [pair[0] for sublist in df['adjectives'] for pair in sublist if pair]\n",
    "\n",
    "# Get the unique set of adjectives\n",
    "unique_adjectives = set(adjectives)\n",
    "\n",
    "# Display the unique adjectives\n",
    "print(unique_adjectives)\n"
   ]
  },
  {
   "cell_type": "code",
   "execution_count": 71,
   "metadata": {},
   "outputs": [
    {
     "name": "stdout",
     "output_type": "stream",
     "text": [
      "True\n"
     ]
    }
   ],
   "source": [
    "#Search to see if certain ADJ made it in the set\n",
    "if \"physical\" in unique_adjectives:\n",
    "    print(\"True\")\n",
    "else:\n",
    "    print(\"False\")"
   ]
  },
  {
   "cell_type": "code",
   "execution_count": 67,
   "metadata": {},
   "outputs": [
    {
     "name": "stdout",
     "output_type": "stream",
     "text": [
      "['misty', 'blue', 'strange', 'ghostly', 'unpleasant', 'cold', 'large', 'greenish', 'extra', 'little', 'odd', 'real', 'boy', 'tall', 'other', 'nail', 'male', 'male', 'eerie', 'dormitory', 'strange', 'blue', 'evil', 'shadowy', 'additional', 'dark', 'shadowy', 'large', 'eerie', 'white', 'disembodied', 'strange', 'black', 'attic', 'heavy', 'manly', 'such', 'red', 'strong', 'active', 'active', 'ghostly', 'red', 'numerous', 'free', 'many', 'ghostly', 'black', 'black', 'white', 'large', 'black', 'strange', 'black', 'blue', 'tall', 'dark', 'strange', 'friendly', 'red', 'black', 'torso', 'female', 'strange', 'shadowy', 'famous', 'short', 'large', 'white', 'likable', 'young', 'personal', 'faint', 'white', 'vengeful', 'strong', 'shadowy', 'Indian', 'nun', 'unknown', 'tall', 'second', 'last', 'white', 'bad', 'black', 'ghostly', 'tall', 'white', 'ghostly', 'only', 'mysterious', 'several', 'covered', 'orbs', 'helpful', 'full', 'Indian', 'Other', 'ghostly', 'protective', 'many', 'dust', 'prominent', 'misty', 'bluish', 'several', 'cold', 'other', 'unknown', 'old', 'ghostly', 'least', 'other', 'invisible', 'menacing', 'white', 'heavy', 'outside', 'light', 'misty', 'ghostly', 'ghostly', 'white', 'third', 'angry', 'rumored', 'strange', 'white', 'furry', 'running', 'friendly', 'white', 'unpleasant', 'old', 'portal', 'strong', 'negative', 'black', 'aggressive', 'male', 'black', 'ghostly', 'strange', 'attic', 'large', 'religious', 'young', 'Strong', 'malevolent', 'occasional', 'strong', 'malicious', 'spiritual', 'stronger', 'weird', 'eerie', 'violent', 'freaky', 'malignant', 'hooded', 'black', 'unknown', 'green', 'hard', 'gray', 'blue', 'female', 'white', 'friendly', 'white', 'cloaked', 'friendly', 'evil', 'peaceful', 'unknown', 'friendly', 'mysterious', 'darkened', 'various', 'library', 'cloaked', 'strong', 'black', 'black', 'shaped', 'mischievous', 'full', 'white', 'young', 'white', 'common', 'strong', 'white', 'female', 'final', 'invisible', 'grey', 'late', 'full', 'visible', 'playful', 'hooded', 'popular', 'black', 'wild', 'several', 'angry', 'white', 'playful', 'likely', 'particular', 'glowing', 'white', 'dark', 'male', 'custodian', 'teenage', 'ghostly', 'cold', 'random', 'unseen', 'female', 'shadowy', 'ectoplasm', 'general', 'eerie', 'second', 'unknown', 'large', 'right', 'Strong', 'young', 'gray', 'directional', 'hazy', 'shadowy', 'mysterious', 'young', 'human', 'active', 'mischievous', 'small', 'blue', 'whitish', 'shadowy', 'shadowy', 'cold', 'unknown', 'angry', 'ghostly', 'negative', 'eerie', 'weird', 'ominous', 'dangerous', 'second', 'third', 'angry', 'ghostly', 'few', 'different', 'insane', 'former', 'unknown', 'unknown', 'threatening', 'ghostly', 'strange', 'evil', 'black', 'old', 'large', 'female', 'female', 'strange', 'large', 'ominous', 'green', 'menacing', 'strange', 'white', 'shadowy', 'actual', 'nervous', 'white', 'next', 'indistinct', 'mischievous', 'female', 'black', 'red', 'ill', 'patient', 'ghostly', 'black', 'real', 'unexplained', 'orbs', 'several', 'Many', 'much', 'white', 'resident', 'white', 'unknown', 'evil', 'particular', 'hooded', 'male', 'friendly', 'large', 'black', 'whitish', 'grey', 'unknown', 'white', 'black', 'other', 'white', 'other', 'ghostly', 'several', 'other', 'active', 'human', 'playful', 'eerie', 'playful', 'other', 'heavy', 'ghostly', 'running', 'benevolent', 'headless', 'dark', 'black', 'shadowy', 'female', 'tall', 'female', 'dark', 'strange', 'black', 'misty', 'whitish', 'female', 'former', 'certain', 'glowing', 'definite', 'strange', 'female', 'strong', 'heavy', 'negative', 'angry', 'shadowy', 'high', 'third', 'cloaked', 'evil', 'friendly', 'specific', 'shadowy', 'evil', 'floating', 'heavyset', 'gear', 'many', 'many', 'favorite', 'strange', 'many', 'Unexplainable', 'dark', 'strong', 'male', 'Strange', 'tall', 'many', 'ghostly', 'green', 'violent', 'big', 'black', 'floating', 'old', 'classic', 'elderly', 'dark', 'shadowy', 'unknown', 'small', 'several', 'mild', 'human', 'white', 'human', 'many', 'occasional', 'female', 'white', 'black', 'early', 'less', 'activty', 'Numerous', 'foggy', 'friendly', 'friendly', 'white', 'blue', 'tall', 'black', 'red', 'second', 'black', 'unknown', 'vengeful', 'dark', 'close', 'ghostly', 'gray', 'unknown', 'evil', 'strange', 'shadowy', 'black', 'local', 'other', 'frightful', 'former', 'heavy', 'infamous', 'female', 'unknown', 'black', 'eerie', 'yellow', 'light', 'old', 'Indian', 'early', 'ghostly', 'strange', 'tall', 'black', 'eerie', 'female', 'black', 'evil', 'many', 'female', 'shadowy', 'headless', 'unknown', 'strange', 'believed', 'particular', 'helpful', 'hateful', 'same', 'physical', 'little', 'girl', 'definite', 'white', 'tall', 'specific', 'male', 'charred', 'shadow', 'tall', 'tall', 'strange', 'white', 'empty', 'shadowy', 'numerous', 'true', 'black', 'restless', 'other', 'headless', 'misty', 'tall', 'shadowy', 'whit', 'misty', 'best', 'many', 'young', 'strange', 'shadowy', 'strange', 'first', 'second', 'ghostly', 'much', 'male', 'young', 'dramatic', 'dark', 'green', 'angry', 'friendly', 'little', 'deserted', 'cold', 'male', 'mischievous', 'white', 'dense', 'small', 'Went', 'several', 'white', 'dark', 'constant', 'full', 'friendly', 'peaceful', 'negative', 'strange', 'occassional', 'male', 'separate', 'hooded', 'early', 'Other', 'second', 'more', 'only', 'aggressive', 'old', 'old', 'friendly', 'mild', 'strange', 'female', 'little', 'black', 'legendary', 'male', 'black', 'good', 'neutral', 'sad', 'white', 'bodily', 'late', 'enormous', 'cold', 'numerous', 'hazy', 'evil', 'pearl', 'historical', 'outside', 'female', 'ghostly', 'cold', 'various', 'hazy', 'malicious', 'phantom', 'shadowy', 'strange', 'former', 'strange', 'much', 'different', 'strange', 'male', 'female', 'other', 'dense', 'little', 'present', 'female', 'scary', 'possible', 'female', 'unidentified', 'black', 'glowing', 'unknown', 'mysterious', 'ghostly', 'elemental', 'real', 'various', 'friendly', 'strange', 'portal', 'mysterious', 'shadowy', 'gaudian', 'occasional', 'different', 'spiritual', 'local', 'restless', 'Amateur', 'unidentified', 'young', 'bother', 'dark', 'large', 'black', 'unknown', 'old', 'white', 'shadowy', 'disembodied', 'male', 'cold', 'orbs', 'little', 'little', 'glowing', 'active', 'Many', 'rushes', 'early', 'ghostly', 'bad', 'many', 'ghostly', 'particular', 'ectoplasm', 'large', 'black', 'evil', 'other', 'main', 'soldier', 'only', 'same', 'white', 'white', 'lingering', 'upper', 'long', 'dead', 'unknown', 'male', 'former', 'strange', 'large', 'many', 'ghostly', 'ghostly', 'small', 'dark', 'thick', 'possible', 'open', 'friendly', 'practical', 'unknown', 'mysterious', 'soldier', 'restless', 'many', 'male', 'strange', 'strange', 'green', 'strange', 'white', 'unexplained', 'black', 'bloody', 'bride', 'green', 'white', 'bad', 'dark', 'low', 'black', 'purple', 'shrouded', 'shrouded', 'unseen', 'friendly', 'young', 'black', 'white', 'dark', 'white', 'mad', 'shadowy', 'white', 'other', 'lady', 'mischievous', 'unknown', 'prolific', 'gray', 'cold', 'suspicious', 'sincere', 'strong', 'white', 'female', 'dark', 'shadowy', 'friendly', 'cold', 'numerous', 'particular', 'prominent', 'grayish', 'infamous', 'ghostly', 'female', 't', 'dark', 'glowing', 'supernatural', 'dark', 'shadowy', 'female', 'friendly', 'dark', 'young', 'eerie', 'ghostly', 'dark', 'shadowy', 'dark', 'strange', 'friendly', 'old', 'black', 'multiple', 'ghostly', 'hazy', 'benign', 'little', 'white', 'mysterious', 'black', 'white', 'many', 'black', 'big', 'real', 'white', 'fellow', 'small', 'ghostly', 'shadow', 'white', 'ghostly', 'ectoplasm', 'black', 'misty', 'uneasiness', 'hooded', 'responsible', 'mischievous', 'green', 'red', 'reported', 'ghostly', 'strange', 'open', 'beautiful', 'young', 'Many', 'green', 'mid', 'male', 'past', 'actual', 'many', 'heavy', 'silent', 'local', 'local', 'local', 'abandoned', 'ghostly', 'white', 'headless', 'strong', 'negative', 'present', 'such', 'evil', 's', 'friendly', 'strong', 'bright', 'black', 'male', 'male', 'careful', 'many', 'white', 'human', 'full', 'small', 'shadowy', 'beautiful', 'unseen', 'actual', 'white', 'friendly', 'angry', 'friendly', 'miss', 'grey', 'glowing', 'lady', 'strong', 'welcoming', 'mean', 'shadowy', 'old', 'guaranteed', 'friendly', 'strange', 'black', 'shadowy', 'Many', 'strange', 'shadowy', 'strange', 'ghostly', 'strange', 'cold', 'old', 'black', 'most', 'restless', 'paranormal', 'second', 'greatest', 'tall', 'white', 'unhappy', 'ghostly', 'old', 'black', 'hooded', 'dark', 'male', 'male', 'malicious', 'male', 'path', 'female', 'mild', 'cold', 'male', 'female', 'classic', 'evil', 'little', 'tall', 'female', 'unknown', 'friendly', 'whitish', 'common', 'tall', 'grayish', 'dark', 'shadowy', 'unknown', 'white', 'other', 'shadowy', 'black', 'same', 'dark', 'white', 'same', 'angry', 'Hawaiian', 'angry', 'Hawaiian', 'green', 'unpleasant', 'eerie', 'whole', 'active', 'other', 'unknown', 'fleeting', 'tall', 'several', 'dark', 'only', 'evil', 'invisible', 'many', 'big', 'black', 'friendly', 'many', 'local', 'own', 'cold', 'first', 'second', 'third', 'last', 'cold', 'evil', 'strong', 'other', 'definite', 'spiritual', 'several', 'public', 'female', 'better', 'ghostly', 'thick', 'shadowy', 'mischievous', 'dark', 'friendly', 'good', 'active', 'misty', 'many', 'next', 's', 'shadowy', 'female', 'second', 'mischievous', 'light', 'strange', 'shadowy', 'white', 'pale', 'white', 'cold', 'tall', 'hooded', 'glowing', 'black', 'mysterious', 'lonely', 'own', 'small', 'second', 'large', 'mysterious', 'female', 'dark', 'mysterious', 'hooded', 'cold', 'distinct', 'many', 'misty', 'black', 'evil', 'dark', 'red', 'white', 'filmy', 'friendly', 'light', 'lantern', 'light', 'odd', 'angry', 'further', 'old', 'known', 'local', 'old', 'sad', 'mischievous', 'male', 'black', 'happy', 'extra', 'dark', 'human', 'unknown', 'nice', 'casual', 'negative', 'heavy', 'many', 'Indian', 'famous', 'fish', 'dead', 'empty', 'cold', 'evil', 'full', 'playful', 'notorious', 'strong', 'other', 'cantankerous', 'mysterious', 'cloaked', 'top', 'cloaked', 'green', 'red', 'little', 'third', 'ghostly', 'old', 'same', 'strong', 'nun', 'nice', 'female', 'own', 'negative', 'mischievous', 'shadowy', 'eerie', 'unknown', 'black', 'start', 'nasty', 'metaphysical', 'unknown', 'black', 'white', 'murdered', 'female', 'ghostly', 'female', 'unidentified', 'white', 'eerie', 'white', 'single', 'many', 'evil', 'least', 'separate', 'small', 'little', 'electrical', 'little', 'little', 'girl', 'cold', 'mischievous', 'white', 'evil', 'purple', 'female', 'passing', 'black', 'demonic', 'dark', 'several', 'dark', 'nearby', 'horrible', 'much', 'unfriendly', 'disgruntled', 'green', 'tall', 'white', 'white', 'shadowy', 'little', 'girl', 'several', 'outside', 'evil', 'evil', 'malicious', 'cold', 'evil', 'shadow', 'glowing', 'white', 'white', 'helpful', 'bright', 'white', 'large', 'bright', 'jaguar', 'shadowy', 'good', 'friendly', 'dark', 'male', 'black', 'interested', 'unknown', 'tall', 'dark', 'female', 'Wiccademous', 'tall', 'male', 'pale', 'particular', 'violent', 'ghostly', 'black', 'malevolent', 'evil', 'angry', 'white', 'strange', 'professional', 'thin', 'dark', 'unhappy', 'shadow', 'tan', 'threatening', 'shadowy', 'dangerous', 'old', 'smoky', 'old', 'evil', 'ghostly', 'phantom', 'unidentified', 'little', 'girl', 'numerous', 'most', 'shadow', 'nude', 'hairy', 'next', 'restless', 'shadow', 'inexperienced', 'evil', 'heavy', 'black', 'female', 'old', 'own', 'little', 'transparent', 'dead', 'female', 'Male', 'male', 'tall', 'shaowy', 'red', 'girl', 'more', 'old', 'many', 'ghostly', 'dark', 'single', 'misty', 'white', 'same', 'many', 'former', 'many', 'mysterious', 'eerie', 'second', 'last', 'green', 'dark', 'pregnant', 'recent', 'angry', 's', 'unknown', 'unknown', 'evil', 'other', 'strange', 'rare', 'wonderful', 'many', 'best', 'occasional', 'white', 'tall', 'white', 'uncomfortable', 'other', 'lady', 'white', 'green', 'green', 'first', 'local', 'angry', 'clear', 'legendary', 'evil', 'black', 'deceased', 'grayish', 'white', 'black', 'dark', 'white', 'white', 'heavy', 'ominous', 'unwanting', 'strong', 'little', 'ghostly', 'white', 'tall', 'white', 'shadowy', 'Many', 'black', 'Many', 'second', 'white', 'common', 'tall', 'shadowy', 'indistinct', 'second', 'girl', 'black', 'shadowy', 'nameless', 'other', 'other', 'black', 'shadowy', 'dark', 'white', 'white', 'old', 'several', 'shadowy', 'cold', 'hostile', 'ANGRY', 'whitish', 'mischievous', 'Many', 'little', 'girl', 'male', 'third', 'local', 'lady', 'suspected', 'unknown', 'full', 'female', 'large', 'female', 'male', 'angry', 'tricky', 'protective', 'unknown', 'benevolent', 'least', 'Third', 'dark', 'least', 'unknown', 'main', 'positive', 'elementary', 'female', 'numerous', 'full', 'shadow', 'ominous', 'main', 'little', 'first', 'least', 'strange', 'benevolent', 'strange', 'early', 'visible', 'black', 'strange', 'visible', 'unpleasant', 'ear', 'few']\n"
     ]
    }
   ],
   "source": [
    "print(adjectives)"
   ]
  },
  {
   "cell_type": "code",
   "execution_count": 72,
   "metadata": {},
   "outputs": [],
   "source": [
    "# Save the unique adjectives to a text file to be stored in keyword bank\n",
    "with open('unique_adjectives.txt', 'w') as file:\n",
    "    for adjective in unique_adjectives:\n",
    "        file.write(f\"{adjective}\\n\")  # Write each adjective on a new line\n"
   ]
  },
  {
   "cell_type": "markdown",
   "metadata": {},
   "source": [
    "The below is an attempt to look at the unique_adjectives and filter for any words that are ADJ as an individual word using the small English spaCy model.\n",
    "\n",
    "Since I will keyword match specific word, I only wanted word tokens that were ADJ by themselves. Some of the results weren't 100% accurate like false positive \"Wiccademous\" which is a proper noun and a false negative \"misty\" which is an adj which should be included"
   ]
  },
  {
   "cell_type": "code",
   "execution_count": 69,
   "metadata": {},
   "outputs": [
    {
     "name": "stdout",
     "output_type": "stream",
     "text": [
      "['popular', 'transparent', 'last', 'next', 'weird', 'different', 'recent', 'heavy', 'big', 'wonderful', 'black', 'unknown', 'certain', 'low', 'inexperienced', 'malignant', 'active', 'bad', 'menacing', 'wild', 'Third', 'negative', 'Wiccademous', 'dark', 'main', 'smoky', 'mischievous', 'enormous', 'attic', 'good', 'nude', 'invisible', 'same', 'hostile', 'dead', 'cold', 'whole', 'playful', 'metaphysical', 'upper', 'several', 'unhappy', 'blue', 'careful', 'lonely', 'dramatic', 'vengeful', 'full', 'responsible', 'dense', 'unexplained', 'unseen', 'random', 'few', 'common', 'stronger', 'hazy', 'demonic', 'rare', 'happy', 'horrible', 'foggy', 'elemental', 'sincere', 'nervous', 'silent', 'Strong', 'Strange', 'local', 'many', 'aggressive', 'short', 'empty', 'bluish', 'red', 'large', 'restless', 'extra', 'infamous', 'Other', 'occassional', 'professional', 'bright', 'separate', 'mad', 'strange', 'thick', 'helpful', 'open', 'constant', 'visible', 'physical', 'strong', 'positive', 'general', 'final', 'religious', 'pregnant', 'malicious', 'small', 'historical', 'other', 'Unexplainable', 'violent', 'much', 'suspicious', 'gray', 'likely', 'real', 'unpleasant', 'second', 'legendary', 'nasty', 'old', 'scary', 'top', 'past', 'white', 'Indian', 'personal', 'benevolent', 'own', 'angry', 'unwanting', 'frightful', 'mild', 'elderly', 'bloody', 'free', 'such', 'third', 'cantankerous', 'practical', 'ominous', 'numerous', 'nice', 'neutral', 'beautiful', 'deceased', 'greatest', 'protective', 'specific', 'yellow', 'true', 'thin', 'spiritual', 'former', 'hateful', 'various', 'favorite', 'Numerous', 'single', 'insane', 'possible', 'electrical', 'peaceful', 'odd', 'least', 'hard', 'interested', 'dangerous', 'little', 'famous', 'directional', 'tall', 'additional', 'fleeting', 'definite', 'uncomfortable', 'likable', 'faint', 'sad', 'friendly', 'notorious', 'mysterious', 'Hawaiian', 'particular', 'young', 'occasional', 'actual', 'present', 'high', 'Many']\n"
     ]
    }
   ],
   "source": [
    "import spacy\n",
    "\n",
    "# Load spaCy's small English model\n",
    "nlp = spacy.load(\"en_core_web_sm\")\n",
    "\n",
    "# Process each word separately and filter adjectives\n",
    "adjective_words = [word for word in unique_adjectives if nlp(word)[0].pos_ == 'ADJ']\n",
    "\n",
    "print(adjective_words)  # Print the list of adjectives\n"
   ]
  },
  {
   "cell_type": "code",
   "execution_count": 36,
   "metadata": {},
   "outputs": [],
   "source": [
    "# Save the unique adjectives to a text file\n",
    "with open('unique_adjectives_ADJ.txt', 'w') as file:\n",
    "    for adjective in adjective_words:\n",
    "        file.write(f\"{adjective.lower()}\\n\")  # Write each adjective on a new line"
   ]
  },
  {
   "cell_type": "code",
   "execution_count": 87,
   "metadata": {},
   "outputs": [
    {
     "name": "stdout",
     "output_type": "stream",
     "text": [
      "             Audio_Evidence Image/Video/Visual Evidence  Haunted Places Date  \\\n",
      "0           Audio Forensics                     video                    NaN   \n",
      "1          Chain of Custody                  metadata                    NaN   \n",
      "2  Expert Witness Testimony            authentication                    NaN   \n",
      "3                  Metadata                  artifact                    NaN   \n",
      "4           Noise Reduction                     frame                    NaN   \n",
      "\n",
      "   Time of day Apparition_Types Apparition_Descriptors Apparition_Gender  \\\n",
      "0          NaN            ghost               faceless               man   \n",
      "1          NaN           spirit         affectionately               men   \n",
      "2          NaN       apparition               residing               guy   \n",
      "3          NaN           shadow               heavyset               boy   \n",
      "4          NaN          phantom               wrestler         gentlemen   \n",
      "\n",
      "  Apparition_Age Apparition_Adjectives Event: Murder       Event: Death  \\\n",
      "0           baby               popular        murder            death     \n",
      "1        newborn           transparent     homnicide         deceased     \n",
      "2         infant                  last          kill      passed away     \n",
      "3        toddler                  next          slay             died     \n",
      "4          child                 weird      assassin  body discovered     \n",
      "\n",
      "  Event: Supernatural Event: Natural Disaster  Event: Suicide  \n",
      "0               ghost            earthquake    killed himself  \n",
      "1              figure                tremor    killed herself  \n",
      "2             phantom            aftershock    killed themsel  \n",
      "3               haunt      seismic activity         suicide    \n",
      "4              moving            fault line       self-harm    \n"
     ]
    }
   ],
   "source": [
    "kw_df = pd.read_csv('keywords_dictionary_v2.csv')\n",
    "\n",
    "with open('unique_adjectives_ADJ.txt', \"r\", encoding=\"utf-8\") as file:\n",
    "    words = file.read().splitlines()\n",
    "\n",
    "kw_df[\"Apparition_Adjectives\"] = words + [\"\"] * (len(kw_df) - len(words))  # Fill missing rows\n",
    "\n",
    "kw_df.to_csv('../data/keywords_dictionary_v2.csv', index = False)\n",
    "print(kw_df.head())"
   ]
  },
  {
   "cell_type": "code",
   "execution_count": 88,
   "metadata": {},
   "outputs": [
    {
     "data": {
      "text/plain": [
       "Index(['Audio_Evidence', 'Image/Video/Visual Evidence', 'Haunted Places Date',\n",
       "       'Time of day', 'Apparition_Types', 'Apparition_Descriptors',\n",
       "       'Apparition_Gender', 'Apparition_Age', 'Apparition_Adjectives',\n",
       "       'Event: Murder', 'Event: Death', 'Event: Supernatural',\n",
       "       'Event: Natural Disaster', 'Event: Suicide'],\n",
       "      dtype='object')"
      ]
     },
     "execution_count": 88,
     "metadata": {},
     "output_type": "execute_result"
    }
   ],
   "source": [
    "kw_df.columns\n"
   ]
  },
  {
   "cell_type": "code",
   "execution_count": 102,
   "metadata": {},
   "outputs": [
    {
     "name": "stdout",
     "output_type": "stream",
     "text": [
      "Value not found.\n",
      "0          popular\n",
      "1      transparent\n",
      "2             last\n",
      "3             next\n",
      "4            weird\n",
      "          ...     \n",
      "191               \n",
      "192               \n",
      "193               \n",
      "194               \n",
      "195               \n",
      "Name: Apparition_Adjectives, Length: 196, dtype: object\n"
     ]
    }
   ],
   "source": [
    "#Spot check if a keyword is in the Adj keyword bank\n",
    "if \"wiccademous\" in kw_df[\"Apparition_Adjectives\"].values:\n",
    "    print(\"Value exists in the column.\")\n",
    "else:\n",
    "    print(\"Value not found.\")\n",
    "\n",
    "print(kw_df['Apparition_Adjectives'])"
   ]
  },
  {
   "cell_type": "code",
   "execution_count": 94,
   "metadata": {},
   "outputs": [
    {
     "name": "stdout",
     "output_type": "stream",
     "text": [
      "deleted wiccademous\n"
     ]
    }
   ],
   "source": [
    "#Clean up the keywords that are false positive or false negatives\n",
    "delete_word = \"wiccademous\"\n",
    "kw_df[\"Apparition_Adjectives\"].replace(delete_word, \"\")\n",
    "\n",
    "if delete_word in kw_df[\"Apparition_Adjectives\"].values:\n",
    "    print(\"Not complete\")\n",
    "else:\n",
    "    print(f\"deleted {delete_word}\")"
   ]
  },
  {
   "cell_type": "code",
   "execution_count": 104,
   "metadata": {},
   "outputs": [
    {
     "name": "stdout",
     "output_type": "stream",
     "text": [
      "184\n"
     ]
    }
   ],
   "source": [
    "empty_row_index = kw_df[kw_df[\"Apparition_Adjectives\"] == \"\"].index.min()\n",
    "print(empty_row_index)"
   ]
  },
  {
   "cell_type": "code",
   "execution_count": 103,
   "metadata": {},
   "outputs": [],
   "source": [
    "#At the identified empty_row_index, insert a word that was a false negative and wasn't included on first go around.\n",
    "kw_df.at[empty_row_index, 'Apparition_Adjectives'] = 'unidentified'"
   ]
  },
  {
   "cell_type": "code",
   "execution_count": 105,
   "metadata": {},
   "outputs": [],
   "source": [
    "kw_df.to_csv('../data/keywords_dictionary_v2.csv', index=False)"
   ]
  },
  {
   "cell_type": "markdown",
   "metadata": {},
   "source": [
    "This was to get return the adjective-apparition pair only if the adjective existed in the filtered down list of adjectives using the spaCy model.\n",
    "\n",
    "This is to only select adj-apparition pairs if the adj is in the keyword bank. Might be too selective if you want edge case references for GenAI to go off of. GenAI might prefer higher recall.\n",
    "\n",
    "Note that Apparition_Descriptors is different and is archived because the descriptors can from generating descriptors from scratch while Adjectives looks at adj nearby apparitions"
   ]
  },
  {
   "cell_type": "code",
   "execution_count": 106,
   "metadata": {},
   "outputs": [
    {
     "name": "stdout",
     "output_type": "stream",
     "text": [
      "['physical', 'violent', 'nasty', 'past', 'single', 'strong', 'insane', 'malignant', 'popular', 'numerous', 'old', 'positive', 'likable', 'unpleasant', 'greatest', 'malicious', 'strange', 'inexperienced', 'occassional', 'notorious', 'high', 'nice', 'elemental', nan, 'ominous', 'interested', 'former', 'big', 'thick', 'unexplainable', 'unseen', nan, 'dark', 'spiritual', 'cold', 'recent', 'directional', 'mad', 'large', 'same', 'certain', 'foggy', 'neutral', nan, nan, 'dangerous', nan, 'low', 'third', 'local', 'protective', 'menacing', 'enormous', 'negative', 'personal', 'hawaiian', 'professional', 'vengeful', 'suspicious', 'lonely', 'short', nan, 'playful', 'real', 'faint', 'electrical', 'various', 'visible', 'black', 'last', 'unwanting', 'demonic', 'common', 'particular', 'aggressive', 'random', 'careful', 'open', 'actual', 'third', 'invisible', 'sincere', 'heavy', 'happy', 'few', 'full', 'horrible', 'thin', 'stronger', 'hateful', 'many', 'wild', 'good', 'restless', 'nervous', 'much', 'final', 'responsible', 'white', 'silent', 'rare', 'gray', 'favorite', 'cantankerous', 'red', 'weird', 'metaphysical', 'young', 'angry', 'hard', 'famous', 'possible', 'extra', 'transparent', 'practical', 'whole', 'occasional', 'religious', 'active', 'dramatic', 'bluish', 'yellow', 'smoky', 'constant', 'mischievous', 'separate', 'sad', 'unhappy', 'hostile', 'mild', 'upper', 'odd', 'small', 'bloody', 'several', 'pregnant', 'nude', 'mysterious', 'empty', 'attic', 'blue', 'numerous', 'tall', 'least', 'scary', 'strange', 'indian', 'dead', 'general', 'helpful', 'legendary', 'strong', 'present', 'bright', 'bad', 'historical', 'beautiful', 'definite', 'main', 'benevolent', 'many', 'elderly', nan, 'deceased', 'wonderful', 'little', 'fleeting', 'unexplained', 'hazy', 'different', 'second', 'uncomfortable', 'additional', 'free', 'specific', 'infamous', 'friendly', 'peaceful', 'dense', 'unknown', 'top', 'frightful', 'misty', nan, nan, nan, nan, nan, nan, nan, nan, nan, nan, nan, nan, nan]\n",
      "0        misty figure, blue figure\n",
      "1                                 \n",
      "2                                 \n",
      "3                                 \n",
      "4                                 \n",
      "                   ...            \n",
      "10975                             \n",
      "10976                             \n",
      "10977                             \n",
      "10978                    few ghost\n",
      "10979                             \n",
      "Name: adj_apparition_kw, Length: 10980, dtype: object\n"
     ]
    }
   ],
   "source": [
    "adj_app_kw = [keyword for keyword in keyword_bank_df['Apparition_Adjectives'] if keyword != []]\n",
    "print(adj_app_kw)\n",
    "\n",
    "df['adj_apparition_kw'] = df['adjectives'].apply(\n",
    "    lambda tuples_list: \", \".join([f\"{adj} {apparition}\" for adj, apparition in tuples_list if adj in adj_app_kw])\n",
    ")\n",
    "print(df['adj_apparition_kw'])\n",
    "\n"
   ]
  },
  {
   "cell_type": "markdown",
   "metadata": {},
   "source": [
    "Note for  'adj_apparition_kw': This feature wasn't added into the dataset since it wasn't deemed necessary to filter down. The recall of what the word embedding adj-apparition pair picked up was more important than accuracy"
   ]
  },
  {
   "cell_type": "markdown",
   "metadata": {},
   "source": [
    "This just does a straight conversion of the adjective-apparition pair into a string.\n",
    "\n",
    "This preserves all the keywords matched one for a more liberal input for GenAI Images"
   ]
  },
  {
   "cell_type": "code",
   "execution_count": 107,
   "metadata": {},
   "outputs": [
    {
     "name": "stdout",
     "output_type": "stream",
     "text": [
      "0        misty figure, blue figure\n",
      "1                                 \n",
      "2                                 \n",
      "3                                 \n",
      "4                                 \n",
      "                   ...            \n",
      "10975                             \n",
      "10976                             \n",
      "10977              ear Poltergeist\n",
      "10978                    few ghost\n",
      "10979                             \n",
      "Name: apparition_adj_str, Length: 10980, dtype: object\n"
     ]
    }
   ],
   "source": [
    "df['apparition_adj_str'] = df['adjectives'].apply(\n",
    "    lambda tuples_list: \", \".join([f\"{adj} {apparition}\" for adj, apparition in tuples_list if tuples_list != []])\n",
    ")\n",
    "print(df['apparition_adj_str'])\n"
   ]
  },
  {
   "cell_type": "code",
   "execution_count": 108,
   "metadata": {},
   "outputs": [
    {
     "name": "stdout",
     "output_type": "stream",
     "text": [
      "Index(['city', 'country', 'description', 'location', 'state', 'state_abbrev',\n",
      "       'longitude', 'latitude', 'city_longitude', 'city_latitude',\n",
      "       'clean_description', 'clean_spelling', 'Audio Evidence',\n",
      "       'Audio Reasoning', 'Witness Count', 'Witness Reasoning', 'tokenized',\n",
      "       'pos_tokenized', 'filtered_tokenized', 'lemma_filtered_tokenized',\n",
      "       'lemma_pos_tokenized', 'Event', 'apparition_types',\n",
      "       'apparition_descriptors', 'apparition_gender', 'apparition_age',\n",
      "       'apparition_types_str', 'apparition_descriptors_str',\n",
      "       'apparition_gender_str', 'apparition_age_str',\n",
      "       'unique_apparition_mentions', 'adjectives', 'apparition_adj_str',\n",
      "       'unique_app_descriptor_mentions', 'FBI.Population.Covered',\n",
      "       'Murder per capita', 'Violent Crime per capita',\n",
      "       'Property Crime per capita', 'Undergrad_Grad_Rate', 'HS_Grad_Rate',\n",
      "       'STEM_Grad_Percentage', 'Visual Evidence', 'Visual Reasoning',\n",
      "       'death_rate_Alzheimer's disease', 'death_rate_Cancer',\n",
      "       'death_rate_Heart disease', 'death_rate_Unintentional injuries',\n",
      "       'death_rate_All causes', 'death_rate_Influenza and pneumonia',\n",
      "       'death_rate_Suicide', 'death_rate_Kidney disease', 'death_rate_CLRD',\n",
      "       'death_rate_Diabetes', 'Haunted Places Date', 'Alcohol Deaths',\n",
      "       'Alcohol Deaths Under 21', 'State', 'time_of_day',\n",
      "       'Daylight Data USNO Navy', 'Daylight Data TimeandDate',\n",
      "       'adj_apparition_kw'],\n",
      "      dtype='object')\n"
     ]
    }
   ],
   "source": [
    "print(df.columns)"
   ]
  },
  {
   "cell_type": "code",
   "execution_count": 110,
   "metadata": {},
   "outputs": [
    {
     "name": "stdout",
     "output_type": "stream",
     "text": [
      "0    [ghostly, misty]\n",
      "1          [restless]\n",
      "2                  []\n",
      "3                  []\n",
      "4                  []\n",
      "5                  []\n",
      "6                  []\n",
      "7                  []\n",
      "8                  []\n",
      "9           [ghostly]\n",
      "Name: apparition_descriptors, dtype: object\n"
     ]
    }
   ],
   "source": [
    "#Update of the keyword match for apparition_descriptors - Removed the clearly wrong \"presence\" as a descriptor which \n",
    "#This keyword match is archived because the adjective-apparition descriptor pair is a better approach to finding apparition descriptions\n",
    "import re\n",
    "\n",
    "keyword_bank_df = pd.read_csv('../data/keywords_dictionary_v2.csv')\n",
    "df['apparition_descriptors'] = df['lemma_pos_tokenized'].apply(lambda x: extract_keywords(str(x), keyword_bank_df['Apparition_Descriptors']))\n",
    "\n",
    "print(df['apparition_descriptors'].head(10))\n"
   ]
  },
  {
   "cell_type": "code",
   "execution_count": 59,
   "metadata": {},
   "outputs": [
    {
     "data": {
      "text/plain": [
       "Index(['city', 'country', 'description', 'location', 'state', 'state_abbrev',\n",
       "       'longitude', 'latitude', 'city_longitude', 'city_latitude',\n",
       "       'clean_description', 'clean_spelling', 'Audio Evidence',\n",
       "       'Audio Reasoning', 'time_of_day', 'Witness Count', 'Witness Reasoning',\n",
       "       'tokenized', 'pos_tokenized', 'filtered_tokenized',\n",
       "       'lemma_filtered_tokenized', 'lemma_pos_tokenized', 'Event',\n",
       "       'apparition_types', 'apparition_descriptors', 'apparition_gender',\n",
       "       'apparition_age', 'apparition_types_str', 'apparition_descriptors_str',\n",
       "       'apparition_gender_str', 'apparition_age_str',\n",
       "       'unique_apparition_mentions', 'adjectives',\n",
       "       'unique_app_descriptor_mentions', 'FBI.Population.Covered',\n",
       "       'Murder per capita', 'Violent Crime per capita',\n",
       "       'Property Crime per capita', 'Undergrad_Grad_Rate', 'HS_Grad_Rate',\n",
       "       'STEM_Grad_Percentage', 'Visual Evidence', 'Visual Reasoning',\n",
       "       'death_rate_Alzheimer's disease', 'death_rate_Cancer',\n",
       "       'death_rate_Heart disease', 'death_rate_Unintentional injuries',\n",
       "       'death_rate_All causes', 'death_rate_Influenza and pneumonia',\n",
       "       'death_rate_Suicide', 'death_rate_Kidney disease', 'death_rate_CLRD',\n",
       "       'death_rate_Diabetes', 'Haunted Places Date', 'Alcohol Deaths',\n",
       "       'Alcohol Deaths Under 21', 'State', 'Daylight Data USNO Navy',\n",
       "       'Daylight Data TimeandDate', 'apparition_adjectives',\n",
       "       'apparition_adj_str'],\n",
       "      dtype='object')"
      ]
     },
     "execution_count": 59,
     "metadata": {},
     "output_type": "execute_result"
    }
   ],
   "source": [
    "df.columns"
   ]
  },
  {
   "cell_type": "code",
   "execution_count": 111,
   "metadata": {},
   "outputs": [],
   "source": [
    "desired_order = ['city', 'country', 'description', 'location', 'state', 'state_abbrev',\n",
    "       'longitude', 'latitude', 'city_longitude', 'city_latitude',\n",
    "       'clean_description', 'clean_spelling', 'Audio Evidence',\n",
    "       'Audio Reasoning', 'Witness Count', 'Witness Reasoning',\n",
    "       'tokenized', 'pos_tokenized', 'filtered_tokenized',\n",
    "       'lemma_filtered_tokenized', 'lemma_pos_tokenized', 'Event',\n",
    "       'apparition_types', 'apparition_descriptors', 'apparition_gender',\n",
    "       'apparition_age', 'apparition_types_str', 'apparition_descriptors_str',\n",
    "       'apparition_gender_str', 'apparition_age_str',\n",
    "       'unique_apparition_mentions','unique_app_descriptor_mentions','adjectives', 'apparition_adj_str', 'FBI.Population.Covered',\n",
    "       'Murder per capita', 'Violent Crime per capita',\n",
    "       'Property Crime per capita', 'Undergrad_Grad_Rate', 'HS_Grad_Rate',\n",
    "       'STEM_Grad_Percentage', 'Visual Evidence', 'Visual Reasoning',\n",
    "       'death_rate_Alzheimer\\'s disease', 'death_rate_Cancer',\n",
    "       'death_rate_Heart disease', 'death_rate_Unintentional injuries',\n",
    "       'death_rate_All causes', 'death_rate_Influenza and pneumonia',\n",
    "       'death_rate_Suicide', 'death_rate_Kidney disease', 'death_rate_CLRD',\n",
    "       'death_rate_Diabetes', 'Haunted Places Date', 'Alcohol Deaths',\n",
    "       'Alcohol Deaths Under 21', 'State', 'time_of_day', 'Daylight Data USNO Navy',\n",
    "       'Daylight Data TimeandDate']\n",
    "\n",
    "df = df[desired_order]"
   ]
  },
  {
   "cell_type": "code",
   "execution_count": 112,
   "metadata": {},
   "outputs": [
    {
     "data": {
      "text/plain": [
       "Index(['city', 'country', 'description', 'location', 'state', 'state_abbrev',\n",
       "       'longitude', 'latitude', 'city_longitude', 'city_latitude',\n",
       "       'clean_description', 'clean_spelling', 'Audio Evidence',\n",
       "       'Audio Reasoning', 'Witness Count', 'Witness Reasoning', 'tokenized',\n",
       "       'pos_tokenized', 'filtered_tokenized', 'lemma_filtered_tokenized',\n",
       "       'lemma_pos_tokenized', 'Event', 'apparition_types',\n",
       "       'apparition_descriptors', 'apparition_gender', 'apparition_age',\n",
       "       'apparition_types_str', 'apparition_descriptors_str',\n",
       "       'apparition_gender_str', 'apparition_age_str',\n",
       "       'unique_apparition_mentions', 'unique_app_descriptor_mentions',\n",
       "       'adjectives', 'apparition_adj_str', 'FBI.Population.Covered',\n",
       "       'Murder per capita', 'Violent Crime per capita',\n",
       "       'Property Crime per capita', 'Undergrad_Grad_Rate', 'HS_Grad_Rate',\n",
       "       'STEM_Grad_Percentage', 'Visual Evidence', 'Visual Reasoning',\n",
       "       'death_rate_Alzheimer's disease', 'death_rate_Cancer',\n",
       "       'death_rate_Heart disease', 'death_rate_Unintentional injuries',\n",
       "       'death_rate_All causes', 'death_rate_Influenza and pneumonia',\n",
       "       'death_rate_Suicide', 'death_rate_Kidney disease', 'death_rate_CLRD',\n",
       "       'death_rate_Diabetes', 'Haunted Places Date', 'Alcohol Deaths',\n",
       "       'Alcohol Deaths Under 21', 'State', 'time_of_day',\n",
       "       'Daylight Data USNO Navy', 'Daylight Data TimeandDate'],\n",
       "      dtype='object')"
      ]
     },
     "execution_count": 112,
     "metadata": {},
     "output_type": "execute_result"
    }
   ],
   "source": [
    "df.columns"
   ]
  },
  {
   "cell_type": "code",
   "execution_count": 113,
   "metadata": {},
   "outputs": [],
   "source": [
    "df.to_csv('../data/v2.csv')"
   ]
  },
  {
   "cell_type": "code",
   "execution_count": 119,
   "metadata": {},
   "outputs": [],
   "source": [
    "df.to_csv('../data/v2.tsv', sep=\"\\t\") "
   ]
  },
  {
   "cell_type": "code",
   "execution_count": 114,
   "metadata": {},
   "outputs": [
    {
     "data": {
      "text/html": [
       "<div>\n",
       "<style scoped>\n",
       "    .dataframe tbody tr th:only-of-type {\n",
       "        vertical-align: middle;\n",
       "    }\n",
       "\n",
       "    .dataframe tbody tr th {\n",
       "        vertical-align: top;\n",
       "    }\n",
       "\n",
       "    .dataframe thead th {\n",
       "        text-align: right;\n",
       "    }\n",
       "</style>\n",
       "<table border=\"1\" class=\"dataframe\">\n",
       "  <thead>\n",
       "    <tr style=\"text-align: right;\">\n",
       "      <th></th>\n",
       "      <th>city</th>\n",
       "      <th>country</th>\n",
       "      <th>description</th>\n",
       "      <th>location</th>\n",
       "      <th>state</th>\n",
       "      <th>state_abbrev</th>\n",
       "      <th>longitude</th>\n",
       "      <th>latitude</th>\n",
       "      <th>city_longitude</th>\n",
       "      <th>city_latitude</th>\n",
       "      <th>...</th>\n",
       "      <th>death_rate_Kidney disease</th>\n",
       "      <th>death_rate_CLRD</th>\n",
       "      <th>death_rate_Diabetes</th>\n",
       "      <th>Haunted Places Date</th>\n",
       "      <th>Alcohol Deaths</th>\n",
       "      <th>Alcohol Deaths Under 21</th>\n",
       "      <th>State</th>\n",
       "      <th>time_of_day</th>\n",
       "      <th>Daylight Data USNO Navy</th>\n",
       "      <th>Daylight Data TimeandDate</th>\n",
       "    </tr>\n",
       "  </thead>\n",
       "  <tbody>\n",
       "    <tr>\n",
       "      <th>0</th>\n",
       "      <td>Ada</td>\n",
       "      <td>United States</td>\n",
       "      <td>Ada witch - Sometimes you can see a misty blue...</td>\n",
       "      <td>Ada Cemetery</td>\n",
       "      <td>Michigan</td>\n",
       "      <td>MI</td>\n",
       "      <td>-85.504893</td>\n",
       "      <td>42.962106</td>\n",
       "      <td>-85.495480</td>\n",
       "      <td>42.960727</td>\n",
       "      <td>...</td>\n",
       "      <td>15.136842</td>\n",
       "      <td>44.742105</td>\n",
       "      <td>25.236842</td>\n",
       "      <td>1/14/2013</td>\n",
       "      <td>2208.0</td>\n",
       "      <td>3.9%</td>\n",
       "      <td>Michigan</td>\n",
       "      <td>Dusk</td>\n",
       "      <td>09:05</td>\n",
       "      <td>No data found</td>\n",
       "    </tr>\n",
       "    <tr>\n",
       "      <th>1</th>\n",
       "      <td>Addison</td>\n",
       "      <td>United States</td>\n",
       "      <td>A little girl was killed suddenly while waitin...</td>\n",
       "      <td>North Adams Rd.</td>\n",
       "      <td>Michigan</td>\n",
       "      <td>MI</td>\n",
       "      <td>-84.381843</td>\n",
       "      <td>41.971425</td>\n",
       "      <td>-84.347168</td>\n",
       "      <td>41.986434</td>\n",
       "      <td>...</td>\n",
       "      <td>15.136842</td>\n",
       "      <td>44.742105</td>\n",
       "      <td>25.236842</td>\n",
       "      <td>1/1/2025</td>\n",
       "      <td>2208.0</td>\n",
       "      <td>3.9%</td>\n",
       "      <td>Michigan</td>\n",
       "      <td>Dusk</td>\n",
       "      <td>11:22</td>\n",
       "      <td>No data found</td>\n",
       "    </tr>\n",
       "    <tr>\n",
       "      <th>2</th>\n",
       "      <td>Adrian</td>\n",
       "      <td>United States</td>\n",
       "      <td>If you take Gorman Rd. west towards Sand Creek...</td>\n",
       "      <td>Ghost Trestle</td>\n",
       "      <td>Michigan</td>\n",
       "      <td>MI</td>\n",
       "      <td>-84.035656</td>\n",
       "      <td>41.904538</td>\n",
       "      <td>-84.037166</td>\n",
       "      <td>41.897547</td>\n",
       "      <td>...</td>\n",
       "      <td>15.136842</td>\n",
       "      <td>44.742105</td>\n",
       "      <td>25.236842</td>\n",
       "      <td>9/22/2006</td>\n",
       "      <td>2208.0</td>\n",
       "      <td>3.9%</td>\n",
       "      <td>Michigan</td>\n",
       "      <td>Evening</td>\n",
       "      <td>11:16</td>\n",
       "      <td>No data found</td>\n",
       "    </tr>\n",
       "    <tr>\n",
       "      <th>3</th>\n",
       "      <td>Adrian</td>\n",
       "      <td>United States</td>\n",
       "      <td>In the 1970's, one room, room 211, in the old ...</td>\n",
       "      <td>Siena Heights University</td>\n",
       "      <td>Michigan</td>\n",
       "      <td>MI</td>\n",
       "      <td>-84.017565</td>\n",
       "      <td>41.905712</td>\n",
       "      <td>-84.037166</td>\n",
       "      <td>41.897547</td>\n",
       "      <td>...</td>\n",
       "      <td>15.136842</td>\n",
       "      <td>44.742105</td>\n",
       "      <td>25.236842</td>\n",
       "      <td>3/1/1900</td>\n",
       "      <td>2208.0</td>\n",
       "      <td>3.9%</td>\n",
       "      <td>Michigan</td>\n",
       "      <td>Unknown</td>\n",
       "      <td>11:45</td>\n",
       "      <td>No data found</td>\n",
       "    </tr>\n",
       "    <tr>\n",
       "      <th>4</th>\n",
       "      <td>Albion</td>\n",
       "      <td>United States</td>\n",
       "      <td>Kappa Delta Sorority - The Kappa Delta Sororit...</td>\n",
       "      <td>Albion College</td>\n",
       "      <td>Michigan</td>\n",
       "      <td>MI</td>\n",
       "      <td>-84.745177</td>\n",
       "      <td>42.244006</td>\n",
       "      <td>-84.753030</td>\n",
       "      <td>42.243097</td>\n",
       "      <td>...</td>\n",
       "      <td>15.136842</td>\n",
       "      <td>44.742105</td>\n",
       "      <td>25.236842</td>\n",
       "      <td>1/1/2025</td>\n",
       "      <td>2208.0</td>\n",
       "      <td>3.9%</td>\n",
       "      <td>Michigan</td>\n",
       "      <td>Evening</td>\n",
       "      <td>09:10</td>\n",
       "      <td>No data found</td>\n",
       "    </tr>\n",
       "    <tr>\n",
       "      <th>5</th>\n",
       "      <td>Albion</td>\n",
       "      <td>United States</td>\n",
       "      <td>A mysterious lady in white has been spotted in...</td>\n",
       "      <td>Riverside Cemetery</td>\n",
       "      <td>Michigan</td>\n",
       "      <td>MI</td>\n",
       "      <td>-84.753056</td>\n",
       "      <td>42.236814</td>\n",
       "      <td>-84.753030</td>\n",
       "      <td>42.243097</td>\n",
       "      <td>...</td>\n",
       "      <td>15.136842</td>\n",
       "      <td>44.742105</td>\n",
       "      <td>25.236842</td>\n",
       "      <td>1/1/2025</td>\n",
       "      <td>2208.0</td>\n",
       "      <td>3.9%</td>\n",
       "      <td>Michigan</td>\n",
       "      <td>Unknown</td>\n",
       "      <td>09:10</td>\n",
       "      <td>No data found</td>\n",
       "    </tr>\n",
       "    <tr>\n",
       "      <th>6</th>\n",
       "      <td>Algoma Township</td>\n",
       "      <td>United States</td>\n",
       "      <td>On a winding dirt road next to the Rogue River...</td>\n",
       "      <td>Hell's Bridge</td>\n",
       "      <td>Michigan</td>\n",
       "      <td>MI</td>\n",
       "      <td>NaN</td>\n",
       "      <td>NaN</td>\n",
       "      <td>-85.622930</td>\n",
       "      <td>43.149293</td>\n",
       "      <td>...</td>\n",
       "      <td>15.136842</td>\n",
       "      <td>44.742105</td>\n",
       "      <td>25.236842</td>\n",
       "      <td>1/1/2025</td>\n",
       "      <td>2208.0</td>\n",
       "      <td>3.9%</td>\n",
       "      <td>Michigan</td>\n",
       "      <td>Dusk</td>\n",
       "      <td>09:04</td>\n",
       "      <td>No data found</td>\n",
       "    </tr>\n",
       "    <tr>\n",
       "      <th>7</th>\n",
       "      <td>Algonac</td>\n",
       "      <td>United States</td>\n",
       "      <td>Morrow Road is a Haunted road in Algonac Michi...</td>\n",
       "      <td>Morrow Road</td>\n",
       "      <td>Michigan</td>\n",
       "      <td>MI</td>\n",
       "      <td>-82.576290</td>\n",
       "      <td>42.652997</td>\n",
       "      <td>-82.531018</td>\n",
       "      <td>42.618367</td>\n",
       "      <td>...</td>\n",
       "      <td>15.136842</td>\n",
       "      <td>44.742105</td>\n",
       "      <td>25.236842</td>\n",
       "      <td>3/1/2001</td>\n",
       "      <td>2208.0</td>\n",
       "      <td>3.9%</td>\n",
       "      <td>Michigan</td>\n",
       "      <td>Unknown</td>\n",
       "      <td>09:07</td>\n",
       "      <td>No data found</td>\n",
       "    </tr>\n",
       "    <tr>\n",
       "      <th>8</th>\n",
       "      <td>Allegan</td>\n",
       "      <td>United States</td>\n",
       "      <td>People report hearing footsteps, and doors sla...</td>\n",
       "      <td>Elks Lodge</td>\n",
       "      <td>Michigan</td>\n",
       "      <td>MI</td>\n",
       "      <td>-85.841599</td>\n",
       "      <td>42.520552</td>\n",
       "      <td>-85.855303</td>\n",
       "      <td>42.529199</td>\n",
       "      <td>...</td>\n",
       "      <td>15.136842</td>\n",
       "      <td>44.742105</td>\n",
       "      <td>25.236842</td>\n",
       "      <td>6/1/2008</td>\n",
       "      <td>2208.0</td>\n",
       "      <td>3.9%</td>\n",
       "      <td>Michigan</td>\n",
       "      <td>Unknown</td>\n",
       "      <td>09:08</td>\n",
       "      <td>No data found</td>\n",
       "    </tr>\n",
       "    <tr>\n",
       "      <th>9</th>\n",
       "      <td>Allegan</td>\n",
       "      <td>United States</td>\n",
       "      <td>Various ghostly activities. News coverage abou...</td>\n",
       "      <td>The Grill House and the Rock Bottom Bar</td>\n",
       "      <td>Michigan</td>\n",
       "      <td>MI</td>\n",
       "      <td>-85.857564</td>\n",
       "      <td>42.497762</td>\n",
       "      <td>-85.855303</td>\n",
       "      <td>42.529199</td>\n",
       "      <td>...</td>\n",
       "      <td>15.136842</td>\n",
       "      <td>44.742105</td>\n",
       "      <td>25.236842</td>\n",
       "      <td>1/1/2025</td>\n",
       "      <td>2208.0</td>\n",
       "      <td>3.9%</td>\n",
       "      <td>Michigan</td>\n",
       "      <td>Dusk</td>\n",
       "      <td>09:08</td>\n",
       "      <td>No data found</td>\n",
       "    </tr>\n",
       "    <tr>\n",
       "      <th>10</th>\n",
       "      <td>Allegan</td>\n",
       "      <td>United States</td>\n",
       "      <td>there have been notes of white dogs chasing ca...</td>\n",
       "      <td>The Yellow Motel</td>\n",
       "      <td>Michigan</td>\n",
       "      <td>MI</td>\n",
       "      <td>-85.874422</td>\n",
       "      <td>42.534164</td>\n",
       "      <td>-85.855303</td>\n",
       "      <td>42.529199</td>\n",
       "      <td>...</td>\n",
       "      <td>15.136842</td>\n",
       "      <td>44.742105</td>\n",
       "      <td>25.236842</td>\n",
       "      <td>1/1/2025</td>\n",
       "      <td>2208.0</td>\n",
       "      <td>3.9%</td>\n",
       "      <td>Michigan</td>\n",
       "      <td>Dusk</td>\n",
       "      <td>11:45</td>\n",
       "      <td>No data found</td>\n",
       "    </tr>\n",
       "    <tr>\n",
       "      <th>11</th>\n",
       "      <td>Alma</td>\n",
       "      <td>United States</td>\n",
       "      <td>Gamma Phi Beta House - Sisters that live in th...</td>\n",
       "      <td>Alma College</td>\n",
       "      <td>Michigan</td>\n",
       "      <td>MI</td>\n",
       "      <td>-84.669939</td>\n",
       "      <td>43.379011</td>\n",
       "      <td>-84.659727</td>\n",
       "      <td>43.378920</td>\n",
       "      <td>...</td>\n",
       "      <td>15.136842</td>\n",
       "      <td>44.742105</td>\n",
       "      <td>25.236842</td>\n",
       "      <td>1/1/2025</td>\n",
       "      <td>2208.0</td>\n",
       "      <td>3.9%</td>\n",
       "      <td>Michigan</td>\n",
       "      <td>Evening</td>\n",
       "      <td>09:02</td>\n",
       "      <td>No data found</td>\n",
       "    </tr>\n",
       "    <tr>\n",
       "      <th>12</th>\n",
       "      <td>Alpena</td>\n",
       "      <td>United States</td>\n",
       "      <td>A few witnesses heard footsteps and saw heads ...</td>\n",
       "      <td>old radio tavern</td>\n",
       "      <td>Michigan</td>\n",
       "      <td>MI</td>\n",
       "      <td>-83.433713</td>\n",
       "      <td>45.062909</td>\n",
       "      <td>-83.432753</td>\n",
       "      <td>45.061679</td>\n",
       "      <td>...</td>\n",
       "      <td>15.136842</td>\n",
       "      <td>44.742105</td>\n",
       "      <td>25.236842</td>\n",
       "      <td>3/1/1972</td>\n",
       "      <td>2208.0</td>\n",
       "      <td>3.9%</td>\n",
       "      <td>Michigan</td>\n",
       "      <td>Dusk</td>\n",
       "      <td>11:11</td>\n",
       "      <td>11:10</td>\n",
       "    </tr>\n",
       "    <tr>\n",
       "      <th>13</th>\n",
       "      <td>Ann Arbor</td>\n",
       "      <td>United States</td>\n",
       "      <td>Story goes some time in the late 70s a student...</td>\n",
       "      <td>Huron High School theatre.</td>\n",
       "      <td>Michigan</td>\n",
       "      <td>MI</td>\n",
       "      <td>-83.702643</td>\n",
       "      <td>42.281389</td>\n",
       "      <td>-83.743038</td>\n",
       "      <td>42.280826</td>\n",
       "      <td>...</td>\n",
       "      <td>15.136842</td>\n",
       "      <td>44.742105</td>\n",
       "      <td>25.236842</td>\n",
       "      <td>1/1/2025</td>\n",
       "      <td>2208.0</td>\n",
       "      <td>3.9%</td>\n",
       "      <td>Michigan</td>\n",
       "      <td>Evening</td>\n",
       "      <td>09:10</td>\n",
       "      <td>9:09</td>\n",
       "    </tr>\n",
       "    <tr>\n",
       "      <th>14</th>\n",
       "      <td>Ann Arbor</td>\n",
       "      <td>United States</td>\n",
       "      <td>Mercywood was a mental hospital before closing...</td>\n",
       "      <td>Mercywood Hospital</td>\n",
       "      <td>Michigan</td>\n",
       "      <td>MI</td>\n",
       "      <td>-83.654159</td>\n",
       "      <td>42.264880</td>\n",
       "      <td>-83.743038</td>\n",
       "      <td>42.280826</td>\n",
       "      <td>...</td>\n",
       "      <td>15.136842</td>\n",
       "      <td>44.742105</td>\n",
       "      <td>25.236842</td>\n",
       "      <td>1/1/2025</td>\n",
       "      <td>2208.0</td>\n",
       "      <td>3.9%</td>\n",
       "      <td>Michigan</td>\n",
       "      <td>Morning</td>\n",
       "      <td>09:10</td>\n",
       "      <td>9:09</td>\n",
       "    </tr>\n",
       "    <tr>\n",
       "      <th>15</th>\n",
       "      <td>Assininns</td>\n",
       "      <td>United States</td>\n",
       "      <td>Before the building was turned into a Tribal C...</td>\n",
       "      <td>the old tribal center/orphanage</td>\n",
       "      <td>Michigan</td>\n",
       "      <td>MI</td>\n",
       "      <td>NaN</td>\n",
       "      <td>NaN</td>\n",
       "      <td>-88.477352</td>\n",
       "      <td>46.810210</td>\n",
       "      <td>...</td>\n",
       "      <td>15.136842</td>\n",
       "      <td>44.742105</td>\n",
       "      <td>25.236842</td>\n",
       "      <td>1/1/2025</td>\n",
       "      <td>2208.0</td>\n",
       "      <td>3.9%</td>\n",
       "      <td>Michigan</td>\n",
       "      <td>Dusk</td>\n",
       "      <td>11:59</td>\n",
       "      <td>No data found</td>\n",
       "    </tr>\n",
       "    <tr>\n",
       "      <th>16</th>\n",
       "      <td>Atlanta</td>\n",
       "      <td>United States</td>\n",
       "      <td>The old cabin located on Camp 8 road is haunte...</td>\n",
       "      <td>Camp 8 Cabin</td>\n",
       "      <td>Michigan</td>\n",
       "      <td>MI</td>\n",
       "      <td>-84.287816</td>\n",
       "      <td>44.847829</td>\n",
       "      <td>-84.143893</td>\n",
       "      <td>45.004731</td>\n",
       "      <td>...</td>\n",
       "      <td>15.136842</td>\n",
       "      <td>44.742105</td>\n",
       "      <td>25.236842</td>\n",
       "      <td>1/1/2000</td>\n",
       "      <td>2208.0</td>\n",
       "      <td>3.9%</td>\n",
       "      <td>Michigan</td>\n",
       "      <td>Evening</td>\n",
       "      <td>11:46</td>\n",
       "      <td>11:52</td>\n",
       "    </tr>\n",
       "    <tr>\n",
       "      <th>17</th>\n",
       "      <td>Augusta</td>\n",
       "      <td>United States</td>\n",
       "      <td>Hotel now owned by Michigan State University. ...</td>\n",
       "      <td>Brook Lodge Hotel</td>\n",
       "      <td>Michigan</td>\n",
       "      <td>MI</td>\n",
       "      <td>NaN</td>\n",
       "      <td>NaN</td>\n",
       "      <td>-85.352222</td>\n",
       "      <td>42.336429</td>\n",
       "      <td>...</td>\n",
       "      <td>15.136842</td>\n",
       "      <td>44.742105</td>\n",
       "      <td>25.236842</td>\n",
       "      <td>3/19/2025</td>\n",
       "      <td>2208.0</td>\n",
       "      <td>3.9%</td>\n",
       "      <td>Michigan</td>\n",
       "      <td>Unknown</td>\n",
       "      <td>11:13</td>\n",
       "      <td>11:09</td>\n",
       "    </tr>\n",
       "    <tr>\n",
       "      <th>18</th>\n",
       "      <td>Battle Creek</td>\n",
       "      <td>United States</td>\n",
       "      <td>Reports of strange occurrences happened only i...</td>\n",
       "      <td>Court Apartments (formally Webster Apartments)</td>\n",
       "      <td>Michigan</td>\n",
       "      <td>MI</td>\n",
       "      <td>-85.178069</td>\n",
       "      <td>42.297925</td>\n",
       "      <td>-85.179714</td>\n",
       "      <td>42.321152</td>\n",
       "      <td>...</td>\n",
       "      <td>15.136842</td>\n",
       "      <td>44.742105</td>\n",
       "      <td>25.236842</td>\n",
       "      <td>1/1/2025</td>\n",
       "      <td>2208.0</td>\n",
       "      <td>3.9%</td>\n",
       "      <td>Michigan</td>\n",
       "      <td>Unknown</td>\n",
       "      <td>09:55</td>\n",
       "      <td>No data found</td>\n",
       "    </tr>\n",
       "    <tr>\n",
       "      <th>19</th>\n",
       "      <td>Battle Creek</td>\n",
       "      <td>United States</td>\n",
       "      <td>when people drive by sometimes they see a whit...</td>\n",
       "      <td>Penfield cemetery</td>\n",
       "      <td>Michigan</td>\n",
       "      <td>MI</td>\n",
       "      <td>-85.177745</td>\n",
       "      <td>42.306205</td>\n",
       "      <td>-85.179714</td>\n",
       "      <td>42.321152</td>\n",
       "      <td>...</td>\n",
       "      <td>15.136842</td>\n",
       "      <td>44.742105</td>\n",
       "      <td>25.236842</td>\n",
       "      <td>1/1/2025</td>\n",
       "      <td>2208.0</td>\n",
       "      <td>3.9%</td>\n",
       "      <td>Michigan</td>\n",
       "      <td>Dusk</td>\n",
       "      <td>12:07</td>\n",
       "      <td>No data found</td>\n",
       "    </tr>\n",
       "  </tbody>\n",
       "</table>\n",
       "<p>20 rows × 60 columns</p>\n",
       "</div>"
      ],
      "text/plain": [
       "               city        country  \\\n",
       "0               Ada  United States   \n",
       "1           Addison  United States   \n",
       "2            Adrian  United States   \n",
       "3            Adrian  United States   \n",
       "4            Albion  United States   \n",
       "5            Albion  United States   \n",
       "6   Algoma Township  United States   \n",
       "7           Algonac  United States   \n",
       "8           Allegan  United States   \n",
       "9           Allegan  United States   \n",
       "10          Allegan  United States   \n",
       "11             Alma  United States   \n",
       "12           Alpena  United States   \n",
       "13        Ann Arbor  United States   \n",
       "14        Ann Arbor  United States   \n",
       "15        Assininns  United States   \n",
       "16          Atlanta  United States   \n",
       "17          Augusta  United States   \n",
       "18     Battle Creek  United States   \n",
       "19     Battle Creek  United States   \n",
       "\n",
       "                                          description  \\\n",
       "0   Ada witch - Sometimes you can see a misty blue...   \n",
       "1   A little girl was killed suddenly while waitin...   \n",
       "2   If you take Gorman Rd. west towards Sand Creek...   \n",
       "3   In the 1970's, one room, room 211, in the old ...   \n",
       "4   Kappa Delta Sorority - The Kappa Delta Sororit...   \n",
       "5   A mysterious lady in white has been spotted in...   \n",
       "6   On a winding dirt road next to the Rogue River...   \n",
       "7   Morrow Road is a Haunted road in Algonac Michi...   \n",
       "8   People report hearing footsteps, and doors sla...   \n",
       "9   Various ghostly activities. News coverage abou...   \n",
       "10  there have been notes of white dogs chasing ca...   \n",
       "11  Gamma Phi Beta House - Sisters that live in th...   \n",
       "12  A few witnesses heard footsteps and saw heads ...   \n",
       "13  Story goes some time in the late 70s a student...   \n",
       "14  Mercywood was a mental hospital before closing...   \n",
       "15  Before the building was turned into a Tribal C...   \n",
       "16  The old cabin located on Camp 8 road is haunte...   \n",
       "17  Hotel now owned by Michigan State University. ...   \n",
       "18  Reports of strange occurrences happened only i...   \n",
       "19  when people drive by sometimes they see a whit...   \n",
       "\n",
       "                                          location     state state_abbrev  \\\n",
       "0                                     Ada Cemetery  Michigan           MI   \n",
       "1                                  North Adams Rd.  Michigan           MI   \n",
       "2                                    Ghost Trestle  Michigan           MI   \n",
       "3                         Siena Heights University  Michigan           MI   \n",
       "4                                   Albion College  Michigan           MI   \n",
       "5                               Riverside Cemetery  Michigan           MI   \n",
       "6                                    Hell's Bridge  Michigan           MI   \n",
       "7                                      Morrow Road  Michigan           MI   \n",
       "8                                       Elks Lodge  Michigan           MI   \n",
       "9          The Grill House and the Rock Bottom Bar  Michigan           MI   \n",
       "10                                The Yellow Motel  Michigan           MI   \n",
       "11                                    Alma College  Michigan           MI   \n",
       "12                                old radio tavern  Michigan           MI   \n",
       "13                      Huron High School theatre.  Michigan           MI   \n",
       "14                              Mercywood Hospital  Michigan           MI   \n",
       "15                 the old tribal center/orphanage  Michigan           MI   \n",
       "16                                    Camp 8 Cabin  Michigan           MI   \n",
       "17                               Brook Lodge Hotel  Michigan           MI   \n",
       "18  Court Apartments (formally Webster Apartments)  Michigan           MI   \n",
       "19                               Penfield cemetery  Michigan           MI   \n",
       "\n",
       "    longitude   latitude  city_longitude  city_latitude  ...  \\\n",
       "0  -85.504893  42.962106      -85.495480      42.960727  ...   \n",
       "1  -84.381843  41.971425      -84.347168      41.986434  ...   \n",
       "2  -84.035656  41.904538      -84.037166      41.897547  ...   \n",
       "3  -84.017565  41.905712      -84.037166      41.897547  ...   \n",
       "4  -84.745177  42.244006      -84.753030      42.243097  ...   \n",
       "5  -84.753056  42.236814      -84.753030      42.243097  ...   \n",
       "6         NaN        NaN      -85.622930      43.149293  ...   \n",
       "7  -82.576290  42.652997      -82.531018      42.618367  ...   \n",
       "8  -85.841599  42.520552      -85.855303      42.529199  ...   \n",
       "9  -85.857564  42.497762      -85.855303      42.529199  ...   \n",
       "10 -85.874422  42.534164      -85.855303      42.529199  ...   \n",
       "11 -84.669939  43.379011      -84.659727      43.378920  ...   \n",
       "12 -83.433713  45.062909      -83.432753      45.061679  ...   \n",
       "13 -83.702643  42.281389      -83.743038      42.280826  ...   \n",
       "14 -83.654159  42.264880      -83.743038      42.280826  ...   \n",
       "15        NaN        NaN      -88.477352      46.810210  ...   \n",
       "16 -84.287816  44.847829      -84.143893      45.004731  ...   \n",
       "17        NaN        NaN      -85.352222      42.336429  ...   \n",
       "18 -85.178069  42.297925      -85.179714      42.321152  ...   \n",
       "19 -85.177745  42.306205      -85.179714      42.321152  ...   \n",
       "\n",
       "   death_rate_Kidney disease death_rate_CLRD death_rate_Diabetes  \\\n",
       "0                  15.136842       44.742105           25.236842   \n",
       "1                  15.136842       44.742105           25.236842   \n",
       "2                  15.136842       44.742105           25.236842   \n",
       "3                  15.136842       44.742105           25.236842   \n",
       "4                  15.136842       44.742105           25.236842   \n",
       "5                  15.136842       44.742105           25.236842   \n",
       "6                  15.136842       44.742105           25.236842   \n",
       "7                  15.136842       44.742105           25.236842   \n",
       "8                  15.136842       44.742105           25.236842   \n",
       "9                  15.136842       44.742105           25.236842   \n",
       "10                 15.136842       44.742105           25.236842   \n",
       "11                 15.136842       44.742105           25.236842   \n",
       "12                 15.136842       44.742105           25.236842   \n",
       "13                 15.136842       44.742105           25.236842   \n",
       "14                 15.136842       44.742105           25.236842   \n",
       "15                 15.136842       44.742105           25.236842   \n",
       "16                 15.136842       44.742105           25.236842   \n",
       "17                 15.136842       44.742105           25.236842   \n",
       "18                 15.136842       44.742105           25.236842   \n",
       "19                 15.136842       44.742105           25.236842   \n",
       "\n",
       "   Haunted Places Date Alcohol Deaths Alcohol Deaths Under 21     State  \\\n",
       "0            1/14/2013         2208.0                    3.9%  Michigan   \n",
       "1             1/1/2025         2208.0                    3.9%  Michigan   \n",
       "2            9/22/2006         2208.0                    3.9%  Michigan   \n",
       "3             3/1/1900         2208.0                    3.9%  Michigan   \n",
       "4             1/1/2025         2208.0                    3.9%  Michigan   \n",
       "5             1/1/2025         2208.0                    3.9%  Michigan   \n",
       "6             1/1/2025         2208.0                    3.9%  Michigan   \n",
       "7             3/1/2001         2208.0                    3.9%  Michigan   \n",
       "8             6/1/2008         2208.0                    3.9%  Michigan   \n",
       "9             1/1/2025         2208.0                    3.9%  Michigan   \n",
       "10            1/1/2025         2208.0                    3.9%  Michigan   \n",
       "11            1/1/2025         2208.0                    3.9%  Michigan   \n",
       "12            3/1/1972         2208.0                    3.9%  Michigan   \n",
       "13            1/1/2025         2208.0                    3.9%  Michigan   \n",
       "14            1/1/2025         2208.0                    3.9%  Michigan   \n",
       "15            1/1/2025         2208.0                    3.9%  Michigan   \n",
       "16            1/1/2000         2208.0                    3.9%  Michigan   \n",
       "17           3/19/2025         2208.0                    3.9%  Michigan   \n",
       "18            1/1/2025         2208.0                    3.9%  Michigan   \n",
       "19            1/1/2025         2208.0                    3.9%  Michigan   \n",
       "\n",
       "   time_of_day Daylight Data USNO Navy Daylight Data TimeandDate  \n",
       "0         Dusk                   09:05             No data found  \n",
       "1         Dusk                   11:22             No data found  \n",
       "2      Evening                   11:16             No data found  \n",
       "3      Unknown                   11:45             No data found  \n",
       "4      Evening                   09:10             No data found  \n",
       "5      Unknown                   09:10             No data found  \n",
       "6         Dusk                   09:04             No data found  \n",
       "7      Unknown                   09:07             No data found  \n",
       "8      Unknown                   09:08             No data found  \n",
       "9         Dusk                   09:08             No data found  \n",
       "10        Dusk                   11:45             No data found  \n",
       "11     Evening                   09:02             No data found  \n",
       "12        Dusk                   11:11                     11:10  \n",
       "13     Evening                   09:10                      9:09  \n",
       "14     Morning                   09:10                      9:09  \n",
       "15        Dusk                   11:59             No data found  \n",
       "16     Evening                   11:46                     11:52  \n",
       "17     Unknown                   11:13                     11:09  \n",
       "18     Unknown                   09:55             No data found  \n",
       "19        Dusk                   12:07             No data found  \n",
       "\n",
       "[20 rows x 60 columns]"
      ]
     },
     "execution_count": 114,
     "metadata": {},
     "output_type": "execute_result"
    }
   ],
   "source": [
    "df.head(20)"
   ]
  },
  {
   "cell_type": "code",
   "execution_count": 120,
   "metadata": {},
   "outputs": [
    {
     "data": {
      "text/plain": [
       "(10980, 60)"
      ]
     },
     "execution_count": 120,
     "metadata": {},
     "output_type": "execute_result"
    }
   ],
   "source": [
    "df.shape"
   ]
  },
  {
   "cell_type": "code",
   "execution_count": 117,
   "metadata": {},
   "outputs": [
    {
     "data": {
      "text/plain": [
       "(10992, 43)"
      ]
     },
     "execution_count": 117,
     "metadata": {},
     "output_type": "execute_result"
    }
   ],
   "source": [
    "#Inspection of difference between entries between csv and tsv \n",
    "# --> this is resolved and part of an Assignment 1 \"inner\" merge\n",
    "df_csv = pd.read_csv('../data/v1.tsv', sep='\\t')\n",
    "df_csv.shape"
   ]
  },
  {
   "cell_type": "code",
   "execution_count": 118,
   "metadata": {},
   "outputs": [
    {
     "data": {
      "text/plain": [
       "Index(['city', 'country', 'description', 'location', 'state', 'state_abbrev',\n",
       "       'longitude', 'latitude', 'city_longitude', 'city_latitude',\n",
       "       'clean_description', 'clean_spelling', 'Audio Evidence',\n",
       "       'Audio Reasoning', 'time_of_day', 'Witness Count', 'Witness Reasoning',\n",
       "       'tokenized', 'pos_tokenized', 'filtered_tokenized',\n",
       "       'lemma_filtered_tokenized', 'lemma_pos_tokenized', 'Event',\n",
       "       'apparition_types', 'apparition_descriptors', 'apparition_gender',\n",
       "       'apparition_age', 'apparition_types_str', 'apparition_descriptors_str',\n",
       "       'apparition_gender_str', 'apparition_age_str',\n",
       "       'unique_apparition_mentions', 'adjectives',\n",
       "       'unique_app_descriptor_mentions', 'FBI.Population.Covered',\n",
       "       'Murder per capita', 'Violent Crime per capita',\n",
       "       'Property Crime per capita', 'Undergrad_Grad_Rate', 'HS_Grad_Rate',\n",
       "       'STEM_Grad_Percentage', 'Visual Evidence', 'Visual Reasoning'],\n",
       "      dtype='object')"
      ]
     },
     "execution_count": 118,
     "metadata": {},
     "output_type": "execute_result"
    }
   ],
   "source": [
    "df_csv.columns"
   ]
  }
 ],
 "metadata": {
  "kernelspec": {
   "display_name": "base",
   "language": "python",
   "name": "python3"
  },
  "language_info": {
   "codemirror_mode": {
    "name": "ipython",
    "version": 3
   },
   "file_extension": ".py",
   "mimetype": "text/x-python",
   "name": "python",
   "nbconvert_exporter": "python",
   "pygments_lexer": "ipython3",
   "version": "3.12.7"
  }
 },
 "nbformat": 4,
 "nbformat_minor": 2
}
