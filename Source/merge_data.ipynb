{
 "cells": [
  {
   "cell_type": "code",
   "execution_count": 2,
   "metadata": {},
   "outputs": [],
   "source": [
    "import pandas as pd"
   ]
  },
  {
   "cell_type": "markdown",
   "metadata": {},
   "source": [
    "# Merging Process\n",
    "In order to merge 'v2_with_geo_count.tsv' with 'spacy.tsv' we needed to take the unordered index results from 'v2_with_geo_count.tsv' and set it as the intended index. Then 'v2_with_geo_count.tsv' had it's index sorted and was then merged into 'spacy.tsv'\n",
    "\n",
    "---\n",
    "Prior attempts to merge the dataframe were unsuccessful: \n",
    "We tried inner and left merge on the key \"description\" but this yielded surplus and unexpected merge results. Some probably reasons why were that descriptions may have been duplicated and thus the merging key was not fully unique and reliable as a key.\n",
    "- Those unsuccessful codes have been removed to declutter the ipynb"
   ]
  },
  {
   "cell_type": "code",
   "execution_count": 3,
   "metadata": {},
   "outputs": [
    {
     "name": "stdout",
     "output_type": "stream",
     "text": [
      "Index(['spacy_entities', 'description'], dtype='object')\n",
      "                                      spacy_entities  \\\n",
      "0  Ada witch -, PERSON\\n3-mile, QUANTITY\\nthe Ada...   \n",
      "1              month later, DATE\\nthis day, DATE\\n\\n   \n",
      "2  Gorman Rd, PERSON\\nSand Creek, FAC\\nA mile, QU...   \n",
      "3  1970, DATE\\none, CARDINAL\\n211, CARDINAL\\ntoda...   \n",
      "4  Kappa Delta Sorority - The Kappa Delta Sororit...   \n",
      "\n",
      "                                         description  \n",
      "0  Ada witch - Sometimes you can see a misty blue...  \n",
      "1  A little girl was killed suddenly while waitin...  \n",
      "2  If you take Gorman Rd. west towards Sand Creek...  \n",
      "3  In the 1970's, one room, room 211, in the old ...  \n",
      "4  Kappa Delta Sorority - The Kappa Delta Sororit...  \n"
     ]
    }
   ],
   "source": [
    "df_spacy = pd.read_csv(\"../Data/spacy.csv\")\n",
    "print(df_spacy.columns)\n",
    "print(df_spacy.head())"
   ]
  },
  {
   "cell_type": "code",
   "execution_count": 4,
   "metadata": {},
   "outputs": [
    {
     "name": "stdout",
     "output_type": "stream",
     "text": [
      "   Unnamed: 0  Alcohol Deaths Alcohol Deaths Under 21 Audio Evidence  \\\n",
      "0           3          2208.0                    3.9%             No   \n",
      "1           1          2208.0                    3.9%            Yes   \n",
      "2           0          2208.0                    3.9%            Yes   \n",
      "3           2          2208.0                    3.9%             No   \n",
      "4           4          2208.0                    3.9%            Yes   \n",
      "\n",
      "                                     Audio Reasoning  \\\n",
      "0  The description details various phenomena such...   \n",
      "1  The description includes instances of knocking...   \n",
      "2  The description includes reports of hearing th...   \n",
      "3  The description does not mention any specific ...   \n",
      "4  The description includes reports of giggling a...   \n",
      "\n",
      "  Daylight Data TimeandDate Daylight Data USNO Navy         Event  \\\n",
      "0             No data found                   11:45  Supernatural   \n",
      "1             No data found                   11:22        Murder   \n",
      "2             No data found                   09:05        Murder   \n",
      "3             No data found                   11:16        Murder   \n",
      "4             No data found                   09:10  Supernatural   \n",
      "\n",
      "   FBI.Population.Covered  GeoName_Count  ...                  location  \\\n",
      "0             222271812.0              0  ...  Siena Heights University   \n",
      "1             222271812.0              0  ...           North Adams Rd.   \n",
      "2             222271812.0              2  ...              Ada Cemetery   \n",
      "3             222271812.0              0  ...             Ghost Trestle   \n",
      "4             222271812.0              0  ...            Albion College   \n",
      "\n",
      "   longitude                                      pos_tokenized     state  \\\n",
      "0 -84.017565  [('In', 'IN'), ('the', 'DT'), ('one', 'CD'), (...  Michigan   \n",
      "1 -84.381843  [('A', 'DT'), ('little', 'JJ'), ('girl', 'NN')...  Michigan   \n",
      "2 -85.504893  [('Ada', 'NNP'), ('witch', 'NN'), ('Sometimes'...  Michigan   \n",
      "3 -84.035656  [('If', 'IN'), ('you', 'PRP'), ('take', 'VBP')...  Michigan   \n",
      "4 -84.745177  [('Kappa', 'NNP'), ('Delta', 'NNP'), ('Sororit...  Michigan   \n",
      "\n",
      "  state_abbrev  time_of_day  \\\n",
      "0           MI      Unknown   \n",
      "1           MI         Dusk   \n",
      "2           MI         Dusk   \n",
      "3           MI      Evening   \n",
      "4           MI      Evening   \n",
      "\n",
      "                                           tokenized  \\\n",
      "0  ['In', 'the', 'one', 'room', 'room', 'in', 'th...   \n",
      "1  ['A', 'little', 'girl', 'was', 'killed', 'sudd...   \n",
      "2  ['Ada', 'witch', 'Sometimes', 'you', 'can', 's...   \n",
      "3  ['If', 'you', 'take', 'Gorman', 'Rd', 'west', ...   \n",
      "4  ['Kappa', 'Delta', 'Sorority', 'The', 'Kappa',...   \n",
      "\n",
      "   unique_app_descriptor_mentions  unique_apparition_mentions  GeoName_Count.1  \n",
      "0                               1                           1                0  \n",
      "1                               1                           1                0  \n",
      "2                               2                           3                2  \n",
      "3                               1                           1                0  \n",
      "4                               1                           1                0  \n",
      "\n",
      "[5 rows x 78 columns]\n"
     ]
    },
    {
     "name": "stderr",
     "output_type": "stream",
     "text": [
      "/var/folders/0g/wrn8fh3s6x93w1fnwvvh6x4c0000gn/T/ipykernel_37148/2542997874.py:1: DtypeWarning: Columns (27) have mixed types. Specify dtype option on import or set low_memory=False.\n",
      "  df_geo_orig = pd.read_csv(\"../Data/v2_with_geo_count.tsv\", delimiter=\"\\t\")\n"
     ]
    }
   ],
   "source": [
    "df_geo_orig = pd.read_csv(\"../Data/v2_with_geo_count.tsv\", delimiter=\"\\t\")\n",
    "print(df_geo_orig.head())"
   ]
  },
  {
   "cell_type": "markdown",
   "metadata": {},
   "source": []
  },
  {
   "cell_type": "code",
   "execution_count": 5,
   "metadata": {},
   "outputs": [
    {
     "name": "stdout",
     "output_type": "stream",
     "text": [
      "            Alcohol Deaths Alcohol Deaths Under 21 Audio Evidence  \\\n",
      "Unnamed: 0                                                          \n",
      "3                   2208.0                    3.9%             No   \n",
      "1                   2208.0                    3.9%            Yes   \n",
      "0                   2208.0                    3.9%            Yes   \n",
      "2                   2208.0                    3.9%             No   \n",
      "4                   2208.0                    3.9%            Yes   \n",
      "\n",
      "                                              Audio Reasoning  \\\n",
      "Unnamed: 0                                                      \n",
      "3           The description details various phenomena such...   \n",
      "1           The description includes instances of knocking...   \n",
      "0           The description includes reports of hearing th...   \n",
      "2           The description does not mention any specific ...   \n",
      "4           The description includes reports of giggling a...   \n",
      "\n",
      "           Daylight Data TimeandDate Daylight Data USNO Navy         Event  \\\n",
      "Unnamed: 0                                                                   \n",
      "3                      No data found                   11:45  Supernatural   \n",
      "1                      No data found                   11:22        Murder   \n",
      "0                      No data found                   09:05        Murder   \n",
      "2                      No data found                   11:16        Murder   \n",
      "4                      No data found                   09:10  Supernatural   \n",
      "\n",
      "            FBI.Population.Covered  GeoName_Count  Geographic_LATITUDE  ...  \\\n",
      "Unnamed: 0                                                              ...   \n",
      "3                      222271812.0              0                  NaN  ...   \n",
      "1                      222271812.0              0                  NaN  ...   \n",
      "0                      222271812.0              2                  NaN  ...   \n",
      "2                      222271812.0              0                  NaN  ...   \n",
      "4                      222271812.0              0                  NaN  ...   \n",
      "\n",
      "                            location  longitude  \\\n",
      "Unnamed: 0                                        \n",
      "3           Siena Heights University -84.017565   \n",
      "1                    North Adams Rd. -84.381843   \n",
      "0                       Ada Cemetery -85.504893   \n",
      "2                      Ghost Trestle -84.035656   \n",
      "4                     Albion College -84.745177   \n",
      "\n",
      "                                                pos_tokenized     state  \\\n",
      "Unnamed: 0                                                                \n",
      "3           [('In', 'IN'), ('the', 'DT'), ('one', 'CD'), (...  Michigan   \n",
      "1           [('A', 'DT'), ('little', 'JJ'), ('girl', 'NN')...  Michigan   \n",
      "0           [('Ada', 'NNP'), ('witch', 'NN'), ('Sometimes'...  Michigan   \n",
      "2           [('If', 'IN'), ('you', 'PRP'), ('take', 'VBP')...  Michigan   \n",
      "4           [('Kappa', 'NNP'), ('Delta', 'NNP'), ('Sororit...  Michigan   \n",
      "\n",
      "            state_abbrev  time_of_day  \\\n",
      "Unnamed: 0                              \n",
      "3                     MI      Unknown   \n",
      "1                     MI         Dusk   \n",
      "0                     MI         Dusk   \n",
      "2                     MI      Evening   \n",
      "4                     MI      Evening   \n",
      "\n",
      "                                                    tokenized  \\\n",
      "Unnamed: 0                                                      \n",
      "3           ['In', 'the', 'one', 'room', 'room', 'in', 'th...   \n",
      "1           ['A', 'little', 'girl', 'was', 'killed', 'sudd...   \n",
      "0           ['Ada', 'witch', 'Sometimes', 'you', 'can', 's...   \n",
      "2           ['If', 'you', 'take', 'Gorman', 'Rd', 'west', ...   \n",
      "4           ['Kappa', 'Delta', 'Sorority', 'The', 'Kappa',...   \n",
      "\n",
      "            unique_app_descriptor_mentions  unique_apparition_mentions  \\\n",
      "Unnamed: 0                                                               \n",
      "3                                        1                           1   \n",
      "1                                        1                           1   \n",
      "0                                        2                           3   \n",
      "2                                        1                           1   \n",
      "4                                        1                           1   \n",
      "\n",
      "            GeoName_Count.1  \n",
      "Unnamed: 0                   \n",
      "3                         0  \n",
      "1                         0  \n",
      "0                         2  \n",
      "2                         0  \n",
      "4                         0  \n",
      "\n",
      "[5 rows x 77 columns]\n"
     ]
    }
   ],
   "source": [
    "df_geo_sorted = df_geo_orig.set_index(\"Unnamed: 0\")\n",
    "#df_geo_sorted = df_geo_sorted.reset_index()\n",
    "\n",
    "print(df_geo_sorted.head())"
   ]
  },
  {
   "cell_type": "code",
   "execution_count": 6,
   "metadata": {},
   "outputs": [
    {
     "name": "stdout",
     "output_type": "stream",
     "text": [
      "            Alcohol Deaths Alcohol Deaths Under 21 Audio Evidence  \\\n",
      "Unnamed: 0                                                          \n",
      "0                   2208.0                    3.9%            Yes   \n",
      "1                   2208.0                    3.9%            Yes   \n",
      "2                   2208.0                    3.9%             No   \n",
      "3                   2208.0                    3.9%             No   \n",
      "4                   2208.0                    3.9%            Yes   \n",
      "\n",
      "                                              Audio Reasoning  \\\n",
      "Unnamed: 0                                                      \n",
      "0           The description includes reports of hearing th...   \n",
      "1           The description includes instances of knocking...   \n",
      "2           The description does not mention any specific ...   \n",
      "3           The description details various phenomena such...   \n",
      "4           The description includes reports of giggling a...   \n",
      "\n",
      "           Daylight Data TimeandDate Daylight Data USNO Navy         Event  \\\n",
      "Unnamed: 0                                                                   \n",
      "0                      No data found                   09:05        Murder   \n",
      "1                      No data found                   11:22        Murder   \n",
      "2                      No data found                   11:16        Murder   \n",
      "3                      No data found                   11:45  Supernatural   \n",
      "4                      No data found                   09:10  Supernatural   \n",
      "\n",
      "            FBI.Population.Covered  GeoName_Count  Geographic_LATITUDE  ...  \\\n",
      "Unnamed: 0                                                              ...   \n",
      "0                      222271812.0              2                  NaN  ...   \n",
      "1                      222271812.0              0                  NaN  ...   \n",
      "2                      222271812.0              0                  NaN  ...   \n",
      "3                      222271812.0              0                  NaN  ...   \n",
      "4                      222271812.0              0                  NaN  ...   \n",
      "\n",
      "                            location  longitude  \\\n",
      "Unnamed: 0                                        \n",
      "0                       Ada Cemetery -85.504893   \n",
      "1                    North Adams Rd. -84.381843   \n",
      "2                      Ghost Trestle -84.035656   \n",
      "3           Siena Heights University -84.017565   \n",
      "4                     Albion College -84.745177   \n",
      "\n",
      "                                                pos_tokenized     state  \\\n",
      "Unnamed: 0                                                                \n",
      "0           [('Ada', 'NNP'), ('witch', 'NN'), ('Sometimes'...  Michigan   \n",
      "1           [('A', 'DT'), ('little', 'JJ'), ('girl', 'NN')...  Michigan   \n",
      "2           [('If', 'IN'), ('you', 'PRP'), ('take', 'VBP')...  Michigan   \n",
      "3           [('In', 'IN'), ('the', 'DT'), ('one', 'CD'), (...  Michigan   \n",
      "4           [('Kappa', 'NNP'), ('Delta', 'NNP'), ('Sororit...  Michigan   \n",
      "\n",
      "            state_abbrev  time_of_day  \\\n",
      "Unnamed: 0                              \n",
      "0                     MI         Dusk   \n",
      "1                     MI         Dusk   \n",
      "2                     MI      Evening   \n",
      "3                     MI      Unknown   \n",
      "4                     MI      Evening   \n",
      "\n",
      "                                                    tokenized  \\\n",
      "Unnamed: 0                                                      \n",
      "0           ['Ada', 'witch', 'Sometimes', 'you', 'can', 's...   \n",
      "1           ['A', 'little', 'girl', 'was', 'killed', 'sudd...   \n",
      "2           ['If', 'you', 'take', 'Gorman', 'Rd', 'west', ...   \n",
      "3           ['In', 'the', 'one', 'room', 'room', 'in', 'th...   \n",
      "4           ['Kappa', 'Delta', 'Sorority', 'The', 'Kappa',...   \n",
      "\n",
      "            unique_app_descriptor_mentions  unique_apparition_mentions  \\\n",
      "Unnamed: 0                                                               \n",
      "0                                        2                           3   \n",
      "1                                        1                           1   \n",
      "2                                        1                           1   \n",
      "3                                        1                           1   \n",
      "4                                        1                           1   \n",
      "\n",
      "            GeoName_Count.1  \n",
      "Unnamed: 0                   \n",
      "0                         2  \n",
      "1                         0  \n",
      "2                         0  \n",
      "3                         0  \n",
      "4                         0  \n",
      "\n",
      "[5 rows x 77 columns]\n"
     ]
    }
   ],
   "source": [
    "df_geo_sorted = df_geo_sorted.sort_index(ascending=True)\n",
    "print(df_geo_sorted.head())"
   ]
  },
  {
   "cell_type": "code",
   "execution_count": 7,
   "metadata": {},
   "outputs": [
    {
     "name": "stdout",
     "output_type": "stream",
     "text": [
      "Unnamed: 0\n",
      "0        Ada witch - Sometimes you can see a misty blue...\n",
      "1        A little girl was killed suddenly while waitin...\n",
      "2        If you take Gorman Rd. west towards Sand Creek...\n",
      "3        In the 1970's, one room, room 211, in the old ...\n",
      "4        Kappa Delta Sorority - The Kappa Delta Sororit...\n",
      "                               ...                        \n",
      "10975    at 12 midnight you can see a lady with two lit...\n",
      "10976    Is haunted by the victims of a murder that hap...\n",
      "10977    The institution was for kids 18 years old and ...\n",
      "10978    Gymnasium -  their have been reports of a litt...\n",
      "10979    Cadets from the Air Force Academy participatin...\n",
      "Name: description, Length: 10980, dtype: object\n"
     ]
    }
   ],
   "source": [
    "print(df_geo_sorted['description'])"
   ]
  },
  {
   "cell_type": "code",
   "execution_count": 8,
   "metadata": {},
   "outputs": [
    {
     "name": "stdout",
     "output_type": "stream",
     "text": [
      "Index(['Alcohol Deaths', 'Alcohol Deaths Under 21', 'Audio Evidence',\n",
      "       'Audio Reasoning', 'Daylight Data TimeandDate',\n",
      "       'Daylight Data USNO Navy', 'Event', 'FBI.Population.Covered',\n",
      "       'GeoName_Count', 'Geographic_LATITUDE', 'Geographic_LONGITUDE',\n",
      "       'Geographic_NAME', 'HS_Grad_Rate', 'Haunted Places Date',\n",
      "       'Murder per capita', 'Optional_LATITUDE1', 'Optional_LATITUDE2',\n",
      "       'Optional_LATITUDE3', 'Optional_LATITUDE4', 'Optional_LONGITUDE1',\n",
      "       'Optional_LONGITUDE2', 'Optional_LONGITUDE3', 'Optional_LONGITUDE4',\n",
      "       'Optional_NAME1', 'Optional_NAME2', 'Optional_NAME3', 'Optional_NAME4',\n",
      "       'Property Crime per capita', 'STEM_Grad_Percentage', 'State',\n",
      "       'Undergrad_Grad_Rate', 'Violent Crime per capita', 'Visual Evidence',\n",
      "       'Visual Reasoning', 'Witness Count', 'Witness Reasoning', 'adjectives',\n",
      "       'apparition_adj_str', 'apparition_age', 'apparition_age_str',\n",
      "       'apparition_descriptors', 'apparition_descriptors_str',\n",
      "       'apparition_gender', 'apparition_gender_str', 'apparition_types',\n",
      "       'apparition_types_str', 'city', 'city_latitude', 'city_longitude',\n",
      "       'clean_description', 'clean_spelling', 'country',\n",
      "       'death_rate_All causes', 'death_rate_Alzheimer's disease',\n",
      "       'death_rate_CLRD', 'death_rate_Cancer', 'death_rate_Diabetes',\n",
      "       'death_rate_Heart disease', 'death_rate_Influenza and pneumonia',\n",
      "       'death_rate_Kidney disease', 'death_rate_Suicide',\n",
      "       'death_rate_Unintentional injuries', 'description',\n",
      "       'filtered_tokenized', 'latitude', 'lemma_filtered_tokenized',\n",
      "       'lemma_pos_tokenized', 'location', 'longitude', 'pos_tokenized',\n",
      "       'state', 'state_abbrev', 'time_of_day', 'tokenized',\n",
      "       'unique_app_descriptor_mentions', 'unique_apparition_mentions',\n",
      "       'GeoName_Count.1'],\n",
      "      dtype='object')\n"
     ]
    }
   ],
   "source": [
    "print(df_geo_sorted.columns)"
   ]
  },
  {
   "cell_type": "code",
   "execution_count": 14,
   "metadata": {},
   "outputs": [
    {
     "name": "stdout",
     "output_type": "stream",
     "text": [
      "'v2_with_geo_count_sorted_filtered.csv' saved\n"
     ]
    }
   ],
   "source": [
    "df_geo_sorted_filtered = df_geo_sorted[['description','GeoName_Count', 'Geographic_LATITUDE', 'Geographic_LONGITUDE',\n",
    "       'Geographic_NAME','Optional_LATITUDE1', 'Optional_LATITUDE2',\n",
    "       'Optional_LATITUDE3', 'Optional_LATITUDE4', 'Optional_LONGITUDE1',\n",
    "       'Optional_LONGITUDE2', 'Optional_LONGITUDE3', 'Optional_LONGITUDE4',\n",
    "       'Optional_NAME1', 'Optional_NAME2', 'Optional_NAME3', 'Optional_NAME4']]\n",
    "df_geo_sorted_filtered.to_csv('../Data/v2_with_geo_count_sorted_filtered.csv')\n",
    "print(\"'v2_with_geo_count_sorted_filtered.csv' saved\")"
   ]
  },
  {
   "cell_type": "code",
   "execution_count": 10,
   "metadata": {},
   "outputs": [
    {
     "name": "stdout",
     "output_type": "stream",
     "text": [
      "                                      spacy_entities  \\\n",
      "0  Ada witch -, PERSON\\n3-mile, QUANTITY\\nthe Ada...   \n",
      "1              month later, DATE\\nthis day, DATE\\n\\n   \n",
      "2  Gorman Rd, PERSON\\nSand Creek, FAC\\nA mile, QU...   \n",
      "3  1970, DATE\\none, CARDINAL\\n211, CARDINAL\\ntoda...   \n",
      "4  Kappa Delta Sorority - The Kappa Delta Sororit...   \n",
      "\n",
      "                                       description_x  Alcohol Deaths  \\\n",
      "0  Ada witch - Sometimes you can see a misty blue...          2208.0   \n",
      "1  A little girl was killed suddenly while waitin...          2208.0   \n",
      "2  If you take Gorman Rd. west towards Sand Creek...          2208.0   \n",
      "3  In the 1970's, one room, room 211, in the old ...          2208.0   \n",
      "4  Kappa Delta Sorority - The Kappa Delta Sororit...          2208.0   \n",
      "\n",
      "  Alcohol Deaths Under 21 Audio Evidence  \\\n",
      "0                    3.9%            Yes   \n",
      "1                    3.9%            Yes   \n",
      "2                    3.9%             No   \n",
      "3                    3.9%             No   \n",
      "4                    3.9%            Yes   \n",
      "\n",
      "                                     Audio Reasoning  \\\n",
      "0  The description includes reports of hearing th...   \n",
      "1  The description includes instances of knocking...   \n",
      "2  The description does not mention any specific ...   \n",
      "3  The description details various phenomena such...   \n",
      "4  The description includes reports of giggling a...   \n",
      "\n",
      "  Daylight Data TimeandDate Daylight Data USNO Navy         Event  \\\n",
      "0             No data found                   09:05        Murder   \n",
      "1             No data found                   11:22        Murder   \n",
      "2             No data found                   11:16        Murder   \n",
      "3             No data found                   11:45  Supernatural   \n",
      "4             No data found                   09:10  Supernatural   \n",
      "\n",
      "   FBI.Population.Covered  ...                  location  longitude  \\\n",
      "0             222271812.0  ...              Ada Cemetery -85.504893   \n",
      "1             222271812.0  ...           North Adams Rd. -84.381843   \n",
      "2             222271812.0  ...             Ghost Trestle -84.035656   \n",
      "3             222271812.0  ...  Siena Heights University -84.017565   \n",
      "4             222271812.0  ...            Albion College -84.745177   \n",
      "\n",
      "                                       pos_tokenized     state state_abbrev  \\\n",
      "0  [('Ada', 'NNP'), ('witch', 'NN'), ('Sometimes'...  Michigan           MI   \n",
      "1  [('A', 'DT'), ('little', 'JJ'), ('girl', 'NN')...  Michigan           MI   \n",
      "2  [('If', 'IN'), ('you', 'PRP'), ('take', 'VBP')...  Michigan           MI   \n",
      "3  [('In', 'IN'), ('the', 'DT'), ('one', 'CD'), (...  Michigan           MI   \n",
      "4  [('Kappa', 'NNP'), ('Delta', 'NNP'), ('Sororit...  Michigan           MI   \n",
      "\n",
      "  time_of_day                                          tokenized  \\\n",
      "0        Dusk  ['Ada', 'witch', 'Sometimes', 'you', 'can', 's...   \n",
      "1        Dusk  ['A', 'little', 'girl', 'was', 'killed', 'sudd...   \n",
      "2     Evening  ['If', 'you', 'take', 'Gorman', 'Rd', 'west', ...   \n",
      "3     Unknown  ['In', 'the', 'one', 'room', 'room', 'in', 'th...   \n",
      "4     Evening  ['Kappa', 'Delta', 'Sorority', 'The', 'Kappa',...   \n",
      "\n",
      "   unique_app_descriptor_mentions  unique_apparition_mentions  GeoName_Count.1  \n",
      "0                               2                           3                2  \n",
      "1                               1                           1                0  \n",
      "2                               1                           1                0  \n",
      "3                               1                           1                0  \n",
      "4                               1                           1                0  \n",
      "\n",
      "[5 rows x 79 columns]\n"
     ]
    }
   ],
   "source": [
    "df_merge_index = df_spacy.merge(df_geo_sorted, left_index= True, right_index= True, how=\"left\")\n",
    "print(df_merge_index.head())"
   ]
  },
  {
   "cell_type": "code",
   "execution_count": 11,
   "metadata": {},
   "outputs": [
    {
     "name": "stdout",
     "output_type": "stream",
     "text": [
      "Index(['spacy_entities', 'description', 'Alcohol Deaths',\n",
      "       'Alcohol Deaths Under 21', 'Audio Evidence', 'Audio Reasoning',\n",
      "       'Daylight Data TimeandDate', 'Daylight Data USNO Navy', 'Event',\n",
      "       'FBI.Population.Covered', 'GeoName_Count', 'Geographic_LATITUDE',\n",
      "       'Geographic_LONGITUDE', 'Geographic_NAME', 'HS_Grad_Rate',\n",
      "       'Haunted Places Date', 'Murder per capita', 'Optional_LATITUDE1',\n",
      "       'Optional_LATITUDE2', 'Optional_LATITUDE3', 'Optional_LATITUDE4',\n",
      "       'Optional_LONGITUDE1', 'Optional_LONGITUDE2', 'Optional_LONGITUDE3',\n",
      "       'Optional_LONGITUDE4', 'Optional_NAME1', 'Optional_NAME2',\n",
      "       'Optional_NAME3', 'Optional_NAME4', 'Property Crime per capita',\n",
      "       'STEM_Grad_Percentage', 'State', 'Undergrad_Grad_Rate',\n",
      "       'Violent Crime per capita', 'Visual Evidence', 'Visual Reasoning',\n",
      "       'Witness Count', 'Witness Reasoning', 'adjectives',\n",
      "       'apparition_adj_str', 'apparition_age', 'apparition_age_str',\n",
      "       'apparition_descriptors', 'apparition_descriptors_str',\n",
      "       'apparition_gender', 'apparition_gender_str', 'apparition_types',\n",
      "       'apparition_types_str', 'city', 'city_latitude', 'city_longitude',\n",
      "       'clean_description', 'clean_spelling', 'country',\n",
      "       'death_rate_All causes', 'death_rate_Alzheimer's disease',\n",
      "       'death_rate_CLRD', 'death_rate_Cancer', 'death_rate_Diabetes',\n",
      "       'death_rate_Heart disease', 'death_rate_Influenza and pneumonia',\n",
      "       'death_rate_Kidney disease', 'death_rate_Suicide',\n",
      "       'death_rate_Unintentional injuries', 'description_y',\n",
      "       'filtered_tokenized', 'latitude', 'lemma_filtered_tokenized',\n",
      "       'lemma_pos_tokenized', 'location', 'longitude', 'pos_tokenized',\n",
      "       'state', 'state_abbrev', 'time_of_day', 'tokenized',\n",
      "       'unique_app_descriptor_mentions', 'unique_apparition_mentions',\n",
      "       'GeoName_Count.1'],\n",
      "      dtype='object')\n"
     ]
    }
   ],
   "source": [
    "df_merge_index = df_merge_index.rename(columns = {'description_x': 'description'})\n",
    "print(df_merge_index.columns)"
   ]
  },
  {
   "cell_type": "code",
   "execution_count": 12,
   "metadata": {},
   "outputs": [
    {
     "name": "stdout",
     "output_type": "stream",
     "text": [
      "                                         description  \\\n",
      "0  Ada witch - Sometimes you can see a misty blue...   \n",
      "1  A little girl was killed suddenly while waitin...   \n",
      "2  If you take Gorman Rd. west towards Sand Creek...   \n",
      "3  In the 1970's, one room, room 211, in the old ...   \n",
      "4  Kappa Delta Sorority - The Kappa Delta Sororit...   \n",
      "\n",
      "                                      spacy_entities  GeoName_Count  \\\n",
      "0  Ada witch -, PERSON\\n3-mile, QUANTITY\\nthe Ada...              2   \n",
      "1              month later, DATE\\nthis day, DATE\\n\\n              0   \n",
      "2  Gorman Rd, PERSON\\nSand Creek, FAC\\nA mile, QU...              0   \n",
      "3  1970, DATE\\none, CARDINAL\\n211, CARDINAL\\ntoda...              0   \n",
      "4  Kappa Delta Sorority - The Kappa Delta Sororit...              0   \n",
      "\n",
      "   Geographic_LATITUDE  Geographic_LONGITUDE Geographic_NAME  \\\n",
      "0                  NaN                   NaN             NaN   \n",
      "1                  NaN                   NaN             NaN   \n",
      "2                  NaN                   NaN             NaN   \n",
      "3                  NaN                   NaN             NaN   \n",
      "4                  NaN                   NaN             NaN   \n",
      "\n",
      "   Optional_LATITUDE1  Optional_LATITUDE2  Optional_LATITUDE3  \\\n",
      "0             43.0125            43.00142                 NaN   \n",
      "1                 NaN                 NaN                 NaN   \n",
      "2                 NaN                 NaN                 NaN   \n",
      "3                 NaN                 NaN                 NaN   \n",
      "4                 NaN                 NaN                 NaN   \n",
      "\n",
      "   Optional_LATITUDE4  Optional_LONGITUDE1  Optional_LONGITUDE2  \\\n",
      "0                 NaN            -85.50056            -85.49169   \n",
      "1                 NaN                  NaN                  NaN   \n",
      "2                 NaN                  NaN                  NaN   \n",
      "3                 NaN                  NaN                  NaN   \n",
      "4                 NaN                  NaN                  NaN   \n",
      "\n",
      "   Optional_LONGITUDE3  Optional_LONGITUDE4             Optional_NAME1  \\\n",
      "0                  NaN                  NaN  Egypt Valley Country Club   \n",
      "1                  NaN                  NaN                        NaN   \n",
      "2                  NaN                  NaN                        NaN   \n",
      "3                  NaN                  NaN                        NaN   \n",
      "4                  NaN                  NaN                        NaN   \n",
      "\n",
      "     Optional_NAME2 Optional_NAME3 Optional_NAME4  \n",
      "0  Findlay Cemetery            NaN            NaN  \n",
      "1               NaN            NaN            NaN  \n",
      "2               NaN            NaN            NaN  \n",
      "3               NaN            NaN            NaN  \n",
      "4               NaN            NaN            NaN  \n"
     ]
    }
   ],
   "source": [
    "df_sorted_filterd = df_merge_index[['description', 'spacy_entities', 'GeoName_Count','Geographic_LATITUDE',\n",
    "       'Geographic_LONGITUDE', 'Geographic_NAME','Optional_LATITUDE1',\n",
    "       'Optional_LATITUDE2', 'Optional_LATITUDE3', 'Optional_LATITUDE4',\n",
    "       'Optional_LONGITUDE1', 'Optional_LONGITUDE2', 'Optional_LONGITUDE3',\n",
    "       'Optional_LONGITUDE4', 'Optional_NAME1', 'Optional_NAME2',\n",
    "       'Optional_NAME3', 'Optional_NAME4']]\n",
    "\n",
    "print(df_sorted_filterd.head())"
   ]
  },
  {
   "cell_type": "markdown",
   "metadata": {},
   "source": [
    "Iterim merged dataset that has relevant columns for Spacy and GeoParser. Will later be mergeed with GenAI image columns\n"
   ]
  },
  {
   "cell_type": "code",
   "execution_count": 13,
   "metadata": {},
   "outputs": [
    {
     "name": "stdout",
     "output_type": "stream",
     "text": [
      "'merged_spacy_and_geo_v2.csv' saved\n"
     ]
    }
   ],
   "source": [
    "df_sorted_filterd.to_csv('../Data/merged_spacy_and_geo_v2.csv')\n",
    "print(\"'merged_spacy_and_geo_v2.csv' saved\")"
   ]
  }
 ],
 "metadata": {
  "kernelspec": {
   "display_name": "base",
   "language": "python",
   "name": "python3"
  },
  "language_info": {
   "codemirror_mode": {
    "name": "ipython",
    "version": 3
   },
   "file_extension": ".py",
   "mimetype": "text/x-python",
   "name": "python",
   "nbconvert_exporter": "python",
   "pygments_lexer": "ipython3",
   "version": "3.12.7"
  }
 },
 "nbformat": 4,
 "nbformat_minor": 2
}
