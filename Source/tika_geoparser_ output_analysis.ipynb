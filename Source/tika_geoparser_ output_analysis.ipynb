{
 "cells": [
  {
   "cell_type": "code",
   "execution_count": null,
   "id": "d311a9ae-13b7-4293-82af-8dd085bb3dcf",
   "metadata": {},
   "outputs": [],
   "source": [
    "o\tThe Tika geoparser identified 1497 geo names along with their coordinates. Despite using parallel processing combined with Artificial Intelligence to enable efficient resource usage and processing times, it takes 5 hours of processing time. \n",
    "This duration is attributed to the sentiment analysis Name Entity Recognition (NER) model usage,\n",
    "the local server, and the complexity of the haunted dataset description column. A manual analysis was performed using a sample of 20 rows to verify the parser output, confirming that the names found were indeed in the description column. \n",
    "\n",
    "o\tFacts:\n",
    "•\tGeo names: 1499 along with their coordinates\n",
    "•\tProcessing time: 5 hours \n",
    "•\tVeracity: Accuracy confirmed using sampling (20 rows)\n",
    "\n",
    "o\tUnintended consequences: \n",
    "•\tUnordered index: likely caused by parallel processing and the complexity of the descriptions\n",
    "•\tLong processing time: due to the complexity of the description, requiring a sentiment analysis NER pretrained model.\n"
   ]
  },
  {
   "cell_type": "code",
   "execution_count": null,
   "id": "8865379f-1d20-4bb0-85ce-de6b0d083d39",
   "metadata": {},
   "outputs": [],
   "source": []
  }
 ],
 "metadata": {
  "kernelspec": {
   "display_name": "Python [conda env:base] *",
   "language": "python",
   "name": "conda-base-py"
  },
  "language_info": {
   "codemirror_mode": {
    "name": "ipython",
    "version": 3
   },
   "file_extension": ".py",
   "mimetype": "text/x-python",
   "name": "python",
   "nbconvert_exporter": "python",
   "pygments_lexer": "ipython3",
   "version": "3.12.7"
  }
 },
 "nbformat": 4,
 "nbformat_minor": 5
}
