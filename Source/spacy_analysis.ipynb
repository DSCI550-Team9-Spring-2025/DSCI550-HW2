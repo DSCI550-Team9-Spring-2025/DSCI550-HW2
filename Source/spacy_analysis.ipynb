{
 "cells": [
  {
   "cell_type": "markdown",
   "metadata": {},
   "source": [
    "# SpaCy NER Analysis"
   ]
  },
  {
   "cell_type": "code",
   "execution_count": 1,
   "metadata": {},
   "outputs": [],
   "source": [
    "import pandas as pd\n",
    "import numpy as np\n",
    "import os"
   ]
  },
  {
   "cell_type": "markdown",
   "metadata": {
    "jp-MarkdownHeadingCollapsed": true
   },
   "source": [
    "### Get Data"
   ]
  },
  {
   "cell_type": "code",
   "execution_count": 2,
   "metadata": {},
   "outputs": [
    {
     "data": {
      "text/html": [
       "<div>\n",
       "<style scoped>\n",
       "    .dataframe tbody tr th:only-of-type {\n",
       "        vertical-align: middle;\n",
       "    }\n",
       "\n",
       "    .dataframe tbody tr th {\n",
       "        vertical-align: top;\n",
       "    }\n",
       "\n",
       "    .dataframe thead th {\n",
       "        text-align: right;\n",
       "    }\n",
       "</style>\n",
       "<table border=\"1\" class=\"dataframe\">\n",
       "  <thead>\n",
       "    <tr style=\"text-align: right;\">\n",
       "      <th></th>\n",
       "      <th>description</th>\n",
       "      <th>spacy_entities</th>\n",
       "      <th>GeoName_Count</th>\n",
       "      <th>Geographic_LATITUDE</th>\n",
       "      <th>Geographic_LONGITUDE</th>\n",
       "      <th>Geographic_NAME</th>\n",
       "      <th>Optional_LATITUDE1</th>\n",
       "      <th>Optional_LATITUDE2</th>\n",
       "      <th>Optional_LATITUDE3</th>\n",
       "      <th>Optional_LATITUDE4</th>\n",
       "      <th>Optional_LONGITUDE1</th>\n",
       "      <th>Optional_LONGITUDE2</th>\n",
       "      <th>Optional_LONGITUDE3</th>\n",
       "      <th>Optional_LONGITUDE4</th>\n",
       "      <th>Optional_NAME1</th>\n",
       "      <th>Optional_NAME2</th>\n",
       "      <th>Optional_NAME3</th>\n",
       "      <th>Optional_NAME4</th>\n",
       "    </tr>\n",
       "  </thead>\n",
       "  <tbody>\n",
       "    <tr>\n",
       "      <th>0</th>\n",
       "      <td>Ada witch - Sometimes you can see a misty blue...</td>\n",
       "      <td>Ada witch -, PERSON\\n3-mile, QUANTITY\\nthe Ada...</td>\n",
       "      <td>2</td>\n",
       "      <td>NaN</td>\n",
       "      <td>NaN</td>\n",
       "      <td>NaN</td>\n",
       "      <td>43.0125</td>\n",
       "      <td>43.00142</td>\n",
       "      <td>NaN</td>\n",
       "      <td>NaN</td>\n",
       "      <td>-85.50056</td>\n",
       "      <td>-85.49169</td>\n",
       "      <td>NaN</td>\n",
       "      <td>NaN</td>\n",
       "      <td>Egypt Valley Country Club</td>\n",
       "      <td>Findlay Cemetery</td>\n",
       "      <td>NaN</td>\n",
       "      <td>NaN</td>\n",
       "    </tr>\n",
       "    <tr>\n",
       "      <th>1</th>\n",
       "      <td>A little girl was killed suddenly while waitin...</td>\n",
       "      <td>month later, DATE\\nthis day, DATE\\n\\n</td>\n",
       "      <td>0</td>\n",
       "      <td>NaN</td>\n",
       "      <td>NaN</td>\n",
       "      <td>NaN</td>\n",
       "      <td>NaN</td>\n",
       "      <td>NaN</td>\n",
       "      <td>NaN</td>\n",
       "      <td>NaN</td>\n",
       "      <td>NaN</td>\n",
       "      <td>NaN</td>\n",
       "      <td>NaN</td>\n",
       "      <td>NaN</td>\n",
       "      <td>NaN</td>\n",
       "      <td>NaN</td>\n",
       "      <td>NaN</td>\n",
       "      <td>NaN</td>\n",
       "    </tr>\n",
       "    <tr>\n",
       "      <th>2</th>\n",
       "      <td>If you take Gorman Rd. west towards Sand Creek...</td>\n",
       "      <td>Gorman Rd, PERSON\\nSand Creek, FAC\\nA mile, QU...</td>\n",
       "      <td>0</td>\n",
       "      <td>NaN</td>\n",
       "      <td>NaN</td>\n",
       "      <td>NaN</td>\n",
       "      <td>NaN</td>\n",
       "      <td>NaN</td>\n",
       "      <td>NaN</td>\n",
       "      <td>NaN</td>\n",
       "      <td>NaN</td>\n",
       "      <td>NaN</td>\n",
       "      <td>NaN</td>\n",
       "      <td>NaN</td>\n",
       "      <td>NaN</td>\n",
       "      <td>NaN</td>\n",
       "      <td>NaN</td>\n",
       "      <td>NaN</td>\n",
       "    </tr>\n",
       "    <tr>\n",
       "      <th>3</th>\n",
       "      <td>In the 1970's, one room, room 211, in the old ...</td>\n",
       "      <td>1970, DATE\\none, CARDINAL\\n211, CARDINAL\\ntoda...</td>\n",
       "      <td>0</td>\n",
       "      <td>NaN</td>\n",
       "      <td>NaN</td>\n",
       "      <td>NaN</td>\n",
       "      <td>NaN</td>\n",
       "      <td>NaN</td>\n",
       "      <td>NaN</td>\n",
       "      <td>NaN</td>\n",
       "      <td>NaN</td>\n",
       "      <td>NaN</td>\n",
       "      <td>NaN</td>\n",
       "      <td>NaN</td>\n",
       "      <td>NaN</td>\n",
       "      <td>NaN</td>\n",
       "      <td>NaN</td>\n",
       "      <td>NaN</td>\n",
       "    </tr>\n",
       "    <tr>\n",
       "      <th>4</th>\n",
       "      <td>Kappa Delta Sorority - The Kappa Delta Sororit...</td>\n",
       "      <td>Kappa Delta Sorority - The Kappa Delta Sororit...</td>\n",
       "      <td>0</td>\n",
       "      <td>NaN</td>\n",
       "      <td>NaN</td>\n",
       "      <td>NaN</td>\n",
       "      <td>NaN</td>\n",
       "      <td>NaN</td>\n",
       "      <td>NaN</td>\n",
       "      <td>NaN</td>\n",
       "      <td>NaN</td>\n",
       "      <td>NaN</td>\n",
       "      <td>NaN</td>\n",
       "      <td>NaN</td>\n",
       "      <td>NaN</td>\n",
       "      <td>NaN</td>\n",
       "      <td>NaN</td>\n",
       "      <td>NaN</td>\n",
       "    </tr>\n",
       "    <tr>\n",
       "      <th>...</th>\n",
       "      <td>...</td>\n",
       "      <td>...</td>\n",
       "      <td>...</td>\n",
       "      <td>...</td>\n",
       "      <td>...</td>\n",
       "      <td>...</td>\n",
       "      <td>...</td>\n",
       "      <td>...</td>\n",
       "      <td>...</td>\n",
       "      <td>...</td>\n",
       "      <td>...</td>\n",
       "      <td>...</td>\n",
       "      <td>...</td>\n",
       "      <td>...</td>\n",
       "      <td>...</td>\n",
       "      <td>...</td>\n",
       "      <td>...</td>\n",
       "      <td>...</td>\n",
       "    </tr>\n",
       "    <tr>\n",
       "      <th>10975</th>\n",
       "      <td>at 12 midnight you can see a lady with two lit...</td>\n",
       "      <td>12 midnight, TIME\\ntwo, CARDINAL\\nSheridan St....</td>\n",
       "      <td>0</td>\n",
       "      <td>NaN</td>\n",
       "      <td>NaN</td>\n",
       "      <td>NaN</td>\n",
       "      <td>NaN</td>\n",
       "      <td>NaN</td>\n",
       "      <td>NaN</td>\n",
       "      <td>NaN</td>\n",
       "      <td>NaN</td>\n",
       "      <td>NaN</td>\n",
       "      <td>NaN</td>\n",
       "      <td>NaN</td>\n",
       "      <td>NaN</td>\n",
       "      <td>NaN</td>\n",
       "      <td>NaN</td>\n",
       "      <td>NaN</td>\n",
       "    </tr>\n",
       "    <tr>\n",
       "      <th>10976</th>\n",
       "      <td>Is haunted by the victims of a murder that hap...</td>\n",
       "      <td>years ago, DATE\\n\\n</td>\n",
       "      <td>0</td>\n",
       "      <td>NaN</td>\n",
       "      <td>NaN</td>\n",
       "      <td>NaN</td>\n",
       "      <td>NaN</td>\n",
       "      <td>NaN</td>\n",
       "      <td>NaN</td>\n",
       "      <td>NaN</td>\n",
       "      <td>NaN</td>\n",
       "      <td>NaN</td>\n",
       "      <td>NaN</td>\n",
       "      <td>NaN</td>\n",
       "      <td>NaN</td>\n",
       "      <td>NaN</td>\n",
       "      <td>NaN</td>\n",
       "      <td>NaN</td>\n",
       "    </tr>\n",
       "    <tr>\n",
       "      <th>10977</th>\n",
       "      <td>The institution was for kids 18 years old and ...</td>\n",
       "      <td>18 years old, DATE\\n70, DATE\\none, CARDINAL\\nh...</td>\n",
       "      <td>0</td>\n",
       "      <td>NaN</td>\n",
       "      <td>NaN</td>\n",
       "      <td>NaN</td>\n",
       "      <td>NaN</td>\n",
       "      <td>NaN</td>\n",
       "      <td>NaN</td>\n",
       "      <td>NaN</td>\n",
       "      <td>NaN</td>\n",
       "      <td>NaN</td>\n",
       "      <td>NaN</td>\n",
       "      <td>NaN</td>\n",
       "      <td>NaN</td>\n",
       "      <td>NaN</td>\n",
       "      <td>NaN</td>\n",
       "      <td>NaN</td>\n",
       "    </tr>\n",
       "    <tr>\n",
       "      <th>10978</th>\n",
       "      <td>Gymnasium - their have been reports of a littl...</td>\n",
       "      <td>\\n</td>\n",
       "      <td>0</td>\n",
       "      <td>NaN</td>\n",
       "      <td>NaN</td>\n",
       "      <td>NaN</td>\n",
       "      <td>NaN</td>\n",
       "      <td>NaN</td>\n",
       "      <td>NaN</td>\n",
       "      <td>NaN</td>\n",
       "      <td>NaN</td>\n",
       "      <td>NaN</td>\n",
       "      <td>NaN</td>\n",
       "      <td>NaN</td>\n",
       "      <td>NaN</td>\n",
       "      <td>NaN</td>\n",
       "      <td>NaN</td>\n",
       "      <td>NaN</td>\n",
       "    </tr>\n",
       "    <tr>\n",
       "      <th>10979</th>\n",
       "      <td>Cadets from the Air Force Academy participatin...</td>\n",
       "      <td>the Air Force Academy, ORG\\nSurvival, NORP\\n\\n</td>\n",
       "      <td>0</td>\n",
       "      <td>NaN</td>\n",
       "      <td>NaN</td>\n",
       "      <td>NaN</td>\n",
       "      <td>NaN</td>\n",
       "      <td>NaN</td>\n",
       "      <td>NaN</td>\n",
       "      <td>NaN</td>\n",
       "      <td>NaN</td>\n",
       "      <td>NaN</td>\n",
       "      <td>NaN</td>\n",
       "      <td>NaN</td>\n",
       "      <td>NaN</td>\n",
       "      <td>NaN</td>\n",
       "      <td>NaN</td>\n",
       "      <td>NaN</td>\n",
       "    </tr>\n",
       "  </tbody>\n",
       "</table>\n",
       "<p>10980 rows × 18 columns</p>\n",
       "</div>"
      ],
      "text/plain": [
       "                                             description  \\\n",
       "0      Ada witch - Sometimes you can see a misty blue...   \n",
       "1      A little girl was killed suddenly while waitin...   \n",
       "2      If you take Gorman Rd. west towards Sand Creek...   \n",
       "3      In the 1970's, one room, room 211, in the old ...   \n",
       "4      Kappa Delta Sorority - The Kappa Delta Sororit...   \n",
       "...                                                  ...   \n",
       "10975  at 12 midnight you can see a lady with two lit...   \n",
       "10976  Is haunted by the victims of a murder that hap...   \n",
       "10977  The institution was for kids 18 years old and ...   \n",
       "10978  Gymnasium - their have been reports of a littl...   \n",
       "10979  Cadets from the Air Force Academy participatin...   \n",
       "\n",
       "                                          spacy_entities  GeoName_Count  \\\n",
       "0      Ada witch -, PERSON\\n3-mile, QUANTITY\\nthe Ada...              2   \n",
       "1                  month later, DATE\\nthis day, DATE\\n\\n              0   \n",
       "2      Gorman Rd, PERSON\\nSand Creek, FAC\\nA mile, QU...              0   \n",
       "3      1970, DATE\\none, CARDINAL\\n211, CARDINAL\\ntoda...              0   \n",
       "4      Kappa Delta Sorority - The Kappa Delta Sororit...              0   \n",
       "...                                                  ...            ...   \n",
       "10975  12 midnight, TIME\\ntwo, CARDINAL\\nSheridan St....              0   \n",
       "10976                                years ago, DATE\\n\\n              0   \n",
       "10977  18 years old, DATE\\n70, DATE\\none, CARDINAL\\nh...              0   \n",
       "10978                                                 \\n              0   \n",
       "10979     the Air Force Academy, ORG\\nSurvival, NORP\\n\\n              0   \n",
       "\n",
       "       Geographic_LATITUDE  Geographic_LONGITUDE Geographic_NAME  \\\n",
       "0                      NaN                   NaN             NaN   \n",
       "1                      NaN                   NaN             NaN   \n",
       "2                      NaN                   NaN             NaN   \n",
       "3                      NaN                   NaN             NaN   \n",
       "4                      NaN                   NaN             NaN   \n",
       "...                    ...                   ...             ...   \n",
       "10975                  NaN                   NaN             NaN   \n",
       "10976                  NaN                   NaN             NaN   \n",
       "10977                  NaN                   NaN             NaN   \n",
       "10978                  NaN                   NaN             NaN   \n",
       "10979                  NaN                   NaN             NaN   \n",
       "\n",
       "       Optional_LATITUDE1  Optional_LATITUDE2  Optional_LATITUDE3  \\\n",
       "0                 43.0125            43.00142                 NaN   \n",
       "1                     NaN                 NaN                 NaN   \n",
       "2                     NaN                 NaN                 NaN   \n",
       "3                     NaN                 NaN                 NaN   \n",
       "4                     NaN                 NaN                 NaN   \n",
       "...                   ...                 ...                 ...   \n",
       "10975                 NaN                 NaN                 NaN   \n",
       "10976                 NaN                 NaN                 NaN   \n",
       "10977                 NaN                 NaN                 NaN   \n",
       "10978                 NaN                 NaN                 NaN   \n",
       "10979                 NaN                 NaN                 NaN   \n",
       "\n",
       "       Optional_LATITUDE4  Optional_LONGITUDE1  Optional_LONGITUDE2  \\\n",
       "0                     NaN            -85.50056            -85.49169   \n",
       "1                     NaN                  NaN                  NaN   \n",
       "2                     NaN                  NaN                  NaN   \n",
       "3                     NaN                  NaN                  NaN   \n",
       "4                     NaN                  NaN                  NaN   \n",
       "...                   ...                  ...                  ...   \n",
       "10975                 NaN                  NaN                  NaN   \n",
       "10976                 NaN                  NaN                  NaN   \n",
       "10977                 NaN                  NaN                  NaN   \n",
       "10978                 NaN                  NaN                  NaN   \n",
       "10979                 NaN                  NaN                  NaN   \n",
       "\n",
       "       Optional_LONGITUDE3  Optional_LONGITUDE4             Optional_NAME1  \\\n",
       "0                      NaN                  NaN  Egypt Valley Country Club   \n",
       "1                      NaN                  NaN                        NaN   \n",
       "2                      NaN                  NaN                        NaN   \n",
       "3                      NaN                  NaN                        NaN   \n",
       "4                      NaN                  NaN                        NaN   \n",
       "...                    ...                  ...                        ...   \n",
       "10975                  NaN                  NaN                        NaN   \n",
       "10976                  NaN                  NaN                        NaN   \n",
       "10977                  NaN                  NaN                        NaN   \n",
       "10978                  NaN                  NaN                        NaN   \n",
       "10979                  NaN                  NaN                        NaN   \n",
       "\n",
       "         Optional_NAME2 Optional_NAME3 Optional_NAME4  \n",
       "0      Findlay Cemetery            NaN            NaN  \n",
       "1                   NaN            NaN            NaN  \n",
       "2                   NaN            NaN            NaN  \n",
       "3                   NaN            NaN            NaN  \n",
       "4                   NaN            NaN            NaN  \n",
       "...                 ...            ...            ...  \n",
       "10975               NaN            NaN            NaN  \n",
       "10976               NaN            NaN            NaN  \n",
       "10977               NaN            NaN            NaN  \n",
       "10978               NaN            NaN            NaN  \n",
       "10979               NaN            NaN            NaN  \n",
       "\n",
       "[10980 rows x 18 columns]"
      ]
     },
     "execution_count": 2,
     "metadata": {},
     "output_type": "execute_result"
    }
   ],
   "source": [
    "df_ent = pd.read_csv(os.path.join(\"..\", \"Data\", \"merged_spacy_and_geo_v2.csv\")).drop(\"Unnamed: 0\", axis=1)\n",
    "df_ent"
   ]
  },
  {
   "cell_type": "code",
   "execution_count": 3,
   "metadata": {},
   "outputs": [
    {
     "name": "stdout",
     "output_type": "stream",
     "text": [
      "city\n",
      "country\n",
      "description\n",
      "location\n",
      "state\n",
      "state_abbrev\n",
      "longitude\n",
      "latitude\n",
      "city_longitude\n",
      "city_latitude\n",
      "clean_description\n",
      "clean_spelling\n",
      "Audio Evidence\n",
      "Audio Reasoning\n",
      "time_of_day\n",
      "Witness Count\n",
      "Witness Reasoning\n",
      "tokenized\n",
      "pos_tokenized\n",
      "filtered_tokenized\n",
      "lemma_filtered_tokenized\n",
      "lemma_pos_tokenized\n",
      "Event\n",
      "apparition_types\n",
      "apparition_descriptors\n",
      "apparition_gender\n",
      "apparition_age\n",
      "apparition_types_str\n",
      "apparition_descriptors_str\n",
      "apparition_gender_str\n",
      "apparition_age_str\n",
      "unique_apparition_mentions\n",
      "adjectives\n",
      "unique_app_descriptor_mentions\n",
      "FBI.Population.Covered\n",
      "Murder per capita\n",
      "Violent Crime per capita\n",
      "Property Crime per capita\n",
      "Undergrad_Grad_Rate\n",
      "HS_Grad_Rate\n",
      "STEM_Grad_Percentage\n",
      "Visual Evidence\n",
      "Visual Reasoning\n",
      "death_rate_Alzheimer's disease\n",
      "death_rate_Cancer\n",
      "death_rate_Heart disease\n",
      "death_rate_Unintentional injuries\n",
      "death_rate_All causes\n",
      "death_rate_Influenza and pneumonia\n",
      "death_rate_Suicide\n",
      "death_rate_Kidney disease\n",
      "death_rate_CLRD\n",
      "death_rate_Diabetes\n",
      "Haunted Places Date\n",
      "Alcohol Deaths\n",
      "Alcohol Deaths Under 21\n",
      "State\n",
      "Daylight Data USNO Navy\n",
      "Daylight Data TimeandDate\n"
     ]
    }
   ],
   "source": [
    "df = pd.read_csv(os.path.join(\"..\", \"Data\", \"v1.tsv\"), sep='\\t')\n",
    "for col in df.columns:\n",
    "    print(col)"
   ]
  },
  {
   "cell_type": "markdown",
   "metadata": {},
   "source": [
    "### Get Sample"
   ]
  },
  {
   "cell_type": "code",
   "execution_count": 4,
   "metadata": {},
   "outputs": [],
   "source": [
    "def sample(df: pd.DataFrame, i: int, cols: list[str]=None) -> pd.core.series.Series:\n",
    "    if not cols:\n",
    "        return df.iloc[i]\n",
    "    return df[cols].iloc[i]\n",
    "\n",
    "def ent(i: int, inplace=False):\n",
    "    \"\"\"References global var df_ent\"\"\"\n",
    "    if not inplace:\n",
    "        print(df_ent['spacy_entities'].iloc[i])\n",
    "        return\n",
    "    return df_ent['spacy_entities'].iloc[i]\n",
    "\n",
    "def ent_desc(i: int) -> None:\n",
    "    \"\"\"References global var df_ent\"\"\"\n",
    "    print(df_ent['spacy_entities'].iloc[i])\n",
    "    print(df_ent['description'].iloc[i])\n",
    "\n",
    "def ent_desc_wit(i: int) -> None:\n",
    "    \"\"\"References global var df_ent\"\"\"\n",
    "    print(df_ent['spacy_entities'].iloc[i])\n",
    "    print(df['Witness Count'].iloc[i])\n",
    "    print(\"\")\n",
    "    print(df_ent['description'].iloc[i])"
   ]
  },
  {
   "cell_type": "code",
   "execution_count": 5,
   "metadata": {},
   "outputs": [
    {
     "data": {
      "text/plain": [
       "description             Ada witch - Sometimes you can see a misty blue...\n",
       "spacy_entities          Ada witch -, PERSON\\n3-mile, QUANTITY\\nthe Ada...\n",
       "GeoName_Count                                                           2\n",
       "Geographic_LATITUDE                                                   NaN\n",
       "Geographic_LONGITUDE                                                  NaN\n",
       "Geographic_NAME                                                       NaN\n",
       "Optional_LATITUDE1                                                43.0125\n",
       "Optional_LATITUDE2                                               43.00142\n",
       "Optional_LATITUDE3                                                    NaN\n",
       "Optional_LATITUDE4                                                    NaN\n",
       "Optional_LONGITUDE1                                             -85.50056\n",
       "Optional_LONGITUDE2                                             -85.49169\n",
       "Optional_LONGITUDE3                                                   NaN\n",
       "Optional_LONGITUDE4                                                   NaN\n",
       "Optional_NAME1                                  Egypt Valley Country Club\n",
       "Optional_NAME2                                           Findlay Cemetery\n",
       "Optional_NAME3                                                        NaN\n",
       "Optional_NAME4                                                        NaN\n",
       "Name: 0, dtype: object"
      ]
     },
     "execution_count": 5,
     "metadata": {},
     "output_type": "execute_result"
    }
   ],
   "source": [
    "sample(df_ent, 0)"
   ]
  },
  {
   "cell_type": "code",
   "execution_count": 6,
   "metadata": {},
   "outputs": [
    {
     "name": "stdout",
     "output_type": "stream",
     "text": [
      "Ada witch -, PERSON\n",
      "3-mile, QUANTITY\n",
      "the Ada Cemetery, FAC\n",
      "2 Mile, QUANTITY\n",
      "Egypt Valley, LOC\n",
      "Honey Creek, GPE\n",
      "late one night, TIME\n",
      "late at night, TIME\n",
      "the night, TIME\n",
      "the 20th century, DATE\n",
      "Honeycreek Road, FAC\n",
      "Seidman Park, GPE\n",
      "Findlay Cemetery, FAC\n",
      "\"Ghosts of Grand Rapids, WORK_OF_ART\n",
      "\n",
      "\n"
     ]
    }
   ],
   "source": [
    "ent(0)"
   ]
  },
  {
   "cell_type": "code",
   "execution_count": 7,
   "metadata": {},
   "outputs": [
    {
     "data": {
      "text/plain": [
       "Witness Count    3+\n",
       "Name: 0, dtype: object"
      ]
     },
     "execution_count": 7,
     "metadata": {},
     "output_type": "execute_result"
    }
   ],
   "source": [
    "sample(df, 0, ['Witness Count'])"
   ]
  },
  {
   "attachments": {
    "c55f0e7c-7f4e-4081-94cc-5c678af8fca2.png": {
     "image/png": "[encoded data removed]"
    }
   },
   "cell_type": "markdown",
   "metadata": {},
   "source": [
    "## Analysis\n",
    "![image.png](attachment:c55f0e7c-7f4e-4081-94cc-5c678af8fca2.png)"
   ]
  },
  {
   "cell_type": "markdown",
   "metadata": {},
   "source": [
    "```\n",
    "PERSON:      People, including fictional.\n",
    "NORP:        Nationalities or religious or political groups.\n",
    "FAC:         Buildings, airports, highways, bridges, etc.\n",
    "ORG:         Companies, agencies, institutions, etc.\n",
    "GPE:         Countries, cities, states.\n",
    "LOC:         Non-GPE locations, mountain ranges, bodies of water.\n",
    "PRODUCT:     Objects, vehicles, foods, etc. (Not services.)\n",
    "EVENT:       Named hurricanes, battles, wars, sports events, etc.\n",
    "WORK_OF_ART: Titles of books, songs, etc.\n",
    "LAW:         Named documents made into laws.\n",
    "LANGUAGE:    Any named language.\n",
    "DATE:        Absolute or relative dates or periods.\n",
    "TIME:        Times smaller than a day.\n",
    "PERCENT:     Percentage, including ”%“.\n",
    "MONEY:       Monetary values, including unit.\n",
    "QUANTITY:    Measurements, as of weight or distance.\n",
    "ORDINAL:     “first”, “second”, etc.\n",
    "CARDINAL:    Numerals that do not fall under another type.\n",
    "```"
   ]
  },
  {
   "cell_type": "code",
   "execution_count": 8,
   "metadata": {},
   "outputs": [
    {
     "data": {
      "text/plain": [
       "('CARDINAL',\n",
       " 'DATE',\n",
       " 'EVENT',\n",
       " 'FAC',\n",
       " 'GPE',\n",
       " 'LANGUAGE',\n",
       " 'LAW',\n",
       " 'LOC',\n",
       " 'MONEY',\n",
       " 'NORP',\n",
       " 'ORDINAL',\n",
       " 'ORG',\n",
       " 'PERCENT',\n",
       " 'PERSON',\n",
       " 'PRODUCT',\n",
       " 'QUANTITY',\n",
       " 'TIME',\n",
       " 'WORK_OF_ART')"
      ]
     },
     "execution_count": 8,
     "metadata": {},
     "output_type": "execute_result"
    }
   ],
   "source": [
    "import spacy\n",
    "nlp = spacy.load(\"en_core_web_sm\")\n",
    "nlp.get_pipe(\"ner\").labels"
   ]
  },
  {
   "cell_type": "code",
   "execution_count": 9,
   "metadata": {},
   "outputs": [
    {
     "name": "stdout",
     "output_type": "stream",
     "text": [
      "Al Capone, PERSON\n",
      "the next day, DATE\n",
      "March, DATE\n",
      "\n",
      "\n",
      "2+\n",
      "\n",
      "there have been notes of white dogs chasing cars that pull into the drive way. People have seen people hanging form trees and working in fields in old clothing. This motel is where Al Capone did some of his work and had meetings in a secret place in the tunnels. The motel was once painted blue but the next day it was back to yellow. - March 2007 update: was torn down and a tennis court was built over it.\n"
     ]
    }
   ],
   "source": [
    "ent_desc_wit(10)"
   ]
  },
  {
   "cell_type": "markdown",
   "metadata": {},
   "source": [
    "#### PERSON ent - Witness Count: Correlation Analysis"
   ]
  },
  {
   "cell_type": "code",
   "execution_count": 10,
   "metadata": {},
   "outputs": [],
   "source": [
    "import re\n",
    "from matplotlib import pyplot as plt\n",
    "plt.style.use('dark_background')"
   ]
  },
  {
   "cell_type": "code",
   "execution_count": 11,
   "metadata": {},
   "outputs": [],
   "source": [
    "def corr_plot(x: pd.core.series.Series, y: pd.core.series.Series) -> None:\n",
    "    plt.scatter(x, y, color='C1')\n",
    "    m, b = np.polyfit(x, y, 1)\n",
    "    plt.plot(x, m*x+b, 'C3--', label=f\"line of best fit (corr: {np.corrcoef(x, y)[0,1]:.2f})\")\n",
    "    plt.title(f\"'{y.name}' vs. '{x.name}'\")\n",
    "    plt.xlabel(x.name)\n",
    "    plt.ylabel(y.name)\n",
    "    plt.legend()\n",
    "    plt.show()"
   ]
  },
  {
   "cell_type": "code",
   "execution_count": 12,
   "metadata": {},
   "outputs": [
    {
     "data": {
      "text/plain": [
       "0        1\n",
       "1        0\n",
       "2        1\n",
       "3        0\n",
       "4        0\n",
       "        ..\n",
       "10975    1\n",
       "10976    0\n",
       "10977    0\n",
       "10978    0\n",
       "10979    0\n",
       "Name: ent_person_count, Length: 10980, dtype: int64"
      ]
     },
     "execution_count": 12,
     "metadata": {},
     "output_type": "execute_result"
    }
   ],
   "source": [
    "# get ent_person_count column\n",
    "ent_person_count = []\n",
    "for i in range(df_ent.shape[0]):\n",
    "    current_ent = ent(i, inplace=True)\n",
    "    cnt = len(re.findall(r'PERSON', current_ent)) # regex matching: PERSON\n",
    "    ent_person_count.append(cnt)\n",
    "df_ent['ent_person_count'] = ent_person_count\n",
    "df_ent['ent_person_count']"
   ]
  },
  {
   "cell_type": "code",
   "execution_count": 13,
   "metadata": {},
   "outputs": [
    {
     "data": {
      "text/plain": [
       "0        3\n",
       "1        3\n",
       "2        2\n",
       "3        3\n",
       "4        2\n",
       "        ..\n",
       "10975    2\n",
       "10976    1\n",
       "10977    5\n",
       "10978    3\n",
       "10979    2\n",
       "Name: witness_count_int, Length: 10980, dtype: int64"
      ]
     },
     "execution_count": 13,
     "metadata": {},
     "output_type": "execute_result"
    }
   ],
   "source": [
    "# get witness_count_int column\n",
    "witness_count_int = []\n",
    "for i in range(df.shape[0]):\n",
    "    current_count = df['Witness Count'].iloc[i]\n",
    "    if current_count.endswith('+'):\n",
    "        current_count = current_count[:-1]\n",
    "    if current_count == \"Many\":\n",
    "        current_count == 100\n",
    "    elif current_count == \"Most\":\n",
    "        current_count == 500\n",
    "    try:\n",
    "        witness_count_int.append(int(current_count))\n",
    "    except ValueError:\n",
    "        witness_count_int.append(0)\n",
    "df_ent['witness_count_int'] = witness_count_int\n",
    "df_ent['witness_count_int']"
   ]
  },
  {
   "cell_type": "code",
   "execution_count": 14,
   "metadata": {},
   "outputs": [
    {
     "data": {
      "image/png": "[encoded data removed]",
      "text/plain": [
       "<Figure size 640x480 with 1 Axes>"
      ]
     },
     "metadata": {},
     "output_type": "display_data"
    }
   ],
   "source": [
    "x, y = df_ent['ent_person_count'], df_ent['witness_count_int']\n",
    "corr_plot(x, y)"
   ]
  },
  {
   "cell_type": "markdown",
   "metadata": {},
   "source": [
    "No correlation observed between witness count and number of person entities."
   ]
  },
  {
   "cell_type": "code",
   "execution_count": null,
   "metadata": {},
   "outputs": [],
   "source": []
  }
 ],
 "metadata": {
  "kernelspec": {
   "display_name": "Python 3 (ipykernel)",
   "language": "python",
   "name": "python3"
  },
  "language_info": {
   "codemirror_mode": {
    "name": "ipython",
    "version": 3
   },
   "file_extension": ".py",
   "mimetype": "text/x-python",
   "name": "python",
   "nbconvert_exporter": "python",
   "pygments_lexer": "ipython3",
   "version": "3.11.4"
  }
 },
 "nbformat": 4,
 "nbformat_minor": 4
}
