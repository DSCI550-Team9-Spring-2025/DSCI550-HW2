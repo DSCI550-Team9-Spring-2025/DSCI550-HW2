{
 "cells": [
  {
   "cell_type": "markdown",
   "metadata": {},
   "source": [
    "# SpaCy NER Analysis"
   ]
  },
  {
   "cell_type": "code",
   "execution_count": 3,
   "metadata": {},
   "outputs": [],
   "source": [
    "import pandas as pd\n",
    "import numpy as np\n",
    "import os"
   ]
  },
  {
   "cell_type": "markdown",
   "metadata": {
    "jp-MarkdownHeadingCollapsed": true
   },
   "source": [
    "### Get Data"
   ]
  },
  {
   "cell_type": "code",
   "execution_count": 4,
   "metadata": {},
   "outputs": [
    {
     "data": {
      "text/html": [
       "<div>\n",
       "<style scoped>\n",
       "    .dataframe tbody tr th:only-of-type {\n",
       "        vertical-align: middle;\n",
       "    }\n",
       "\n",
       "    .dataframe tbody tr th {\n",
       "        vertical-align: top;\n",
       "    }\n",
       "\n",
       "    .dataframe thead th {\n",
       "        text-align: right;\n",
       "    }\n",
       "</style>\n",
       "<table border=\"1\" class=\"dataframe\">\n",
       "  <thead>\n",
       "    <tr style=\"text-align: right;\">\n",
       "      <th></th>\n",
       "      <th>description</th>\n",
       "      <th>spacy_entities</th>\n",
       "      <th>GeoName_Count</th>\n",
       "      <th>Geographic_LATITUDE</th>\n",
       "      <th>Geographic_LONGITUDE</th>\n",
       "      <th>Geographic_NAME</th>\n",
       "      <th>Optional_LATITUDE1</th>\n",
       "      <th>Optional_LATITUDE2</th>\n",
       "      <th>Optional_LATITUDE3</th>\n",
       "      <th>Optional_LATITUDE4</th>\n",
       "      <th>Optional_LONGITUDE1</th>\n",
       "      <th>Optional_LONGITUDE2</th>\n",
       "      <th>Optional_LONGITUDE3</th>\n",
       "      <th>Optional_LONGITUDE4</th>\n",
       "      <th>Optional_NAME1</th>\n",
       "      <th>Optional_NAME2</th>\n",
       "      <th>Optional_NAME3</th>\n",
       "      <th>Optional_NAME4</th>\n",
       "    </tr>\n",
       "  </thead>\n",
       "  <tbody>\n",
       "    <tr>\n",
       "      <th>0</th>\n",
       "      <td>Ada witch - Sometimes you can see a misty blue...</td>\n",
       "      <td>Ada witch -, PERSON\\n3-mile, QUANTITY\\nthe Ada...</td>\n",
       "      <td>2</td>\n",
       "      <td>NaN</td>\n",
       "      <td>NaN</td>\n",
       "      <td>NaN</td>\n",
       "      <td>43.0125</td>\n",
       "      <td>43.00142</td>\n",
       "      <td>NaN</td>\n",
       "      <td>NaN</td>\n",
       "      <td>-85.50056</td>\n",
       "      <td>-85.49169</td>\n",
       "      <td>NaN</td>\n",
       "      <td>NaN</td>\n",
       "      <td>Egypt Valley Country Club</td>\n",
       "      <td>Findlay Cemetery</td>\n",
       "      <td>NaN</td>\n",
       "      <td>NaN</td>\n",
       "    </tr>\n",
       "    <tr>\n",
       "      <th>1</th>\n",
       "      <td>A little girl was killed suddenly while waitin...</td>\n",
       "      <td>month later, DATE\\nthis day, DATE\\n\\n</td>\n",
       "      <td>0</td>\n",
       "      <td>NaN</td>\n",
       "      <td>NaN</td>\n",
       "      <td>NaN</td>\n",
       "      <td>NaN</td>\n",
       "      <td>NaN</td>\n",
       "      <td>NaN</td>\n",
       "      <td>NaN</td>\n",
       "      <td>NaN</td>\n",
       "      <td>NaN</td>\n",
       "      <td>NaN</td>\n",
       "      <td>NaN</td>\n",
       "      <td>NaN</td>\n",
       "      <td>NaN</td>\n",
       "      <td>NaN</td>\n",
       "      <td>NaN</td>\n",
       "    </tr>\n",
       "    <tr>\n",
       "      <th>2</th>\n",
       "      <td>If you take Gorman Rd. west towards Sand Creek...</td>\n",
       "      <td>Gorman Rd, PERSON\\nSand Creek, FAC\\nA mile, QU...</td>\n",
       "      <td>0</td>\n",
       "      <td>NaN</td>\n",
       "      <td>NaN</td>\n",
       "      <td>NaN</td>\n",
       "      <td>NaN</td>\n",
       "      <td>NaN</td>\n",
       "      <td>NaN</td>\n",
       "      <td>NaN</td>\n",
       "      <td>NaN</td>\n",
       "      <td>NaN</td>\n",
       "      <td>NaN</td>\n",
       "      <td>NaN</td>\n",
       "      <td>NaN</td>\n",
       "      <td>NaN</td>\n",
       "      <td>NaN</td>\n",
       "      <td>NaN</td>\n",
       "    </tr>\n",
       "    <tr>\n",
       "      <th>3</th>\n",
       "      <td>In the 1970's, one room, room 211, in the old ...</td>\n",
       "      <td>1970, DATE\\none, CARDINAL\\n211, CARDINAL\\ntoda...</td>\n",
       "      <td>0</td>\n",
       "      <td>NaN</td>\n",
       "      <td>NaN</td>\n",
       "      <td>NaN</td>\n",
       "      <td>NaN</td>\n",
       "      <td>NaN</td>\n",
       "      <td>NaN</td>\n",
       "      <td>NaN</td>\n",
       "      <td>NaN</td>\n",
       "      <td>NaN</td>\n",
       "      <td>NaN</td>\n",
       "      <td>NaN</td>\n",
       "      <td>NaN</td>\n",
       "      <td>NaN</td>\n",
       "      <td>NaN</td>\n",
       "      <td>NaN</td>\n",
       "    </tr>\n",
       "    <tr>\n",
       "      <th>4</th>\n",
       "      <td>Kappa Delta Sorority - The Kappa Delta Sororit...</td>\n",
       "      <td>Kappa Delta Sorority - The Kappa Delta Sororit...</td>\n",
       "      <td>0</td>\n",
       "      <td>NaN</td>\n",
       "      <td>NaN</td>\n",
       "      <td>NaN</td>\n",
       "      <td>NaN</td>\n",
       "      <td>NaN</td>\n",
       "      <td>NaN</td>\n",
       "      <td>NaN</td>\n",
       "      <td>NaN</td>\n",
       "      <td>NaN</td>\n",
       "      <td>NaN</td>\n",
       "      <td>NaN</td>\n",
       "      <td>NaN</td>\n",
       "      <td>NaN</td>\n",
       "      <td>NaN</td>\n",
       "      <td>NaN</td>\n",
       "    </tr>\n",
       "    <tr>\n",
       "      <th>...</th>\n",
       "      <td>...</td>\n",
       "      <td>...</td>\n",
       "      <td>...</td>\n",
       "      <td>...</td>\n",
       "      <td>...</td>\n",
       "      <td>...</td>\n",
       "      <td>...</td>\n",
       "      <td>...</td>\n",
       "      <td>...</td>\n",
       "      <td>...</td>\n",
       "      <td>...</td>\n",
       "      <td>...</td>\n",
       "      <td>...</td>\n",
       "      <td>...</td>\n",
       "      <td>...</td>\n",
       "      <td>...</td>\n",
       "      <td>...</td>\n",
       "      <td>...</td>\n",
       "    </tr>\n",
       "    <tr>\n",
       "      <th>10975</th>\n",
       "      <td>at 12 midnight you can see a lady with two lit...</td>\n",
       "      <td>12 midnight, TIME\\ntwo, CARDINAL\\nSheridan St....</td>\n",
       "      <td>0</td>\n",
       "      <td>NaN</td>\n",
       "      <td>NaN</td>\n",
       "      <td>NaN</td>\n",
       "      <td>NaN</td>\n",
       "      <td>NaN</td>\n",
       "      <td>NaN</td>\n",
       "      <td>NaN</td>\n",
       "      <td>NaN</td>\n",
       "      <td>NaN</td>\n",
       "      <td>NaN</td>\n",
       "      <td>NaN</td>\n",
       "      <td>NaN</td>\n",
       "      <td>NaN</td>\n",
       "      <td>NaN</td>\n",
       "      <td>NaN</td>\n",
       "    </tr>\n",
       "    <tr>\n",
       "      <th>10976</th>\n",
       "      <td>Is haunted by the victims of a murder that hap...</td>\n",
       "      <td>years ago, DATE\\n\\n</td>\n",
       "      <td>0</td>\n",
       "      <td>NaN</td>\n",
       "      <td>NaN</td>\n",
       "      <td>NaN</td>\n",
       "      <td>NaN</td>\n",
       "      <td>NaN</td>\n",
       "      <td>NaN</td>\n",
       "      <td>NaN</td>\n",
       "      <td>NaN</td>\n",
       "      <td>NaN</td>\n",
       "      <td>NaN</td>\n",
       "      <td>NaN</td>\n",
       "      <td>NaN</td>\n",
       "      <td>NaN</td>\n",
       "      <td>NaN</td>\n",
       "      <td>NaN</td>\n",
       "    </tr>\n",
       "    <tr>\n",
       "      <th>10977</th>\n",
       "      <td>The institution was for kids 18 years old and ...</td>\n",
       "      <td>18 years old, DATE\\n70, DATE\\none, CARDINAL\\nh...</td>\n",
       "      <td>0</td>\n",
       "      <td>NaN</td>\n",
       "      <td>NaN</td>\n",
       "      <td>NaN</td>\n",
       "      <td>NaN</td>\n",
       "      <td>NaN</td>\n",
       "      <td>NaN</td>\n",
       "      <td>NaN</td>\n",
       "      <td>NaN</td>\n",
       "      <td>NaN</td>\n",
       "      <td>NaN</td>\n",
       "      <td>NaN</td>\n",
       "      <td>NaN</td>\n",
       "      <td>NaN</td>\n",
       "      <td>NaN</td>\n",
       "      <td>NaN</td>\n",
       "    </tr>\n",
       "    <tr>\n",
       "      <th>10978</th>\n",
       "      <td>Gymnasium - their have been reports of a littl...</td>\n",
       "      <td>\\n</td>\n",
       "      <td>0</td>\n",
       "      <td>NaN</td>\n",
       "      <td>NaN</td>\n",
       "      <td>NaN</td>\n",
       "      <td>NaN</td>\n",
       "      <td>NaN</td>\n",
       "      <td>NaN</td>\n",
       "      <td>NaN</td>\n",
       "      <td>NaN</td>\n",
       "      <td>NaN</td>\n",
       "      <td>NaN</td>\n",
       "      <td>NaN</td>\n",
       "      <td>NaN</td>\n",
       "      <td>NaN</td>\n",
       "      <td>NaN</td>\n",
       "      <td>NaN</td>\n",
       "    </tr>\n",
       "    <tr>\n",
       "      <th>10979</th>\n",
       "      <td>Cadets from the Air Force Academy participatin...</td>\n",
       "      <td>the Air Force Academy, ORG\\nSurvival, NORP\\n\\n</td>\n",
       "      <td>0</td>\n",
       "      <td>NaN</td>\n",
       "      <td>NaN</td>\n",
       "      <td>NaN</td>\n",
       "      <td>NaN</td>\n",
       "      <td>NaN</td>\n",
       "      <td>NaN</td>\n",
       "      <td>NaN</td>\n",
       "      <td>NaN</td>\n",
       "      <td>NaN</td>\n",
       "      <td>NaN</td>\n",
       "      <td>NaN</td>\n",
       "      <td>NaN</td>\n",
       "      <td>NaN</td>\n",
       "      <td>NaN</td>\n",
       "      <td>NaN</td>\n",
       "    </tr>\n",
       "  </tbody>\n",
       "</table>\n",
       "<p>10980 rows × 18 columns</p>\n",
       "</div>"
      ],
      "text/plain": [
       "                                             description  \\\n",
       "0      Ada witch - Sometimes you can see a misty blue...   \n",
       "1      A little girl was killed suddenly while waitin...   \n",
       "2      If you take Gorman Rd. west towards Sand Creek...   \n",
       "3      In the 1970's, one room, room 211, in the old ...   \n",
       "4      Kappa Delta Sorority - The Kappa Delta Sororit...   \n",
       "...                                                  ...   \n",
       "10975  at 12 midnight you can see a lady with two lit...   \n",
       "10976  Is haunted by the victims of a murder that hap...   \n",
       "10977  The institution was for kids 18 years old and ...   \n",
       "10978  Gymnasium - their have been reports of a littl...   \n",
       "10979  Cadets from the Air Force Academy participatin...   \n",
       "\n",
       "                                          spacy_entities  GeoName_Count  \\\n",
       "0      Ada witch -, PERSON\\n3-mile, QUANTITY\\nthe Ada...              2   \n",
       "1                  month later, DATE\\nthis day, DATE\\n\\n              0   \n",
       "2      Gorman Rd, PERSON\\nSand Creek, FAC\\nA mile, QU...              0   \n",
       "3      1970, DATE\\none, CARDINAL\\n211, CARDINAL\\ntoda...              0   \n",
       "4      Kappa Delta Sorority - The Kappa Delta Sororit...              0   \n",
       "...                                                  ...            ...   \n",
       "10975  12 midnight, TIME\\ntwo, CARDINAL\\nSheridan St....              0   \n",
       "10976                                years ago, DATE\\n\\n              0   \n",
       "10977  18 years old, DATE\\n70, DATE\\none, CARDINAL\\nh...              0   \n",
       "10978                                                 \\n              0   \n",
       "10979     the Air Force Academy, ORG\\nSurvival, NORP\\n\\n              0   \n",
       "\n",
       "       Geographic_LATITUDE  Geographic_LONGITUDE Geographic_NAME  \\\n",
       "0                      NaN                   NaN             NaN   \n",
       "1                      NaN                   NaN             NaN   \n",
       "2                      NaN                   NaN             NaN   \n",
       "3                      NaN                   NaN             NaN   \n",
       "4                      NaN                   NaN             NaN   \n",
       "...                    ...                   ...             ...   \n",
       "10975                  NaN                   NaN             NaN   \n",
       "10976                  NaN                   NaN             NaN   \n",
       "10977                  NaN                   NaN             NaN   \n",
       "10978                  NaN                   NaN             NaN   \n",
       "10979                  NaN                   NaN             NaN   \n",
       "\n",
       "       Optional_LATITUDE1  Optional_LATITUDE2  Optional_LATITUDE3  \\\n",
       "0                 43.0125            43.00142                 NaN   \n",
       "1                     NaN                 NaN                 NaN   \n",
       "2                     NaN                 NaN                 NaN   \n",
       "3                     NaN                 NaN                 NaN   \n",
       "4                     NaN                 NaN                 NaN   \n",
       "...                   ...                 ...                 ...   \n",
       "10975                 NaN                 NaN                 NaN   \n",
       "10976                 NaN                 NaN                 NaN   \n",
       "10977                 NaN                 NaN                 NaN   \n",
       "10978                 NaN                 NaN                 NaN   \n",
       "10979                 NaN                 NaN                 NaN   \n",
       "\n",
       "       Optional_LATITUDE4  Optional_LONGITUDE1  Optional_LONGITUDE2  \\\n",
       "0                     NaN            -85.50056            -85.49169   \n",
       "1                     NaN                  NaN                  NaN   \n",
       "2                     NaN                  NaN                  NaN   \n",
       "3                     NaN                  NaN                  NaN   \n",
       "4                     NaN                  NaN                  NaN   \n",
       "...                   ...                  ...                  ...   \n",
       "10975                 NaN                  NaN                  NaN   \n",
       "10976                 NaN                  NaN                  NaN   \n",
       "10977                 NaN                  NaN                  NaN   \n",
       "10978                 NaN                  NaN                  NaN   \n",
       "10979                 NaN                  NaN                  NaN   \n",
       "\n",
       "       Optional_LONGITUDE3  Optional_LONGITUDE4             Optional_NAME1  \\\n",
       "0                      NaN                  NaN  Egypt Valley Country Club   \n",
       "1                      NaN                  NaN                        NaN   \n",
       "2                      NaN                  NaN                        NaN   \n",
       "3                      NaN                  NaN                        NaN   \n",
       "4                      NaN                  NaN                        NaN   \n",
       "...                    ...                  ...                        ...   \n",
       "10975                  NaN                  NaN                        NaN   \n",
       "10976                  NaN                  NaN                        NaN   \n",
       "10977                  NaN                  NaN                        NaN   \n",
       "10978                  NaN                  NaN                        NaN   \n",
       "10979                  NaN                  NaN                        NaN   \n",
       "\n",
       "         Optional_NAME2 Optional_NAME3 Optional_NAME4  \n",
       "0      Findlay Cemetery            NaN            NaN  \n",
       "1                   NaN            NaN            NaN  \n",
       "2                   NaN            NaN            NaN  \n",
       "3                   NaN            NaN            NaN  \n",
       "4                   NaN            NaN            NaN  \n",
       "...                 ...            ...            ...  \n",
       "10975               NaN            NaN            NaN  \n",
       "10976               NaN            NaN            NaN  \n",
       "10977               NaN            NaN            NaN  \n",
       "10978               NaN            NaN            NaN  \n",
       "10979               NaN            NaN            NaN  \n",
       "\n",
       "[10980 rows x 18 columns]"
      ]
     },
     "execution_count": 4,
     "metadata": {},
     "output_type": "execute_result"
    }
   ],
   "source": [
    "df_ent = pd.read_csv(os.path.join(\"..\", \"Data\", \"merged_spacy_and_geo_v2.csv\")).drop(\"Unnamed: 0\", axis=1)\n",
    "df_ent"
   ]
  },
  {
   "cell_type": "code",
   "execution_count": 5,
   "metadata": {},
   "outputs": [
    {
     "name": "stdout",
     "output_type": "stream",
     "text": [
      "city\n",
      "country\n",
      "description\n",
      "location\n",
      "state\n",
      "state_abbrev\n",
      "longitude\n",
      "latitude\n",
      "city_longitude\n",
      "city_latitude\n",
      "clean_description\n",
      "clean_spelling\n",
      "Audio Evidence\n",
      "Audio Reasoning\n",
      "time_of_day\n",
      "Witness Count\n",
      "Witness Reasoning\n",
      "tokenized\n",
      "pos_tokenized\n",
      "filtered_tokenized\n",
      "lemma_filtered_tokenized\n",
      "lemma_pos_tokenized\n",
      "Event\n",
      "apparition_types\n",
      "apparition_descriptors\n",
      "apparition_gender\n",
      "apparition_age\n",
      "apparition_types_str\n",
      "apparition_descriptors_str\n",
      "apparition_gender_str\n",
      "apparition_age_str\n",
      "unique_apparition_mentions\n",
      "adjectives\n",
      "unique_app_descriptor_mentions\n",
      "FBI.Population.Covered\n",
      "Murder per capita\n",
      "Violent Crime per capita\n",
      "Property Crime per capita\n",
      "Undergrad_Grad_Rate\n",
      "HS_Grad_Rate\n",
      "STEM_Grad_Percentage\n",
      "Visual Evidence\n",
      "Visual Reasoning\n",
      "death_rate_Alzheimer's disease\n",
      "death_rate_Cancer\n",
      "death_rate_Heart disease\n",
      "death_rate_Unintentional injuries\n",
      "death_rate_All causes\n",
      "death_rate_Influenza and pneumonia\n",
      "death_rate_Suicide\n",
      "death_rate_Kidney disease\n",
      "death_rate_CLRD\n",
      "death_rate_Diabetes\n",
      "Haunted Places Date\n",
      "Alcohol Deaths\n",
      "Alcohol Deaths Under 21\n",
      "State\n",
      "Daylight Data USNO Navy\n",
      "Daylight Data TimeandDate\n"
     ]
    }
   ],
   "source": [
    "df = pd.read_csv(os.path.join(\"..\", \"Data\", \"v1.tsv\"), sep='\\t')\n",
    "for col in df.columns:\n",
    "    print(col)"
   ]
  },
  {
   "cell_type": "markdown",
   "metadata": {},
   "source": [
    "### Get Sample"
   ]
  },
  {
   "cell_type": "code",
   "execution_count": 6,
   "metadata": {},
   "outputs": [],
   "source": [
    "def sample(df: pd.DataFrame, i: int, cols: list[str]=None) -> pd.core.series.Series:\n",
    "    if not cols:\n",
    "        return df.iloc[i]\n",
    "    return df[cols].iloc[i]\n",
    "\n",
    "def ent(i: int, inplace=False):\n",
    "    \"\"\"References global var df_ent\"\"\"\n",
    "    if not inplace:\n",
    "        print(df_ent['spacy_entities'].iloc[i])\n",
    "        return\n",
    "    return df_ent['spacy_entities'].iloc[i]\n",
    "\n",
    "def ent_desc(i: int) -> None:\n",
    "    \"\"\"References global var df_ent\"\"\"\n",
    "    print(df_ent['spacy_entities'].iloc[i])\n",
    "    print(df_ent['description'].iloc[i])\n",
    "\n",
    "def ent_desc_wit(i: int) -> None:\n",
    "    \"\"\"References global var df_ent\"\"\"\n",
    "    print(df_ent['spacy_entities'].iloc[i])\n",
    "    print(df['Witness Count'].iloc[i])\n",
    "    print(\"\")\n",
    "    print(df_ent['description'].iloc[i])"
   ]
  },
  {
   "cell_type": "code",
   "execution_count": 7,
   "metadata": {},
   "outputs": [
    {
     "data": {
      "text/plain": [
       "description             Ada witch - Sometimes you can see a misty blue...\n",
       "spacy_entities          Ada witch -, PERSON\\n3-mile, QUANTITY\\nthe Ada...\n",
       "GeoName_Count                                                           2\n",
       "Geographic_LATITUDE                                                   NaN\n",
       "Geographic_LONGITUDE                                                  NaN\n",
       "Geographic_NAME                                                       NaN\n",
       "Optional_LATITUDE1                                                43.0125\n",
       "Optional_LATITUDE2                                               43.00142\n",
       "Optional_LATITUDE3                                                    NaN\n",
       "Optional_LATITUDE4                                                    NaN\n",
       "Optional_LONGITUDE1                                             -85.50056\n",
       "Optional_LONGITUDE2                                             -85.49169\n",
       "Optional_LONGITUDE3                                                   NaN\n",
       "Optional_LONGITUDE4                                                   NaN\n",
       "Optional_NAME1                                  Egypt Valley Country Club\n",
       "Optional_NAME2                                           Findlay Cemetery\n",
       "Optional_NAME3                                                        NaN\n",
       "Optional_NAME4                                                        NaN\n",
       "Name: 0, dtype: object"
      ]
     },
     "execution_count": 7,
     "metadata": {},
     "output_type": "execute_result"
    }
   ],
   "source": [
    "sample(df_ent, 0)"
   ]
  },
  {
   "cell_type": "code",
   "execution_count": 8,
   "metadata": {},
   "outputs": [
    {
     "name": "stdout",
     "output_type": "stream",
     "text": [
      "Ada witch -, PERSON\n",
      "3-mile, QUANTITY\n",
      "the Ada Cemetery, FAC\n",
      "2 Mile, QUANTITY\n",
      "Egypt Valley, LOC\n",
      "Honey Creek, GPE\n",
      "late one night, TIME\n",
      "late at night, TIME\n",
      "the night, TIME\n",
      "the 20th century, DATE\n",
      "Honeycreek Road, FAC\n",
      "Seidman Park, GPE\n",
      "Findlay Cemetery, FAC\n",
      "\"Ghosts of Grand Rapids, WORK_OF_ART\n",
      "\n",
      "\n"
     ]
    }
   ],
   "source": [
    "ent(0)"
   ]
  },
  {
   "cell_type": "code",
   "execution_count": 9,
   "metadata": {},
   "outputs": [
    {
     "data": {
      "text/plain": [
       "Witness Count    3+\n",
       "Name: 0, dtype: object"
      ]
     },
     "execution_count": 9,
     "metadata": {},
     "output_type": "execute_result"
    }
   ],
   "source": [
    "sample(df, 0, ['Witness Count'])"
   ]
  },
  {
   "attachments": {
    "c55f0e7c-7f4e-4081-94cc-5c678af8fca2.png": {
     "image/png": "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"
    }
   },
   "cell_type": "markdown",
   "metadata": {},
   "source": [
    "## Analysis\n",
    "![image.png](attachment:c55f0e7c-7f4e-4081-94cc-5c678af8fca2.png)"
   ]
  },
  {
   "cell_type": "markdown",
   "metadata": {},
   "source": [
    "```\n",
    "PERSON:      People, including fictional.\n",
    "NORP:        Nationalities or religious or political groups.\n",
    "FAC:         Buildings, airports, highways, bridges, etc.\n",
    "ORG:         Companies, agencies, institutions, etc.\n",
    "GPE:         Countries, cities, states.\n",
    "LOC:         Non-GPE locations, mountain ranges, bodies of water.\n",
    "PRODUCT:     Objects, vehicles, foods, etc. (Not services.)\n",
    "EVENT:       Named hurricanes, battles, wars, sports events, etc.\n",
    "WORK_OF_ART: Titles of books, songs, etc.\n",
    "LAW:         Named documents made into laws.\n",
    "LANGUAGE:    Any named language.\n",
    "DATE:        Absolute or relative dates or periods.\n",
    "TIME:        Times smaller than a day.\n",
    "PERCENT:     Percentage, including ”%“.\n",
    "MONEY:       Monetary values, including unit.\n",
    "QUANTITY:    Measurements, as of weight or distance.\n",
    "ORDINAL:     “first”, “second”, etc.\n",
    "CARDINAL:    Numerals that do not fall under another type.\n",
    "```"
   ]
  },
  {
   "cell_type": "code",
   "execution_count": 10,
   "metadata": {},
   "outputs": [
    {
     "data": {
      "text/plain": [
       "('CARDINAL',\n",
       " 'DATE',\n",
       " 'EVENT',\n",
       " 'FAC',\n",
       " 'GPE',\n",
       " 'LANGUAGE',\n",
       " 'LAW',\n",
       " 'LOC',\n",
       " 'MONEY',\n",
       " 'NORP',\n",
       " 'ORDINAL',\n",
       " 'ORG',\n",
       " 'PERCENT',\n",
       " 'PERSON',\n",
       " 'PRODUCT',\n",
       " 'QUANTITY',\n",
       " 'TIME',\n",
       " 'WORK_OF_ART')"
      ]
     },
     "execution_count": 10,
     "metadata": {},
     "output_type": "execute_result"
    }
   ],
   "source": [
    "import spacy\n",
    "nlp = spacy.load(\"en_core_web_sm\")\n",
    "nlp.get_pipe(\"ner\").labels"
   ]
  },
  {
   "cell_type": "code",
   "execution_count": 11,
   "metadata": {},
   "outputs": [
    {
     "name": "stdout",
     "output_type": "stream",
     "text": [
      "Al Capone, PERSON\n",
      "the next day, DATE\n",
      "March, DATE\n",
      "\n",
      "\n",
      "2+\n",
      "\n",
      "there have been notes of white dogs chasing cars that pull into the drive way. People have seen people hanging form trees and working in fields in old clothing. This motel is where Al Capone did some of his work and had meetings in a secret place in the tunnels. The motel was once painted blue but the next day it was back to yellow. - March 2007 update: was torn down and a tennis court was built over it.\n"
     ]
    }
   ],
   "source": [
    "ent_desc_wit(10)"
   ]
  },
  {
   "cell_type": "markdown",
   "metadata": {},
   "source": [
    "#### PERSON ent - Witness Count: Correlation Analysis"
   ]
  },
  {
   "cell_type": "code",
   "execution_count": 12,
   "metadata": {},
   "outputs": [],
   "source": [
    "import re\n",
    "from matplotlib import pyplot as plt\n",
    "plt.style.use('dark_background')"
   ]
  },
  {
   "cell_type": "code",
   "execution_count": 13,
   "metadata": {},
   "outputs": [],
   "source": [
    "def corr_plot(x: pd.core.series.Series, y: pd.core.series.Series) -> None:\n",
    "    plt.scatter(x, y, color='C1')\n",
    "    m, b = np.polyfit(x, y, 1)\n",
    "    plt.plot(x, m*x+b, 'C3--', label=f\"line of best fit (corr: {np.corrcoef(x, y)[0,1]:.2f})\")\n",
    "    plt.title(f\"'{y.name}' vs. '{x.name}'\")\n",
    "    plt.xlabel(x.name)\n",
    "    plt.ylabel(y.name)\n",
    "    plt.legend()\n",
    "    plt.show()"
   ]
  },
  {
   "cell_type": "code",
   "execution_count": 14,
   "metadata": {},
   "outputs": [
    {
     "data": {
      "text/plain": [
       "0        1\n",
       "1        0\n",
       "2        1\n",
       "3        0\n",
       "4        0\n",
       "        ..\n",
       "10975    1\n",
       "10976    0\n",
       "10977    0\n",
       "10978    0\n",
       "10979    0\n",
       "Name: ent_person_count, Length: 10980, dtype: int64"
      ]
     },
     "execution_count": 14,
     "metadata": {},
     "output_type": "execute_result"
    }
   ],
   "source": [
    "# get ent_person_count column\n",
    "ent_person_count = []\n",
    "for i in range(df_ent.shape[0]):\n",
    "    current_ent = ent(i, inplace=True)\n",
    "    cnt = len(re.findall(r'PERSON', current_ent)) # regex matching: PERSON\n",
    "    ent_person_count.append(cnt)\n",
    "df_ent['ent_person_count'] = ent_person_count\n",
    "df_ent['ent_person_count']"
   ]
  },
  {
   "cell_type": "code",
   "execution_count": 15,
   "metadata": {},
   "outputs": [
    {
     "data": {
      "text/plain": [
       "0        3\n",
       "1        3\n",
       "2        2\n",
       "3        3\n",
       "4        2\n",
       "        ..\n",
       "10975    2\n",
       "10976    1\n",
       "10977    5\n",
       "10978    3\n",
       "10979    2\n",
       "Name: witness_count_int, Length: 10980, dtype: int64"
      ]
     },
     "execution_count": 15,
     "metadata": {},
     "output_type": "execute_result"
    }
   ],
   "source": [
    "# get witness_count_int column\n",
    "witness_count_int = []\n",
    "for i in range(df.shape[0]):\n",
    "    current_count = df['Witness Count'].iloc[i]\n",
    "    if current_count.endswith('+'):\n",
    "        current_count = current_count[:-1]\n",
    "    if current_count == \"Many\":\n",
    "        current_count == 100\n",
    "    elif current_count == \"Most\":\n",
    "        current_count == 500\n",
    "    try:\n",
    "        witness_count_int.append(int(current_count))\n",
    "    except ValueError:\n",
    "        witness_count_int.append(0)\n",
    "df_ent['witness_count_int'] = witness_count_int\n",
    "df_ent['witness_count_int']"
   ]
  },
  {
   "cell_type": "code",
   "execution_count": 16,
   "metadata": {},
   "outputs": [
    {
     "data": {
      "image/png": "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",
      "text/plain": [
       "<Figure size 640x480 with 1 Axes>"
      ]
     },
     "metadata": {},
     "output_type": "display_data"
    }
   ],
   "source": [
    "x, y = df_ent['ent_person_count'], df_ent['witness_count_int']\n",
    "corr_plot(x, y)"
   ]
  },
  {
   "cell_type": "markdown",
   "metadata": {},
   "source": [
    "No correlation observed between witness count and number of person entities."
   ]
  },
  {
   "cell_type": "markdown",
   "metadata": {
    "jp-MarkdownHeadingCollapsed": true
   },
   "source": [
    "#### NER - Geoname: Correlation Analysis"
   ]
  },
  {
   "cell_type": "code",
   "execution_count": 17,
   "metadata": {},
   "outputs": [],
   "source": [
    "def ent_geo(i: int) -> None:\n",
    "    loc_gpe = ent(i, inplace=True)\n",
    "    for line in loc_gpe.split('\\n'):\n",
    "        if line.endswith('LOC') or line.endswith('GPE') or line.endswith('FAC'):\n",
    "            print(line)\n",
    "    print(\"\")\n",
    "    print(sample(df_ent, i, ['Geographic_NAME'] + [f\"Optional_NAME{i}\" for i in range(1, 5)]))"
   ]
  },
  {
   "cell_type": "code",
   "execution_count": 18,
   "metadata": {},
   "outputs": [
    {
     "name": "stdout",
     "output_type": "stream",
     "text": [
      "the Ada Cemetery, FAC\n",
      "Egypt Valley, LOC\n",
      "Honey Creek, GPE\n",
      "Honeycreek Road, FAC\n",
      "Seidman Park, GPE\n",
      "Findlay Cemetery, FAC\n",
      "\n",
      "Geographic_NAME                          NaN\n",
      "Optional_NAME1     Egypt Valley Country Club\n",
      "Optional_NAME2              Findlay Cemetery\n",
      "Optional_NAME3                           NaN\n",
      "Optional_NAME4                           NaN\n",
      "Name: 0, dtype: object\n"
     ]
    }
   ],
   "source": [
    "ent_geo(0)"
   ]
  },
  {
   "cell_type": "code",
   "execution_count": 19,
   "metadata": {},
   "outputs": [
    {
     "name": "stdout",
     "output_type": "stream",
     "text": [
      "\n",
      "Geographic_NAME    NaN\n",
      "Optional_NAME1     NaN\n",
      "Optional_NAME2     NaN\n",
      "Optional_NAME3     NaN\n",
      "Optional_NAME4     NaN\n",
      "Name: 50, dtype: object\n"
     ]
    }
   ],
   "source": [
    "ent_geo(50)"
   ]
  },
  {
   "cell_type": "code",
   "execution_count": 20,
   "metadata": {},
   "outputs": [
    {
     "name": "stdout",
     "output_type": "stream",
     "text": [
      "the San Gabriel Mission, LOC\n",
      "\n",
      "Geographic_NAME    NaN\n",
      "Optional_NAME1     NaN\n",
      "Optional_NAME2     NaN\n",
      "Optional_NAME3     NaN\n",
      "Optional_NAME4     NaN\n",
      "Name: 2030, dtype: object\n"
     ]
    }
   ],
   "source": [
    "ent_geo(2030)"
   ]
  },
  {
   "cell_type": "code",
   "execution_count": 21,
   "metadata": {},
   "outputs": [
    {
     "name": "stdout",
     "output_type": "stream",
     "text": [
      "Sheridan Road, FAC\n",
      "Broadway Road, FAC\n",
      "Veteran's Parkway, FAC\n",
      "Sheridan Road, FAC\n",
      "\n",
      "Geographic_NAME                      California\n",
      "Optional_NAME1     Sheridan Road Baptist Church\n",
      "Optional_NAME2                              NaN\n",
      "Optional_NAME3                              NaN\n",
      "Optional_NAME4                              NaN\n",
      "Name: 7163, dtype: object\n"
     ]
    }
   ],
   "source": [
    "ent_geo(7163)"
   ]
  },
  {
   "cell_type": "code",
   "execution_count": 22,
   "metadata": {},
   "outputs": [
    {
     "name": "stdout",
     "output_type": "stream",
     "text": [
      "three, CARDINAL\n",
      "California Roads, ORG\n",
      "Pekin, PERSON\n",
      "Sheridan Road, FAC\n",
      "Broadway Road, FAC\n",
      "Veteran's Parkway, FAC\n",
      "night, TIME\n",
      "Sheridan Road, FAC\n",
      "\n",
      "\n",
      "There are three California Roads in Pekin. The one which connects Sheridan Road with Broadway Road is haunted. (This is the one you can get to by traveling on Veteran's Parkway and continuing at the light) At night, one can see bright lights in the trees ahead as if someone is shining a police spotlight on them and there will be no police in the area. Also, on Sheridan Road, there is a \"wall\" of mist that never disappears.\n"
     ]
    }
   ],
   "source": [
    "ent_desc(7163)"
   ]
  },
  {
   "cell_type": "code",
   "execution_count": 23,
   "metadata": {},
   "outputs": [
    {
     "name": "stdout",
     "output_type": "stream",
     "text": [
      "Hudson, LOC\n",
      "\n",
      "Geographic_NAME    Hudson County\n",
      "Optional_NAME1               NaN\n",
      "Optional_NAME2               NaN\n",
      "Optional_NAME3               NaN\n",
      "Optional_NAME4               NaN\n",
      "Name: 9918, dtype: object\n"
     ]
    }
   ],
   "source": [
    "ent_geo(9918)"
   ]
  },
  {
   "cell_type": "markdown",
   "metadata": {},
   "source": [
    "Through random sampling, there is some correlation observed between Spacy entities with labels LOC, GPE, and FAC with the geonames of the geoparser.<br>\n",
    "Some common misalignments observed include similar (but not exact) names (e.g., for $i=7163$, Spacy detects 'Sheridan Road' while the geoparser maps to ontology returning name 'Sheridan Road Baptist Church'), as well as full disjointedness in detected names from respective ontologies (e.g., for $i=2030$, Spacy detects 'the San Gabriel Mission' while the geoparser detects nothing)."
   ]
  },
  {
   "cell_type": "markdown",
   "metadata": {},
   "source": [
    "#### Other Spacy labels"
   ]
  },
  {
   "cell_type": "code",
   "execution_count": 24,
   "metadata": {},
   "outputs": [
    {
     "name": "stdout",
     "output_type": "stream",
     "text": [
      "Ada witch -, PERSON\n",
      "3-mile, QUANTITY\n",
      "the Ada Cemetery, FAC\n",
      "2 Mile, QUANTITY\n",
      "Egypt Valley, LOC\n",
      "Honey Creek, GPE\n",
      "late one night, TIME\n",
      "late at night, TIME\n",
      "the night, TIME\n",
      "the 20th century, DATE\n",
      "Honeycreek Road, FAC\n",
      "Seidman Park, GPE\n",
      "Findlay Cemetery, FAC\n",
      "\"Ghosts of Grand Rapids, WORK_OF_ART\n",
      "\n",
      "\n",
      "Ada witch - Sometimes you can see a misty blue figure floating within a 3-mile radius of the Ada Cemetery on 2 Mile between Egypt Valley and Honey Creek. The story of her origin is as follows: A man suspected his wife of having an affair, so he followed her late one night when she thought he was asleep. Sure enough, she went to a field near their property where she met her lover. The husband was enraged and killed his wife, which resulted in a struggle with the other man. Both men died from their injuries. It is said that late at night (especially during the night of and the nights preceding a full moon) people driving by the field can see her ghost, searching for her lover. Some people have reported stopping to try to communicate with her, but she always disappears or runs into the woods where she cannot be followed (due to the thick brambles that inhabit the area). She is said to dress in a long white gown which authorities say dates her to the turn of the 20th century. Usually she is seen alone, but sometimes witnesses report seeing a ghostly death scene re-enacted... Others report seeing nothing at all but hearing the killer's shouts of rage followed by the victims' screams of agony... Although it is said she haunts the field on Honeycreek Road where she died, other witnesses have reported her in nearby Seidman Park, and in nearby Findlay Cemetery, where she is supposedly buried. This story was actually featured in the book \"Ghosts of Grand Rapids.\"\n"
     ]
    }
   ],
   "source": [
    "ent_desc(0)"
   ]
  },
  {
   "cell_type": "code",
   "execution_count": 25,
   "metadata": {},
   "outputs": [
    {
     "name": "stdout",
     "output_type": "stream",
     "text": [
      "Al Capone, PERSON\n",
      "the next day, DATE\n",
      "March, DATE\n",
      "\n",
      "\n",
      "2+\n",
      "\n",
      "there have been notes of white dogs chasing cars that pull into the drive way. People have seen people hanging form trees and working in fields in old clothing. This motel is where Al Capone did some of his work and had meetings in a secret place in the tunnels. The motel was once painted blue but the next day it was back to yellow. - March 2007 update: was torn down and a tennis court was built over it.\n"
     ]
    }
   ],
   "source": [
    "ent_desc_wit(10)"
   ]
  },
  {
   "cell_type": "markdown",
   "metadata": {},
   "source": [
    "#### PERSON ent - Witness Count: Correlation Analysis"
   ]
  },
  {
   "cell_type": "code",
   "execution_count": 10,
   "metadata": {},
   "outputs": [],
   "source": [
    "import re\n",
    "from matplotlib import pyplot as plt\n",
    "plt.style.use('dark_background')"
   ]
  },
  {
   "cell_type": "code",
   "execution_count": 11,
   "metadata": {},
   "outputs": [],
   "source": [
    "def corr_plot(x: pd.core.series.Series, y: pd.core.series.Series) -> None:\n",
    "    plt.scatter(x, y, color='C1')\n",
    "    m, b = np.polyfit(x, y, 1)\n",
    "    plt.plot(x, m*x+b, 'C3--', label=f\"line of best fit (corr: {np.corrcoef(x, y)[0,1]:.2f})\")\n",
    "    plt.title(f\"'{y.name}' vs. '{x.name}'\")\n",
    "    plt.xlabel(x.name)\n",
    "    plt.ylabel(y.name)\n",
    "    plt.legend()\n",
    "    plt.show()"
   ]
  },
  {
   "cell_type": "code",
   "execution_count": 12,
   "metadata": {},
   "outputs": [
    {
     "data": {
      "text/plain": [
       "0        1\n",
       "1        0\n",
       "2        1\n",
       "3        0\n",
       "4        0\n",
       "        ..\n",
       "10975    1\n",
       "10976    0\n",
       "10977    0\n",
       "10978    0\n",
       "10979    0\n",
       "Name: ent_person_count, Length: 10980, dtype: int64"
      ]
     },
     "execution_count": 12,
     "metadata": {},
     "output_type": "execute_result"
    }
   ],
   "source": [
    "# get ent_person_count column\n",
    "ent_person_count = []\n",
    "for i in range(df_ent.shape[0]):\n",
    "    current_ent = ent(i, inplace=True)\n",
    "    cnt = len(re.findall(r'PERSON', current_ent)) # regex matching: PERSON\n",
    "    ent_person_count.append(cnt)\n",
    "df_ent['ent_person_count'] = ent_person_count\n",
    "df_ent['ent_person_count']"
   ]
  },
  {
   "cell_type": "code",
   "execution_count": 13,
   "metadata": {},
   "outputs": [
    {
     "data": {
      "text/plain": [
       "0        3\n",
       "1        3\n",
       "2        2\n",
       "3        3\n",
       "4        2\n",
       "        ..\n",
       "10975    2\n",
       "10976    1\n",
       "10977    5\n",
       "10978    3\n",
       "10979    2\n",
       "Name: witness_count_int, Length: 10980, dtype: int64"
      ]
     },
     "execution_count": 13,
     "metadata": {},
     "output_type": "execute_result"
    }
   ],
   "source": [
    "# get witness_count_int column\n",
    "witness_count_int = []\n",
    "for i in range(df.shape[0]):\n",
    "    current_count = df['Witness Count'].iloc[i]\n",
    "    if current_count.endswith('+'):\n",
    "        current_count = current_count[:-1]\n",
    "    if current_count == \"Many\":\n",
    "        current_count == 100\n",
    "    elif current_count == \"Most\":\n",
    "        current_count == 500\n",
    "    try:\n",
    "        witness_count_int.append(int(current_count))\n",
    "    except ValueError:\n",
    "        witness_count_int.append(0)\n",
    "df_ent['witness_count_int'] = witness_count_int\n",
    "df_ent['witness_count_int']"
   ]
  },
  {
   "cell_type": "code",
   "execution_count": 14,
   "metadata": {},
   "outputs": [
    {
     "data": {
      "image/png": "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",
      "text/plain": [
       "<Figure size 640x480 with 1 Axes>"
      ]
     },
     "metadata": {},
     "output_type": "display_data"
    }
   ],
   "source": [
    "x, y = df_ent['ent_person_count'], df_ent['witness_count_int']\n",
    "corr_plot(x, y)"
   ]
  },
  {
   "cell_type": "markdown",
   "metadata": {},
   "source": [
    "No correlation observed between witness count and number of person entities."
   ]
  },
  {
   "cell_type": "markdown",
   "metadata": {
    "jp-MarkdownHeadingCollapsed": true
   },
   "source": [
    "#### NER - Geoname: Correlation Analysis"
   ]
  },
  {
   "cell_type": "code",
   "execution_count": 15,
   "metadata": {},
   "outputs": [],
   "source": [
    "def ent_geo(i: int) -> None:\n",
    "    loc_gpe = ent(i, inplace=True)\n",
    "    for line in loc_gpe.split('\\n'):\n",
    "        if line.endswith('LOC') or line.endswith('GPE') or line.endswith('FAC'):\n",
    "            print(line)\n",
    "    print(\"\")\n",
    "    print(sample(df_ent, i, ['Geographic_NAME'] + [f\"Optional_NAME{i}\" for i in range(1, 5)]))"
   ]
  },
  {
   "cell_type": "code",
   "execution_count": 16,
   "metadata": {},
   "outputs": [
    {
     "name": "stdout",
     "output_type": "stream",
     "text": [
      "the Ada Cemetery, FAC\n",
      "Egypt Valley, LOC\n",
      "Honey Creek, GPE\n",
      "Honeycreek Road, FAC\n",
      "Seidman Park, GPE\n",
      "Findlay Cemetery, FAC\n",
      "\n",
      "Geographic_NAME                          NaN\n",
      "Optional_NAME1     Egypt Valley Country Club\n",
      "Optional_NAME2              Findlay Cemetery\n",
      "Optional_NAME3                           NaN\n",
      "Optional_NAME4                           NaN\n",
      "Name: 0, dtype: object\n"
     ]
    }
   ],
   "source": [
    "ent_geo(0)"
   ]
  },
  {
   "cell_type": "code",
   "execution_count": 17,
   "metadata": {},
   "outputs": [
    {
     "name": "stdout",
     "output_type": "stream",
     "text": [
      "\n",
      "Geographic_NAME    NaN\n",
      "Optional_NAME1     NaN\n",
      "Optional_NAME2     NaN\n",
      "Optional_NAME3     NaN\n",
      "Optional_NAME4     NaN\n",
      "Name: 50, dtype: object\n"
     ]
    }
   ],
   "source": [
    "ent_geo(50)"
   ]
  },
  {
   "cell_type": "code",
   "execution_count": 18,
   "metadata": {},
   "outputs": [
    {
     "name": "stdout",
     "output_type": "stream",
     "text": [
      "the San Gabriel Mission, LOC\n",
      "\n",
      "Geographic_NAME    NaN\n",
      "Optional_NAME1     NaN\n",
      "Optional_NAME2     NaN\n",
      "Optional_NAME3     NaN\n",
      "Optional_NAME4     NaN\n",
      "Name: 2030, dtype: object\n"
     ]
    }
   ],
   "source": [
    "ent_geo(2030)"
   ]
  },
  {
   "cell_type": "code",
   "execution_count": 19,
   "metadata": {},
   "outputs": [
    {
     "name": "stdout",
     "output_type": "stream",
     "text": [
      "Sheridan Road, FAC\n",
      "Broadway Road, FAC\n",
      "Veteran's Parkway, FAC\n",
      "Sheridan Road, FAC\n",
      "\n",
      "Geographic_NAME                      California\n",
      "Optional_NAME1     Sheridan Road Baptist Church\n",
      "Optional_NAME2                              NaN\n",
      "Optional_NAME3                              NaN\n",
      "Optional_NAME4                              NaN\n",
      "Name: 7163, dtype: object\n"
     ]
    }
   ],
   "source": [
    "ent_geo(7163)"
   ]
  },
  {
   "cell_type": "code",
   "execution_count": 20,
   "metadata": {},
   "outputs": [
    {
     "name": "stdout",
     "output_type": "stream",
     "text": [
      "three, CARDINAL\n",
      "California Roads, ORG\n",
      "Pekin, PERSON\n",
      "Sheridan Road, FAC\n",
      "Broadway Road, FAC\n",
      "Veteran's Parkway, FAC\n",
      "night, TIME\n",
      "Sheridan Road, FAC\n",
      "\n",
      "\n",
      "There are three California Roads in Pekin. The one which connects Sheridan Road with Broadway Road is haunted. (This is the one you can get to by traveling on Veteran's Parkway and continuing at the light) At night, one can see bright lights in the trees ahead as if someone is shining a police spotlight on them and there will be no police in the area. Also, on Sheridan Road, there is a \"wall\" of mist that never disappears.\n"
     ]
    }
   ],
   "source": [
    "ent_desc(7163)"
   ]
  },
  {
   "cell_type": "code",
   "execution_count": 21,
   "metadata": {},
   "outputs": [
    {
     "name": "stdout",
     "output_type": "stream",
     "text": [
      "Hudson, LOC\n",
      "\n",
      "Geographic_NAME    Hudson County\n",
      "Optional_NAME1               NaN\n",
      "Optional_NAME2               NaN\n",
      "Optional_NAME3               NaN\n",
      "Optional_NAME4               NaN\n",
      "Name: 9918, dtype: object\n"
     ]
    }
   ],
   "source": [
    "ent_geo(9918)"
   ]
  },
  {
   "cell_type": "markdown",
   "metadata": {},
   "source": [
    "Through random sampling, there is some correlation observed between Spacy entities with labels LOC, GPE, and FAC with the geonames of the geoparser.<br>\n",
    "Some common misalignments observed include similar (but not exact) names (e.g., for $i=7163$, Spacy detects 'Sheridan Road' while the geoparser maps to ontology returning name 'Sheridan Road Baptist Church'), as well as full disjointedness in detected names from respective ontologies (e.g., for $i=2030$, Spacy detects 'the San Gabriel Mission' while the geoparser detects nothing)."
   ]
  },
  {
   "cell_type": "markdown",
   "metadata": {},
   "source": [
    "#### Other Spacy labels"
   ]
  },
  {
   "cell_type": "code",
   "execution_count": 22,
   "metadata": {},
   "outputs": [
    {
     "name": "stdout",
     "output_type": "stream",
     "text": [
      "Ada witch -, PERSON\n",
      "3-mile, QUANTITY\n",
      "the Ada Cemetery, FAC\n",
      "2 Mile, QUANTITY\n",
      "Egypt Valley, LOC\n",
      "Honey Creek, GPE\n",
      "late one night, TIME\n",
      "late at night, TIME\n",
      "the night, TIME\n",
      "the 20th century, DATE\n",
      "Honeycreek Road, FAC\n",
      "Seidman Park, GPE\n",
      "Findlay Cemetery, FAC\n",
      "\"Ghosts of Grand Rapids, WORK_OF_ART\n",
      "\n",
      "\n",
      "Ada witch - Sometimes you can see a misty blue figure floating within a 3-mile radius of the Ada Cemetery on 2 Mile between Egypt Valley and Honey Creek. The story of her origin is as follows: A man suspected his wife of having an affair, so he followed her late one night when she thought he was asleep. Sure enough, she went to a field near their property where she met her lover. The husband was enraged and killed his wife, which resulted in a struggle with the other man. Both men died from their injuries. It is said that late at night (especially during the night of and the nights preceding a full moon) people driving by the field can see her ghost, searching for her lover. Some people have reported stopping to try to communicate with her, but she always disappears or runs into the woods where she cannot be followed (due to the thick brambles that inhabit the area). She is said to dress in a long white gown which authorities say dates her to the turn of the 20th century. Usually she is seen alone, but sometimes witnesses report seeing a ghostly death scene re-enacted... Others report seeing nothing at all but hearing the killer's shouts of rage followed by the victims' screams of agony... Although it is said she haunts the field on Honeycreek Road where she died, other witnesses have reported her in nearby Seidman Park, and in nearby Findlay Cemetery, where she is supposedly buried. This story was actually featured in the book \"Ghosts of Grand Rapids.\"\n"
     ]
    }
   ],
   "source": [
    "ent_desc(0)"
   ]
  },
  {
   "cell_type": "code",
   "execution_count": 23,
   "metadata": {},
   "outputs": [
    {
     "name": "stdout",
     "output_type": "stream",
     "text": [
      "Al Capone, PERSON\n",
      "the next day, DATE\n",
      "March, DATE\n",
      "\n",
      "\n",
      "there have been notes of white dogs chasing cars that pull into the drive way. People have seen people hanging form trees and working in fields in old clothing. This motel is where Al Capone did some of his work and had meetings in a secret place in the tunnels. The motel was once painted blue but the next day it was back to yellow. - March 2007 update: was torn down and a tennis court was built over it.\n"
     ]
    }
   ],
   "source": [
    "ent_desc(10)"
   ]
  },
  {
   "cell_type": "code",
   "execution_count": 26,
   "metadata": {},
   "outputs": [
    {
     "name": "stdout",
     "output_type": "stream",
     "text": [
      "the late 70's, DATE\n",
      "2, CARDINAL\n",
      "\n",
      "\n",
      "In the late 70's a father and his 2 sons where playing baseball on the far left diamond when there mother came up drunk and depressed with the fathers shotgun and killed them all including herself. Witnesses report seeing a blue orb.\n"
     ]
    }
   ],
   "source": [
    "ent_desc(500)"
   ]
  },
  {
   "cell_type": "code",
   "execution_count": 27,
   "metadata": {},
   "outputs": [
    {
     "name": "stdout",
     "output_type": "stream",
     "text": [
      "\n",
      "\n",
      "The screams of a small boy can be heard coming from the mall's main restrooms.\n"
     ]
    }
   ],
   "source": [
    "ent_desc(5000)"
   ]
  },
  {
   "cell_type": "code",
<<<<<<< Updated upstream
   "execution_count": 36,
=======
   "execution_count": 28,
>>>>>>> Stashed changes
   "metadata": {},
   "outputs": [
    {
     "name": "stdout",
     "output_type": "stream",
     "text": [
      "Ste, GPE\n",
      "1st, ORDINAL\n",
      "Mississippi, LOC\n",
      "Valle, GPE\n",
      "Valle School, ORG\n",
      "the Catholic Church, ORG\n",
      "1st, ORDINAL\n",
      "late at night, TIME\n",
      "\n",
      "\n",
      "a lot of the places in the downtown area are claimed to be haunted by people who lived in all of the old houses. (Ste. Gen was the 1st settlement west of the Mississippi, so it is really old) the Valle house across from Valle School and the Catholic Church is claimed to be haunted by the 1st owners of the house and their dogs. There have been reported cold spots and sometimes in storms or late at night you can hear the dogs running up and down the halls of the house.\n"
     ]
    }
   ],
   "source": [
    "ent_desc(9990)"
   ]
  },
  {
   "cell_type": "markdown",
   "metadata": {},
   "source": [
    "Besides Spacy labels ORDINAL and CARDINAL, all other returned entities seem to add valuable context about the described haunted place. For example, additional temporal evidence is elucidated with labels DATE and TIME - like with geo-names, there is inherent misalignment between temporal features from HW1 due to varying source ontologies/methodologies. The label MONEY can indicate commerical activity involved in the reports of the haunted place. The label EVENT can give further context from HW1's generated \"Event\" feature to the history of the haunted place - likely with greater granularity given that multiple event entities can be returned as opposed to the single-label classification methodology from HW1. "
   ]
  },
  {
   "cell_type": "markdown",
   "metadata": {
    "jp-MarkdownHeadingCollapsed": true
   },
   "source": [
    "## Location based Named Entities Analysis"
   ]
  },
  {
   "cell_type": "code",
   "execution_count": 41,
   "metadata": {},
   "outputs": [
    {
     "data": {
      "text/html": [
       "<div>\n",
       "<style scoped>\n",
       "    .dataframe tbody tr th:only-of-type {\n",
       "        vertical-align: middle;\n",
       "    }\n",
       "\n",
       "    .dataframe tbody tr th {\n",
       "        vertical-align: top;\n",
       "    }\n",
       "\n",
       "    .dataframe thead th {\n",
       "        text-align: right;\n",
       "    }\n",
       "</style>\n",
       "<table border=\"1\" class=\"dataframe\">\n",
       "  <thead>\n",
       "    <tr style=\"text-align: right;\">\n",
       "      <th></th>\n",
       "      <th>description</th>\n",
       "      <th>spacy_entities</th>\n",
       "      <th>GeoName_Count</th>\n",
       "      <th>Geographic_LATITUDE</th>\n",
       "      <th>Geographic_LONGITUDE</th>\n",
       "      <th>Geographic_NAME</th>\n",
       "      <th>Optional_LATITUDE1</th>\n",
       "      <th>Optional_LATITUDE2</th>\n",
       "      <th>Optional_LATITUDE3</th>\n",
       "      <th>Optional_LATITUDE4</th>\n",
       "      <th>...</th>\n",
       "      <th>Optional_LONGITUDE2</th>\n",
       "      <th>Optional_LONGITUDE3</th>\n",
       "      <th>Optional_LONGITUDE4</th>\n",
       "      <th>Optional_NAME1</th>\n",
       "      <th>Optional_NAME2</th>\n",
       "      <th>Optional_NAME3</th>\n",
       "      <th>Optional_NAME4</th>\n",
       "      <th>ent_person_count</th>\n",
       "      <th>witness_count_int</th>\n",
       "      <th>entity_label_counts</th>\n",
       "    </tr>\n",
       "  </thead>\n",
       "  <tbody>\n",
       "    <tr>\n",
       "      <th>0</th>\n",
       "      <td>Ada witch - Sometimes you can see a misty blue...</td>\n",
       "      <td>Ada witch -, PERSON\\n3-mile, QUANTITY\\nthe Ada...</td>\n",
       "      <td>2</td>\n",
       "      <td>NaN</td>\n",
       "      <td>NaN</td>\n",
       "      <td>NaN</td>\n",
       "      <td>43.0125</td>\n",
       "      <td>43.00142</td>\n",
       "      <td>NaN</td>\n",
       "      <td>NaN</td>\n",
       "      <td>...</td>\n",
       "      <td>-85.49169</td>\n",
       "      <td>NaN</td>\n",
       "      <td>NaN</td>\n",
       "      <td>Egypt Valley Country Club</td>\n",
       "      <td>Findlay Cemetery</td>\n",
       "      <td>NaN</td>\n",
       "      <td>NaN</td>\n",
       "      <td>1</td>\n",
       "      <td>3</td>\n",
       "      <td>{'PERSON': 1, 'QUANTITY': 2, 'FAC': 3, 'LOC': ...</td>\n",
       "    </tr>\n",
       "    <tr>\n",
       "      <th>1</th>\n",
       "      <td>A little girl was killed suddenly while waitin...</td>\n",
       "      <td>month later, DATE\\nthis day, DATE\\n\\n</td>\n",
       "      <td>0</td>\n",
       "      <td>NaN</td>\n",
       "      <td>NaN</td>\n",
       "      <td>NaN</td>\n",
       "      <td>NaN</td>\n",
       "      <td>NaN</td>\n",
       "      <td>NaN</td>\n",
       "      <td>NaN</td>\n",
       "      <td>...</td>\n",
       "      <td>NaN</td>\n",
       "      <td>NaN</td>\n",
       "      <td>NaN</td>\n",
       "      <td>NaN</td>\n",
       "      <td>NaN</td>\n",
       "      <td>NaN</td>\n",
       "      <td>NaN</td>\n",
       "      <td>0</td>\n",
       "      <td>3</td>\n",
       "      <td>{'DATE': 2}</td>\n",
       "    </tr>\n",
       "    <tr>\n",
       "      <th>2</th>\n",
       "      <td>If you take Gorman Rd. west towards Sand Creek...</td>\n",
       "      <td>Gorman Rd, PERSON\\nSand Creek, FAC\\nA mile, QU...</td>\n",
       "      <td>0</td>\n",
       "      <td>NaN</td>\n",
       "      <td>NaN</td>\n",
       "      <td>NaN</td>\n",
       "      <td>NaN</td>\n",
       "      <td>NaN</td>\n",
       "      <td>NaN</td>\n",
       "      <td>NaN</td>\n",
       "      <td>...</td>\n",
       "      <td>NaN</td>\n",
       "      <td>NaN</td>\n",
       "      <td>NaN</td>\n",
       "      <td>NaN</td>\n",
       "      <td>NaN</td>\n",
       "      <td>NaN</td>\n",
       "      <td>NaN</td>\n",
       "      <td>1</td>\n",
       "      <td>2</td>\n",
       "      <td>{'PERSON': 1, 'FAC': 1, 'QUANTITY': 1, 'CARDIN...</td>\n",
       "    </tr>\n",
       "    <tr>\n",
       "      <th>3</th>\n",
       "      <td>In the 1970's, one room, room 211, in the old ...</td>\n",
       "      <td>1970, DATE\\none, CARDINAL\\n211, CARDINAL\\ntoda...</td>\n",
       "      <td>0</td>\n",
       "      <td>NaN</td>\n",
       "      <td>NaN</td>\n",
       "      <td>NaN</td>\n",
       "      <td>NaN</td>\n",
       "      <td>NaN</td>\n",
       "      <td>NaN</td>\n",
       "      <td>NaN</td>\n",
       "      <td>...</td>\n",
       "      <td>NaN</td>\n",
       "      <td>NaN</td>\n",
       "      <td>NaN</td>\n",
       "      <td>NaN</td>\n",
       "      <td>NaN</td>\n",
       "      <td>NaN</td>\n",
       "      <td>NaN</td>\n",
       "      <td>0</td>\n",
       "      <td>3</td>\n",
       "      <td>{'DATE': 2, 'CARDINAL': 4, 'ORDINAL': 1, 'GPE'...</td>\n",
       "    </tr>\n",
       "    <tr>\n",
       "      <th>4</th>\n",
       "      <td>Kappa Delta Sorority - The Kappa Delta Sororit...</td>\n",
       "      <td>Kappa Delta Sorority - The Kappa Delta Sororit...</td>\n",
       "      <td>0</td>\n",
       "      <td>NaN</td>\n",
       "      <td>NaN</td>\n",
       "      <td>NaN</td>\n",
       "      <td>NaN</td>\n",
       "      <td>NaN</td>\n",
       "      <td>NaN</td>\n",
       "      <td>NaN</td>\n",
       "      <td>...</td>\n",
       "      <td>NaN</td>\n",
       "      <td>NaN</td>\n",
       "      <td>NaN</td>\n",
       "      <td>NaN</td>\n",
       "      <td>NaN</td>\n",
       "      <td>NaN</td>\n",
       "      <td>NaN</td>\n",
       "      <td>0</td>\n",
       "      <td>2</td>\n",
       "      <td>{'ORG': 1, 'CARDINAL': 1}</td>\n",
       "    </tr>\n",
       "    <tr>\n",
       "      <th>...</th>\n",
       "      <td>...</td>\n",
       "      <td>...</td>\n",
       "      <td>...</td>\n",
       "      <td>...</td>\n",
       "      <td>...</td>\n",
       "      <td>...</td>\n",
       "      <td>...</td>\n",
       "      <td>...</td>\n",
       "      <td>...</td>\n",
       "      <td>...</td>\n",
       "      <td>...</td>\n",
       "      <td>...</td>\n",
       "      <td>...</td>\n",
       "      <td>...</td>\n",
       "      <td>...</td>\n",
       "      <td>...</td>\n",
       "      <td>...</td>\n",
       "      <td>...</td>\n",
       "      <td>...</td>\n",
       "      <td>...</td>\n",
       "      <td>...</td>\n",
       "    </tr>\n",
       "    <tr>\n",
       "      <th>10975</th>\n",
       "      <td>at 12 midnight you can see a lady with two lit...</td>\n",
       "      <td>12 midnight, TIME\\ntwo, CARDINAL\\nSheridan St....</td>\n",
       "      <td>0</td>\n",
       "      <td>NaN</td>\n",
       "      <td>NaN</td>\n",
       "      <td>NaN</td>\n",
       "      <td>NaN</td>\n",
       "      <td>NaN</td>\n",
       "      <td>NaN</td>\n",
       "      <td>NaN</td>\n",
       "      <td>...</td>\n",
       "      <td>NaN</td>\n",
       "      <td>NaN</td>\n",
       "      <td>NaN</td>\n",
       "      <td>NaN</td>\n",
       "      <td>NaN</td>\n",
       "      <td>NaN</td>\n",
       "      <td>NaN</td>\n",
       "      <td>1</td>\n",
       "      <td>2</td>\n",
       "      <td>{'TIME': 1, 'CARDINAL': 1, 'PERSON': 1}</td>\n",
       "    </tr>\n",
       "    <tr>\n",
       "      <th>10976</th>\n",
       "      <td>Is haunted by the victims of a murder that hap...</td>\n",
       "      <td>years ago, DATE\\n\\n</td>\n",
       "      <td>0</td>\n",
       "      <td>NaN</td>\n",
       "      <td>NaN</td>\n",
       "      <td>NaN</td>\n",
       "      <td>NaN</td>\n",
       "      <td>NaN</td>\n",
       "      <td>NaN</td>\n",
       "      <td>NaN</td>\n",
       "      <td>...</td>\n",
       "      <td>NaN</td>\n",
       "      <td>NaN</td>\n",
       "      <td>NaN</td>\n",
       "      <td>NaN</td>\n",
       "      <td>NaN</td>\n",
       "      <td>NaN</td>\n",
       "      <td>NaN</td>\n",
       "      <td>0</td>\n",
       "      <td>1</td>\n",
       "      <td>{'DATE': 1}</td>\n",
       "    </tr>\n",
       "    <tr>\n",
       "      <th>10977</th>\n",
       "      <td>The institution was for kids 18 years old and ...</td>\n",
       "      <td>18 years old, DATE\\n70, DATE\\none, CARDINAL\\nh...</td>\n",
       "      <td>0</td>\n",
       "      <td>NaN</td>\n",
       "      <td>NaN</td>\n",
       "      <td>NaN</td>\n",
       "      <td>NaN</td>\n",
       "      <td>NaN</td>\n",
       "      <td>NaN</td>\n",
       "      <td>NaN</td>\n",
       "      <td>...</td>\n",
       "      <td>NaN</td>\n",
       "      <td>NaN</td>\n",
       "      <td>NaN</td>\n",
       "      <td>NaN</td>\n",
       "      <td>NaN</td>\n",
       "      <td>NaN</td>\n",
       "      <td>NaN</td>\n",
       "      <td>0</td>\n",
       "      <td>5</td>\n",
       "      <td>{'DATE': 2, 'CARDINAL': 2}</td>\n",
       "    </tr>\n",
       "    <tr>\n",
       "      <th>10978</th>\n",
       "      <td>Gymnasium - their have been reports of a littl...</td>\n",
       "      <td>\\n</td>\n",
       "      <td>0</td>\n",
       "      <td>NaN</td>\n",
       "      <td>NaN</td>\n",
       "      <td>NaN</td>\n",
       "      <td>NaN</td>\n",
       "      <td>NaN</td>\n",
       "      <td>NaN</td>\n",
       "      <td>NaN</td>\n",
       "      <td>...</td>\n",
       "      <td>NaN</td>\n",
       "      <td>NaN</td>\n",
       "      <td>NaN</td>\n",
       "      <td>NaN</td>\n",
       "      <td>NaN</td>\n",
       "      <td>NaN</td>\n",
       "      <td>NaN</td>\n",
       "      <td>0</td>\n",
       "      <td>3</td>\n",
       "      <td>{}</td>\n",
       "    </tr>\n",
       "    <tr>\n",
       "      <th>10979</th>\n",
       "      <td>Cadets from the Air Force Academy participatin...</td>\n",
       "      <td>the Air Force Academy, ORG\\nSurvival, NORP\\n\\n</td>\n",
       "      <td>0</td>\n",
       "      <td>NaN</td>\n",
       "      <td>NaN</td>\n",
       "      <td>NaN</td>\n",
       "      <td>NaN</td>\n",
       "      <td>NaN</td>\n",
       "      <td>NaN</td>\n",
       "      <td>NaN</td>\n",
       "      <td>...</td>\n",
       "      <td>NaN</td>\n",
       "      <td>NaN</td>\n",
       "      <td>NaN</td>\n",
       "      <td>NaN</td>\n",
       "      <td>NaN</td>\n",
       "      <td>NaN</td>\n",
       "      <td>NaN</td>\n",
       "      <td>0</td>\n",
       "      <td>2</td>\n",
       "      <td>{'ORG': 1, 'NORP': 1}</td>\n",
       "    </tr>\n",
       "  </tbody>\n",
       "</table>\n",
       "<p>10980 rows × 21 columns</p>\n",
       "</div>"
      ],
      "text/plain": [
       "                                             description  \\\n",
       "0      Ada witch - Sometimes you can see a misty blue...   \n",
       "1      A little girl was killed suddenly while waitin...   \n",
       "2      If you take Gorman Rd. west towards Sand Creek...   \n",
       "3      In the 1970's, one room, room 211, in the old ...   \n",
       "4      Kappa Delta Sorority - The Kappa Delta Sororit...   \n",
       "...                                                  ...   \n",
       "10975  at 12 midnight you can see a lady with two lit...   \n",
       "10976  Is haunted by the victims of a murder that hap...   \n",
       "10977  The institution was for kids 18 years old and ...   \n",
       "10978  Gymnasium - their have been reports of a littl...   \n",
       "10979  Cadets from the Air Force Academy participatin...   \n",
       "\n",
       "                                          spacy_entities  GeoName_Count  \\\n",
       "0      Ada witch -, PERSON\\n3-mile, QUANTITY\\nthe Ada...              2   \n",
       "1                  month later, DATE\\nthis day, DATE\\n\\n              0   \n",
       "2      Gorman Rd, PERSON\\nSand Creek, FAC\\nA mile, QU...              0   \n",
       "3      1970, DATE\\none, CARDINAL\\n211, CARDINAL\\ntoda...              0   \n",
       "4      Kappa Delta Sorority - The Kappa Delta Sororit...              0   \n",
       "...                                                  ...            ...   \n",
       "10975  12 midnight, TIME\\ntwo, CARDINAL\\nSheridan St....              0   \n",
       "10976                                years ago, DATE\\n\\n              0   \n",
       "10977  18 years old, DATE\\n70, DATE\\none, CARDINAL\\nh...              0   \n",
       "10978                                                 \\n              0   \n",
       "10979     the Air Force Academy, ORG\\nSurvival, NORP\\n\\n              0   \n",
       "\n",
       "       Geographic_LATITUDE  Geographic_LONGITUDE Geographic_NAME  \\\n",
       "0                      NaN                   NaN             NaN   \n",
       "1                      NaN                   NaN             NaN   \n",
       "2                      NaN                   NaN             NaN   \n",
       "3                      NaN                   NaN             NaN   \n",
       "4                      NaN                   NaN             NaN   \n",
       "...                    ...                   ...             ...   \n",
       "10975                  NaN                   NaN             NaN   \n",
       "10976                  NaN                   NaN             NaN   \n",
       "10977                  NaN                   NaN             NaN   \n",
       "10978                  NaN                   NaN             NaN   \n",
       "10979                  NaN                   NaN             NaN   \n",
       "\n",
       "       Optional_LATITUDE1  Optional_LATITUDE2  Optional_LATITUDE3  \\\n",
       "0                 43.0125            43.00142                 NaN   \n",
       "1                     NaN                 NaN                 NaN   \n",
       "2                     NaN                 NaN                 NaN   \n",
       "3                     NaN                 NaN                 NaN   \n",
       "4                     NaN                 NaN                 NaN   \n",
       "...                   ...                 ...                 ...   \n",
       "10975                 NaN                 NaN                 NaN   \n",
       "10976                 NaN                 NaN                 NaN   \n",
       "10977                 NaN                 NaN                 NaN   \n",
       "10978                 NaN                 NaN                 NaN   \n",
       "10979                 NaN                 NaN                 NaN   \n",
       "\n",
       "       Optional_LATITUDE4  ...  Optional_LONGITUDE2  Optional_LONGITUDE3  \\\n",
       "0                     NaN  ...            -85.49169                  NaN   \n",
       "1                     NaN  ...                  NaN                  NaN   \n",
       "2                     NaN  ...                  NaN                  NaN   \n",
       "3                     NaN  ...                  NaN                  NaN   \n",
       "4                     NaN  ...                  NaN                  NaN   \n",
       "...                   ...  ...                  ...                  ...   \n",
       "10975                 NaN  ...                  NaN                  NaN   \n",
       "10976                 NaN  ...                  NaN                  NaN   \n",
       "10977                 NaN  ...                  NaN                  NaN   \n",
       "10978                 NaN  ...                  NaN                  NaN   \n",
       "10979                 NaN  ...                  NaN                  NaN   \n",
       "\n",
       "       Optional_LONGITUDE4             Optional_NAME1    Optional_NAME2  \\\n",
       "0                      NaN  Egypt Valley Country Club  Findlay Cemetery   \n",
       "1                      NaN                        NaN               NaN   \n",
       "2                      NaN                        NaN               NaN   \n",
       "3                      NaN                        NaN               NaN   \n",
       "4                      NaN                        NaN               NaN   \n",
       "...                    ...                        ...               ...   \n",
       "10975                  NaN                        NaN               NaN   \n",
       "10976                  NaN                        NaN               NaN   \n",
       "10977                  NaN                        NaN               NaN   \n",
       "10978                  NaN                        NaN               NaN   \n",
       "10979                  NaN                        NaN               NaN   \n",
       "\n",
       "      Optional_NAME3 Optional_NAME4 ent_person_count  witness_count_int  \\\n",
       "0                NaN            NaN                1                  3   \n",
       "1                NaN            NaN                0                  3   \n",
       "2                NaN            NaN                1                  2   \n",
       "3                NaN            NaN                0                  3   \n",
       "4                NaN            NaN                0                  2   \n",
       "...              ...            ...              ...                ...   \n",
       "10975            NaN            NaN                1                  2   \n",
       "10976            NaN            NaN                0                  1   \n",
       "10977            NaN            NaN                0                  5   \n",
       "10978            NaN            NaN                0                  3   \n",
       "10979            NaN            NaN                0                  2   \n",
       "\n",
       "                                     entity_label_counts  \n",
       "0      {'PERSON': 1, 'QUANTITY': 2, 'FAC': 3, 'LOC': ...  \n",
       "1                                            {'DATE': 2}  \n",
       "2      {'PERSON': 1, 'FAC': 1, 'QUANTITY': 1, 'CARDIN...  \n",
       "3      {'DATE': 2, 'CARDINAL': 4, 'ORDINAL': 1, 'GPE'...  \n",
       "4                              {'ORG': 1, 'CARDINAL': 1}  \n",
       "...                                                  ...  \n",
       "10975            {'TIME': 1, 'CARDINAL': 1, 'PERSON': 1}  \n",
       "10976                                        {'DATE': 1}  \n",
       "10977                         {'DATE': 2, 'CARDINAL': 2}  \n",
       "10978                                                 {}  \n",
       "10979                              {'ORG': 1, 'NORP': 1}  \n",
       "\n",
       "[10980 rows x 21 columns]"
      ]
     },
     "execution_count": 41,
     "metadata": {},
     "output_type": "execute_result"
    }
   ],
   "source": [
    "from collections import Counter\n",
    "\n",
    "def count_ner_labels(text):\n",
    "    labels = [line.rsplit(' ', 1)[-1] for line in text.strip().split(\"\\n\") if line.rsplit(' ', 1)[-1] != '']\n",
    "    ner_label_counts = dict(Counter(labels))\n",
    "    return ner_label_counts\n",
    "\n",
    "df_ent['entity_label_counts'] = df_ent['spacy_entities'].apply(count_ner_labels)\n",
    "df_ent"
   ]
  },
  {
   "cell_type": "code",
   "execution_count": 42,
   "metadata": {},
   "outputs": [
    {
     "data": {
      "text/plain": [
       "Index(['description', 'spacy_entities', 'GeoName_Count', 'Geographic_LATITUDE',\n",
       "       'Geographic_LONGITUDE', 'Geographic_NAME', 'Optional_LATITUDE1',\n",
       "       'Optional_LATITUDE2', 'Optional_LATITUDE3', 'Optional_LATITUDE4',\n",
       "       'Optional_LONGITUDE1', 'Optional_LONGITUDE2', 'Optional_LONGITUDE3',\n",
       "       'Optional_LONGITUDE4', 'Optional_NAME1', 'Optional_NAME2',\n",
       "       'Optional_NAME3', 'Optional_NAME4', 'ent_person_count',\n",
       "       'witness_count_int', 'entity_label_counts'],\n",
       "      dtype='object')"
      ]
     },
     "execution_count": 42,
     "metadata": {},
     "output_type": "execute_result"
    }
   ],
   "source": [
    "df_ent.columns"
   ]
  },
  {
   "cell_type": "code",
   "execution_count": 43,
   "metadata": {},
   "outputs": [
    {
     "name": "stdout",
     "output_type": "stream",
     "text": [
      "{'PERSON': 4575, 'QUANTITY': 478, 'FAC': 957, 'LOC': 636, 'GPE': 2110, 'TIME': 3895, 'DATE': 6752, 'WORK_OF_ART': 400, 'CARDINAL': 5037, 'ORDINAL': 1865, 'ORG': 4168, 'NORP': 1292, 'MONEY': 59, 'PRODUCT': 204, 'EVENT': 283, 'PERCENT': 19, 'LAW': 33, 'LANGUAGE': 28}\n"
     ]
    }
   ],
   "source": [
    "from collections import defaultdict\n",
    "final_tally = defaultdict(int)\n",
    "\n",
    "for count_dict in df_ent['entity_label_counts']:\n",
    "    for entity, count in count_dict.items():\n",
    "        final_tally[entity] += count\n",
    "\n",
    "final_tally = dict(final_tally)\n",
    "print(final_tally)"
   ]
  },
  {
   "cell_type": "markdown",
   "metadata": {},
   "source": [
    "{'PERSON': 4575, 'QUANTITY': 478, 'FAC': 957, 'LOC': 636, 'GPE': 2110, 'TIME': 3895, 'DATE': 6752, 'WORK_OF_ART': 400, 'CARDINAL': 5037, 'ORDINAL': 1865, 'ORG': 4168, 'NORP': 1292, 'MONEY': 59, 'PRODUCT': 204, 'EVENT': 283, 'PERCENT': 19, 'LAW': 33, 'LANGUAGE': 28}\n"
   ]
  },
  {
   "cell_type": "code",
   "execution_count": 44,
   "metadata": {},
   "outputs": [
    {
     "name": "stdout",
     "output_type": "stream",
     "text": [
      "{'DATE': 6752, 'CARDINAL': 5037, 'PERSON': 4575, 'ORG': 4168, 'TIME': 3895, 'GPE': 2110, 'ORDINAL': 1865, 'NORP': 1292, 'FAC': 957, 'LOC': 636, 'QUANTITY': 478, 'WORK_OF_ART': 400, 'EVENT': 283, 'PRODUCT': 204, 'MONEY': 59, 'LAW': 33, 'LANGUAGE': 28, 'PERCENT': 19}\n"
     ]
    }
   ],
   "source": [
    "sorted_tally = dict(sorted(final_tally.items(), key=lambda item: item[1], reverse=True))\n",
    "print(sorted_tally)\n"
   ]
  },
  {
   "cell_type": "markdown",
   "metadata": {},
   "source": [
    "{'DATE': 6752, 'CARDINAL': 5037, 'PERSON': 4575, 'ORG': 4168, 'TIME': 3895, 'GPE': 2110, 'ORDINAL': 1865, 'NORP': 1292, 'FAC': 957, 'LOC': 636, 'QUANTITY': 478, 'WORK_OF_ART': 400, 'EVENT': 283, 'PRODUCT': 204, 'MONEY': 59, 'LAW': 33, 'LANGUAGE': 28, 'PERCENT': 19}"
   ]
  },
  {
   "cell_type": "code",
   "execution_count": 45,
   "metadata": {},
   "outputs": [
    {
     "name": "stdout",
     "output_type": "stream",
     "text": [
      "Total name entities extracted: 32791, 2.99 NER per haunted place entry\n"
     ]
    }
   ],
   "source": [
    "#Total name entities extracted\n",
    "sorted_tally_total = sum(sorted_tally.values())\n",
    "ratio_to_rows = round(sorted_tally_total/df_ent.shape[0],2)\n",
    "print(f\"Total name entities extracted: {sorted_tally_total}, {ratio_to_rows} NER per haunted place entry\")"
   ]
  },
  {
   "cell_type": "code",
   "execution_count": 46,
   "metadata": {},
   "outputs": [
    {
     "data": {
      "text/html": [
       "<div>\n",
       "<style scoped>\n",
       "    .dataframe tbody tr th:only-of-type {\n",
       "        vertical-align: middle;\n",
       "    }\n",
       "\n",
       "    .dataframe tbody tr th {\n",
       "        vertical-align: top;\n",
       "    }\n",
       "\n",
       "    .dataframe thead th {\n",
       "        text-align: right;\n",
       "    }\n",
       "</style>\n",
       "<table border=\"1\" class=\"dataframe\">\n",
       "  <thead>\n",
       "    <tr style=\"text-align: right;\">\n",
       "      <th></th>\n",
       "      <th>description</th>\n",
       "      <th>spacy_entities</th>\n",
       "      <th>GeoName_Count</th>\n",
       "      <th>Geographic_LATITUDE</th>\n",
       "      <th>Geographic_LONGITUDE</th>\n",
       "      <th>Geographic_NAME</th>\n",
       "      <th>Optional_LATITUDE1</th>\n",
       "      <th>Optional_LATITUDE2</th>\n",
       "      <th>Optional_LATITUDE3</th>\n",
       "      <th>Optional_LATITUDE4</th>\n",
       "      <th>...</th>\n",
       "      <th>Optional_LONGITUDE2</th>\n",
       "      <th>Optional_LONGITUDE3</th>\n",
       "      <th>Optional_LONGITUDE4</th>\n",
       "      <th>Optional_NAME1</th>\n",
       "      <th>Optional_NAME2</th>\n",
       "      <th>Optional_NAME3</th>\n",
       "      <th>Optional_NAME4</th>\n",
       "      <th>ent_person_count</th>\n",
       "      <th>witness_count_int</th>\n",
       "      <th>entity_label_counts</th>\n",
       "    </tr>\n",
       "  </thead>\n",
       "  <tbody>\n",
       "    <tr>\n",
       "      <th>0</th>\n",
       "      <td>Ada witch - Sometimes you can see a misty blue...</td>\n",
       "      <td>Ada witch -, PERSON\\n3-mile, QUANTITY\\nthe Ada...</td>\n",
       "      <td>2</td>\n",
       "      <td>NaN</td>\n",
       "      <td>NaN</td>\n",
       "      <td>NaN</td>\n",
       "      <td>43.0125</td>\n",
       "      <td>43.00142</td>\n",
       "      <td>NaN</td>\n",
       "      <td>NaN</td>\n",
       "      <td>...</td>\n",
       "      <td>-85.49169</td>\n",
       "      <td>NaN</td>\n",
       "      <td>NaN</td>\n",
       "      <td>Egypt Valley Country Club</td>\n",
       "      <td>Findlay Cemetery</td>\n",
       "      <td>NaN</td>\n",
       "      <td>NaN</td>\n",
       "      <td>1</td>\n",
       "      <td>3</td>\n",
       "      <td>{'PERSON': 1, 'QUANTITY': 2, 'FAC': 3, 'LOC': ...</td>\n",
       "    </tr>\n",
       "    <tr>\n",
       "      <th>1</th>\n",
       "      <td>A little girl was killed suddenly while waitin...</td>\n",
       "      <td>month later, DATE\\nthis day, DATE\\n\\n</td>\n",
       "      <td>0</td>\n",
       "      <td>NaN</td>\n",
       "      <td>NaN</td>\n",
       "      <td>NaN</td>\n",
       "      <td>NaN</td>\n",
       "      <td>NaN</td>\n",
       "      <td>NaN</td>\n",
       "      <td>NaN</td>\n",
       "      <td>...</td>\n",
       "      <td>NaN</td>\n",
       "      <td>NaN</td>\n",
       "      <td>NaN</td>\n",
       "      <td>NaN</td>\n",
       "      <td>NaN</td>\n",
       "      <td>NaN</td>\n",
       "      <td>NaN</td>\n",
       "      <td>0</td>\n",
       "      <td>3</td>\n",
       "      <td>{'DATE': 2}</td>\n",
       "    </tr>\n",
       "    <tr>\n",
       "      <th>2</th>\n",
       "      <td>If you take Gorman Rd. west towards Sand Creek...</td>\n",
       "      <td>Gorman Rd, PERSON\\nSand Creek, FAC\\nA mile, QU...</td>\n",
       "      <td>0</td>\n",
       "      <td>NaN</td>\n",
       "      <td>NaN</td>\n",
       "      <td>NaN</td>\n",
       "      <td>NaN</td>\n",
       "      <td>NaN</td>\n",
       "      <td>NaN</td>\n",
       "      <td>NaN</td>\n",
       "      <td>...</td>\n",
       "      <td>NaN</td>\n",
       "      <td>NaN</td>\n",
       "      <td>NaN</td>\n",
       "      <td>NaN</td>\n",
       "      <td>NaN</td>\n",
       "      <td>NaN</td>\n",
       "      <td>NaN</td>\n",
       "      <td>1</td>\n",
       "      <td>2</td>\n",
       "      <td>{'PERSON': 1, 'FAC': 1, 'QUANTITY': 1, 'CARDIN...</td>\n",
       "    </tr>\n",
       "    <tr>\n",
       "      <th>3</th>\n",
       "      <td>In the 1970's, one room, room 211, in the old ...</td>\n",
       "      <td>1970, DATE\\none, CARDINAL\\n211, CARDINAL\\ntoda...</td>\n",
       "      <td>0</td>\n",
       "      <td>NaN</td>\n",
       "      <td>NaN</td>\n",
       "      <td>NaN</td>\n",
       "      <td>NaN</td>\n",
       "      <td>NaN</td>\n",
       "      <td>NaN</td>\n",
       "      <td>NaN</td>\n",
       "      <td>...</td>\n",
       "      <td>NaN</td>\n",
       "      <td>NaN</td>\n",
       "      <td>NaN</td>\n",
       "      <td>NaN</td>\n",
       "      <td>NaN</td>\n",
       "      <td>NaN</td>\n",
       "      <td>NaN</td>\n",
       "      <td>0</td>\n",
       "      <td>3</td>\n",
       "      <td>{'DATE': 2, 'CARDINAL': 4, 'ORDINAL': 1, 'GPE'...</td>\n",
       "    </tr>\n",
       "    <tr>\n",
       "      <th>4</th>\n",
       "      <td>Kappa Delta Sorority - The Kappa Delta Sororit...</td>\n",
       "      <td>Kappa Delta Sorority - The Kappa Delta Sororit...</td>\n",
       "      <td>0</td>\n",
       "      <td>NaN</td>\n",
       "      <td>NaN</td>\n",
       "      <td>NaN</td>\n",
       "      <td>NaN</td>\n",
       "      <td>NaN</td>\n",
       "      <td>NaN</td>\n",
       "      <td>NaN</td>\n",
       "      <td>...</td>\n",
       "      <td>NaN</td>\n",
       "      <td>NaN</td>\n",
       "      <td>NaN</td>\n",
       "      <td>NaN</td>\n",
       "      <td>NaN</td>\n",
       "      <td>NaN</td>\n",
       "      <td>NaN</td>\n",
       "      <td>0</td>\n",
       "      <td>2</td>\n",
       "      <td>{'ORG': 1, 'CARDINAL': 1}</td>\n",
       "    </tr>\n",
       "    <tr>\n",
       "      <th>...</th>\n",
       "      <td>...</td>\n",
       "      <td>...</td>\n",
       "      <td>...</td>\n",
       "      <td>...</td>\n",
       "      <td>...</td>\n",
       "      <td>...</td>\n",
       "      <td>...</td>\n",
       "      <td>...</td>\n",
       "      <td>...</td>\n",
       "      <td>...</td>\n",
       "      <td>...</td>\n",
       "      <td>...</td>\n",
       "      <td>...</td>\n",
       "      <td>...</td>\n",
       "      <td>...</td>\n",
       "      <td>...</td>\n",
       "      <td>...</td>\n",
       "      <td>...</td>\n",
       "      <td>...</td>\n",
       "      <td>...</td>\n",
       "      <td>...</td>\n",
       "    </tr>\n",
       "    <tr>\n",
       "      <th>10975</th>\n",
       "      <td>at 12 midnight you can see a lady with two lit...</td>\n",
       "      <td>12 midnight, TIME\\ntwo, CARDINAL\\nSheridan St....</td>\n",
       "      <td>0</td>\n",
       "      <td>NaN</td>\n",
       "      <td>NaN</td>\n",
       "      <td>NaN</td>\n",
       "      <td>NaN</td>\n",
       "      <td>NaN</td>\n",
       "      <td>NaN</td>\n",
       "      <td>NaN</td>\n",
       "      <td>...</td>\n",
       "      <td>NaN</td>\n",
       "      <td>NaN</td>\n",
       "      <td>NaN</td>\n",
       "      <td>NaN</td>\n",
       "      <td>NaN</td>\n",
       "      <td>NaN</td>\n",
       "      <td>NaN</td>\n",
       "      <td>1</td>\n",
       "      <td>2</td>\n",
       "      <td>{'TIME': 1, 'CARDINAL': 1, 'PERSON': 1}</td>\n",
       "    </tr>\n",
       "    <tr>\n",
       "      <th>10976</th>\n",
       "      <td>Is haunted by the victims of a murder that hap...</td>\n",
       "      <td>years ago, DATE\\n\\n</td>\n",
       "      <td>0</td>\n",
       "      <td>NaN</td>\n",
       "      <td>NaN</td>\n",
       "      <td>NaN</td>\n",
       "      <td>NaN</td>\n",
       "      <td>NaN</td>\n",
       "      <td>NaN</td>\n",
       "      <td>NaN</td>\n",
       "      <td>...</td>\n",
       "      <td>NaN</td>\n",
       "      <td>NaN</td>\n",
       "      <td>NaN</td>\n",
       "      <td>NaN</td>\n",
       "      <td>NaN</td>\n",
       "      <td>NaN</td>\n",
       "      <td>NaN</td>\n",
       "      <td>0</td>\n",
       "      <td>1</td>\n",
       "      <td>{'DATE': 1}</td>\n",
       "    </tr>\n",
       "    <tr>\n",
       "      <th>10977</th>\n",
       "      <td>The institution was for kids 18 years old and ...</td>\n",
       "      <td>18 years old, DATE\\n70, DATE\\none, CARDINAL\\nh...</td>\n",
       "      <td>0</td>\n",
       "      <td>NaN</td>\n",
       "      <td>NaN</td>\n",
       "      <td>NaN</td>\n",
       "      <td>NaN</td>\n",
       "      <td>NaN</td>\n",
       "      <td>NaN</td>\n",
       "      <td>NaN</td>\n",
       "      <td>...</td>\n",
       "      <td>NaN</td>\n",
       "      <td>NaN</td>\n",
       "      <td>NaN</td>\n",
       "      <td>NaN</td>\n",
       "      <td>NaN</td>\n",
       "      <td>NaN</td>\n",
       "      <td>NaN</td>\n",
       "      <td>0</td>\n",
       "      <td>5</td>\n",
       "      <td>{'DATE': 2, 'CARDINAL': 2}</td>\n",
       "    </tr>\n",
       "    <tr>\n",
       "      <th>10978</th>\n",
       "      <td>Gymnasium - their have been reports of a littl...</td>\n",
       "      <td>\\n</td>\n",
       "      <td>0</td>\n",
       "      <td>NaN</td>\n",
       "      <td>NaN</td>\n",
       "      <td>NaN</td>\n",
       "      <td>NaN</td>\n",
       "      <td>NaN</td>\n",
       "      <td>NaN</td>\n",
       "      <td>NaN</td>\n",
       "      <td>...</td>\n",
       "      <td>NaN</td>\n",
       "      <td>NaN</td>\n",
       "      <td>NaN</td>\n",
       "      <td>NaN</td>\n",
       "      <td>NaN</td>\n",
       "      <td>NaN</td>\n",
       "      <td>NaN</td>\n",
       "      <td>0</td>\n",
       "      <td>3</td>\n",
       "      <td>{}</td>\n",
       "    </tr>\n",
       "    <tr>\n",
       "      <th>10979</th>\n",
       "      <td>Cadets from the Air Force Academy participatin...</td>\n",
       "      <td>the Air Force Academy, ORG\\nSurvival, NORP\\n\\n</td>\n",
       "      <td>0</td>\n",
       "      <td>NaN</td>\n",
       "      <td>NaN</td>\n",
       "      <td>NaN</td>\n",
       "      <td>NaN</td>\n",
       "      <td>NaN</td>\n",
       "      <td>NaN</td>\n",
       "      <td>NaN</td>\n",
       "      <td>...</td>\n",
       "      <td>NaN</td>\n",
       "      <td>NaN</td>\n",
       "      <td>NaN</td>\n",
       "      <td>NaN</td>\n",
       "      <td>NaN</td>\n",
       "      <td>NaN</td>\n",
       "      <td>NaN</td>\n",
       "      <td>0</td>\n",
       "      <td>2</td>\n",
       "      <td>{'ORG': 1, 'NORP': 1}</td>\n",
       "    </tr>\n",
       "  </tbody>\n",
       "</table>\n",
       "<p>10980 rows × 21 columns</p>\n",
       "</div>"
      ],
      "text/plain": [
       "                                             description  \\\n",
       "0      Ada witch - Sometimes you can see a misty blue...   \n",
       "1      A little girl was killed suddenly while waitin...   \n",
       "2      If you take Gorman Rd. west towards Sand Creek...   \n",
       "3      In the 1970's, one room, room 211, in the old ...   \n",
       "4      Kappa Delta Sorority - The Kappa Delta Sororit...   \n",
       "...                                                  ...   \n",
       "10975  at 12 midnight you can see a lady with two lit...   \n",
       "10976  Is haunted by the victims of a murder that hap...   \n",
       "10977  The institution was for kids 18 years old and ...   \n",
       "10978  Gymnasium - their have been reports of a littl...   \n",
       "10979  Cadets from the Air Force Academy participatin...   \n",
       "\n",
       "                                          spacy_entities  GeoName_Count  \\\n",
       "0      Ada witch -, PERSON\\n3-mile, QUANTITY\\nthe Ada...              2   \n",
       "1                  month later, DATE\\nthis day, DATE\\n\\n              0   \n",
       "2      Gorman Rd, PERSON\\nSand Creek, FAC\\nA mile, QU...              0   \n",
       "3      1970, DATE\\none, CARDINAL\\n211, CARDINAL\\ntoda...              0   \n",
       "4      Kappa Delta Sorority - The Kappa Delta Sororit...              0   \n",
       "...                                                  ...            ...   \n",
       "10975  12 midnight, TIME\\ntwo, CARDINAL\\nSheridan St....              0   \n",
       "10976                                years ago, DATE\\n\\n              0   \n",
       "10977  18 years old, DATE\\n70, DATE\\none, CARDINAL\\nh...              0   \n",
       "10978                                                 \\n              0   \n",
       "10979     the Air Force Academy, ORG\\nSurvival, NORP\\n\\n              0   \n",
       "\n",
       "       Geographic_LATITUDE  Geographic_LONGITUDE Geographic_NAME  \\\n",
       "0                      NaN                   NaN             NaN   \n",
       "1                      NaN                   NaN             NaN   \n",
       "2                      NaN                   NaN             NaN   \n",
       "3                      NaN                   NaN             NaN   \n",
       "4                      NaN                   NaN             NaN   \n",
       "...                    ...                   ...             ...   \n",
       "10975                  NaN                   NaN             NaN   \n",
       "10976                  NaN                   NaN             NaN   \n",
       "10977                  NaN                   NaN             NaN   \n",
       "10978                  NaN                   NaN             NaN   \n",
       "10979                  NaN                   NaN             NaN   \n",
       "\n",
       "       Optional_LATITUDE1  Optional_LATITUDE2  Optional_LATITUDE3  \\\n",
       "0                 43.0125            43.00142                 NaN   \n",
       "1                     NaN                 NaN                 NaN   \n",
       "2                     NaN                 NaN                 NaN   \n",
       "3                     NaN                 NaN                 NaN   \n",
       "4                     NaN                 NaN                 NaN   \n",
       "...                   ...                 ...                 ...   \n",
       "10975                 NaN                 NaN                 NaN   \n",
       "10976                 NaN                 NaN                 NaN   \n",
       "10977                 NaN                 NaN                 NaN   \n",
       "10978                 NaN                 NaN                 NaN   \n",
       "10979                 NaN                 NaN                 NaN   \n",
       "\n",
       "       Optional_LATITUDE4  ...  Optional_LONGITUDE2  Optional_LONGITUDE3  \\\n",
       "0                     NaN  ...            -85.49169                  NaN   \n",
       "1                     NaN  ...                  NaN                  NaN   \n",
       "2                     NaN  ...                  NaN                  NaN   \n",
       "3                     NaN  ...                  NaN                  NaN   \n",
       "4                     NaN  ...                  NaN                  NaN   \n",
       "...                   ...  ...                  ...                  ...   \n",
       "10975                 NaN  ...                  NaN                  NaN   \n",
       "10976                 NaN  ...                  NaN                  NaN   \n",
       "10977                 NaN  ...                  NaN                  NaN   \n",
       "10978                 NaN  ...                  NaN                  NaN   \n",
       "10979                 NaN  ...                  NaN                  NaN   \n",
       "\n",
       "       Optional_LONGITUDE4             Optional_NAME1    Optional_NAME2  \\\n",
       "0                      NaN  Egypt Valley Country Club  Findlay Cemetery   \n",
       "1                      NaN                        NaN               NaN   \n",
       "2                      NaN                        NaN               NaN   \n",
       "3                      NaN                        NaN               NaN   \n",
       "4                      NaN                        NaN               NaN   \n",
       "...                    ...                        ...               ...   \n",
       "10975                  NaN                        NaN               NaN   \n",
       "10976                  NaN                        NaN               NaN   \n",
       "10977                  NaN                        NaN               NaN   \n",
       "10978                  NaN                        NaN               NaN   \n",
       "10979                  NaN                        NaN               NaN   \n",
       "\n",
       "      Optional_NAME3 Optional_NAME4 ent_person_count  witness_count_int  \\\n",
       "0                NaN            NaN                1                  3   \n",
       "1                NaN            NaN                0                  3   \n",
       "2                NaN            NaN                1                  2   \n",
       "3                NaN            NaN                0                  3   \n",
       "4                NaN            NaN                0                  2   \n",
       "...              ...            ...              ...                ...   \n",
       "10975            NaN            NaN                1                  2   \n",
       "10976            NaN            NaN                0                  1   \n",
       "10977            NaN            NaN                0                  5   \n",
       "10978            NaN            NaN                0                  3   \n",
       "10979            NaN            NaN                0                  2   \n",
       "\n",
       "                                     entity_label_counts  \n",
       "0      {'PERSON': 1, 'QUANTITY': 2, 'FAC': 3, 'LOC': ...  \n",
       "1                                            {'DATE': 2}  \n",
       "2      {'PERSON': 1, 'FAC': 1, 'QUANTITY': 1, 'CARDIN...  \n",
       "3      {'DATE': 2, 'CARDINAL': 4, 'ORDINAL': 1, 'GPE'...  \n",
       "4                              {'ORG': 1, 'CARDINAL': 1}  \n",
       "...                                                  ...  \n",
       "10975            {'TIME': 1, 'CARDINAL': 1, 'PERSON': 1}  \n",
       "10976                                        {'DATE': 1}  \n",
       "10977                         {'DATE': 2, 'CARDINAL': 2}  \n",
       "10978                                                 {}  \n",
       "10979                              {'ORG': 1, 'NORP': 1}  \n",
       "\n",
       "[10980 rows x 21 columns]"
      ]
     },
     "execution_count": 46,
     "metadata": {},
     "output_type": "execute_result"
    }
   ],
   "source": [
    "df_ent"
   ]
  },
  {
   "cell_type": "code",
   "execution_count": 47,
   "metadata": {},
   "outputs": [
    {
     "name": "stdout",
     "output_type": "stream",
     "text": [
      "'../Data/spacy_loc_analysis.csv' saved'\n"
     ]
    }
   ],
   "source": [
    "df_ent.to_csv('../Data/spacy_loc_analysis.csv')\n",
    "print(\"'../Data/spacy_loc_analysis.csv' saved'\")"
   ]
  },
  {
   "cell_type": "code",
   "execution_count": 49,
   "metadata": {},
   "outputs": [
    {
     "data": {
      "image/png": "iVBORw0KGgoAAAANSUhEUgAAA/YAAAJoCAYAAADMA3rTAAAAOnRFWHRTb2Z0d2FyZQBNYXRwbG90bGliIHZlcnNpb24zLjEwLjEsIGh0dHBzOi8vbWF0cGxvdGxpYi5vcmcvc2/+5QAAAAlwSFlzAAAPYQAAD2EBqD+naQAAvJ1JREFUeJzs3QmcleP///FPe6QNLSpbEhFSlookLaKyJolUhCxlCyVCi4g2lUSLaCGyk1LIUqiI0KJUlPa07zr/x/v6f+/zu+fMmWmqmXOfe+b1fDyux8ycc8+Z+5w5577vz3V9rs+Vy8wiBgAAAAAAQil30DsAAAAAAAAOHoE9AAAAAAAhRmAPAAAAAECIEdgDAAAAABBiBPYAAAAAAIQYgT0AAAAAACFGYA8AAAAAQIgR2AMAAAAAEGIE9gAAAAAAhBiBPQAAGdCqVSuLRCJ2/PHHW7LQvmiftG9InJEjR9qSJUsS8rf0d/T3Yt+H1apVS8jf/+KLL1wDACQ3AnsAQKbxgo4dO3ZYmTJlUt2vAGHu3LmWnT3xxBPuNUirlSpV6oAf84YbbrB77703Q9tedtllbh+yQu7cua1169bu/7h+/XrbuXOnCzxHjBiRsEBzfypVquSef0Y7YGL/X9u2bbNly5bZBx984J5r/vz5A9mvRErmfQMAZEzeDG4HAECGFSxY0Dp16mQdOnSwnKpdu3a2devWVLdv3LjxgB+rRYsWVrlyZRswYECK2xWA6rXes2dP9LbLL7/c7rnnHnvqqacsM+nvvPPOO67jYNq0afb000/bhg0b7IQTTrBmzZq5Tp3jjjvOVqxYYUE67bTT7Mknn7Qvv/zSvT4H+v8qUKCAlS1b1i699FI3Un7fffdZ48aNbfny5dFtb7vtNtfJkYj9OuWUU2zfvn2WldLbtwYNGmTp3wYAZA4CewBApvvpp59c8NOrVy9buXKl5URvv/22G9XOart27bJEeO6551xQr0A3toNBnQj333+/Zaf/V/fu3V2HymuvvWZvvfWW1ahRI3rf3r17s3x/1JGijIjdu3dbkPydRgCA5Bah0Wg0Gi0zWqtWrSLStGnTyO7duyMDBgxIcf8XX3wRmTt3borbWrduHZk6dWpk9erVkZ07d0Z+++23SLt27VI99pIlSyIffvhhpHbt2pGZM2dGtm/fHvnll1/cz7r/6quvdj/v2LEjMmvWrEiVKlVSPcYpp5wSeeuttyLr16932+lxmjRpkmq70047ze2T/sbff/8d6dKlS6RNmzbuuR1//PHpvgZPPPGE2+6oo45Kdzvtt1x33XWRRx991P0d7dOUKVMiJ510UorXLJZeC92nfRG97vp55MiRkXi81++9995LtR8FChSIbNy4MfLSSy+lua9ly5Z1/89JkyZl+L2g1/+TTz6JbNq0KbJlyxb3vM4///y4r1Va7yP/a+39/y+44ILI999/716rxYsXR1q2bJnq92J575GD+X/pdZF69epFb9Pr7P0PvHb99de7993mzZvdc9Z7sUOHDhnaL++5NWjQwL0n9dzuvffe6H36e7HPsVatWm7f1q1b5/7eqFGjIsWKFUuxT6LnF++z5D3m/vZN7z81/++XKFEiMmzYsMiqVavcvs6ZMydy8803p9jGe28++OCDkdtuuy2yaNEi9/n+4YcfIuecc06WHodoNBrNcmBjxB4AkOk071ojnRq1f+aZZ9Idtb/zzjvtt99+c3OaNRLapEkTGzJkiEt1fvHFF1NsW6FCBRs7dqwNHTrURo8ebR07drQPP/zQpVErNdzbvnPnzjZ+/HiXxvz/48b/n2787bffulRx7ZPmUiuF/L333rNrr73WfRXNgdcc8rx580a3u/32213dgANx5JFHprpNz2/Tpk0pbtOUBaVaP//881a0aFF7+OGHbcyYMVa9enV3f8+ePd3t5cqVi46Kx0vxF70uqm2g9OmbbropxX16vfTYxYsXt3///Td6u15vPb7uT4tG6vPly2evv/56hp67Xuuvv/7aNm/ebL1793ajvnfccYdL9a5du7b98MMPdjD0/9fI+vDhw23UqFF2yy232KuvvmqzZ8+233//3b766iuXTaB6BHrd5s2b537P+3ow9Jy173pNp0yZEnebevXq2RtvvOHuf+SRR6Lz1i+44AJ74YUXMrRfeq+OGzfO/Q9feeUVW7BgQbr7NWjQIDetQyn0+l19jjRH/uKLLz6g53egr5kyCfR/1P9C+6DP+nXXXef+H8WKFXPP109ZD4ULF3bPS59FvQc1paN8+fIJyXwAgJwk8N4FGo1Go2WP5o3+VatWLXLiiSe6Ud7+/funO2JfsGDBVI8zceJEN8IXO8oo1atXj95Wv359d9u2bdsixx57bPR2jRDGjtR+9tlnkZ9//jmSP3/+FI/7zTffRBYsWBD9uW/fvu53zz333OhtRx99dOTff/89oBH7eObNm5dqxF4ZCvny5Yve3r59e3f76aefHr1No7mxI8TxRuzVBg4cGHcU/OSTT3a333HHHSlu1yj+n3/+me5z6tOnj/vds846K0Pvg3feeceNzuo94N1WunRpN7L85ZdfpnqtMjpiLxdeeGGK/4tGjJ977rnobddee+1+R+kPZMS+aNGi7v4JEyakOWLfr18/l/WQO3fuNP9OevvlPTeN2Me7L96IvUb28+bNG729Y8eO7nZ/BkpGRuz3t2+xI/bKQpAWLVpEb9N+fPvtty5b4Ygjjkjx3ly7dm2KTALtnzRq1ChD/x8ajUajWYYaVfEBAFlCI3ka7dRod+nSpdPcTvOIPUWKFLGjjjrKFWc76aST3M9+Gtn/7rvvoj9///337uvnn39uf//9d6rbNSooGqW+5JJL3Ci+Rg/1N7w2adIkq1ixYrSKv4rPzZgxw2bOnBl9vHXr1rlR9ANxzTXXuJFcf2vTpk2q7VSgzT+PWSPd/n3PLH/88Yd77W688cbobXpdNBq/v+fm/R+2bNmy37+jTAuNbisDwr8k3KpVq1y2xYUXXuj+BwdD//9vvvkmxf9FI9uZ/Vr5edkR6e2zRs4LFSpk9evXP+i/8+eff9rkyZMzvP3LL7+cYsRbWS56H+n9m5X0+MrAUXaBR/uhkXq9RsrI8HvzzTdTFIzMqvc3AOR0BPYAgCzTo0cPl9KudPO01KxZ0z777DMXQClNXcGaiu6JUsT9/vrrrxQ/K9Vb/EG9eOnuClxFacMKOLU/enx/69atm9umZMmS7qvSmRUEx9pfanS8FOepU6emaP5OibSek5cm7+17ZtL0CKWHq3q9KIVay7ntL8Xee50zEpCXKFHCBbnxXi+ld+fJk8eOPfbYg9r/2NfKe72y4rXyHHHEEfvt1NAUkIULF9qnn37q3ouaKqCq+gfC3wmSEbHvUU0ZUcCtVQqykvf58Ka4eLzU/dgl82L/Z16Qn5X/MwDIiQjsAQBZRsGK5m6nNWqvUTsFvEcffbQ98MADbjRQI9t9+/Z198cuKfbff//F/Ttp3Z4rV64Uj6PK7rGj6F5btGiRBWF/+56ZNA9co7reqL3m4SszQUFpeubPn+++nnHGGZm6P7HBoUfBf9CvlUfLDEp674+1a9dalSpVXL0C1YqoU6eOC/I1/z+jDrSGw6FI6/XNCkH8zwAgJ6J4HgAgS2mUXAGkV1TMT4GQinFdccUVKUbdFRhlJqU5i4JadSSkR+t4n3zyyaluV4GyoKQVAB/othrd/vjjj11gr/R7jd5r+br9mThxoku31v8xvSJ7XpCr0eN4r9epp57qAj3vf+1lJygzw19UMHbUN6teq4xo2bKl+6opG+nRe+ujjz5yTUGrRvFV1FHL5i1evDjT90vvURWx8yhL4phjjrFPPvkketuGDRtcQTs/FUHUdn4Hsm/6fJx55pnuOfp/T/9b734AQOIxYg8AyFIKqhUMqrJ47Ki9N5rnH73TfO54c9EPhYJNVbqPtw+ijAGPAiOtWX7uueemuN8/Nz3RFCjHTktIb1tJa3ul3Z9++ukue0Gvv0bx92f58uWuUrvSy++5555U9+v/p4yLsmXLugr/mit+5ZVXpgjQNdVBFdI1R95La1fAKxdddFF0u8MPP9xatWplB8t7/rEB7cG44YYbrG3btjZ9+nRXxyGjKyAo4P3ll1/c9wUKFMj0/RJlwWiai0dV8RW0qxPGo9fX/9rG+70D3Td9PtQxcP3116fIAGjfvr37v6o+BgAg8RixBwBkOS2jpZFPjer9+uuv0dsVAO7atcstWaflsDSfWUvkrVmzJlrMLrPcfffdLqicO3euC1LV4aCl7RTEayk5pVKLlmfTviqVWsuAecvdaSTyQIKypk2bxl2WTvUE9PwOhJZza968ufXp08elzutxNTKc1raiYmYaZVbwrgJmHo3Yq7aAlvpTkKZOj4x48MEHXUHDgQMHusKA+vsacdd8fc3V1//W6yR47LHHXCE5vd4audZovzpVFORquTP//1+vq+akex0NWsJO+3Swo/Zz5sxxf08ZIurc0PtLQfn+nqf3/1LNAXVQqBNDhf70eHp+6Rk2bJgL7vV31AmifVeg+9NPP0Xnnh/sfqVF+6nsE29Zx7vuussVptNUAP9+6XOlJQL1vjvrrLPc84r9mweybyrap/+lphlUq1bNli5d6l47vVZaMi+tpRgBAFkv8NL8NBqNRst+y93F3qfltSR2ubvGjRtH5syZE9m+fbtbdu2hhx6KtG7dOu5yZ1r2LfZxRUu8+W/zltp68MEHU9yu5ddeffXVyD///BPZtWtX5O+//4588MEHkWuuuSbFdpUrV3ZLfGmftE2XLl0ibdq0OeTl7vxLinnL3Wmpsf0tYXf44YdHRo8eHdmwYYO7z1tqLd62WnJtwIABkdWrV0f++++/uMvJDRo0yN3evHnzA/r/6rFvueWWyLRp09zyf3oNtS/Dhw9PtRRelSpV3LKFWgJt69atkalTp6ZYqtBrZ599dmTGjBluebylS5dG7rvvvjSXu4v3/49djk3t1ltvdcsl7tmzZ79L38X+v/Q//+uvv9z7Qu/D2OUR4y13p/fPp59+Glm1alX0eQwZMiRSqlSpDO1XWs8tveXuatWqFXnppZci69evd6/x66+/HilevHiK382VK1ekV69ekTVr1rj/gf4f5cuXT/WY6e1bvNe3RIkS7n+ux9Xz1TKS/vdgep/B9Jbho9FoNJoddMv1v28AAEAOoeKEt956q5uWkMiibQAAIGswxx4AgBxE6fAqgjdhwgSCegAAsgnm2AMAkANofXkt66f50EcddZSrHwAAALIHAnsAAHKA0047zcaOHWurV6+2Dh062M8//xz0LgEAgEzCHHsAAAAAAEKMOfYAAAAAAIQYgT0AAAAAACHGHPsMKlOmjG3ZsiXo3QAAAAAA5BCFCxe2f/75Z7/bEdhnMKhfsWJF0LsBAAAAAMhhypYtu9/gnsA+A7yRer2gjNoDAAAAABIxWq8B5ozGoJGg2pIlSyLxDBo0yN1foEAB9/26desiW7Zsibz99tuRkiVLpniMY489NvLRRx9Ftm3bFlm9enWkd+/ekTx58qTYpnbt2pHZs2dHdu7cGfnjjz8irVq1OqD9LFy4sNsvfQ3y9aLRaDQajUaj0Wg0Ws5ohQ8gDg20eN65555rpUuXjrZ69eq529966y33tV+/ftakSRO77rrrrHbt2i4l/p133on+fu7cue3jjz+2/PnzW82aNa1Vq1bWunVr69atW3SbE044wW3zxRdfWJUqVax///42bNgwa9CgQQDPGAAAAACAzBdJltavXz83oq7vixQpEtm1a1fk2muvjd5/yimnuB6L888/3/3csGHDyN69e1OM4t9xxx2RjRs3RvLly+d+fuaZZyJz585N8XfGjRsXmThxYpb0lNBoNBqNRqPRaDQajWY5ZcTeL1++fHbTTTfZiBEj3M/VqlVzI/FTpkyJbrNgwQJbtmyZ1ahRw/2sr3PnzrU1a9ZEt5k0aZIVLVrUTj/99Og2/sfwtvEeIx79Xc1n8LewOfvss+3999+39evX27Zt29zr1L59e3ff8ccfb5FIJM328ssvRx9HmRJpbXf++edHtzvssMPsrrvucq+tCjts3rzZfvzxR2vXrp3LrAAAAAAAZI2kKZ531VVXWbFixezVV191Pys1f9euXbZp06YU261evdrd522jn2Pv9+5LbxsF/wULFrSdO3em2pfOnTvbk08+aWFVv359+/DDD+2nn36y7t2729atW+2kk06ycuXKufvXrl3rOlFiNWzY0N0+efLkVPcNGDDAZs6cmeK2RYsWRb8vX768DRw40KZOnWp9+/Z1gf2ll15qQ4YMserVq7spEgAAAACAbBzY33rrrTZx4kRbuXJl0LtivXr1csFpbDXCMNC+vvbaa66uQNOmTd3Ieqzt27fbmDFjUt2u4FsdKeoUiPX111/bhAkT0vy7q1atsjPOOMN+//336G0a+R8+fLjdcsstroNh8eLFh/TcAAAAAACpJUWO9HHHHecK56monT9QLFCggBtZ9ytVqpS7z9tGP8fe792X3jYKYOON1svu3bvdkgL+FhYtWrRwWQpdunRxQf3hhx9uuXLl2u/v6Xfq1KnjihMqUyKeI444wvLkyRP3PqX8+4N6z7vvvuu+VqpU6YCfCwAAAAAgJIF9mzZt3Dx5jTJ7Zs+e7QLsunXrRm+rWLGimx8+Y8YM97O+apS4RIkSKdLQFbR7Qaa28T+Gt433GNmNOkj0/MuWLWvz58938+uVFv/iiy+6jpK0NG/e3AXt8UbyZeTIka6DQ50hn3/+uauBkBHelIh169Yd5DMCAAAAAOxPoJX+cuXKFVm6dGmkV69eqe578cUX3X0XX3xxpGrVqpFvv/3WtWjlv9y5I7/88kvk008/jZx55pmRBg0auLXse/bsGd3mhBNOiGzdujXy7LPPuqr6d955Z2TPnj1u26yoRhh0mzNnjnu+agMGDIhcffXV7quMHTs2zd+bOXNmZMWKFe7/4b+9Ro0akbfeeivSpk2bSJMmTSKPPPJIZO3atZHt27dHqlSpku6+aGWCX3/9NbJ48eJInjx5An9taDQajUaj0Wg0Gs1C0g4wDg12Z+vXr+929uSTT051X4ECBSKDBg2KrF+/3gWqEyZMiJQqVSrFNscdd1zk448/jmzbti2yZs2ayHPPPZcqiKxdu3bkxx9/jOzcuTOyaNGiSKtWrbLyBQ206fmJOkX8tw8ZMsTdXqFChVS/o9de+vTpk6G/cdJJJ7nXe39LBg4dOtQ97mWXXRb460Kj0Wg0Go1Go9FoFqIWqsA+DC1Mgf3cuXPdvtaqVSvF7fpZWrZsmep3nnzySXefsiIy+nc0+q+OEmVNxLu/Y8eO7jG7dOkS+GtCo9FoNBqNRqPRaBayFsp17JE5tIa8xC7xpxoGUrx48bgF9zQfX+vOZ9Tff//t5uwXKlQo1X2tWrWyZ5991i1117Nnz4N4FgAAAACAjCKwz2ZUdFBUPM+vTJky0TXs/c477zw7+eST0yyalxatW79jxw7bunVrituvuOIKt7qBquvffffdB/ksAAAAAAAZRWCfzYwfP959vfXWW1Pc3rZtW9uzZ499+eWXqUbrZezYsXEf7+ijj05125lnnukC+MmTJ7sl9Ty1atWyN954w7766iu78cYbU9wHAAAAAMgaebPocRGQOXPm2PDhw11gnzdvXps2bZpdfPHF1qxZM3v66adt5cqV0W1z585t119/vVv6788//4z7eG+++aYbmZ8+fbpL5z/ttNPs9ttvt+3bt1unTp2i2x133HH2wQcfuGD+7bfftuuuuy7F4/zyyy82d+7cLHzmAAAAAJBzBV4UINlbmIrnqeXNmzfStWvXyJIlSyK7du2KLFy4MHLvvfem2k5L/sk999yT5mO1b98+8t1330XWrVsX2b17t1sS77XXXnOV8WNXHkjPE088EfjrQqPRaDQajUaj0WiWDePQXP/7BukoXLiwbd682YoUKWJbtmwJencAAAAAANlc4QOIQ5ljDwAAAABAiBHYAwAAAAAQYgT2AAAAAACEGFXxs6FeP6Zcqz5ZdK5aIuhdAAAAAIBshxF7AAAAAABCjMAeAAAAAIAQI7AHAAAAACDECOwBAAAAAAgxAnsAAAAAAEKMwB4AAAAAgBAjsAcAAAAAIMQI7AEAAAAACDECewAAAAAAQozAHgAAAACAECOwBwAAAAAgxAjsAQAAAAAIMQJ7AAAAAABCjMAeAAAAAIAQI7AHAAAAACDECOwBAAAAAAgxAnsAAAAAAEKMwB4AAAAAgBAjsAcAAAAAIMQI7AEAAAAACDECewAAAAAAQozAHgAAAACAECOwBwAAAAAgxAjsAQAAAAAIMQJ7AAAAAABCjMAeAAAAAIAQI7AHAAAAACDECOwBAAAAAAgxAnsAAAAAAEKMwB4AAAAAgBAjsAcAAAAAIMQI7AEAAAAACDECewAAAAAAQozAHgAAAACAECOwBwAAAAAgxAjsAQAAAAAIMQJ7AAAAAABCjMAeAAAAAIAQI7AHAAAAACDECOwBAAAAAAgxAnsAAAAAAEKMwB4AAAAAgBAjsAcAAAAAIMQI7AEAAAAACLHAA/syZcrY66+/buvWrbPt27fbL7/8YtWqVUuxzVNPPWX//POPu/+zzz6zChUqpLi/ePHiNnr0aNu0aZP9+++/NmzYMCtUqFCKbc444wz76quvbMeOHfbXX3/ZQw89lJDnBwAAAABAtg3sixUrZt9++63t2bPHLrvsMjvttNPswQcfdMG55+GHH7YOHTpYu3bt7Pzzz7dt27bZpEmTrECBAtFtxowZY6effrrVr1/fGjdubBdddJG9/PLL0fsLFy5skydPtmXLlrlOAwX1Tz75pN12220Jf84AAAAAAGSmXGYWsYD06tXLLrjgAheIp0Uj9X369HFNihQpYqtXr7bWrVvbm2++aaeeeqrNmzfPzjnnHJs9e7bb5tJLL7VPPvnEypUrZytXrnSdAj179rTSpUu7TgTvb1911VVWqVKl/e6nOgY2b97s/vaWLVss2fX6ca0lo85VSwS9CwAAAAAQCgcShwY6Yn/FFVfYrFmzbPz48S5Y//HHH61t27bR+0888UQ75phjbMqUKdHb9MS+//57q1GjhvtZXzXC7wX1ou337dvnRvi9bZSG7wX1olF/dQooayBW/vz53YvobwAAAAAAJKNAA/vy5cvbnXfeaX/88YcbZR8yZIi98MILdvPNN7v7NcIuCvr99LN3n76uWbMmxf3//fefbdiwIcU28R7D/zf8Onfu7DoQvLZixYpMfd4AAAAAAGSLwD537txulL5Lly42Z84ce+WVV1xT6nyQlKavdAevlS1bNtD9AQAAAAAgKQN7zX///fffU9ym+fLHHXec+37VqlXua6lSpVJso5+9+/S1ZMmSKe7PkyePHXnkkSm2ifcY/r/ht3v3bjeHwd8AAAAAAEhGgQb2qoh/yimnpLitYsWKrnq9LFmyxAX/devWjd6v+e6aOz9jxgz3s75qubuqVatGt7nkkktcNoDm4nvbqEBf3rx5o9uogv78+fNt48aNWf48AQAAAADIloF9v379rHr16m5O+0knnWQ33HCD3X777TZ48ODoNv3797fHHnvMmjRpYpUrV7bXXnvNVcp/77333P0KzidOnOhS+M8991yrWbOmDRo0yN544w3XKSBjx451o/DDhw93S+o1a9bM7r33Xuvbt29gzx0AAAAAgMzwf0PYAVBF/KuvvtrNae/atasbob/vvvtcIO7p3bu3FSpUyK1Lrwr233zzjTVs2NB27doV3ebGG290wfzUqVNdNfwJEyZYhw4doverAF6DBg1ch4Gq569bt866devmOgMAAAAAAAizQNexDwvWsc8crGMPAAAAANlsHXsAAAAAAHBoCOwBAAAAAAgxAnsAAAAAAEKMwB4AAAAAgBAjsAcAAAAAIMQI7AEAAAAACDECewAAAAAAQozAHgAAAACAECOwBwAAAAAgxAjsAQAAAAAIMQJ7AAAAAABCjMAeAAAAAIAQI7AHAAAAACDECOwBAAAAAAgxAnsAAAAAAEKMwB4AAAAAgBAjsAcAAAAAIMQI7AEAAAAACDECewAAAAAAQozAHgAAAACAECOwBwAAAAAgxAjsAQAAAAAIMQJ7AAAAAABCjMAeAAAAAIAQI7AHAAAAACDECOwBAAAAAAgxAnsAAAAAAEKMwB4AAAAAgBAjsAcAAAAAIMQI7AEAAAAACDECewAAAAAAQozAHgAAAACAECOwBwAAAAAgxAjsAQAAAAAIMQJ7AAAAAABCjMAeAAAAAIAQI7AHAAAAACDECOwBAAAAAAgxAnsAAAAAAEKMwB5Jo3bt2haJROK2888/P8W2NWrUsK+//tq2bdtmK1eutAEDBlihQoVSbHPaaafZ+PHjbfHixW67tWvX2rRp06xx48ap/nZaf1dt8uTJWf7cAQAAAOBg5T3o3wSyiIL0mTNnprht0aJF0e/POussmzp1qs2bN88eeOABK1eunHXs2NFOPvlku/zyy6PbHX/88Va4cGEbNWqU/fPPP3b44Yfbtddeax9++KHdfvvt9sorr0S3vemmm1LtxznnnGP33XcfgT0AAACApEZgj6SjkfgJEyakef/TTz9t//77r1188cW2ZcsWd9vSpUtt2LBhVr9+ffvss8/cbRMnTnTNb9CgQTZ79mzXIeAP7MeMGZPq7+jx9+3bZ+PGjcvEZwcAAAAAmYtUfCSlI444wvLkyZPqdo3AK3gfPXp0NKiX1157zf3crFmzdB9Xgfrff/9txYoVS3e7/Pnzu9F9pe6vWLHiEJ4JAAAAAGQtAnsknZEjR7ogfefOnfb5559btWrVovedccYZli9fPps1a1aK39mzZ4/NmTPHzj777FSPpxT8o446ysqXL+9S6y+77DKXyp8epfQXL1487kg+AAAAACQTUvGRNHbv3m1vv/22ffLJJ7Zu3TpX/E5z55WaX7NmTRe4H3PMMW5bFcyLpdtq1aqV6vY+ffpYu3bt3Pf//fefvfPOO3bPPfekuy833nij61jQ/gAAAABAMiOwR9KYMWOGXXfdddGfVeROgfUvv/xivXr1ciPthx12mLtv165dqX5fgbh3v1///v3d45QpU8al6ivFX6n2aVG6f6NGjVwHw6ZNmzLt+QEAAABAViAVH0lNS9W9//77VqdOHcudO7ft2LHD3V6gQIFU2xYsWDB6v9+CBQtc6v3rr79uTZo0cfP31WmQFs2tVwcBafgAAAAAwoDAHklPxe4UyGudei8F30vJ99NtWtZufzR6f95551nFihXTTMPfuHGjffTRR5mw9wAAAACQtQjskfRU9E4j8Vu3brVff/3VFcrTGvN+KqhXpUoVNw9/f7x0/aJFi6a6r3Tp0i47QMvtac4/AAAAACQ7AnskjaOPPjrVbWeeeaZdccUVNnnyZItEIrZ582abMmWK3XTTTS6l3tOyZUs3N/6tt96K3laiRIlUj5c3b167+eabbfv27fb777+nur958+ZuDj5p+AAAAADCguJ5SBpvvvmmG5mfPn26rVmzxlXFv/32210Q3qlTp+h2Xbp0cdtojfmXX37ZypUrZw8++KBNmjTJNc/QoUOtSJEi9tVXX7m16DUarzT7SpUq2QMPPGDbtm1LtQ+6X9t++eWXCXveAAAAAHAoGLFH0njvvffcqL2C7hdffNGuv/56tzSd0u7nz58f3e6nn36yevXquU6Afv36ueB/+PDh1rRp01QdBfv27bM777zThgwZ4h53+fLlLgNAvxdLc+71t9544w2XHQAAAAAAYZDLzIhg9kMp3koB1+jvli1bLNn1+nGtJaPOVVOnxgMAAAAADi0OZcQeAAAAAIAQCzSwf+KJJ1zKs7/Nmzcver+WOBs0aJCtW7fO9VBombKSJUumeIxjjz3WLUum+dKrV6+23r17u+JnfrVr17bZs2fbzp077Y8//rBWrVol7DkCAAAAAJCVAh+x1/JlKmrmtQsvvDB6n+ZBN2nSxK677joXnJcpU8bNufbkzp3bPv74Y8ufP7/VrFnTBeytW7e2bt26Rbc54YQT3DZffPGFWw6tf//+NmzYMGvQoEHCnysAAAAAANmuKv7evXvdSHsszSO49dZbrUWLFi4olzZt2rgiaueff759//33LjhX5XQVUlMV9Z9//tkef/xxe/bZZ+3JJ5906523a9fOlixZYh07dnSPod9X58H999/vllBDcqE+AAAAAACEbMT+5JNPdsuLLV682EaPHu1S66VatWpuJF5rlnsWLFhgy5Ytsxo1arif9XXu3LkuqPdoubOiRYva6aefHt3G/xjeNt5jxKO/q0IF/gYAAAAAQDIKNLDXqLtS5xs2bOiWJDvxxBPt66+/tiOOOMKl5e/atcs2bdqU4nc0uq/7RF9jR/u9n/e3jYL/ggULxt2vzp07u+qDXlPHAwAAAAAAySjQVPxPP/00+r1G3hXoa0S+WbNmbo3yoPTq1cv69u0b/Vkj9gT3AAAAAIBkFHgqvp9G5xcuXGgVKlSwVatWuar4Gln3K1WqlLtP9FU/x97v3ZfeNvpbqpIfz+7du10Vfn8DAAAAACAZJVVgX6hQITvppJNs5cqVbnk6Bdh169aN3l+xYkU7/vjjbcaMGe5nfT3jjDOsRIn/K2xWv359F7T//vvv0W38j+Ft4z0GAAAAAABhFmhg/9xzz9lFF13kgnUVs3v33Xftv//+s3Hjxrm57cOHD3cp8RdffLFVrVrVRo4cadOnT3cp+6Kq9grgX3/9dTvzzDNdlfwePXrY4MGDXaeAvPTSS1a+fHlXKf+UU05xc/mV6q+l9AAAAAAACLtA59iXK1fOBfFHHXWUrV271r755hurXr26rVu3zt2vJen27dtnEyZMcGn5qmZ/1113RX9f9zVu3NiGDBniRuC3bdtmo0aNsq5du0a3Wbp0qTVq1MgF8vfee68tX77c2rZty1J3AAAAAIBsIZeZRYLeiWSn4nnKIChSpEgo5tuHeS34MO87AAAAAAQRhybVHHsAAAAAAHBgCOwBAAAAAAgxAnsAAAAAAEKMwB4AAAAAgBAjsAeyyKOPPmqRSMTmzp2b4vYvvvjC3R7bJk6cmGI7Le8YbzuvlSlT5oAfEwAAAED2E+hyd0B2VbZsWRfYb926Ne79f//9t3Xu3DnFbf/880+Kn4cOHWpTpkxJcVuuXLnspZdecss4xm6fkccEAAAAkP0Q2ANZ4Pnnn7fvvvvO8uTJY0cffXSq+zdt2mRjxoxJ9zH0+2p+F1xwgRUqVCju72bkMQEAAABkP6TiA5msVq1a1rRpU7vvvvvS3U5Bv4L0A9GiRQvbt2+fjR07NtMeEwAAAEC4EdgDmSh37tw2cOBAGzZsmP36669pblexYkXbtm2bS9VfuXKldevWzfLmTT+BRvc3a9bMpk+fbsuWLcuUxwQAAAAQflz1A5moXbt2dvzxx1u9evXS3Gbx4sWu2J2K6ml0XaP7jz/+uAvMmzdvnubvXXrppS6tP166/cE+JgAAAIDwI7AHMsmRRx7pRsm7d+9u69atS3O7tm3bpvh59OjRrlDe7bffbv369bPvv/8+zTT83bt32/jx4zPtMQEAAACEH6n4QCbp0aOHbdiwwaXiH6g+ffq4r2mN9GsU/sorr7RJkya5v5EZjwkAAAAge2DEHsgEFSpUcKPjKpjnX1++YMGCli9fPpeev3nzZvv333/j/r6WqvNG/eO56qqr0qyGn5b9PSYAAACA7IEReyCT1q1XRXqN1muNea9Vr17dTjnlFPd9165d0/z98uXLu69r166Ne/+NN95oW7ZssQ8++CDD+7S/xwQAAACQPTBiD2QCVcDXqHq89PzChQvbvffe6wrc6ftdu3a5ufJ+jz32mPuqVPtYKpindPpx48bZjh07Ut1/MI8JAAAAIPsgsAcywfr16+39999Pdbu3lr13X+3atV2ArrZo0SI77LDD7Oqrr7YLL7zQFbv76aefUj3G9ddf79L500rDr1q16gE/JgAAAIDsg8AeSCCtP//111+7wLt06dK2b98+mzdvnt1xxx328ssvp5mGv3r1apsyZUqmPSYAAACA7IPAHshCderUSfGz5tprBP5A1KxZM937D+YxAQAAAGQfFM8DAAAAACDECOwBAAAAAAgxAnsAAAAAAEKMOfZAJur1Y3KuGd+5aomgdwEAAABAFmHEHgAAAACAECOwBwAAAAAgxAjsAQAAAAAIMQJ7AAAAAABCjMAeAAAAAIAQI7AHAAAAACDECOwBAAAAAAgxAnsAAAAAAEKMwB4AAAAAgBAjsAcQ16OPPmqRSMTmzp2b4vb69evbsGHD3O179+61JUuWpPs45cuXtzFjxtjq1att+/bttnDhQuvRo0eq7a677jqbMWOG/fvvv7Zu3Tr78ssv7fLLL8/05wUAAABkNwT2AFIpW7asC+y3bt2a6r4WLVq4tmnTJvvnn3/SfZyzzjrLZs+e7b726dPH2rdvb+PGjbMyZcqk2O6ee+6x8ePHu4C+U6dO1r17dytatKh9/PHHdvXVV2f68wMAAACyk7xB7wCA5PP888/bd999Z3ny5LGjjz46xX0K+G+77TY3Wv/hhx9a5cqV4z5Grly57PXXX7f58+dbnTp1bOfOnWn+PQX8P/zwgzVp0iR624gRI2zFihXWqlUre/fddzPx2QEAAADZCyP2AFKoVauWNW3a1O677764969cudIF9fvToEEDO+OMM+ypp55yQf1hhx1muXPHP+QUKVLE1qxZk+K2LVu2uIyBHTt2HOQzAQAAAHIGAnsAUQq8Bw4c6ObQ//rrr4f0WPXq1XNfd+3aZTNnznTz69WUil+8ePEU22o+fcOGDV1K/vHHH2+nnHKKDRo0yKXjDxgw4JD2AwAAAMjuSMUHENWuXTsXWHtB+aE4+eST3VfNnf/000+tV69ebq59586d7dhjj7ULL7wwum2HDh1cyr86FdRk7dq1VrduXTclAAAAAEDaCOwBOEceeaR169bNFa5TEbtDdcQRR7ivGq1v2bKl+/6dd95xo/bPPPOMC9qnTp3qbtdtCxYssOXLl9tHH31khQsXtvvvv99tr6kBixcvPuT9AQAAALIrUvEBOFqCbsOGDdER80PlzY1X6r3f2LFj3deaNWtGb3vrrbfsuOOOszZt2tiECRPs1VdftYsvvtjy589vPXv2zJT9AQAAALIrRuwBWIUKFez22293BfP8S9EVLFjQ8uXL59LzN2/e7NaYzyhvKTytX+/nFcnz5tmfeOKJdtlll7lK+376W998841dcMEFh/TcAAAAgOyOEXsAbt16LW2n0fqlS5dGW/Xq1V0hO33ftWvXA3pMrV/vPbaf13GgOfRSqlQp91V/P5Y6FfLmpf8RAAAASA+BPQBXAf+qq65K1XT7smXL3PfDhw8/oMd8//333TJ3Sq/Xmvaetm3buq+fffaZ+7po0SL777//7Prrr0/x++oQ0Pz6n376KVOeIwAAAJBdMRQGwNavX+8C8VjeWvb++7Q2/RVXXBFN4deSdF26dHE///zzz674nZeCr/nxKsanqvjvvfeeq4qvlHvNs581a5bbToX6RowY4W5XMT0VzFPxvLvuussOO+wwV00fAAAAQNoI7AEckKpVq7pCe37ezyp65wX23u2aK9++fXvr37+/rVq1ygX7qr7vd+edd7pOgVtvvTUayKua/s0332xff/11Qp4XAAAAEFbKj40EvRPJTqOHKhxWpEgR27JliyW7Xj/+/7nLyaZz1RLZet+zw/4DAAAACF8cyhx7AAAAAABCjMAeAAAAAIAQI7AHAAAAACDEKJ4HwKE+AAAAABBOjNgDCL3TTjvNxo8fb4sXL7Zt27bZ2rVrbdq0ada4ceNU21533XU2Y8YMV61fS+19+eWXdvnll6fa7qSTTrK33nrLNmzY4B5T1fkvvvjiVNuNHDnSIpFIqjZv3rwse74AAACAHyP2AELv+OOPd1VDR40aZf/8848dfvjhdu2119qHH35ot99+u73yyituu3vuuccGDhzoluTr1KmTFSxY0Fq3bm0ff/yxXXPNNfbuu++67cqVK+eC///++8+ee+45F9i3adPGJk+ebHXr1k21BN/OnTutbdu2KW7btGlTAl8BAAAA5GQsd5cBLHeXOVjuLjg54bWPlTt3bps9e7YL3itVquRuW7BggW3cuNHOP//8FJ/vFStW2Oeff25XXXWVu23QoEGuQ6By5cq2cOFCd9thhx1m8+fPd9kA55xzTooR+6ZNm7rHAQAAADILy90ByPH27dtnf//9txUrVix6mw6Ka9asSbGdDpJbt261HTt2RG+rVauW/fTTT9GgXnT/Bx98YNWqVbMKFSrE7UgguAcAAEAQCOwBZBtKwT/qqKOsfPnydt9999lll11mU6dOjd6v+fQNGzZ0KflK3z/llFPc6HzRokVtwIAB0e0KFCiQItD3bN++3X1VcB/7d9WbqrZ+/Xr3mIUKFcrS5woAAAAkXWD/yCOPuIJT/fr1S3FxrQtkFbjSqNrbb79tJUuWTPF7xx57rJsvqzmwq1evtt69e1uePHlSbFO7dm2Xkqt5sH/88Ye1atUqYc8LQOL06dPHHS9URO/55593c+YVxHs6dOjggnvNs1+6dKlLrW/WrJmbN//dd99Ft1PK/plnnmlHHHFEise/8MIL3deyZctGb1u5cqU77mgOfvPmzd2o/t13322ffvppqmMRAAAAkG2L52m+6h133GE///xzitsV5Ddq1MhVsVYhKgX577zzTvTiWqmvKnq1atUqq1mzph1zzDH22muv2Z49e6xLly5umxNOOMFt89JLL9mNN97oLuCHDRvmLsZVCAtA9tG/f3/XAVimTBkXsCuwzp8/f4oRdwXty5cvdx2CSp2///773XFF6ffqEJAhQ4bYFVdcYW+++aY7lqjj8K677orOrdd8e8+jjz6aYh/0O0rhf/rpp93ce/0MAAAAZOsRe6Wrjhkzxm677Ta3/JR/Luytt95qDzzwgH3xxRf2448/uhGxCy64IFr4qkGDBm6Zq5tuusl1CmiE7PHHH3ejZfny5XPbtGvXzpYsWWIdO3Z0o3ODBw92F/66mAeQvShoV+r966+/bk2aNHEj7qqM79Hydccdd5w7lkyYMMFeffVVt4Sdgv+ePXtGt9OxRCP9F110UXSuvToZvQ5DzclPjzolVVG/Xr16WfhsAQAAgCQJ7BVoa0TdPw/Wm8Oqi+0pU6akuGhftmyZ1ahRw/2sr3Pnzk1RDGvSpEluvuzpp58e3cb/GN423mMAyL7UiXfeeedZxYoV7cQTT3Rz7pUq76cOxW+++cZ1GsYem0qVKuWOFToenXrqqdEl7PxF9eLRtB/NtT/yyCOz4FkBAAAASZSKf/3111vVqlXt3HPPTXVf6dKlbdeuXanWgtY8et3nbaOfY+/37ktvGwX/WgZLF+Cx1KGg+f0eKl0D4eSlzOvz7s13jzfvXRk+efOmPhwqdd8/914j8Lrt22+/TffvKlPg6KOPdkvjAQAAANl2xL5cuXKuCrXmvSuATyadO3eOVrhW0xrXAJJXiRKp17pXoH7zzTe7QPz333+3RYsWufR4dSj6qRCet7xdejRyf80119jw4cPdcUHUARhbYE80JUg1QJTSDwAAAGTbEXultirNVXPnozuTN6+b06q5rZdeeqm7aNZIm3/UXr+jYnmir0qz9dP93n3eV+82/zZ6zHij9dKrVy/r27dvihF7gnsgeQ0dOtTV5fjqq6/cZ1WZOuo0rFSpkqvToeJ3aiNGjHD1PDT1RwXz9NlWUTyN7Otz79E8/PHjx7u0fR1DNLVH9Tp++eWXFMXy9HfUITBu3DhXw0N07NJ8/IkTJ9r7778fyOsBAACAnCWwwF4X1pUrV05x28iRI93F8bPPPmt///237d6921Wx1wW4aJ6s1p6eMWOG+1lfVcxKo3Veymv9+vVd0K4ROm+byy+/PMXf0TbeY8Sjv6sGIBxUeV7FNu+88063jr2Wx9QSl1pG0188T/er0Ka29QL5mTNnupH9r7/+OrqdRuS1coY6GTVPXp0FL7zwgiuw5y+ct3HjRlddX8cULaOpNH9lBijrR8vtaQlPAAAAINsG9ro4/u2331LcphE1FZzyblfKq0bON2zY4C60tfb09OnT7fvvv3f3a7k6BfCqgP3www+70bMePXq4oldeYK5l7nRxrs4CjdZdcsklbhksjagByD6BfUaWlVMqvo4PaulRwH711Vfv9/HUiahOAQAAAMBy+jr2adGSdPv27XPLUiktX9XslTbr0X2NGzd2a05rBF4dA6NGjbKuXbtGt1m6dKkL4rX81L333uvWr27bti1r2AMAAAAAsoWkCuzr1KmT4mcV1dNou1pa/vrrr/2Ovk+bNs1V3wcAAAAAILtJqsAeAA5Wrx+Tc2m5zlVTV+wHAAAAssVydwAAAAAA4NAR2AMAAAAAEGIE9gAAAAAAhBiBPQAAAAAAOS2wX7x4sR155JGpbi9atKi7DwAAAAAAJHFgf8IJJ1iePHlS3a615suWLZsZ+wUAAAAAADJ7ubsmTZpEv7/00ktt06ZN0Z8V6NetW9eWLl16IA8JAAAAAAASFdi/99577mskErFRo0aluG/Pnj0uqH/wwQcPZX8AAAAAAEBWBfZe+v2ff/5p5557rq1fv/5Afh0AAAAAAAQZ2HvKly+f2fsBAAAAAAASFdjLJZdc4ubUlyxZ0nLnTlmD79Zbbz3YhwUAAAAAAFkd2Hft2tW1WbNm2cqVK92cewAAAAAAEJLAvl27dta6dWsbPXp05u8RAAAAAADI2nXs8+fPb9OnTz+YXwUAAAAAAEEH9sOGDbMWLVpk5n4AAAAAAIBEpeIXLFjQbr/9dqtXr5798ssvbg17P9ayBwAAAAAgiQP7M8880+bMmeO+r1y5cor7KKQHAAAAAECSB/Za6g4AAAAAAIR0jj0AAAAAAAjxiP3nn3+ebsp93bp1D2WfAAAAAABAVgb23vx6T758+axKlSpuvv2oUaMO5iEBAAAAAECiAvsHHngg7u1PPPGEHXHEEQfzkAAAAAAAIOg59qNHj7ZbbrklMx8SAAAAAAAkKrCvUaOG7dy5MzMfEgAAAAAAZHYq/oQJE1L8nCtXLjvmmGPsnHPOse7dux/MQwIAAAAAgEQF9ps2bUrx8759+2zBggXWtWtX++yzzw7mIQEAAAAAQKICe+bRAwAAAAAQ4sDeU7VqVatUqZL7/rfffku1DB4AAAAAAEjCwL5EiRL2xhtv2MUXX2wbN250txUrVsy++OILa968ua1bty6z9xMAAAAAAGRWVfyBAwda4cKF7fTTT7ejjjrKtcqVK1uRIkXshRdeOJiHBAAAAAAAiRqxb9iwodWrV8/mz58fvW3evHl299132+TJkw/mIQEAAAAAQKJG7HPnzm179uxJdbtu030AAAAAACAxDioK//zzz23AgAFu7XpPmTJlrF+/fjZ16tTM3D8AAAAAAJDZgf0999zj5tMvXbrUFi1a5NqSJUvcbe3btz+YhwQAAAAAAImaY798+XK31J3m2Z966qnROfaM1gMAAAAAkMQj9nXq1HHr1asivkyZMsUGDRrk2syZM+3XX3+1Cy+8MKv2FQAAAAAAHEpgf99999krr7xiW7ZsSXXf5s2bbejQofbAAw8cyEMCAAAAAIBEBfZnnXWWffrpp2ner6XuqlWrdij7AwAAAAAAsiqwL1WqVNxl7jx79+61EiVKHMhDAgAAAACARAX2K1assMqVK6d5/5lnnmkrV648lP0BAAAAAABZFdh/8skn1r17dytQoECq+woWLGhPPfWUffTRRwfykAAAAAAAIFHL3fXo0cOuueYaW7hwoauEv2DBAne7lry7++67LU+ePNazZ89D2R8AAAAAAJBVgf2aNWusZs2aNmTIEOvVq5flypXL3R6JRGzSpEkuuNc2AAAAAAAgCQN7+euvv6xRo0ZWrFgxq1Chggvu//jjD9u4cWPW7CEAAAAAAMi8wN6jQH7WrFkH++sAAAAAACDRxfMAAAAAAEByIbAHAAAAACDECOwBAAAAAAgxAnsAAAAAAEKMwB4AAAAAgBAjsAcAAAAAIMQI7AEAAAAACDECewAAAAAAQizQwL5du3b2888/26ZNm1ybPn26NWzYMHp/gQIFbNCgQbZu3TrbsmWLvf3221ayZMkUj3HsscfaRx99ZNu2bbPVq1db7969LU+ePCm2qV27ts2ePdt27txpf/zxh7Vq1SphzxEAAAAAgGwb2C9fvtw6depk1apVs3POOcc+//xze//99+20005z9/fr18+aNGli1113nQvOy5QpY++8807093Pnzm0ff/yx5c+f32rWrOkC9tatW1u3bt2i25xwwglumy+++MKqVKli/fv3t2HDhlmDBg0Cec4AAAAAAGSmvBYgjbT7PfbYY3bnnXda9erVXdB/6623WosWLVxQLm3atLH58+fb+eefb99//70LztUJUK9ePVuzZo0b/X/88cft2WeftSeffNL27NnjsgKWLFliHTt2dI+h37/wwgvt/vvvt8mTJwfyvAEAAAAAyHZz7DX6fv3111uhQoVsxowZbhRfI/FTpkyJbrNgwQJbtmyZ1ahRw/2sr3PnznVBvWfSpElWtGhRO/3006Pb+B/D28Z7DAAAAAAAwizQEXupXLmyC+QLFixoW7dutauvvtrmzZvn0uZ37drl5t77aR596dKl3ff6qp9j7/fuS28bBf/6m5p3H0sdCprf7ylcuHAmPmMAAAAAALLRiL1G4RXEK71+yJAhNmrUKKtUqVKg+9S5c2fbvHlztK1YsSLQ/QEAAAAAIGkDe82DX7x4sf3444/26KOPunny9957r61atcqNmmtk3a9UqVLuPtFX/Rx7v3dfetsoEyDeaL306tXLihQpEm1ly5bN1OcMAAAAAEC2CezjzbVXQK/l6Xbv3m1169aN3lexYkU7/vjjXeq+6OsZZ5xhJUqUiG5Tv359F7T//vvv0W38j+Ft4z1GPPq7Wl7P3wAAAAAASEaBzrF/+umnbeLEifbXX3+5eeyqgH/xxRfbpZde6lLghw8fbn379rUNGza4nwcOHOjWuldFfFFVewXwr7/+uj388MNuPn2PHj1s8ODBLjiXl156ye655x5XKX/EiBF2ySWXWLNmzaxRo0ZBPnUAAAAAAMIf2JcsWdJee+01O+aYY9wo+y+//OKCeq+KvZak27dvn02YMMGN4qua/V133RX9fd3XuHFjNzdfI/Dbtm1zc/S7du0a3Wbp0qUuiO/Xr59L8dcyem3btmWpOwAAAABAthBoYK8AOz2qiq/RdrW0aLR/f6Pv06ZNs6pVqx70fgIAAAAAkKySbo49AAAAAADIOAJ7AAAAAABCjMAeAAAAAIAQI7AHAAAAACDECOwBAAAAAAgxAnsAAAAAAEKMwB4AAAAAgBAjsAcAAAAAIMQI7AEAAAAACDECewAAAAAAQozAHgAAAACAECOwBwAAAAAgxAjsAQAAAAAIMQJ7AAAAAABCjMAeAAAAAIAQI7AHAAAAACDECOwBAAAAAAgxAnsAAAAAAEKMwB4AAAAAgBAjsAcAAAAAIMQI7AEAAAAACDECewAAAAAAQozAHgAAAACAECOwBwAAAAAgxAjsAQAAAAAIMQJ7AAAAAABCjMAeAAAAAIAQI7AHAAAAACDECOwBAAAAAAgxAnsAAAAAAEKMwB4AAAAAgBAjsAcAAAAAIMQI7AEAAAAACDECewAAAAAAQozAHgAAAACAECOwB4AAnXPOOTZw4ED79ddfbevWrbZs2TJ788037eSTT06x3bnnnmuDBw+2WbNm2e7duy0SiaT5mO3atbPx48e7x9J2I0eOTHPbokWL2tChQ23NmjXu73/++ed29tlnZ+pzBAAAQNYisAeAAD3yyCN27bXX2tSpU+3ee++1l19+2S666CL78ccf7fTTT49ud/nll1vbtm1doP7nn3/u9zEvueQS++2332zPnj1pbpcrVy77+OOPrUWLFjZo0CB7+OGHrWTJkvbll19ahQoVMvV5AgAAIOvkzcLHBgDsR9++fV1g7Q/ANWI/d+5c69Spk7Vs2dLdNmTIEHv22Wdt586dboT/lFNOSfMxa9eubX/99Zf7fsuWLWlu17RpU7vgggvc1wkTJrjbNNK/cOFCe+qpp+zGG2/MxGcKAACArMKIPQAEaMaMGalG1RctWuRG2ytVqhS9TanyCuozwgvq90cB/apVq+ydd96J3rZu3ToX3F955ZWWP3/+DD8PAAAABIfAHgCSUKlSpVyQnZU0l14p/7Hz9X/44QcrVKiQVaxYMUv/PgAAADIHgT0AJBmlwJcrV86l5GelY445xlauXJnqdu+2MmXKZOnfBwAAQOYgsAeAJKK586p+P336dBs1alSW/q3DDjvMdu3alep2L+Vf9wMAACD5EdgDQBKl36tK/aZNm9z893379mXp39uxY4cVKFAg1e0FCxaM3g8AAIDkR1V8AEgCRYoUsYkTJ1qxYsWsVq1acVPkM5v+htLxY3m3/fPPP1m+DwAAADh0jNgDQMA0av7hhx+6YnWNGze2efPmJeTvzpkzx6pWrerWs/c7//zzbdu2bW7ZOwAAACQ/AnsACFDu3LldkbwaNWrYddddZ999913C/vbbb79tpUuXtmuuuSZ621FHHeX2Qx0Nu3fvTti+AAAA4OCRig8AAerTp49bM/6DDz6wI4880lXE9xszZoz7etxxx1nLli3d9+ecc4772qVLF/d12bJlNnr06OjvaNT/rLPOct/ny5fPzjzzzOi2+jtz586NBvYzZsywkSNH2mmnneaW17vrrrssT5489sQTTyTk+QMAAODQEdgDQICqVKnivl5xxRWuxfIC+xNPPNF69OiR4j7v5y+//DJFYH/ttdda69atoz8r3V5Nli9fHg3sVZzv8ssvt+eee846dOjgquDPnDnT/S5p+AAAAOFBYA8AAapTp06Gtps2bVqqufBpadOmjWsZsXHjRrvttttcAwAAQDgxxx4AAAAAgBAjsAcAAAAAIMQI7AEAB61QoUL25JNP2sSJE239+vUWiUSsVatWcbdVtX0V6/v3339doT7VBtAc/3jKly/v6gusXr3atm/f7ub8x9YYUNE//b3YlqjlAgEAAJIFc+wBIGC9flxryahz1RL73eboo492FfRVmf/nn39Os2bAPffcYwMHDrSPPvrIOnXqZAULFnRF+j7++GO33N67774b3VYV/RX0r1ixwq0aoA4DrQpw7LHHpnrcnTt3Wtu2bVPctmnTpoN6vgAAAGFFYA8AOGgrV6600qVLu5H1atWq2axZs+Ju1759e/vhhx+sSZMm0dtGjBjhgneN8HuBvQoEvv766zZ//nzXSaDAPT179+6NrhwAAACQUxHYAwAO2u7du11Qvz9FihRJtYTeli1bbOvWrbZjx47obQ0aNLAzzjjDLrvsMhfUawm+Xbt2uaX50pI7d243JUCPBwAAkBMFOsde6Zgawdm8ebO7MNSITcWKFVNsU6BAARs0aJCbj6mLtrfffttKliyZYhulZyq9c9u2be5xevfubXny5EmxTe3atW327NnuQvGPP/5Icw4oACDzKbW+YcOGLiX/+OOPt1NOOcUd24sWLWoDBgyIblevXj33VcH8zJkz3fx6tXHjxlnx4sVTPe7hhx/uziFqStnXYyrIBwAAyEkCDewVbA8ePNiqV69u9evXt3z58tnkyZPdhZqnX79+LnVTRZe0fZkyZeydd95JMVKjOZr58+e3mjVruoBd8za7desW3eaEE05w23zxxRdWpUoV69+/vw0bNsyNDAEAsl6HDh1ccK959kuXLnWp9s2aNbO6devad999F93u5JNPdl/Hjx/vtrn22mvt2WefdV8//PDDVNMA1JHbpk0ba968uX3wwQd2991326effpqqcxcAACA7CzQVX6mWfgrI165d6+Zpfv311y5189Zbb7UWLVq4oFx0AaeLvfPPP9++//57F5yfdtppbpRnzZo1rnjT448/7i4EVal5z5491q5dO1uyZIl17NjRPYZ+/8ILL7T777/fdSQAALKWRt0XLFhgy5cvdxlWhQsXdsdgddTWqlXLFi9e7LY74ogj3FeN1rds2dJ9r230+88884zrCJg6daq7/dFHH03xN958802X7v/0009b06ZN3c8AAAA5QVItd6eUTNmwYYP7qgBfI/FTpkyJbqMLQ1VfrlGjhvtZX+fOneuCes+kSZPcY51++unRbfyP4W3jPUYs/U1ddPobAODgvfXWW66yvTpnJ0yYYK+++qpdfPHF7njbs2fP6HbefHul3vuNHTvWfVVmVnqU5fXff/9FU/oBAABygqQJ7FUJWSny33zzjf3222/uNlVa1jzL2KWLNI9e93nbxBZu8n7e3zYK/rXkUqzOnTtH52yqqWozAODgnHjiiS5DS6nyflrPXsf8Cy64IHrbP//8477GHrO9ztt48+z9VEdFc+2PPPLITHwGAAAAyS1pAnvNta9cubKbJxm0Xr16uWkAXitbtmzQuwQAoVWqVCn3Nd68d9VWyZv3/2aFqcipxB53VV9FNF0rPUrlP/roo/e7HQAAQHaSFIG9iik1btzYrVnsHx1ftWqVq4rvpej7LxJ1n7eNd9Hov9+7L71tlAkQb41kLd+kCvz+BgA4OIsWLXLp8ddff32K2xW8a379Tz/9FL3t/fffd8dlpewrk8vTtm1b9/Wzzz5zX3Vu8Obj+6nGioqqqoAeAABATpE3GYL6q6++2s21VKVkP43cKMhWsSSvEr6Ww9NSSTNmzHA/62uXLl2sRIkS0REaVdhX0P77779Ht7n88stTPLa28R4DAHDwVIm+WLFi0VF1rWRSrly56DFey5WOGDHCbrvtNlf4Tsdz1S6566673Dr1ypLyKAVfc+67d+/ugvP33nvPzjrrLPe7mmc/a9as6BQrdQhoLr4Kosqll15qjRo1sokTJ7oOAgAAgJwib9Dp96p4f+WVV7pRcW9U3RtJ1/z24cOHW9++fV1BPf2si8Tp06e7iviiqvYK4F9//XV7+OGH3cVejx493GOrU0Beeuklt3ayKuXr4vKSSy5xyyzpAhAAcGi04oiWFfVoaTo1GT16tDt233nnnW7VEq104gXyqnx/8803u1VQ/HQM1/z79u3bu9oryrpSsO9fxnTjxo2uur46abXMqdL8lRmgGinPP/+8RSKRhD1/AACAHB3Ya7RGpk2blmrZu1GjRrnvtRzSvn37XBVlpV6qmr33e6L7lMY/ZMgQNwK/bds297tdu3aNbqNMAAXxqpZ87733uuWWlNbJUncAkDnF8fZHqfjqcFXLiP1tqw5gdQoAAAAg4MDeP38yLaqKr9F2tbT89ddf+x19V+dB1apVD2o/AQAAAABIVklRPA8AAAAAABwcAnsAAAAAAEIs8Kr4AIBw6/Vjcq4Z37lqiaB3AQAAICEYsQcAAAAAIMQI7AEAAAAACDECewAAAAAAQozAHgAAAACAECOwBwAAAAAgxAjsAQAAAAAIMQJ7AAAAAABCjMAeAAAAAIAQI7AHAAAAACDECOwBAAAAAAgxAnsAAAAAAEKMwB4AAAAAgBAjsAcAAAAAIMQI7AEAAAAACDECewAAAAAAQozAHgAAAACAECOwBwAAAAAgxAjsAQAAAAAIMQJ7AAAAAABCjMAeAJBjFSpUyJ588kmbOHGirV+/3iKRiLVq1SrFNrly5XK3vf/++/bXX3/Z1q1bbe7cudalSxcrUKBAqscsWbKkjRgxwlavXm3bt2+32bNnW9OmTVNtd/XVV9sbb7xhixcvtm3bttn8+fPt+eeft6JFi2bpcwYAANkPgT0AIMc6+uij7YknnrBKlSrZzz//HHebww8/3F599VUrUaKEvfTSS3bffffZDz/8YE899ZTrEPArXLiwffPNN3bttdfa0KFDrWPHjrZlyxZ766237IYbbkix7csvv+z+7ujRo61Dhw726aef2j333GMzZsywggULZunzBgAA2UveoHcAAICgrFy50kqXLu1G16tVq2azZs1Ktc3u3butZs2aLuD2DBs2zJYuXWrdunWzunXr2tSpU93td9xxh5188sl2ySWX2BdffOFuGzJkiH333XfWp08fe/vtt23Pnj3udo3iT5s2LcXf0uj+a6+9ZjfeeKMNHz48i589AADILhixBwDkWAraFdSnR4G4P6j3vPvuu+6rRt09tWrVsjVr1kSDelF6//jx4+2YY46x2rVrR2+PDerTekwAAID9IbAHAOAgaKRf1q1bF71Nc+537NiRalvNtRdlBRzoYwIAAOwPgT0AAAfh4Ycftk2bNqWYZ79gwQIrV66cHXfccSm21Ui+lC1bNt3HfOSRR2zv3r0uZR8AACCjCOwBADhAnTt3tvr161unTp1ccO+fe//ff/+51PsaNWpY+fLl3TaqgC+HHXZYmo+p4npt27Z1c/EXLVqUkOcBAACyBwJ7AAAOQLNmzaxHjx4uiFeVfD8tg9eiRQs76aSTbPr06W4pO1W8VyV90VJ58Vx44YWuWJ4q42sZPQAAgANBYA8AQAbVq1fPVa3/+OOPrV27dnG3mTBhgpUpU8bOPfdcq169uh1//PH2559/uvsWLlyYavszzzzTPvjgA/v1119dpXyN+AMAABwIlrsDACADzjvvPFe1XkviadQ+vQBclfT9S+epQ0CmTJmSYjul6muUXpX0L7/8ctu2bVsWPgMAAJBdMWIPAMB+nHrqqW6UXmvXN27c2Hbu3Jnh361QoYIb3f/www/tjz/+iN5eqlQpmzx5su3bt88uvfRSKuEDAICDxog9ACBHu/vuu61YsWIufV6aNGniKtvLwIEDXeA9adIkK168uD333HPWqFGjFL+vefTfffdd9OfffvvN3nrrLfvrr7/sxBNPtDvvvNM2bNiQKnVfI/Wai//ss8+6OfZqntWrV6ca3QcAAEgLgT0AIEfr2LGjnXDCCdGfr732Wtdk9OjR7qu3fJ2C8FivvvpqisD+559/tjZt2rgReY3Cq0L+E088YWvXrk3xe1WqVIkucRfryy+/JLAHAAAZRmAPAMjRNKq+P7ly5crw46kqfkYcyGMCAACkhzn2AAAAAACEGIE9AAAAAAAhRmAPAAAAAECIMcceAJBj9foxZUG7ZNG5aomgdwEAAIQII/YAAAAAAIQYgT0AAAAAACFGYA8AAAAAQIgR2AMAAAAAEGIE9gAAZCNVq1a1iRMn2qZNm2zz5s02adIkO+uss1Jt98UXX1gkEknV9Lt+I0eOjLud18qUKZPAZwcAAOKhKj4AANnE2Wefbd988439/fff9tRTT1nu3LntrrvusmnTptl5551nCxcuTLG9tuvcuXOK2/75558UPw8dOtSmTJmS4rZcuXLZSy+9ZEuXLk21PQAASDwCewAAsonu3bvbjh07rEaNGrZhwwZ32+jRo11A//TTT1vTpk1TbK9R/TFjxqT7mN99951rfhdccIEVKlRov78LAAASg1R8AACyiVq1arnRdS+ol1WrVrkR+8aNG7tgPFaePHni3p6eFi1a2L59+2zs2LGZst8AAODQENgDAJBNFChQwI3Yx9q+fbu7r3Llyilur1ixom3bts22bt1qK1eutG7dulnevOkn8+n+Zs2a2fTp023ZsmWZ/hwAAMCBIxUfAIBsYsGCBVa9enU3t14j6pIvXz47//zz3fdly5aNbrt48WJXQG/u3LluxF5p+o8//rgL9ps3b57m37j00kvt6KOPJg0fAIAkQmAPAEA28eKLL7qidsOHD7fevXu7AP+xxx6zY445xt1/2GGHRbdt27Ztit/VXHwVyrv99tutX79+9v3336eZhr97924bP358Fj8bAACQUaTiAwCQTSgw79mzpwu+f//9d/v111/tpJNOckG+KOU+PX369HFf69WrF/d+jexfeeWVbgk9/zx+AAAQLAJ7AACyEY3QlypVyi688EI744wz3DJ3GrmX2OXuYmn5OznyyCPj3n/VVVdRDR8AgCREKj4AANnMxo0b7dtvv43+rBF4Be3z589P9/fKly/vvq5duzbu/TfeeKNt2bLFPvjgg0zeYwAAENoRey3Lo4uDFStWWCQScel9sZ566in7559/XEXfzz77zCpUqJDi/uLFi7t5gVqL999//7Vhw4alWrZHIxZfffWVqxT8119/2UMPPZTlzw0AgGSgCvYate/fv78710rhwoUtf/78cUf7Ran2sVQwTx0E7777btzK+wAAIIeO2CsA//nnn23EiBHuQiHWww8/bB06dLBWrVrZkiVLrHv37u5i47TTTrNdu3a5bZQOqKJA9evXd5V/R44caS+//LIbVfAuXiZPnuzW9W3Xrp0L8vX3NJrxyiuvJPw5AwCQlR3mXbt2dee99evXuwr5bdq0sYkTJ9qAAQOi21WtWtXGjRvn2qJFi1xRvauvvtql72ue/k8//ZTqsa+//np3niUNHwCA5BNoYP/pp5+6lpb77rvPevToEU35u/nmm2316tVujt+bb75pp556ql122WV2zjnn2OzZs9027du3t08++cQ6duzo1uRVgK9RiVtuucX27NnjiglVqVLFHnjgAQJ7AEC2ogy4//77z2WmqWNbneIahe/bt6+73aP157/++msXzJcuXdotjTdv3jy74447XOd4PDqf6hysjnIAAJBcknaO/YknnuhG4v0XEJs3b3bL79SoUcMF9vqq9HsvqBdtrwsUrdn73nvvuW2Uhq+g3qNR/06dOlmxYsXcyH0sdQQUKFAg+rMujgAASHZ//vmnNWzYcL/bLV261I3AH4iaNWsewp4BAIAcWRVfIwii0QE//ezdp69r1qxJcb9GJLQEj3+beI/h/xuxOnfu7DoRvKYREAAAAAAAklHSBvZB6tWrlxUpUiTaypYtG/QuAQAAAAAQrsB+1apV7qvW4vXTz959+lqyZMkU9+fJk8etv+vfJt5j+P9GrN27d7vlfPwNAAAAAIBklLRz7FXwR8Xv6tat6yrne3PdNXd+yJAh7ucZM2a45e5U3ffHH390t11yySWWO3duNxff26Znz56WN29e27t3r7tNFfS1lm+8+fUAAIRFrx/jrzcftM5VSwS9CwAA5Ci5g17u7qyzznLNK5in74899lj3s9bcVTXfJk2aWOXKle21115za9qrKJ4oONcSPqpuf+6557rCPoMGDbI33njDdQrI2LFj3Qj88OHD3TJ5Ws/33nvvdRWCAQAAAAAIu0BH7LVM3Zdffhn9uV+/fu7rq6++6tbd7d27twv+tfSOKth/8803rtqvt4a9t/yOgvmpU6e6avgTJkywDh06RO9X8bsGDRrY4MGDXfX8devWWbdu3VjqDgAAAACQLQQa2E+bNs1y5cqV7jZPPPGEa2nRcncK7tMzd+5cu+iiiw56PwEAAAAASFZJWzwPAADkPGeffba9//77tn79etu2bZvrnG/fvn2KJWlVP0fL3e7YscMWLlzoMv6OPvrouI9Xvnx5GzNmjFvqdvv27W77Hj16JPAZAQCQg4vnAQCAnEXFbT/88EP76aefrHv37rZ161Y76aSTrFy5ctFtqlWrZnPmzHH1dLRqTaVKley2226zRo0aWZUqVVzw7lHdHk35W7FihfXp08d1Fhx33HHRWj4AAGQXBPYAACBwWvlGRXI//vhja9q0qUUikbjb6b5YGsFXjR0V233zzTfdbZrq9/rrr7tCu3Xq1LGdO3dm+XMAACAoBPYAACBwLVq0sNKlS1uXLl1cUH/44Ye7VPu0Any/pUuXuq8qtOtR4dwzzjjDLrvsMhfUH3bYYa74rgrtAgCQ3TDHHgAABK5evXq2adMmK1u2rBtl1/x6rWzz4osvWoECBVJtf9RRR1mpUqXswgsvtBdeeMH27t2bYqUdPZ4omJ85c6ZL0VcbN26cFS9ePKHPDQCArEZgDwAAAnfyySdb3rx5XeG8SZMm2TXXXGMjRoywO++800aOHJliWwX0Wr521apV9vXXX7t58xrxX7BgQYrHk/Hjx7uOgmuvvdaeffZZ91Xz+AEAyE5IxQcAAIE74ogjrFChQjZkyBC799573W3vvvuu5c+f39q1a2ddu3a1RYsWuds3bNjgRuQLFizoquirE0C/H/t4otH6li1buu/feecdN2r/zDPPWN26dW3q1KkJf54AAGQFRuwBAEDgNJ9elCrvN3bsWPe1Ro0a0dv27NnjgnIV2tPSdXfffbcb3Vdl/Iw+Xs2aNbPw2QAAkFgE9gAAIHD//POP+6r15v20Xr2kNy9eVfH1+zfeeGOmPB4AAGFDYA8AAAI3e/Zs91XF8/zKlCnjvq5duzbd31daftGiRTPt8QAACBMCewAAEDgVuZNbb701xe1t27Z1qfeqeK8l8LRsXSzNsT/yyCNt1qxZ0dtUhE/L3LVp08atae9/PPnss88sqz366KNuub65c+dGbzv++OPdbWm1l19+OcVjVKhQwU0n+Pvvv91KAfPmzbPHH3887usAAMi5KJ4HAAACN2fOHBs+fLgL7FUdf9q0aXbxxRdbs2bN7Omnn7aVK1faWWedZVOmTLE333zTVbrXmvTnnHOO3XTTTbZkyRIbMGBA9PGUgt+zZ0/r3r27ffrpp/bee++537/tttvcPHt/J0BWUKaAAvutW7emuF2ZAtrfWA0bNnS3T548OXpbuXLl7IcffnDLAA4aNMgVDVStgW7dulm1atXsqquuytLnAAAIDwJ7AACQFFT9/q+//nKj7FdffbUtW7bM7rvvvmjAvnz5cpswYYJdcskl1qpVK8uXL5/bRkGvgngFvn4qrPfvv/9a+/btrX///m55PG2nwDirPf/88/bdd99Znjx57Oijj47erqr8Y8aMSbV969atXQDvX4pP1fxVC+DCCy+033//3d32yiuvWO7cud3zL1asmG3cuDHLnwsAIPkR2AMAgKSwd+9eF3SnFXivX7/eBf8HYvDgwa4lUq1ataxp06ZuKb6BAwfud/vSpUtbnTp17LXXXrNdu3ZFby9SpEjcAoDKXvjvv/9s9+7dWbD3AIAwYo49AABAJtFouoL5YcOG2a+//pqh32nevLkb2Y8dyVddAdEUBU0jUGq+pibceeed9sILL7jRfwAAhMAeAAAgkyijQAXyVOAuo7RMn5bn+/zzz1PcPmnSJHvsscesfv36rgaBCuipvoA6Dh544AFLdOE/j+b5f/31166Yn7IHNFWiUKFCqbbLnz+/PfPMM7ZixQrXCaGpCfXq1cvS/QaAnIrAHgAAIBOoMr+mEahg37p16zL0OyeffLIrAPjGG2+4QDrW0qVL7auvvnJF/1T9X6P3CrrvvvtuS3ThP1HmwNSpU90KBepcUGbC7bffbm+99VaqbV999VW3jTIR7r33Xjd94JNPPrELLrggy/YdAHIq5tgDAICE6/Vjcq4j37lqiYP+XRXrUwG/jMyr94/WS7yCetdff71b/q5ixYpu1Fveffddl+7/7LPPumXwYgsGZmXhP9EKBSpIqBULtmzZEu18UICvzAJvGcFzzz3XbrjhBuvYsaP16dPH3aYaApqe0Lt3b4J7AMhkjNgDAAAcIq03r5FrzX0vU6aMS8dXK1iwoKver+9V4T5WixYt3NJ9P/74Y6r77rrrLvvpp5+iQb3ngw8+cKnvKs6XVYX/tBpBrMKFC7vgffTo0dGg3gvY9bPm/3v0GCqGqI4JjwoDKuOgZs2arl4AACDzENgDAABkQvq6Rrg1Wq8RbK9Vr17dTjnlFPd9165dU/zOeeed51Lx443WS6lSpdxjxlJHgeTNmzehhf/OOOMM97dnzZqV4vY9e/a4GgD+jgZ9v3DhwhQdAPLDDz+4r1WqVMnUfQeAnI5UfAAAgEOkQPiqq66Km56vkW7NMV+8eHGq0XoZO3Zs3MdUYNygQQMX/P/xxx/R25Xirvnqv/zyS5YU/kurwN0xxxzjvqpgXizdptF+/7ZpbSfKagAAZB4CewAAgEO0fv16e//991Pd7qW0x96n0XHNoZ8xY4b9+eefcR/zueees8suu8xVoB80aJD7G40bN7bLL7/cXnnllbiBc1YW/jvssMOiKfWxdu7cGb3f2zat7fyPBQDIHKTiAwAAJJhGxUuXLp3maL0ooNd89NmzZ7v59v3797eTTjrJVazXWvaZKSOF/3bs2OG+FihQINV9qiXg3e9tm9Z2/scCAGQORuwBAACySJ06deLePnnyZMuVK9d+f3/mzJnWqFEjS0ThP2UX+FPk/YX/Nm/eHM0Q8FLy/XTbP//8E/1Z26ruQLztxL/todJyga1atXKv9QknnOAyG1TV/7HHHksxhUGuu+46twTfqaee6qYzeFX6tQyffx91myr76/XQdpoWMXjwYFcoEACSESP2AAAAOVhGC/8pCFahPAXSfgr+VQxPBfQ8+l7L9Km+gN/5558fvT+zPPLII3bttdfa1KlTXS0DVeK/6KKL3EoDp59+enS7e+65x8aPH++mGnTq1MlNOyhatKh9/PHHdvXVV0e30xJ/qtr/9ttvu+X61EGgjopRo0ZZz549M22/ASAzMWIPAACQg2W08J9G7adMmWI33XSTC4q3bt3qtmvZsqXb7q233or+roLihx56yGUCeOvY58+f39q0aeNG05cvX55p+9+3b19XiFCdDp4333zT5s6d6wJ47Z+0b9/eVeVv0qRJdLsRI0a45QQ14v/uu++62/R7sZkWGq3XMoMdOnSwxx9/3Pbt25dp+w8AmYHAHgAAIAc7kMJ/Xbp0senTp9u0adPcyLhGth988EGbNGmSax4F0Bod79Wrl5UsWdIWLVrkgmelyt96662Zuv8qQBhLf++3336zSpUqRW8rUqSIS6n303J86qDIyJx/ZS4cfvjhroPCKwIIAMmCwB4AAOAA9fpxrSWjzlVLZOnj//TTT67w37PPPmv9+vVzgfHw4cOtc+fOqba9+eab3ci+RsyLFy/uludTVX8VBUyEUqVKueDe8+WXX1rTpk1dSv6HH37oaghoFF/p+AMGDEj1+7q/UKFCdsQRR1jt2rVdtoE6EQjqASQj5tgDAAAgFaWjn3HGGalu//bbb+3CCy90o9cKnhUce2n5flru7uGHH3YF6LS8nebXq2hgItx4440um0Ap+R6l0Su492oJzJ8/35o1a2Z169Z10wNiaQqC5uNrW82v1zbNmzfP9H1VzQLtk6ZE6HVctmyZ2++TTz451bYq+jdx4kTXoaJMCxXzU02A9GiaQiQScb8DIPtixB4AAADZhgr+aU68pgwoIPds377dFixY4Ob3f/TRR64uwP3332/vvPOO1apVy9UR8Bs3bpzNmjXLSpQo4TIN1ImhDorMpuJ/F1xwgatRoKwGLYOorAIV/1MBQy/rQEUOv/rqK9u0aZNb8lCZBCrup86X8847L0WNAY8yDlThP17HC4DshcAeAAAA2YKCb1W5V/CrtHt/kTsFznv37rUrrrgiepvqB2hJPFW7jx2N/+uvv1yTN954w4YOHeqKB6rjIDPT8TNa/E/BvAL1atWq2d9//x2tZaB9at26tb3yyiupHlsV/TVS/8UXX8QtkAgg+yAVHwAAAKGn4nhKUy9WrJg1bNjQLVHnOfHEE+2yyy5zle39/v33X/vmm2/ciPn+qNL/cccd55bSy0yatx872h6v+J+W9FOmgRfUi5b4UxaCphTEqlChgstIeOCBB1yHBoDsjRF7AACAHCQ7Fv4rUKCAK4hXsWJFV9xv3rx5qUbyJU+ePKl+N1++fJY37/4vib00fBXbS3TxP9Up0M+aGhBLo/aXX355qtv79+/vRurV2REv8AeQvTBiDwAAgNDKnTu3S12vUaOGXXfddXEL4WkE/L///rPrr78+xe2at6759ar270mrGJ2W6VNqv+a+J7r43zHHHOO++rMQPLrtqKOOcsvweRToN2jQwI3WA8gZGLEHAABAaPXp08euvPJKl2Z/5JFHuqDYb8yYMa66/YgRI+y2225z6esqmKfieXfddZcbie/Vq1d0+y5durjU/E8//dTNsddjKg1eBepeeOGFVEX2ElH8z8sW0EoDsbz5/tpm9+7dLgNBSxG+9NJLqTIXAGRfBPYAAAAIrSpVqrivKornL4znD+zlzjvvtJ9//tmNvHuB/MyZM+3mm2+2r7/+Orq9iu+ddNJJdsstt7iK+AqcVa1eBer8VfYTWfxvx44d0SkHsQoWLJhiG82rV9bBE088kaX7CiC5ENgDAAAgtOrUqZOh7ZSKr5FwtfSoyrxakMX/ND3An3bvfe+l5PvpNq1pr9F6PYYq4b/44ovuezXR0ni5cuWy448/3i37t3ZtctZZAHDwmGMPAAAABMhf/K9x48apUuj/+ecfW7NmjZ1zzjmpfldTBObMmeO+L168uJti8Mgjj9jSpUujTaP/WipP37/88stZ+lxq165tkUgkbjv//POj26lgYdeuXd3UBmVF6KumQcQrcAhg/xixBwAAAJKg+J9qBcQr/icTJkywVq1auaJ6y5cvd7ddcsklbk6+5tSLgv9469V36NDBPf4NN9wQtwBfVhgwYICb6hBbxNAzevRoV+xQtQ9U7b969erWo0cPt6TgHXfckZB9BLITAnsAAAAgiYv/ydNPP+0CYS1hp6BZ6fUPPfSQm/8/cuTI6Dz7999/P9XfULCvkf1492UV1S1QZ0Q8yjzQCgXdunWL1gIYOnSoK3KoSv6DBg2yuXPnWhBOO+00e/LJJ61atWpWunRpN3Xh999/t+eee84++uij6HZt27a1m266yU499VQ3fUJZFV9++aU99dRTtmzZskD2HTkbgT0AAABCo9ePyTk/vHPVElla/E+j9Epz79u3rz3zzDNuTr0K7T344IPu+2Skzgd1Nqi+gZ9qCMgbb7yR4nb93LFjRxf0BxXYqw6BpjOoUKKC9cMPP9ytiqCpErfffru98sorbruzzz7blixZ4jpk/v33XzvxxBPdqguaSnHWWWclLDMitsNEWR2qO3HCCSe42gvKAFHdhT/++CPFtuokUieKOib0//n111+td+/e9sknn1hQNF1EnVWasqGOKHV0pVW08u6773atfPnyrkPozTfftMcff9x1xORUBPYAAABAkhf/E40cN2zY8ID/Rps2bVxLJGURKEDeu3evG71XwDZ79uwU1f29Sv4eLyjTaHlQVMBQzU8ZBNp3BcJeYK+gMtZ7773nttNKC88++6wlmmoraKnGt956y2VyKOPgnnvusR9//NFNdfjtt9/cdrpt4MCBLgOhU6dObmUFBdDqKLrmmmvs3XfftSB4qzko40ErWKT12VDHlp6rnqeyV5Rl0b59ezv99NMP6vORXRDYAwAAAMgUyh54++233civRlIVdGkUXsF9zZo1XaG/BQsWuG0VhKqgX+xIftmyZS2ZaNnBv//+284999x0t/Oei1Lzg6BsjhYtWtiePXuit2kkW9kPCuBbtmzpblMQ/MMPP1iTJk2i26nWwYoVK9yIf1CBvbIc1BmxevVq17mj2guxdL86WF577TW3r56FCxe6DhhlTPinTOQkBPYAAAAAMsWMGTNcmrdHKewK9DWC3KtXL7vssstc0K8g+Pnnn3ej9BrlVvp1z549XVB62GGHWdCUgq/9KFq0qJsiof1WkBxL6eKq5K+if6ryL1OnTg3stY+lgoUaqa9UqVL0Ni2DqEDYb8uWLbZ169ZUWRSJ7hRSUJ8eFYHMly9f3GkcgwYNsubNmxPYAwAAAEBm01J2KtynNG+tArBr1y5r1KiRjR8/3t555x23jZa8e/jhh92Sdwowk6GoYbt27dz3moOu/VQKeyyNciuVXZShoNHwKVOmWDIpVapUNA1fVORPSyDq+ajjRfuv/VYnhlLbk1kyT+MIGoE9AAAAkADZrfDfgVAqu4IyFUjT6LDqBVSuXNml6hcvXtz9rGBNS/dNmzbNgta/f3+XaVCmTBlr1qyZG5XPnz9/qu00kq/AWCPiqpKv55dMtMqClkj0sgm85Q81n13z7NVk7dq1Vrdu3TSXW0wW/mkc6qBI9mkciURgDwAAACBLqXq5AvfY0XgF9P4gWQF0Mox4K4D0gsjXX3/dJk2a5Ea3NWXAzwsuP/30U5eVoOryeo6DBw+2oJ1yyiluP6ZPn56isrxGt/XctNKC0tZV5PD+++93WQkKkJVhkax++ukn1/mg4nnKltDyj+pUGTJkiEvlT4ZpHEHJHfQOAAAAAMgeNBIc68wzz3Tz1CdPnmyRSCTu72nUu3v37m6JuXHjxlmy0ei9lmCrWLFimtv8+eefLvDUKHkypN+ryv2mTZtc2r0KAHpUTV41AbRSwoQJE+zVV1+1iy++2GUkqM5BstPyg6qar5UXVKtBHS7jx493r30yTOMICiP2AAAAADKFCsxpZF6jxGvWrHGp9lr/XaPEqszu305BvEbsVcztlltucaP6mnufjMGZNxKseej7286bBx4UvZ5ask/V+TUCr2rznhNPPNFlRtx2220pfufff/+1b775xqW4Jzu9b/S8KlSo4Krk//HHH67onkbwY4sC5iQE9gAAAAAyhdZy14i1liRTgKm520rxfuqpp1KkeGspM40Y33HHHa4jQMvhaak2jcQGqUSJEm6f/fLmzevWplfnhDoiNF1A6esbN25MsZ2WwzvjjDNs7NixFhR1KmgEW5kF9erVs3nz5qUayRc9h1iqNq/nGhaq+K8mlSpVcvUQlH2QU4XnPwcAAAAgqfkLsqXnueeecy3ZDB061HVIfPXVV24EWCPC6qhQ4KjOim3btrlRexUDVNaBqs3rNgX06qhQ6rumFARBKw5on7Qk3JVXXhm3EJ4CYVX5v/76691z9ajonEbBNWofNrly5bLevXu7/8NLL71kORWBPQAAAAD8b4rArbfeanfeeacdddRRroL/7NmzXbE2jYSLRu6HDRtmderUcfPXlX7v1Qbo0aOHLVu2LLAl+hTQf/DBB3bkkUemmus/ZswYtyTfiBEjXCr+1KlTXTaFsg/uuusu9zx69eplQbr77rvdFAKNvkuTJk1cVX9Rh9HmzZvdigWqyTBnzhyXZaBMj/POO89atWrlOlxyKgJ7AAAAAPhfYK+Wnj179rgq8smmSpUq7qsKFarFUmAv6rTQlAd1YHiB/MyZM910A02JCFLHjh3thBNOSFEoT01Gjx7tAnsVybvvvvtcx4WKAv7www9uqT7/8nc5EYE9AAAAAIScMggyQqn4WgYvGZbki6Xifvujpfv8y/chBwb2SjF56KGH3FwZ9VK1b9/e9U4BAAAASF+vH1MWlUsWnauWCHoXgMDlmHXsmzVrZn379nUVOatWreoC+0mTJrnKlwAAAAAAhFWOGbFXFctXXnklugRCu3bt3DqZWjPz2WefDXr3AAAAAGSRsGcbhH3/kfVyRGCvaonVqlVLUeUxEonYlClT3HIQsfLnz+/WgPSoUqT/a7LLnzuXJaOMvH5h3vew73+Y9z3s+x/mfQ/7/od538O+/2He97Dvf5j3Pez7H+Z9D/v+h3nfw77/T369xJLRk7X2P58/aAcSf+odErFs7phjjnFLUCiI96/nqJH62rVrW/Xq1VNs/8QTT9iTTz4ZwJ4CAAAAAPB/ypYt6+JZy+kj9gdKI/uaj++ntSA3bNhgOYl6iFasWOHeSFrDM0zCvO9h3/8w73vY9z/M+x72/Q/zvod9/8O872Hf/zDve9j3P8z7Hvb9D/O+h33/w7zvh/q89xfU55jAft26dbZ3714rVapUitv186pVq1Jtv3v3btf8ctKbJ5aee1iff5j3Pez7H+Z9D/v+h3nfw77/Yd73sO9/mPc97Psf5n0P+/6Hed/Dvv9h3vew73+Y9/1gZPS55oiq+Hv27LHZs2db3bp1o7flypXL/TxjxoxA9w0AAAAAgEORI0bsRan1o0aNslmzZtkPP/xg9913nxUqVMhGjhwZ9K4BAAAAAHDQckxgP378eLdmfbdu3ax06dI2Z84ca9iwoa1ZsyboXUtau3btckUE9TVswrzvYd//MO972Pc/zPse9v0P876Hff/DvO9h3/8w73vY9z/M+x72/Q/zvod9/8O874mQI6riAwAAAACQXeWIOfYAAAAAAGRXBPYAAAAAAIQYgT0AAAAAACFGYA8AAAAAQIgR2ANABlSoUMHOOuusoHcDAIAskTs3YUFmyJVLtcmBxOMTjINSuHDhoHcBSJgzzzzTFixYYNWrV7ewOfzww4PeBYQYF6jhU7ZsWcsJWrZsaY8//njC/p46dvv162fZ0UknneSC+n379lmyOvXUU+3hhx+2ZHbyySfbOeecY5EIC44lu6JFi1qhQoUsuyGwxwE7++yzbfny5XbKKacEvSuIUa5cOatWrZolmxIlSth5551njRo1sjAG9dOnT7enn37ahg4dGqqgRxeiM2fOtOOPPz7oXUHILnh0gVqyZEkuUEPmxhtvtPfee8/y5s1r2dntt99uI0eOtFmzZiX0PLBjxw7LbvTcFi5caLfeeqsls6uuuip6DZGM5948efK4jqZ3333XSpcubTlN+fLlrX79+haWOObLL790HVrZkc7aNFqG2plnnhnZuHFj5Pnnnw98X2gpW65cuSLTp0+PzJkzJ3LeeecFvj9eq1SpUmTq1KmR0aNHR4YMGRL4/hxIO+OMMyJbtmyJ9OjRI8Xt1157beD7lpHP6rZt2yJPP/104PuS1S1v3rzRz0DQ+xKvHXfccZE777wz0qlTp0iDBg0C35/02qmnnhr57LPPIl988UXk1VdfDXx/DrSdeOKJkY4dO0aGDx8eKV68eOD7k+jWoUOHyG+//Rb4fmRla9WqVWT37t2RK6+8MiF/77TTTots3bo10q1bt8Cfe1ac4/TcnnrqqcD3ZX/t5ptvjvzzzz+RQoUKBb4vabUrrrgi8tNPP7nPYe7cuQPfn0S1s846y10rtWnTJhT7unXr1kjfvn0D35csaoHvAC0kzQsUYoOcEiVKBL5vWdEqVKgQGThwYFKfRGLbMcccE/nll18iX375ZaR69eqB78/pp58eWb9+vbsgOumkk6K3n3vuuYHv2/5amTJlIv/991/kxRdfTHH7ww8/7G7XySHofUyrad/0We3Zs2eK27NjoFO2bNnIJ5984i6+kzG413Fz+fLlke+++y6yY8eOyJIlSyJPPvlk4PuV1ud13bp17n2jAD9PnjyB79OBtMqVK0cWLlwYGTx4sLtoK1CgQOD7lKjmve913vrjjz8i5cuXD3yfsqK1bNnSHX/1P07UZ2L16tWR77//PnSfh/21ihUrRjZs2BAZMWJE9LZkO36qea+79nfBggXu3Bz0PqXXXn/9dXccOvLII93P2T3A1zlOQX2vXr0C3xfbTzvllFPc4GTnzp2T9v2eCS3wHaCFoOnDsGfPnsgjjzyS4vZHH33UnfDCFPxmtNWsWdNdQAwbNixy+OGHB74/GT35lSpVKjJv3rzAg/vSpUtH5s6dGxkwYECK2zWaptf1pZdeCvw1S6+VLFky8vvvv0dmzJgROf74491tev+vWbMmUq9evcD3L73P6q5du1wHhP/2+++/373mhx12WOD7mJmtbt26LlNl2rRp7sIvmU7WCjTVwdK1a9dIsWLF3HtqwoQJkUWLFkWqVKkS+P7FdtDOnDkz0q9fv8D35WCaAloFYLq4zO4X0vvr6FLnTLJnhhxMu/32291I/TvvvOM+V61bt07IYIaOLTqm6nqnaNGigb8OmdX5u3nz5ui5WM816H2KbTpm+o/l+fPnd8fOm266KfB98x93dF1w1FFHRW/T9bA6cMeNGxf4/iUi40Ofke7du6e4/eKLL45eNyXTvv7777/uPX/bbbdFb0+W64VMbIHvAC3JW758+aKjlP5AUQeztWvXZssLCK/VqlUrsmnTpsjIkSPTDO6DPCiccMIJLsg84ogjUo3cK7j/6quvAgvulSb57bffukDTu61du3bRlEYdYJMxuPeP8ikQ09QGBffPPPNMmkG9RjcLFiwY+L5rH5Q+rZFhBZX+z6ou4urUqRP4PmZF0zFIo/b+91vs51LBnv6fidonfQZXrFgRmTRpUorbq1Wr5i6E6tevH/jr5m8XXHCB68jKSIdDsl0I6X+r7KoxY8Ykxecw0cdZHVc1BcELOhVQeEFvsv2vDrbdcsst7hrES79X6riCfKXlZ8XfUwaQBjO8rKe7777b/X0F90WKFAn89TiUps+4zhHqZNcAhoJQnTeSKbjXqLwGBhYvXuym8el1Vyr+xx9/7N7vyfDe1nFHAyh6X/z6668umPUyWPX5U3bB9ddfH/hrmZVTzBQDvPHGGyluf+yxx1wnqzo9gt5Hi5kqoOmguv7U9fG9994bvT/o91Imt8B3gJbETQGLDlDqeVMQtn37dhcw6CSnUYF4F6dhT1eL/YBfdNFFaQb36vTQXE4FfYneTwUpOjnrpKKT3UcffRRp1KhRNKBT2rXmemmurE7eid4/jZypd917PyhgvuOOOyI1atRwP19++eXuddXrF/T/3Gt67XQx4Q+AlQGhEWG9zvFGCp599tnIrFmzkmYkR5/Jt99+2+2TPrea253WZzXszX+sadiwYZrBvT6nSs1+//333ahPogJ7ffYmTpwYadGiRXQU+cILL3SdLAqkg379YjM69D5Jbxtle+jzEPS+xmvKNoideuI1732QzS7eXCbI7NmzI8uWLXNBhDoe3333XXes0qh27PMP8+dc6eJNmjRJcXtWBvcKJLt06ZLituwQ3Gu/1eHvr5Okc4MX3GtUM+h9VLafvqoTXa+5rq/0+VZ2qBdEp9WBG8Sc+rfeest97jTdSucZ7beO9zr+jx8/PlK4cOHAX9OsaLqu1JQDTT3wzmcaBFRQf+mllwa+fxYzrdKrN6QBsd69e2fn4D7wHaAlaVPvrT4MDz74YDRQVFq6blNAGW+etC40lC4X9L4fTNPzi52T6X3QveBeJz4vlVkFu5RmrhS9c845J5CUy7Fjx7r/h07S6njQCU9Bg04mCujOP//8yMqVK90ITu3atRO6f6rFoN729Dp99PrpZJ0s6eG6GNbrqZFWf3CvC40ffvjBBcsaGfNu11xpjb4GXTNAHU7aR6+InPZHQazmdqszTqPEsScu7buC4aBf8wNtmrfoDy79zylecK8R3BdeeCGyc+fOhNVF8PZJIxoffPCBu8BTR5Y+s/qf9OnTJ/DXMbZdffXV7r3sdbzFa3rP6FiSbBdASn3Vce6BBx5I93+i90GydMAdatOUCQX0ukjVcVWjY82bN3edp1OmTIl88803LvD1OpSS7X+W0abPjI5t3nzl2OfyxBNPuJH1zErL1+vo7yDS6+ef2hHm4F7nCR07/VmW3mupYDQZgnvvujP23OSd26666ioXSCuI9gYxgnxvH3vssW7Eum3btpGqVau6lHR1sqmjtHHjxpG9e/e6jt2g//dZ1fRe0sDHqFGjIkOHDnUj+JoeF+//GsT+FSlSJHL00UenyrTUcVODMtk0uA98B2hJ2JSGpos8nTT9t2sekT4M6iX3eui8D4KCeh2Qzz777MD3/0CbCrt5BXIU0Hlzdf1Nwb2CZgXQmvuli0S9RkHOldWI7JtvvukqxapXUgGyepAVMC9dutQFFOqQ0P9FJ59EFpNSgKD3ib/arkZO/du8/PLLroc7WebE6kSswFCjrPrf+k8GuiBSWv6PP/7oThR6v6uDSyfzoFcd+PTTTyPz5893o3eqSqvPpDp11FGhHnXvPRr7WQ163w+0lStXzo0qKyOhf//+7v0e+55WAO0F97rwUy+9/peJOC7Fex/rM6rgXvujQlX+ol/JdBGhzkl1fihg9AdR/uem1/yhhx4KfF/9Ta+hAlt9Zr/++usUHW+xx3j9D5SFFvQ+H2pTR66mMqUVgGmEUMGpgh+lnSbT++xA2o033uiOtzo36/imn+Nl3Og6RR3sStU+1L+p86eOja+88kqaHdJecK8pTroWCPp1ykjTNY3qe+h6Ia33hD+490/lSnQRttgCzbHXDgomlaGozqtEF7FVQKj/f+zrpv32MiO1KpEKWOo9pA5HXYOpCGPQ74HMaHq/Kz7wT/HU/0PXzjrPxutcVYfwzz//nPDivaVKlXJTJbRPXrat/7OcjYP7wHeAlmRNH1r1uin1Kba3VE0XfTpgKajxRjV1otDPYQzq1dRJofQ0zeV677333OisTtqxF4maQ6Uq77qo0sE6qOfr/39oNEOB3apVq6InD+/ApP297777IpMnT3YBYFbtjw7YenxVYvYuvHRQ1eieOh1iC7kpGNPJWyPjJ598cuD/f/9ojS4gNfqjDgmdqPy9z3pOGrXXRZ1O5EEHxt7yk+ps0v9ZJ1el42r01fv/62JOAb+3BKI+qxrFD+NnVccbve7XXHNN5PPPP3fLsimLKLaCu4J7XfgpUFVLxHPV+1jHRR0/YmtHaORenSx//vlniukcQV1A+DtE/Pug5fg0+qkLMY2U+o83GonSxap/dYtkahqp1udSxxVNg4i9X89JI9lhCcTSavof6XlqSke8+73/pzIT1Kml+iCxBUzD0FTcSvVY2rdv745juh7RSKg+S/G29zorL7vsskP6uzp/6fiiTnx/tfjYTjvN89bf08hs0K/V/pqCdJ0XFMQocy+9jnSd79QZrONVIoNRbyWX2OVZvWyz2KZgWtdsOgfEDhhkVdNxUFMM9X9XRpyuG72AUfPKdXzx5pVrEEyfVZ17db71H0/D2nSeVae5ph3EXtPpfaOORF3zqTaVd7uuo9TpFtS10vjx4931/F133RUt8u0/53nBvaZg6v8V9GucSS3wHaAlUVOgoJOpghfNz9bJ0rvPf+GsQE6jrQpu9cHR7wQd5BxqOpXWWte8IB2oVfBEPYw6uSm9SKPhXtrdJZdc4lLeEz1Sr04GjZbpoKped/VCeksa6SSiefbqkIkXwGflvGKd/HVAV9Ci3n6NwHvF/HRBoU4HXSRpn5VGpwBUHSgaeQ06uIz3utxzzz3u+egErQBN723/yL2CBgXLQS93p/+zPn+xF0LK1ND++TNN9D5WupzmwuniKcyfVb3/NT9O399www1uOUKNimgk/Lrrrotup89poi5OddzUZ09TY3Rho/+LOhZijzEauVeHhFKmg3r91AGh47sKzenz578o1kjvc8895y5ctZ9aEkgXZnpeen7JUMlfxzxdRH/44Ycuc0MZBl5Far0vtO8qpKeMFd2mUW0dk9QhG8QoZGY2ZUwotdcbLY6XWeG/cNU5S58P/3k8LIXyFAzofOHdptF4Pe+mTZvGfa7e7x1MjZ/YQFcdX/o76kRML7i/9dZbs7TDPDOarl1UFFOf64z+jtLglZ0Wr4MsK5qCK72vvcDK+5/qPa5rLR074/2eOnyUxZXI11PZejq2/Pbbb+4aUdcIOv7odX7ttdfce9AbeNF7Uc8t2Zfny0jTsVODRzof+NPq1fHi/b/UqabrDMUEOrfo/BHUIEI+33lNdZwUz6QV3CurbtCgQW5gJJssCRz4DtCSpOliX6nTumjSBYFGOHRCSCu418iHTnoKfIIO0A62+T/cCuiUkqMDsXefevF0MaG14RWMehcViV4fWRenGvlWwKYLWjXtl3qDvWBGJxwFE+qZ99JNs7qQoQ7wCmJ04azea82zUhDvT4lUIKH3lObba9/0GusEGHRKrE5U6oxQZ4mKDvpTFjUK4NVN8N7j/pH7ZJg6oHmGypLRCIyXjqzbNYKt4Ne/BKWCez0npYKH9bPqPT8V0FKArPe7d58usPS/1HtRIyn6n+p/lIjPqd5Hen9405bUMajAUsdS/8iFdwGh/43Si2MDlEQ11UDRyKc6hDTfXx0iGu32b6NiZEprV4eJjjGqJOxf3SKopuOg9kn/f3VSee9pZRIoS0OfA114KotFmRo6Zuocpou6oDviDrVp1F2ZYgoimjVr5o7/eq5pXYh657awrRLgnXfVEePP5lLHtZ6zKrkrAFSHXVrZFwdy3lMHrkbslOavjhJ/Z6/OrQrudV7zbtNxJUypuppaoIBFmTb722/d722TqLo3+nt67RUA+jsfFBTqsx2v6GuiX/94KyLp3KJrZGWS/PXXX+74o+mZOm7GrlIU9qZsA50z1LHov13ZKjqHKIvBH9wrk0IDDPqfJnoQoUgadS+U1ajOqrSCe3UeeSsaZIMW+A7QkqTpQk8Bmvezemt1sZpecK+La/8Fdlia9tm7KPCCNKW0K2D2gjz18ungpIsLpWZrxFkXG/71ShPRFAzo4KlUWH8vpAqk/f333y5Q9grNqGfYKwAXr05AZja9LgridVD3HxzV8+6vuOu9Z3Ry1OiGDryJ7hiJbTqgq6NGr5PqEOhCUr3MuojQfRoFVNDg7bsCG22b6AKE6TW9fzWqqgsJr1q03ps6maqTKnZ7zf8LWzqgVn6ILXam56jVFryinpoPqgBOo8nqLNJnWKl3iRjJ0Qi3LppVxMx/u7J8vKW5vI5Cr+kCWyPgaaUUZ1XzLtQVoCs4Vqecpl2pE0THEXUaKpvGX8FZF6j6PCRDR5ZeL11Aa+64tz/6bKqjShfXeg7edBN1ZCko04ifRvWStZJ/RpsyhnSc93fKqZaGF9yHfXpBbNOFt0ZE9dnSeUadmHr+eq+2bNnSfb5VL0GdeQqmDjaTROcir9K6mubj6rH1N7z3kj7D+ryow9T7vWT4PGS0KVhWx1d62+jcnKjR+bSuxzTSrVoK+nzr/KUMoXiV1RP92uuaRe8zfc7U2e+fBql90f0KGvUeUXaM3kf+jqDs0JSZMm3atBTXDzq2qqNRWVOqdaApUF6grE4OXZskuq6Azm3bt293A1zqhNA5zn+e1ai8Bun0/vI6X8L0WT6AFvgO0JKweR9QBbv7C+7D1tQrr/RwpVDFjnbowKyATqO0Cqb91c71nINI09EcQ41CKhj2DkLeyUUjWDoB+lOvFVwrcMjques6cKqjQydkb7+0PJBObAq2NLKiA3yypjYpaFTBLXXeKG1bqckKCjWaqgBHwaNXIVxBkZ5v0KOWOrGqwq5WPND7Qe9lnVR1ElXnk4IbXegG/dpmRtNrrhoM6oCJDVw02q3PqabP6ILKf2GvEcpEVT7XxYHm2up1V+ePbtMUGV1caK69Ruc14q1gQZ8Hb/Qp0cdPjZro/ex1Mjz++ONuyoB3caPjvS7S9HlWJ4mKQ8VWEQ666WJMn9d4I9BKz1fKroK9oPczK0Zc9Vn3RqL8753sGNx75zYF95rrreen6w91cPu307lPnd3qcD+Ui3O91zU3WlkgKqCl0Xt9ZpUNpfOugjYFLdoPf+HLsDR91vU6KnhO63XSeVujz4ncL29qkve+1XWCKsvrukuvtdex4g+kNWCg80Ei91PHd00bVAe6ChDrq9LPYzvJdR3krVKkjt7s8nlU0/WcOr38tykrTddHOh7rc6gUfP+AThCZQt7xcM2aNa6ulDqK1CGoacPqoNP5zsv00jWUP6sxm7XAd4AWYFNvo0a+Ygvx+FNU/MG9UqqD3ufMaFoXVQdoHYj88xT1vUaFFFAEtTxHbFPvr3pLY2/3TtLewcwf3CSiF1InLl30aD66gk0t/6PUOfW4X3vttZFJkya5k4HX8eAVdAuyqbND++Yf/dVFnF5fjfbq4kcXyQrE0itQFUTT6KpSijWNQe9ff5EsBbjaX/VUexdC2aEnWh1DSoVV0Oy/UFL6u07YGknxz78MIkVWAZc6VXQRof+PvmrEWPviLS+liyBlhugCMa150YmYLuOvYqyRC++1UyenLqj1uqq4ot7/em2TaTkvZVDpYi3efXqtVWwtrEUh02rKOtFcc3U4+p+r/33uHf8VmIU1mPAHb2peOrw693R81uj9/kb/DuSzr/eIv7K5Oo10vtKx1QtIlOGk11Qdp+oU80b1kz1dV59ppRt76eNKjdZ+630Sb3u9xhrIyKzlAjPadAzSMVydKl5HrI6NGh1W56L/eKWma1B9vr3aGYk87yoDS9cC+jwqMNS1ozoZdd3jz1hV55Pqp2R1tmSim4rCKqsxrWsKZXnp86OOjyD2T+cpb9/u+F8RVU0H1cCc/ke6PlLWimIYdSbpmKr3mDpjgn5ts6gFvgO0gJoO6Eph1NxnrxdLH4R4Jy4F9wrqNToWWw0zTM0/2qEMBFUM9gf3OhnqAlIjbUHvq3ehosBec5bS2k69xxpdUDCR1fukix5ddHmrBeh79YYqCFBRNn9FYu2/ttdFk95fQY9268CvTiwd9FUcMTa4V6DjPS+lbwVdAyD24kKjqQq6/KnSKi6lZWf0OuvEql5z/Q/CNAc0reZfX1nzpRXc+7M/NMqkkfJEr0uuIMTLCvCmxuhYqnnpOpbq/xDveKPPSqKnLWlUU/P/4y0fpVEYjX6pc04XOf65kLowTbb0daVCa1Q+rfv12dVnO9kyDQ62afUEHds1/Ufvc40ee/fFfr713tNz1xSiRM2NzqymfVfwrP+bVwxWzbtQ1zlZI866VvHXSTjYY5w6urTyg1eA02sawVPGh4L72Okz+h1Vyk+mc0JaTdczer00/9kbkVR2jqbIxavroY5sfa5iMyKyuun/q2mPOmdpAMAf3GvkXh2kXvaZrj2D7LRT9pUyQ/wDBBqV1/tI9ynLQ9fI2eG8G68pg1EZXSpW630uva/ec9Z5JIilNTWgFZv236lTJ1fjRtkW3nlYx0X9rAwWDdypI9tbwSAbtsB3gBZg0wWfeuJ0UaQPpoJ79UYqYFCqcmxPsIJ6/8k3LE0BQexIh5p65DXHTidDb+68AqXYiryJbBp18Y+UKQjVRZsKzHi3+XtO1Rmj/2FW9xLrokbzqRQA66Cpr5rzqDRRTWHQPmjUzAtm/PuYqOVo0guMdXGgfVVGgf6/Okl59+t/rwtH9egm2/tb711d+MSm2Ouz6M0LVUqcLoB1glMnUFDv3UNtCibjnWw111LBvUZOvM+pty65d/JORNNnTAGxOoI0iqdpG8oA0edVAb+CFF2Qaj+Dfu9rdEkpibGjKOrc0mdA0wK8YpbJUO1+f02vrTIeFIB5t3nHGh3XveNgsi7Hd6CF8tRZ61XTVhFGdb6kF9xrBDpsc3v1HHS9oU5LdYhpKS0FBxpc8D8/Ly1f2WH+6XEH2hSgqwNafyPe/TqW6Pipjui0KrEne9PxxqvwrWlBOi6pU13TDxWI6jyiawoV0dT7RVl2iSosGfue1edXU000wOIP7r20fAVgOs4GtZKLt7867mslEW/wRBkOej9q35WpqCBRx57sUDQvNntGTR3ZujbSUsDqjPGf0/Q/1PlEHR2JPvbq86zjpDpWYu/r1KmT68zyZ+Z4TfUkEl0rK8Et8B2gBdh08afRae9kqQBIF04KGJQipd5cHay8YmdhnFuvk5qejy4KlBKuC1r/iUwnP50ElfrldWboIkPF1BJ9Ua59VedKnz59oqN7OljqpKdUong97hp5UICTlWmYStFVj61SipW+pMBR7xtdKOgiSBdiGrlXCq/eP/GC+6CaDv76//vXKFXBv7SCe6VTJ1MqnTpU9L9XETDvQkPpZtp/vdZ6r+qiTR1S6pVWhXhdIMer5JvMTRfSeo+p00hzWdXpqA5Hr5NLa9jrAk9Bs/deV4qdUtzjXYxkxWdAAYgu6jQXVxkD6kjRZ8A7dnjBvVdIKcjXUyNwOq5pRElpxV7BI1WM1886puuYqBHKoP/3sS1ecU0dD1XVWBf6/s+tv/irnk+y1vTIaNPxXMtKxY5Oxgvus0PT50XXGfp8KWjQ/1cFYNWBpmOCF+zpOkTHB//ycweavaJpPbHZK0r99q+KomOrgnsNdCS6wOWhNu+8q+OQMpx0PtNoq27Xa6nXWVPjdAxQoKZrnEQt16drGx27dR7W6+plBOkaQWn5unbQ6+4P7hWUqfM06BUtdL7R9Y6uFZXRqc+hsmn8x6uwdgT5m94L+tzFm5ahLAVlZqomkQJpXSMpq0jTuPS5THTnsNdJF/t5LurL4NPgh4L7RHb+J0kLfAdoATb1xGnOib8giS6qdeBSyopSAPVB1sVGWNOMVDFegZ2ekwIBLduhC28dqHXS0wFZhdF0waS5y3pNdKJPdO+jLmx00tW+qNCH/z6lV2uUUL3rOjlrhFapi+oAUGX6rKwHoAtq/e3Y9dJ1u+byqcfUC2J00tPJWSfAZAjqdaLSwd9biszf4gX3SgNUEK2OkkQEixlpytRQ8Oi/TYV7vPn/SkFTZ5D+R/qf6IIo0WmVmdG0nKACN69IlVI0dezR51WjIlpOUReAei30v9PnVJ/drC4SqaaLUM3z1fEh9j5d5Gifdbz0LixUVVsdFEqNDvI1VfaDOnkU3OuiWgGjf/moxo0bu5oiyVRLQqPUSntVR1ZswKIUae2vRod0zFFHtFaEUOVvHQeDDgAOtek4pfeSVwcktiM9IyP3YWs672lkVu9F7zYdk/U66DOnKRjeqh+aznIw5xUd13UsUXaA/3YFmTrnekVSvabMM2WkKWhJ9sGM2FFif4FdL7jXedo7n+lYps9RIlenUYezplvof6rjoka71YGuzAlv6pgGC7Skoa4fvOlm+r8lqs7H/l4LXRNq/3XtGPS0wqxoet9oLr3+Nzq+6his6ar+11/TDVRbQJleei0U6OvcouNwoq/rVDdGmQL+27W/L774YorCfQrudY2qqSlBv8YJbIHvAC1BTQdXjUpqzp4unrxRLwWF6iXXUh4KzHSS9earaNRP6ere3OMwNf9ouwq3eaO2yk7QBZKeq07eChwUUOhAoW0URCR6XxWoKc1J1UXT2kb7rYsczZnVvmp7jRhqJCIr9009sXqd9J6InVelg75eL6VJK01NJ2RddGoEOehCTtpfnYB0cejdFhusxwvuFRjHzrEMsimg1YkpXvFB7/+gtEWNzoZtOTv/BZVOxuqE0wWgRuH1XtN7W8cfZaxolElBqtKx9TmN11mTVU1TAfxL6MVO61Hqq0YDvfeNPgd6TyWi02F/TfugrA51cKnDzX+fno+O/XqNk6EjTk3nGnWsqWCcl2ng/+x6q34owFUnjy5ElV2W1cfBrG7K+tBxVM9dxTy95xMbuOvcpdTf7DRyr/Oy/ofe/1jnGz0/ZSRphF6fd/+58UDeq+oM0OOqE1zHDgXtXvaKgnp/R1dsUcJk7yDV9Vy8ImDe66NrIF3nKIj2d5QF0RQYK+Ve+6NjtzIldEzV9aY6pbWkoTof9bOC+0RWLI/XmRjv+lkZDl5nbdg71OI1Tc9QPQZd1+lzovOGgnd9VrxVCvTe0jWSrkvU8ZLoyvJ63VUkWB252gfvdi8b7TJfnSevqQNJn/VE1+MJsAW+A7QEXdwpxUbpVypCopFfjdJ7H1alU6snUsGiAnzdliwXegd7cagPvz89SFUydYGgUTf/c9NogFJ1NIdKr08QvbEardDJTOm83glDKdgK5vR/U3qgt86sLjZ0QPN63RORKqn3TFr3az+UiqUDqxfUBLkmrtdZpQ4QdXzoIlhZEN59se9rBffaNtFVgTPaFKxrpFU942mlhmrEUhcmYZvjp9EjdaxpuUEvyFdwr8+hshC8z4I6ifQ6KMNGnVvKJErkKIH+rkaK07qI0QiCjqnqYAn6NY3XVDdCnW0aEfNfDKl16NAh6YqCeZkGGh3yB/deZ61XvLBZs2bugjuZqvcfTNNImToh9T7S89W5S9MKNJqdVnCvc5nel0Hve2Y0PR91ZujaQ6nXGln3dwyrU/tgRs4VsKmTQOcoPZ7SdtUprk4jXe/4g3qvha34os5tOn+p+rf/dv95ToFzUPUX/PuhqYTquNK1p9dpoml86tjRVD5vJFjN60QNsjMxtmk/lfkR9uk+af2P9FXnY//otjIGFTCr41pTMXV+Dnp/dR2k46M6A3WNr2tPddrF+zzn+t+xM9Gr0QTcAt8BWhY39fyrF1QpKgpuFbgqmNFIhy6gdYGsUXwdTL2Ut7A3fYg1QqXAzrs4UtOcIC+4j63+r4O1v+J4Ipsu0HSh4T+Y6qJWo2mqWKteU/WkJrqqtpoCAQX2qgqc1ja6cIhdniaoprlvGoVXWpZOVOp51gVDesG9TlgKnoP6/++v6bXXaJ4uzvxzIrW/SgXX3O9Ep8NlRtN0F3VYaNRJF/decK8RchUjUmdXvJGRRHRg+DtRNHqn1997jePtk95jybxiSFrBctj2V59djcLqfa9RvmSZMnMonVsaufQ62dV0gbq/4D6Z6oBkRlNhVp2bNV0urY6aAw3uVXdE1z7qANLPChaVnaLRPh3zve2811ZZAdqHoDumM9L87wcv88xfYFfN+2zoekfvp0TunzpBdX5S5py/k0bTTPR+1/WM/j/+31EHjD7rQWSIZuT4qA5FXZNpikPQ///MaP7zqNdpqnOdBgm81TXU6agCq8oK0WdT52qds4O4ptdUK2/aqTr6NRina2N1PHhBfW7ftV379u1dx3XQr3MALfAdoCVguSPNRYk9KV533XWud1wXDwr2ld6ok13QFcwPtXknM6WpaZRNwYEujrwToRfca854svTi6YSmkWXNh1PNA/WO6mTtzf1TSqIOqP5OiqBHjP2jqUqfjr2oCKopQPQH8V5a2f6C+2Ren1j7qjQ5zU9UZ5xGrXVxofeK3hdhqGqeVtNosTKGlCoXG9xrtE1p+N57zVvfOqub/o43x98LvvS9im967xPvOKPjquYe6jOgGgBBv577u3jVe0bPLdHrQWfWxbbOT6rsrTT8ML/vvRFMf1FM/7nXH9x7U+PidSiFPSXY2391bCjgizfl6FCaUvoVAHg/e0XkNHKvTDh/uq7Ou/6iaMncYqt6q6NLwb1G7mPfEyqQGbuqSlY2dT7rvatzla61vCWVvfe35tNr6tiYMWNSBfdBtvSCe50T1EGizIJkmqp3sE3nLP2PNCXCf7uONboW1XFJ7xl1jHmfCb3nlF2X6GXi9H5SRo9X1Nq7DlAHnLJ7NJU2drnnp556yhXOC+OARya0wHeAlsXLHfnX31TzB/hKHdUJTl81/1If4jDO002r6SJcabtecO/druBeJ0EtKxTEXHDvwOSfX6ygxltbWhfd/vWI9bOmSfjX6kxk08WWN2Ice6DUBZF6TZO5grBGDuIF98leGCm26eJXI1uaM6n3tDqnssPyXupY1Ps+XnCvzkeduBMdwChTRR0LCja8NEyNDKigVmzmjC4ilAEVhmOnXmtdHIWlirP/YluZZbq4VjZW2IN6dRYp4FH6b7xCgf7gXh0xQR37E3mMVjq0Rggz4/G8jlul9+t1VraiP6jR6LyufXQtoFUuVMckiCXVDqQpfb1z584umNH1gAZj/B0hCu7V+atRSo166zilQR1d1yUqw0PvUx0nNRddHVe6dlFHtFKldSz3jp3KQlNwr2uK2OlBydiZqEEvdVJkZaHiRAfL6uRVPZvYQRnVTdJz1bVz0AVJ9X5SRqKm0ahDxbsO8D7fmm6jATFlE6gAr5m5QrZBLZGYJC3wHaAlYLmj9A6c3tIuSsvRUlnJHKCld5GkNUXVw6gDsAIC78JV89b9wb2/4JjmxSZ6pNbLjtD8II0mxBboiVfbQCdsjQgGNbfLP2KstCydqHVhpGBMB90wXGT7g3sVUgp6fw7lfxH0PhxsUw+71lDWxZxGPjp27Bjt5NI8cI3g+IN73afpQXrvJ/q4pOOELko151CjBd7nUPUk9Bm45557Io899lhgy/0cSgtbVpaXaaBjjToYY5eCC2tT0KkRea3QklZwrznfCv4VnIah48jfdGGdkfOrd07Wc1VAETv6dihNWXn6/GrE2H+7gnul5XtzupM9CNC1i45FSmHXsVPLbSpg17WNf8kvrwNSGUbqENKoeaKCM73WKpAXu3qI0vKbN2/u9ledN97tOrbrOen5JKpCf07uTIz3ntI1nDqK/MG94gVNOfDqNgR1zaEMAb1f/IMx/ubtl46LCu5VQ2bcuHFu6miyf56zuAW+A7QEHaDSCu41D12Bpr73LxMRlqYRZK+Qhuaja26uRuM1/9JLIUoruE/0nGqdYNWZoOqvOpnppKsDaFpz59UbqZOKLmiToeqzN2Ks11gnA1UDD9PSL/p/K/XMm4oR9P7kpKbPqU6+Ot7oZK3PrDqK9LN3EtbxykvL95ZgU3Cv1TkS0TkYm56udHsV7lJGiqYE6DaNkOmYqnRFZU6oanei1oLOyU0jjkEsrZSI4F6p4ukF9wqAYlc0SPamJdZ0nD2Q84M+/yoEejCBhEao9TfjvT9UKVvXBHXq1EmV1ajOxWSvV6BRYtUF0PQ8f4ahAh+djxXE++t76JilJXOV8aEOjETtp/5/ugbT349dQUeBu4oUa7qDv8ioirElY2p7du1M9P9P1HRdqQ51Xc9pmVbvdk070zk66Pe9MuE0JXV/GXsayFMn0bZt2wLPMkiCFvgO0AKaN6QPinq6dJ8/TS1MTR98jZbpYkDP0/vwK5VIIxx6zl4KvoJn3ab02iAuxHXBoZ5EpdJ5tyllSBcc8Srx3n333a4yuPY3mdK//BddYZzfqTn3er8nw1JkOaXp/atRJHVSeYWRNIqj971GcXQBoRF773OiDCIFBbHrS2dV0wW+OhP0N9XRoPRVBQFex5+CL2Uz+S90vKrNiZr3T0u9XGXYmgIbBemxI3/qMPXqq/iDz7BNFfKasruU2p5ewdX9tQN57pqOpOk66oBTyrdGsDXS6t2vYFif6969e6d67GR/jXWeUlCvbKHYpey8QQtlJCigDjrb0ltWOK3ih1rJQmuk63ot6Nc1p3UmqvNEHdfxrtkU3GvkXp8RdQjpNnVkqH6PMuyC2mcV8ktvRSY1TVn1ro/1WTguhBnHWdAC3wFagCP36gHWqFPYUvzUFJyrd04pafo59oCleWY6yStl3EvzUlqgRpsTvT6tpjnotVfvrz8rQidrnQgffPBBdwL3j9zrwkSp42GZC0ujxWvqWNNcVtViiHe/RncUVPtTZXUhpRT3RHW+6GJA8z+VYq859epY0AWFbtO0ARUa1XxRjQjo4ifo15QWvqYgV8d6ZalofrQKQWnlDq/jWR1bGrlXKqk3VzSMnae6GFdn9eWXX57i9v2Nivs7jDWVLqOffXWS6Pih0Ub9jiphKwtOTUGZMn/0GqqzQedf7xwbltdVnRHab10LeJ2I3r57XxWY6X2l41Si90/XUt5qSsrOUIeO9jWtrAtlVmoqX9Cva07pTPSarv81CKbBvXjvfQXymqfuZe/qWlm/E2Q2hTKY9H6KPZb4m5bmUx2SZJrKYcG3wHeAFkBwr5PhQw895HqCk2k0OKNNo32qH/DHH3+kOvD4D1oqRqcUfH8PchAndJ3kdMGjQiWaL6nbdAGiFQuUBqWgRtMEVq9e7Qpx6cQY9GtMox1q02iYjjcKaNKa9qLPo7JY9Fnwr6ee6Asqjfop/VAp0RpBVYeaRiuUoqiReu2fRu31XLRd0K8tLVxN84/13tKFqqYDqUicpnfoHKzOJKVSP/HEE27k9Y033oi7JnOyN3XIaapZ7OdDP6ueTEZqO6hSvT5jGVm1Qdcu+lx6o9n+KWxaVk0dJcrSU40OBb0aLVY2TliCem9EUu8VzV1Xkb/Y4N57b2kQQ50Xia6Zopo1v/32m1tSUNc5GijS+9mfFentq56LAnut8hP065oTmzI71OHldXbFm7KiSvLeeTjR2SyxRaXVGajjiTob9JmO9zvPP/+8u2YO+rW15GqB7wAtgHlDWr5MvephLjChdTV1stNJL3YZOC8o0NIcOjAENedGHSjefDIdSG+44QYXKGjekFKT9fp7B1iNJCj9XoG/UqDCsJYujba/ppFIjYSr4yqt97SWPEqGAla6kFBHhEZTlX7vTyFV9Wyl+M6ePTvbFVGiJaYpJVyfAwU+3gi2Uu+Voq9Uco2YecXcwjanXk2Zf8oCVAeYBg50mzoplCWXkRRZb1Q9Iyn83lK+/sJx3mi/PyNPAb6ybrStXtfJkyeHrpaQaowoi0jXO8pE9DpIvGsHTVlSJ0aij0vKKlQgqEEWXVc2btzYXWutXLnSBfCxnTPK2tISxMk4pz47Nq8+jX9ZZ3VyKbhX5m5shXmd83R+CyKD119UWu8lb8pe69atXTaKlvf1Z/HoM6zPvqbfMK3SYlvgO0BLcAv7vCF/T2OrVq3cCU3BfbzlgBQoawQk0UXyvAsPXUj4K8R6wb2q1erizr+knT9tP4j9pdGyqulCTtk1CmriFXNS9V3VklAAnQydnwru1eJV5072Obm05G56j+v4r8+Dv7CczgXq3FWQH8agPnadeBWGVQe2prNkpICbgnp1dmckqPeW8lWngf92TcvTqLxe19gRSaUgq6ZNshfK03tAAZYGLtTh6b1HlKWoQp1ecO9PPe7bt6/rjAxi1Ryl1et/rGLF6phS/ZoGDRq4wQllICpNevDgwa7In/5n2akIXTI3nce0QpSm9miqhP+8pfeQgnt1KvqnTCibRcemRC8Bvb+i0kq317W0skG08pWWUlQWkN5fdLJbvBb4DtACaGGcN6R0en3QY3v+0wru1Vupg4Tm6ia6wJVSBDX/P968Yh1gvZF7nfS8g2gY/yc0WmzTxaXSMDVS7//caRRNF/p63/tH7nUBrtUVVLwnXkdX0NOWElXAj5a9mgqJxY5YehfXCu69zC3/9JPYFoaUcY0e6/ko8PSvLa3gXitHKFXW2zatedfqgNc8+YwW2/Mv5esVBH7kkUdc4KgR+7AuFarMQ42YajBCdUn27NnjRri9auWxI/e6TdOYlIYfb2AjK5t3bFf6tjocFMwreFcNEmVJaI62gjClfytLQgMcjKwm7n2kkWy95so086/84n2v/4tqxmjJVr2/FCzr8xOb/ZosRaX1vUbylf2nzgcdV3g/WVot8B2g0TL04dd8RJ3wdPBReo7/fvUSxwb33oVFonvoNVKveZPq/fTfrnWvvaJI3si90qJ0ceJPlaLRwtr02dN8dF1ULFmyxI0k6YI/veBen1OlbibbsonetCVdRGRkvi+N5jUVWtQIkzp3lZqu+iqx2ygY1vFfo1PpBffJ3nnx5ptvulFyby57rVq13H3qhFfHti7EvQK38VZV0edM6dwHWvjN63zT+VMjfRq9i1eXICxLUeo9oOJmer941zB6TVSbQO8ldX7oNh1PFdwrMFNTzYZEjYIrU+Kqq65KcZv+z3oPa6lBBfMK7pWZ1ahRo8Bf05zYVCtGU239maJe7QqN3isLxLvtxRdfdO8hZctpBDzRQf3+ikprKUoF7/4OCZplpAW+AzTaftN0tPaplkhRQP/aa6+5D72/crA/uFcvsQJ8XVQlOk1Ho+86qKpInv92FUZSmqE/tVcXNSrO5RVLCsPoDI2WXpaKRpkUzGv+nua1qoPLG23y3t9ecK+lHLWtPqfJmp6pzobx48ezMgXtgM9ZyhRTgK+OK43CqoNIU0787yVd2Op2fW4Sud54ZjSlinsd2CoGqPmuml6mz7OKvOnzrgtyPX8VV9MStGk9lrd05IE2XfQrBV1/M970Bf1tjXgnwxSf9JrS6hUQK3MpXsCv4rrq/PA6LpTZpCBNHSqJKn7sXxJUmYbqdPBGTDW3XgGignztr56Lju/+9eppWd/Uaab3kN4b/kBZq2+oA0jnXRWU9ndUKxNWn48g6k5ktKi0BvP0WdbgWNCvsYWjBb4DNFqaTaPtKpyh5eC821QQTwcp/yiA1xT4qwq+er6DCBaUlqgDkPZPHQ26rVOnTi5VLt5a9TqwKf0w0cvv0WhZsdayRpu82xTA6GLUn4rrNU2n0edUF4nJPkcuI5W8aTR/U40UrUuvNFcvgNf3uoBVJosuZqtVqxa9sI53LkvmpqraK1ascB0X/tsVyKvjXec/jeZ7n3VV+9eonKbNZfa+aMrPp59+Gvn444/dfnm36zysFN+gC3JmNK1dxRP9r4+/o1/vFWU+KCjzpnOoMyCRI5n6P6rj5ttvv3UDKJrmqPeyVvBRkK/spoYNG0azJJR+r2wD6gUltqkT0ZsCqutL1bdRNotG6q+44go3jUOd7v6R+zAUldb7i6LSltEW+A7QaHGb5pwrUNDFv3+eqy6QdNs777wTufLKK13A7L/41m1KR0rkvmpOoU5uWvJFo/LqddQ+Kk1Qacaafxb7O+qgSPTcfxotK1r//v3dhbtG8bxUWwUr+gzoYlQpdZqL6S/Ko8CfDi1admte4KWsFV1ke8Gm3u8amdcIlG5XpXidH/x1JcKStaXPswLpeGtH6zOuFHlNx9GccO+5a1Q/q+a4x1vKNyxBvZqyNdQZooyOtLbRSOz8+fNTvMcS3fQ6azRe115Kyde1lubU62cd6xU0etdiGpQJorp6Tm36bKkDURmj+nz67zvqqKOi36vDTZkXyqoJYj8pKm2JaIHvAI2WZlPPr9LqFTRo/o/mCWk0/sknn3QBvoq26ITozbVLdEDvHahUwVPzzJRdoNR6jchorVYVv/FGLP0XbUpf1MEtbOmXNFq8pot5zfvU/HpdnCrtVlVu9T5XISWly6pGhi4odBGo24LeZxots5pGLXVh6r/IVmevzkteh5ZGzdTJ5U3x0Ois0vWD3veDaQruvNTZ2OZdpCudNt4ys1kZ3IdxKV+9HgpYvCl5sfV2vOsGHUs1qhn0/ipgV6eOsiSUqaXOG6V267W/8cYbA9+/nNZ0bPHeI6q/oOBY2RKxBWq9bfT+0v0ZLVSZmY2i0paoFvgO0Gipmj8I1glbQYMOCDphxxb40MHivvvuc0GFtk3kfnpr6ar3UQdSFYzR3DKlYSp9TnObFMB7afleiqBqBvjXyabRwtY0J08ZJ956s94qFBqp02dVAY3/86ztNUdO8+aSrVAejXawTQXDFJApjTT2YlmjYup41jSV4cOHJ82qD4fa+vTp41LxS5YsmeZ87Hh1cLK6hXkpX+9aQZkNXqaDv6lTSKP2yZDVoessBfZq3qoEtGCOPeo81FQXr8NMnYx6HyljLt6ydU8//bRbnlAdj4ncV4pKWyJb4DtAo0Wbv3fOn26mnmGtyalURi+1UQcB//aJXsrGW0tXVYH9t+vAqgOY9lnPQYG8DrS66FOtAF3ohWU0gUaL17wCSaqmqywVfVX6q1JzVWlXacb6HHifYf9nkznrtOxaLE9F4vzZKEofVaaK5hpnl6BeTVPOvIJWXnqs/zOu6Wjq3A5iqk2yj/Apq1DBlYqDaZ6xNx1Px0p1EKnT36sGrtsV3Oh1VtZiMnWI+qc/aNpJ0PuTE5vqc6ijXIULtdyj9xnUtbLOy6ou79Xy0DFKxWp1bZqogoteo6i0JboFvgM0WjTtXie72PlB/t54pd7rBKf56botyA+9fy1d/4lNc/6VcuxlFqj3XVMHFNyrEdTTwtz0vtZ0GF08aE695lq+++67btqJLjI0iqCRe82V03SUeME9jZYdmv89rYtlTRtTcO8vKqdVWlRsLOh9zeym1GsFCSoO6x8ZVMed0vSVTstFecqm94gKgCkY1tx0XQ/o2sC7X8Xw9B7S7Sq4qw5TFatTFlQyFhllSdDgjz2qaK/OdP0PFCjrM6dzbvfu3V1wr4xSdcKp+KJG6hMd1KtRVNoS3QLfARrNfZAHDBjgeum8VHaNAMam1KnHWsG9ev8uvfTSpOm1VkqaRjE1x0lzKWPXEFXPqip7hnW9YhrNq1Crwl8acYq9XesY68StiwzdptRjFQrTMlQE9bTs1FSJ3Qta4wX3Oo+psJhu04i2Cqjqwjbo/c6M5n++OlerloaCinbt2rnnqHOhMna8kXOC+/9LRdZovJYF9AIy1RvRbbEj8eosvf/++yP9+vWLNG/e3FWkD3r/02osCZrYpiyg2NuKFy8eGTJkiJuOqoEx7zOqkXDVPVDNm4svvjjh68FTVNqCaoHvAI3m2k033eQuiHRBoOJzmlOm0fnHH388un6rmk4gOiEuXrw4KdIbFdyrmIzSjLS/SneKdxHEBQ4t7E2jRhpFOv3006Pvbe99rc4rXUDs3LnTncQV0CgFWRf68eb60WhhbC1btnTnKdVTiRfcK+VVmSs6H6gjV6NnmraiebBB73tmNf80OY28TZkyxXVo66vOf979QVVvT7bmpSJrWob/dqUaK+tB2YjKdAp6Pw+2Mb0qMU0DXeoIUoacMoH0s6aE6j4NKml1GgX3Og8H/dmjqLQF2QLfARot2hQgq9q919uvXkYFCkrZUTBfp04d12Op3u5kWs9Swb0uarSua61atQLfHxotK5oqeWsZqbTu15q5StPXfD/9rOA+mT6nNNqhNmWn6OJZ2SgqEBkvuNc5YNmyZdE007CllJ533nlxC7j5W2wWjn9JrXj35+QWLxVZx0gVA9Y0DdXpWb58uZvCpJV/tEwcwTIttikoVuD7xx9/uEBZ6fV///23C+i1jJ2C/GHDhrnpEf6R+0Q3ikpb0C3wHaDl4Askfcj9c8514FJw7/08ePBgN79MB4apU6e6wFmFQpLxokFFcbxiMlSKpWXHploSCuzTWypHqfr+rBUaLbs0b912ZaeoI1cB/uWXXx43uNeFt4K0oPf5QJs605Ume6AVqZPxnBx0SysVWZlMWlVA7x0NYuhaSPePGzfOBWp67+g9FvT+05KvaYqqRsA1+q1C0gqOFcjrMztjxozITz/95L7XFBlNj0n0/lFU2pKhBb4DtBxaKE/rVSoQVpqilzaklLW//vrLLfmiubo6+Xkfdl08KSVfo4JB739ajWIytOzcNJKklFLNkfPP+/QCG31+tVQN6xnTslPTPGeljiqQ1xQxVb7XiKqCexU3U4DmT33VvGMVqoo3hzTZm7IMFFjq+QSdzhvmtr9UZC0ZGHv81NxipVQzX53mb3p/+DvOevXq5TrY/YG73jcqZqv6N7qGVvNWVkhko6i0JUMLfAdoOaxpXpB6E1VERicw76TmXUToYKXeO6Ub+YP6oPc7o41iMrTs3JTyp+kxo0aNSlXcslu3bi7DJpmLPdFoB9J69+7tMsU0mqrCePPnz3eB2dChQ91c0MmTJ7uAX6PzOuafffbZLuV07Nixge/7wda6UR2Ng/ldBRLxinvltJbRVGTVawjb9Q0tcS12Oox/eoaun/fu3euul70lJ/2j5iqoF9R+U1Tagm6B7wAtBzUdbDQ3UXOC0ivQpYPA7bffHtqTHvPjaNm1aeRAn02NQmmOn+b0aWmd0aNHu+KRybgsE412ME2VybU8mYIxr+NZF826XZ3PWrtet2sUX5XgNYqmdNjXXnst+hhhOH/pQtz7vkOHDu65HOhj3HPPPS5LIad3aB9oKjLZTbS0slrVSa73iY4/Xt0p/8i9gnudh9WpuL+aGIluFJW2IFvgO0DLYQcrjcSruFB6H2ilPSp1TXPPgt5nGo0Wv8CWptEoCNC0mkGDBqVatolGC2vThfKkSZPcvOjY+zTSdO+997qL6hYtWriL7hNPPNGlm2rFiDBdtOqcrOehubv6WdPgVMfmQObNq6NPWXjXX3994M8n6HYgqchaKUHBvebgB73ftORqGolX0WidW7V6gr4qwI8tRqu0/G3btrnjUTKsEuVvFJW2oFrgO0DLQe2GG25wFxHpXfjo4KTefxUB4YRHoyVvo+edlp0Ln2mFh4YNG8a9XxfYKhQ5ZsyYwPf1UJrWtlbGjUbVNP9bHRVaTkvLr3mjhEql9UYEy5cvnyqo37hxo5uiE/RzSZaW0VRk3d65c2dSkWmpmqa5abqPCuQpC0RLaCq4V3FmfUb9yyMqA1adRlotKuj9jm0UlbYgWuA7QMtBrUaNGvutqq0LBc1b/PDDD1OkCNJoNBqNloimueIKxhR4pbWNakooY0UBcJgLzSm4f/zxx92ou5ZdU5CvytoqXrt48WJXMFM/66uydGKD+vTO5zm1ZTQVmUZLqynrwz+lQ9M4tIymanzoPtX/8AL82OUmk6lRVNoS3QLfAVoOGwWJV1Xb3/r16+cuphgBpNFoNFoQTaOpP/zwg1vlIXaU2msDBw50a4/r+zAF9hrZK1myZKoMhE6dOrnzs+bKe0tptW7d2qXYq6mwnvc8tYybOukZqU+7kYpMO5jmXftWrFgxMmvWLLcUon4eMWJEZOHChZErrrgi8uijj7pOuN9++80dq4Le5/01ikpbIlvgO0DLYU0XAio8pKramt/nT8Hv2bNnZOnSpe6AFvR+0mg0Gi3nNq3prqljI0eOdHPo/fdppExLmSldX9PGHnjggUjBggUD3+f9NQXoU6dOdeulazTQCxr8wb1G4b2K7ekFrXXr1g38+SR7IxWZdrBNy8dqWoyOLcOHD48W8vTuL1CgQKgCZYpKW6Ja4DtAy4G9kV5VbV0Y6YA1ePBgN4qv0QKqatNoNBotGZrmne/atcsFw6r9ouJ4Wsd+zpw5kc8//9wFyk2bNk01Ap6MTeddVWbXcmsqCqgAXgGnf7kspeXrfnVYqEJ+vMchm+7AGqnItLSagvP07tdSiSqwqKkwFKelWcZa4DtAy6Ht3HPPdak5SvtTFV5V92ROPY1Go9GSqTVo0MB1Qiso1vxWLWk3ZMiQwPfrQNott9ziMuWaNGkSvU0Zcgoa/KOA3sh9ly5d3H3qtAh637NDIxWZFm9qqrJmlBmU1jbKZNX7RlNU9TOdajTbfwt8B2g5uFFEhkaj0WhhSIvVhbgyyvwVqcNwDtO+K0jXMmz+ytlazk+3X3XVVS7g92cdaDt1BoSpdkCyN1KRaf6m6T3ffvutKxSd3jQNTY/RFNXixYsHvs80S/qW63/fAAAAIBu66KKL7JNPPrExY8bYQw89ZMOHD7eqVavalClTbNmyZXb//ffb/Pnzbfv27fb+++/bG2+8YRs2bHC/mydPHvvvv/+CfgpAtlOhQgV74YUXLFeuXNa9e3ebPn16qm0KFixov/76q3322Wd25513BrKfCA8CewAAgGzu4osvtsmTJ9vGjRtt5cqV1qhRI1u+fLm7r1SpUlalShV74IEHXHB/zTXXWCTC5SEQZHCfP39+69atmx155JH29NNP29KlSwPdV4RD4GkDNBqNRqPRaLTMaaVLl3apvhdccIFL4dVcXd2uZew0117r0R999NHpPgbzeWm0xDTVl4pdPUFTN7SkpqbLnHnmmYHvI83C0gLfARqNRqPRaDRaJrQbbrgh8uWXX7pK2ir4t3jx4kj//v0jZcuWdffXqVPHrUqjFWlUKC9M9QJotJwQ3NeuXTvyzDPPRLZt28ZKUbTIAbbAd4BGo9FoNBqNdoitdevWLhjQMn2XXnpp5Oyzz46MGzfOBfnffPNNtCq7KnHv3LkzMmzYMCq102hJtjTi+vXr3edTn9+g94lmYWuB7wCNRqPRaDQa7RDaGWecEVm0aFGkefPmqe576KGHIn///XfkjTfeiFbGV1q+0nwfffTRwPedRqP9/1axYsXIe++9FznttNMC3xeaha7lDXqCPwAAAA7NcccdZ//++6+rdK9CXCp+51W0f+6556xcuXLWokULV6xr9uzZ9s0339jZZ59tv/32W9C7DuB/Fi5caE2bNrW9e/cGvSsIodxB7wAAAAAOTvHixd3X0047zU444QTbtm1btKK9gnoF+dK1a1f39YILLnBfc+fObb/88ovbRh0AAJIDQT0OFoE9AABACNWqVcuN8Cm41zr0WharcuXK7j4voPeC/Lx589rOnTttz5497ud9+/ZFH4d16gEg/AjsAQAAQmjVqlUu/f7xxx+3r776yubNm+fS7r1UfL8jjjjCrVu/ePHiwPYXAJB1COwBAABC6M8//7SxY8da3bp1rVq1ai6oP/fcc+2zzz6zsmXLRrcrVKiQDR482I3Waw4+ACD7UZ5Wyi5dAAAAJKVTTjnFFixYEP25aNGiNnPmTNdatmxpbdu2taeeesql3uu2rVu32jHHHONG7BX0a/5uvBF9AEC4MWIPAAAQAo0bN7bff/9/7d1/aM3tG8Dxy7NvycgaxvGjJmsT82OylTJnKT+mxjR/+EdGSmlm+cOxJVNLbUhbIcM4EQ2hhPmRTFgSYeQhpRn5VTRrWLY4T9f1fJ122Pdr7DzPOZ+z96vunPt87nOfe/wx1+e+7uvzp5w+fdqq4Pfv31+am5tl+fLlkpOTI0uWLJHdu3dbgbwjR47YmXotpnf8+HFJTU21oF4L5RHUA0DkYcceAADAAcaPHy9nzpyxXfqrV69KXV2d1NTUSH19vezcuVOSk5Nl5cqVVu2+M1oJv2PRPABA5OA59gAAAGFOd9o1BX/btm3+nXrdtdcz9h6Px3blMzMzZcaMGRbYdxbEE9QDQOQiFR8AACBMjRgxwv9Iura2Nrl7966kp6fb+flVq1ZJRUWFVFVVSUpKilXJLyoqkqSkJIJ4AOhhCOwBAADCkJ6Lb2xslM2bN1uwrrTivabhV1dXi8vlkj179kh2drbdAGhtbbVn2a9YsSLUSwcA/Ms4Yw8AABCG9Cy9VrovLi62onnnz5+X0tJSu+b1eq0wXmFhoVW+j42NlYSEBFm8eLGsXr3advgBAD0HgT0AAEAYS0xMtBT7jIwMS7fPz8+31Ptp06ZJZWWl3Lhxo9Mz+QT3ANBzENgDAACEOS2Yp8F8WVmZxMXFWTV8LZZ38eJFycvLC/XyAAAhRmAPAADgIBs3bpRx48aJ2+22dH19hv3JkydDvSwAQAgR2AMAADhAr169xOf7+79taWlpkpWVJTNnzrSUfNLuAaBnI7AHAABwOM7UA0DPRmAPAAAAAICD8Rx7AAAAAAAcjMAeAAAAAAAHI7AHAAAAAMDBCOwBAAAAAHAwAnsAAAAAAByMwB4AAAAAAAcjsAcAAAAAwMEI7AEAQJfU1tZKeXl5qJcBAAC+Q2APAEAE8Xq94vP5fmhnz57t8hwZGRn2mZiYmID3c3JyZP369f5+Q0ODFBQUdGu9na21Y9uwYUO35gcAoCf4T6gXAAAAgkuD+KVLlwa89/nz527P29TUJMHmcrn8rxcuXCglJSUyevRo/3sfPnwI+ncCABBp2LEHACDCaBD/5s2bgPb+/Xv/dd0JX7ZsmZw4cUI+fvwojx8/lrlz59q1+Ph4uXz5sr3Wz+hYzQL4PhVfX48cOVIqKir8u+vR0dHS3NwsCxYsCFhPdna2Bej9+vX7Ya0d16if1Xn0dUtLi60rMzPzf86la9XxekOgrq5OWltb5f79++J2uwM+k5ycLDU1NTbn69ev5cCBAzJw4MCg/X0DABBqBPYAAPRAmuJ+9OhRmTBhggW9hw4dktjYWHn+/Lml3KukpCTbUe8s3V7H6FhNzdcx2j59+iSHDx/+IVtA+8eOHful3fdfmWvLli2ydetWmTRpkly/fl1OnTolAwYMsGt6nODSpUty584dSU1NtRsFQ4YMsZ8dAIBI4qPRaDQajRYZzev1+trb230tLS0BraioyD9GlZSU+PvR0dH23uzZs62fkZFh/ZiYmIC5a2trfeXl5f5+Q0ODr6CgIGBMWlqafb/L5bJ+XFycr62tzed2u3+69tzcXF9TU1OX54qPj7d1ejwe/2eioqJ8z549861Zs8b669at8507dy7ge4YPH26fS0xMDPm/F41Go9FoEoTGjj0AABFG0+RTUlICWmVlZcCYe/fuBeyOaxr84MGDu/3dN2/elAcPHkhubq71Fy1aJI2NjXLlypV/bC7dpf/my5cvcuvWLRkzZoz1J06cKNOnT7c0/G/t0aNHdi0hIaFbPysAAOGC4nkAAEQYPTf/5MmT/zumvb09oK9n1f/4Izj3+6uqqiQvL082bdpkqfPfzuiHYi49i6+p+WvXrv3h2qtXr357XQAAhBN27AEAQIC2tjb7Myoq6qfjOhtz8OBBK2yXn58vY8eOlf379//2Wroy15QpU/yvdT2TJ0+Whw8fWv/27dtWPO/p06d2s6Nj00wFAAAiAYE9AAARpnfv3lYgrmP7lSrwmu7+9etXycrKkkGDBknfvn07HafBslagHzZsWMD8Wk1fK+5rUbsLFy7Iixcvfvtn6cpcuqM/f/58e0zejh07rAjgvn377Jr2tZBedXW1Fc8bNWqUzJo1y64HK0MBAIBQ4zcaAAARZs6cOfZYt47t2rVrXf78y5cvrWp+WVmZPXpu+/btnY4rLi62R97p7vfbt28Dru3du9duMHwLsLvjZ3MVFhZaq6+vl/T0dJk3b568e/fOn24/depU28nXGwP6ODx9RJ/eMNCbFwAARIJe/62iBwAAEDRa6E6fea+7+d+f5w/WXJqir1kDWhxQg3oAAHoqiucBAICg6dOnjwwdOtR20Hft2tWtoD6YcwEAEMlIxQcAAEHj8XjscXKa/l9aWho2cwEAEMlIxQcAAAAAwMHYsQcAAAAAwMEI7AEAAAAAcDACewAAAAAAHIzAHgAAAAAAByOwBwAAAADAwQjsAQAAAABwMAJ7AAAAAAAcjMAeAAAAAAAHI7AHAAAAAECc6y9SGJPRl7qOZwAAAABJRU5ErkJggg==",
      "text/plain": [
       "<Figure size 1200x600 with 1 Axes>"
      ]
     },
     "metadata": {},
     "output_type": "display_data"
    }
   ],
   "source": [
    "import matplotlib.pyplot as plt\n",
    "\n",
    "# Extract entities and their counts\n",
    "entities = list(sorted_tally.keys())\n",
    "counts = list(sorted_tally.values())\n",
    "\n",
    "# Plot the bar chart\n",
    "plt.figure(figsize=(12, 6))\n",
    "bars = plt.bar(entities, counts, color='skyblue')\n",
    "plt.xlabel(\"Entity Type\")\n",
    "plt.ylabel(\"Count\")\n",
    "plt.title(\"Named Entity Count Distribution\")\n",
    "plt.xticks(rotation=45)  \n",
    "for bar in bars:\n",
    "    plt.text(bar.get_x() + bar.get_width()/2, bar.get_height(), \n",
    "             f'{bar.get_height()}', ha='center', va='bottom', fontsize=12)\n",
    "plt.show()\n"
   ]
  },
  {
   "cell_type": "markdown",
   "metadata": {
    "jp-MarkdownHeadingCollapsed": true
   },
   "source": [
    "Looking at the counts of Named Entity label sub-types that were extracted, Dates were the number 1 most frequently extracted entity label at 6,752. PERSON was used to compare to witness count in the prior analysis. LOC/GPE/FAC counts can be used to compare to the GeoParser extraction rate."
   ]
  },
  {
   "cell_type": "markdown",
   "metadata": {
    "jp-MarkdownHeadingCollapsed": true
   },
   "source": [
    "## GeoParse vs NER (LOC, GPE, FAC)"
   ]
  },
  {
   "cell_type": "code",
   "execution_count": 50,
   "metadata": {},
   "outputs": [
    {
     "name": "stdout",
     "output_type": "stream",
     "text": [
      "GeoName_Count total: 1497\n"
     ]
    }
   ],
   "source": [
    "geo_parse_sum = df_ent['GeoName_Count'].sum()\n",
    "print(f\"GeoName_Count total: {geo_parse_sum}\")"
   ]
  },
  {
   "cell_type": "code",
   "execution_count": 55,
   "metadata": {},
   "outputs": [
    {
     "name": "stdout",
     "output_type": "stream",
     "text": [
      "Total LOC count: 636\n",
      "Total GPE count: 2110\n",
      "Total FAC count: 957\n",
      "Total LOC/GPE/FAC count: 3703\n"
     ]
    }
   ],
   "source": [
    "loc_sum = 0\n",
    "gpe_sum = 0\n",
    "fac_sum = 0\n",
    "loc_gpe_fac_sum = 0\n",
    "\n",
    "for row in df_ent['entity_label_counts']:\n",
    "    loc_sum += row.get('LOC', 0)\n",
    "    gpe_sum += row.get('GPE', 0)\n",
    "    fac_sum += row.get('FAC', 0)\n",
    "\n",
    "loc_gpe_fac_sum = loc_sum + gpe_sum + fac_sum\n",
    "\n",
    "print(f\"Total LOC count: {loc_sum}\")\n",
    "print(f\"Total GPE count: {gpe_sum}\")\n",
    "print(f\"Total FAC count: {fac_sum}\")\n",
    "print(f\"Total LOC/GPE/FAC count: {loc_gpe_fac_sum}\")"
   ]
  },
  {
   "cell_type": "code",
   "execution_count": 58,
   "metadata": {},
   "outputs": [
    {
     "name": "stdout",
     "output_type": "stream",
     "text": [
      "NER location-related labels ratio to GeoParse: 2.47\n"
     ]
    }
   ],
   "source": [
    "loc_extract_ratio = round(loc_gpe_fac_sum / geo_parse_sum,2)\n",
    "print(f\"NER location-related labels ratio to GeoParse: {loc_extract_ratio}\")"
   ]
  },
  {
   "cell_type": "markdown",
   "metadata": {},
   "source": [
    "NER location-related labels ratio to GeoParse: 2.47\n",
    "For each extracted GeoParsed there were almost double the amount of named entity recognition with the labels LOC and GPE"
   ]
  },
  {
   "cell_type": "code",
   "execution_count": 103,
   "metadata": {},
   "outputs": [
    {
     "data": {
      "text/html": [
       "<div>\n",
       "<style scoped>\n",
       "    .dataframe tbody tr th:only-of-type {\n",
       "        vertical-align: middle;\n",
       "    }\n",
       "\n",
       "    .dataframe tbody tr th {\n",
       "        vertical-align: top;\n",
       "    }\n",
       "\n",
       "    .dataframe thead th {\n",
       "        text-align: right;\n",
       "    }\n",
       "</style>\n",
       "<table border=\"1\" class=\"dataframe\">\n",
       "  <thead>\n",
       "    <tr style=\"text-align: right;\">\n",
       "      <th></th>\n",
       "      <th>description</th>\n",
       "      <th>spacy_entities</th>\n",
       "      <th>GeoName_Count</th>\n",
       "      <th>Geographic_LATITUDE</th>\n",
       "      <th>Geographic_LONGITUDE</th>\n",
       "      <th>Geographic_NAME</th>\n",
       "      <th>Optional_LATITUDE1</th>\n",
       "      <th>Optional_LATITUDE2</th>\n",
       "      <th>Optional_LATITUDE3</th>\n",
       "      <th>Optional_LATITUDE4</th>\n",
       "      <th>...</th>\n",
       "      <th>Optional_LONGITUDE3</th>\n",
       "      <th>Optional_LONGITUDE4</th>\n",
       "      <th>Optional_NAME1</th>\n",
       "      <th>Optional_NAME2</th>\n",
       "      <th>Optional_NAME3</th>\n",
       "      <th>Optional_NAME4</th>\n",
       "      <th>ent_person_count</th>\n",
       "      <th>witness_count_int</th>\n",
       "      <th>entity_label_counts</th>\n",
       "      <th>entity_loc_counts</th>\n",
       "    </tr>\n",
       "  </thead>\n",
       "  <tbody>\n",
       "    <tr>\n",
       "      <th>0</th>\n",
       "      <td>Ada witch - Sometimes you can see a misty blue...</td>\n",
       "      <td>Ada witch -, PERSON\\n3-mile, QUANTITY\\nthe Ada...</td>\n",
       "      <td>2</td>\n",
       "      <td>NaN</td>\n",
       "      <td>NaN</td>\n",
       "      <td>NaN</td>\n",
       "      <td>43.0125</td>\n",
       "      <td>43.00142</td>\n",
       "      <td>NaN</td>\n",
       "      <td>NaN</td>\n",
       "      <td>...</td>\n",
       "      <td>NaN</td>\n",
       "      <td>NaN</td>\n",
       "      <td>Egypt Valley Country Club</td>\n",
       "      <td>Findlay Cemetery</td>\n",
       "      <td>NaN</td>\n",
       "      <td>NaN</td>\n",
       "      <td>1</td>\n",
       "      <td>3</td>\n",
       "      <td>{'PERSON': 1, 'QUANTITY': 2, 'FAC': 3, 'LOC': ...</td>\n",
       "      <td>[the Ada Cemetery, Egypt Valley, Honey Creek, ...</td>\n",
       "    </tr>\n",
       "    <tr>\n",
       "      <th>1</th>\n",
       "      <td>A little girl was killed suddenly while waitin...</td>\n",
       "      <td>month later, DATE\\nthis day, DATE\\n\\n</td>\n",
       "      <td>0</td>\n",
       "      <td>NaN</td>\n",
       "      <td>NaN</td>\n",
       "      <td>NaN</td>\n",
       "      <td>NaN</td>\n",
       "      <td>NaN</td>\n",
       "      <td>NaN</td>\n",
       "      <td>NaN</td>\n",
       "      <td>...</td>\n",
       "      <td>NaN</td>\n",
       "      <td>NaN</td>\n",
       "      <td>NaN</td>\n",
       "      <td>NaN</td>\n",
       "      <td>NaN</td>\n",
       "      <td>NaN</td>\n",
       "      <td>0</td>\n",
       "      <td>3</td>\n",
       "      <td>{'DATE': 2}</td>\n",
       "      <td>[]</td>\n",
       "    </tr>\n",
       "    <tr>\n",
       "      <th>2</th>\n",
       "      <td>If you take Gorman Rd. west towards Sand Creek...</td>\n",
       "      <td>Gorman Rd, PERSON\\nSand Creek, FAC\\nA mile, QU...</td>\n",
       "      <td>0</td>\n",
       "      <td>NaN</td>\n",
       "      <td>NaN</td>\n",
       "      <td>NaN</td>\n",
       "      <td>NaN</td>\n",
       "      <td>NaN</td>\n",
       "      <td>NaN</td>\n",
       "      <td>NaN</td>\n",
       "      <td>...</td>\n",
       "      <td>NaN</td>\n",
       "      <td>NaN</td>\n",
       "      <td>NaN</td>\n",
       "      <td>NaN</td>\n",
       "      <td>NaN</td>\n",
       "      <td>NaN</td>\n",
       "      <td>1</td>\n",
       "      <td>2</td>\n",
       "      <td>{'PERSON': 1, 'FAC': 1, 'QUANTITY': 1, 'CARDIN...</td>\n",
       "      <td>[Sand Creek]</td>\n",
       "    </tr>\n",
       "    <tr>\n",
       "      <th>3</th>\n",
       "      <td>In the 1970's, one room, room 211, in the old ...</td>\n",
       "      <td>1970, DATE\\none, CARDINAL\\n211, CARDINAL\\ntoda...</td>\n",
       "      <td>0</td>\n",
       "      <td>NaN</td>\n",
       "      <td>NaN</td>\n",
       "      <td>NaN</td>\n",
       "      <td>NaN</td>\n",
       "      <td>NaN</td>\n",
       "      <td>NaN</td>\n",
       "      <td>NaN</td>\n",
       "      <td>...</td>\n",
       "      <td>NaN</td>\n",
       "      <td>NaN</td>\n",
       "      <td>NaN</td>\n",
       "      <td>NaN</td>\n",
       "      <td>NaN</td>\n",
       "      <td>NaN</td>\n",
       "      <td>0</td>\n",
       "      <td>3</td>\n",
       "      <td>{'DATE': 2, 'CARDINAL': 4, 'ORDINAL': 1, 'GPE'...</td>\n",
       "      <td>[us]</td>\n",
       "    </tr>\n",
       "    <tr>\n",
       "      <th>4</th>\n",
       "      <td>Kappa Delta Sorority - The Kappa Delta Sororit...</td>\n",
       "      <td>Kappa Delta Sorority - The Kappa Delta Sororit...</td>\n",
       "      <td>0</td>\n",
       "      <td>NaN</td>\n",
       "      <td>NaN</td>\n",
       "      <td>NaN</td>\n",
       "      <td>NaN</td>\n",
       "      <td>NaN</td>\n",
       "      <td>NaN</td>\n",
       "      <td>NaN</td>\n",
       "      <td>...</td>\n",
       "      <td>NaN</td>\n",
       "      <td>NaN</td>\n",
       "      <td>NaN</td>\n",
       "      <td>NaN</td>\n",
       "      <td>NaN</td>\n",
       "      <td>NaN</td>\n",
       "      <td>0</td>\n",
       "      <td>2</td>\n",
       "      <td>{'ORG': 1, 'CARDINAL': 1}</td>\n",
       "      <td>[]</td>\n",
       "    </tr>\n",
       "    <tr>\n",
       "      <th>...</th>\n",
       "      <td>...</td>\n",
       "      <td>...</td>\n",
       "      <td>...</td>\n",
       "      <td>...</td>\n",
       "      <td>...</td>\n",
       "      <td>...</td>\n",
       "      <td>...</td>\n",
       "      <td>...</td>\n",
       "      <td>...</td>\n",
       "      <td>...</td>\n",
       "      <td>...</td>\n",
       "      <td>...</td>\n",
       "      <td>...</td>\n",
       "      <td>...</td>\n",
       "      <td>...</td>\n",
       "      <td>...</td>\n",
       "      <td>...</td>\n",
       "      <td>...</td>\n",
       "      <td>...</td>\n",
       "      <td>...</td>\n",
       "      <td>...</td>\n",
       "    </tr>\n",
       "    <tr>\n",
       "      <th>10975</th>\n",
       "      <td>at 12 midnight you can see a lady with two lit...</td>\n",
       "      <td>12 midnight, TIME\\ntwo, CARDINAL\\nSheridan St....</td>\n",
       "      <td>0</td>\n",
       "      <td>NaN</td>\n",
       "      <td>NaN</td>\n",
       "      <td>NaN</td>\n",
       "      <td>NaN</td>\n",
       "      <td>NaN</td>\n",
       "      <td>NaN</td>\n",
       "      <td>NaN</td>\n",
       "      <td>...</td>\n",
       "      <td>NaN</td>\n",
       "      <td>NaN</td>\n",
       "      <td>NaN</td>\n",
       "      <td>NaN</td>\n",
       "      <td>NaN</td>\n",
       "      <td>NaN</td>\n",
       "      <td>1</td>\n",
       "      <td>2</td>\n",
       "      <td>{'TIME': 1, 'CARDINAL': 1, 'PERSON': 1}</td>\n",
       "      <td>[]</td>\n",
       "    </tr>\n",
       "    <tr>\n",
       "      <th>10976</th>\n",
       "      <td>Is haunted by the victims of a murder that hap...</td>\n",
       "      <td>years ago, DATE\\n\\n</td>\n",
       "      <td>0</td>\n",
       "      <td>NaN</td>\n",
       "      <td>NaN</td>\n",
       "      <td>NaN</td>\n",
       "      <td>NaN</td>\n",
       "      <td>NaN</td>\n",
       "      <td>NaN</td>\n",
       "      <td>NaN</td>\n",
       "      <td>...</td>\n",
       "      <td>NaN</td>\n",
       "      <td>NaN</td>\n",
       "      <td>NaN</td>\n",
       "      <td>NaN</td>\n",
       "      <td>NaN</td>\n",
       "      <td>NaN</td>\n",
       "      <td>0</td>\n",
       "      <td>1</td>\n",
       "      <td>{'DATE': 1}</td>\n",
       "      <td>[]</td>\n",
       "    </tr>\n",
       "    <tr>\n",
       "      <th>10977</th>\n",
       "      <td>The institution was for kids 18 years old and ...</td>\n",
       "      <td>18 years old, DATE\\n70, DATE\\none, CARDINAL\\nh...</td>\n",
       "      <td>0</td>\n",
       "      <td>NaN</td>\n",
       "      <td>NaN</td>\n",
       "      <td>NaN</td>\n",
       "      <td>NaN</td>\n",
       "      <td>NaN</td>\n",
       "      <td>NaN</td>\n",
       "      <td>NaN</td>\n",
       "      <td>...</td>\n",
       "      <td>NaN</td>\n",
       "      <td>NaN</td>\n",
       "      <td>NaN</td>\n",
       "      <td>NaN</td>\n",
       "      <td>NaN</td>\n",
       "      <td>NaN</td>\n",
       "      <td>0</td>\n",
       "      <td>5</td>\n",
       "      <td>{'DATE': 2, 'CARDINAL': 2}</td>\n",
       "      <td>[]</td>\n",
       "    </tr>\n",
       "    <tr>\n",
       "      <th>10978</th>\n",
       "      <td>Gymnasium - their have been reports of a littl...</td>\n",
       "      <td>\\n</td>\n",
       "      <td>0</td>\n",
       "      <td>NaN</td>\n",
       "      <td>NaN</td>\n",
       "      <td>NaN</td>\n",
       "      <td>NaN</td>\n",
       "      <td>NaN</td>\n",
       "      <td>NaN</td>\n",
       "      <td>NaN</td>\n",
       "      <td>...</td>\n",
       "      <td>NaN</td>\n",
       "      <td>NaN</td>\n",
       "      <td>NaN</td>\n",
       "      <td>NaN</td>\n",
       "      <td>NaN</td>\n",
       "      <td>NaN</td>\n",
       "      <td>0</td>\n",
       "      <td>3</td>\n",
       "      <td>{}</td>\n",
       "      <td>[]</td>\n",
       "    </tr>\n",
       "    <tr>\n",
       "      <th>10979</th>\n",
       "      <td>Cadets from the Air Force Academy participatin...</td>\n",
       "      <td>the Air Force Academy, ORG\\nSurvival, NORP\\n\\n</td>\n",
       "      <td>0</td>\n",
       "      <td>NaN</td>\n",
       "      <td>NaN</td>\n",
       "      <td>NaN</td>\n",
       "      <td>NaN</td>\n",
       "      <td>NaN</td>\n",
       "      <td>NaN</td>\n",
       "      <td>NaN</td>\n",
       "      <td>...</td>\n",
       "      <td>NaN</td>\n",
       "      <td>NaN</td>\n",
       "      <td>NaN</td>\n",
       "      <td>NaN</td>\n",
       "      <td>NaN</td>\n",
       "      <td>NaN</td>\n",
       "      <td>0</td>\n",
       "      <td>2</td>\n",
       "      <td>{'ORG': 1, 'NORP': 1}</td>\n",
       "      <td>[]</td>\n",
       "    </tr>\n",
       "  </tbody>\n",
       "</table>\n",
       "<p>10980 rows × 22 columns</p>\n",
       "</div>"
      ],
      "text/plain": [
       "                                             description  \\\n",
       "0      Ada witch - Sometimes you can see a misty blue...   \n",
       "1      A little girl was killed suddenly while waitin...   \n",
       "2      If you take Gorman Rd. west towards Sand Creek...   \n",
       "3      In the 1970's, one room, room 211, in the old ...   \n",
       "4      Kappa Delta Sorority - The Kappa Delta Sororit...   \n",
       "...                                                  ...   \n",
       "10975  at 12 midnight you can see a lady with two lit...   \n",
       "10976  Is haunted by the victims of a murder that hap...   \n",
       "10977  The institution was for kids 18 years old and ...   \n",
       "10978  Gymnasium - their have been reports of a littl...   \n",
       "10979  Cadets from the Air Force Academy participatin...   \n",
       "\n",
       "                                          spacy_entities  GeoName_Count  \\\n",
       "0      Ada witch -, PERSON\\n3-mile, QUANTITY\\nthe Ada...              2   \n",
       "1                  month later, DATE\\nthis day, DATE\\n\\n              0   \n",
       "2      Gorman Rd, PERSON\\nSand Creek, FAC\\nA mile, QU...              0   \n",
       "3      1970, DATE\\none, CARDINAL\\n211, CARDINAL\\ntoda...              0   \n",
       "4      Kappa Delta Sorority - The Kappa Delta Sororit...              0   \n",
       "...                                                  ...            ...   \n",
       "10975  12 midnight, TIME\\ntwo, CARDINAL\\nSheridan St....              0   \n",
       "10976                                years ago, DATE\\n\\n              0   \n",
       "10977  18 years old, DATE\\n70, DATE\\none, CARDINAL\\nh...              0   \n",
       "10978                                                 \\n              0   \n",
       "10979     the Air Force Academy, ORG\\nSurvival, NORP\\n\\n              0   \n",
       "\n",
       "       Geographic_LATITUDE  Geographic_LONGITUDE Geographic_NAME  \\\n",
       "0                      NaN                   NaN             NaN   \n",
       "1                      NaN                   NaN             NaN   \n",
       "2                      NaN                   NaN             NaN   \n",
       "3                      NaN                   NaN             NaN   \n",
       "4                      NaN                   NaN             NaN   \n",
       "...                    ...                   ...             ...   \n",
       "10975                  NaN                   NaN             NaN   \n",
       "10976                  NaN                   NaN             NaN   \n",
       "10977                  NaN                   NaN             NaN   \n",
       "10978                  NaN                   NaN             NaN   \n",
       "10979                  NaN                   NaN             NaN   \n",
       "\n",
       "       Optional_LATITUDE1  Optional_LATITUDE2  Optional_LATITUDE3  \\\n",
       "0                 43.0125            43.00142                 NaN   \n",
       "1                     NaN                 NaN                 NaN   \n",
       "2                     NaN                 NaN                 NaN   \n",
       "3                     NaN                 NaN                 NaN   \n",
       "4                     NaN                 NaN                 NaN   \n",
       "...                   ...                 ...                 ...   \n",
       "10975                 NaN                 NaN                 NaN   \n",
       "10976                 NaN                 NaN                 NaN   \n",
       "10977                 NaN                 NaN                 NaN   \n",
       "10978                 NaN                 NaN                 NaN   \n",
       "10979                 NaN                 NaN                 NaN   \n",
       "\n",
       "       Optional_LATITUDE4  ...  Optional_LONGITUDE3  Optional_LONGITUDE4  \\\n",
       "0                     NaN  ...                  NaN                  NaN   \n",
       "1                     NaN  ...                  NaN                  NaN   \n",
       "2                     NaN  ...                  NaN                  NaN   \n",
       "3                     NaN  ...                  NaN                  NaN   \n",
       "4                     NaN  ...                  NaN                  NaN   \n",
       "...                   ...  ...                  ...                  ...   \n",
       "10975                 NaN  ...                  NaN                  NaN   \n",
       "10976                 NaN  ...                  NaN                  NaN   \n",
       "10977                 NaN  ...                  NaN                  NaN   \n",
       "10978                 NaN  ...                  NaN                  NaN   \n",
       "10979                 NaN  ...                  NaN                  NaN   \n",
       "\n",
       "                  Optional_NAME1    Optional_NAME2 Optional_NAME3  \\\n",
       "0      Egypt Valley Country Club  Findlay Cemetery            NaN   \n",
       "1                            NaN               NaN            NaN   \n",
       "2                            NaN               NaN            NaN   \n",
       "3                            NaN               NaN            NaN   \n",
       "4                            NaN               NaN            NaN   \n",
       "...                          ...               ...            ...   \n",
       "10975                        NaN               NaN            NaN   \n",
       "10976                        NaN               NaN            NaN   \n",
       "10977                        NaN               NaN            NaN   \n",
       "10978                        NaN               NaN            NaN   \n",
       "10979                        NaN               NaN            NaN   \n",
       "\n",
       "      Optional_NAME4 ent_person_count witness_count_int  \\\n",
       "0                NaN                1                 3   \n",
       "1                NaN                0                 3   \n",
       "2                NaN                1                 2   \n",
       "3                NaN                0                 3   \n",
       "4                NaN                0                 2   \n",
       "...              ...              ...               ...   \n",
       "10975            NaN                1                 2   \n",
       "10976            NaN                0                 1   \n",
       "10977            NaN                0                 5   \n",
       "10978            NaN                0                 3   \n",
       "10979            NaN                0                 2   \n",
       "\n",
       "                                     entity_label_counts  \\\n",
       "0      {'PERSON': 1, 'QUANTITY': 2, 'FAC': 3, 'LOC': ...   \n",
       "1                                            {'DATE': 2}   \n",
       "2      {'PERSON': 1, 'FAC': 1, 'QUANTITY': 1, 'CARDIN...   \n",
       "3      {'DATE': 2, 'CARDINAL': 4, 'ORDINAL': 1, 'GPE'...   \n",
       "4                              {'ORG': 1, 'CARDINAL': 1}   \n",
       "...                                                  ...   \n",
       "10975            {'TIME': 1, 'CARDINAL': 1, 'PERSON': 1}   \n",
       "10976                                        {'DATE': 1}   \n",
       "10977                         {'DATE': 2, 'CARDINAL': 2}   \n",
       "10978                                                 {}   \n",
       "10979                              {'ORG': 1, 'NORP': 1}   \n",
       "\n",
       "                                       entity_loc_counts  \n",
       "0      [the Ada Cemetery, Egypt Valley, Honey Creek, ...  \n",
       "1                                                     []  \n",
       "2                                           [Sand Creek]  \n",
       "3                                                   [us]  \n",
       "4                                                     []  \n",
       "...                                                  ...  \n",
       "10975                                                 []  \n",
       "10976                                                 []  \n",
       "10977                                                 []  \n",
       "10978                                                 []  \n",
       "10979                                                 []  \n",
       "\n",
       "[10980 rows x 22 columns]"
      ]
     },
     "execution_count": 103,
     "metadata": {},
     "output_type": "execute_result"
    }
   ],
   "source": [
    "#Retrieves the entity text that are filtered for LOC/GPE/FAC\n",
    "def count_entity_text_loc(text):\n",
    "    entity_text = [line.rsplit(' ', 1)[-2][:-1] for line in text.strip().split(\"\\n\") if line.rsplit(' ', 1)[-1] != '' and line.rsplit(' ', 1)[-1] in ['LOC','GPE', 'FAC']]\n",
    "    return entity_text\n",
    "\n",
    "df_ent['entity_loc_counts'] = df_ent['spacy_entities'].apply(count_entity_text_loc)\n",
    "df_ent\n"
   ]
  },
  {
   "cell_type": "code",
   "execution_count": 107,
   "metadata": {},
   "outputs": [
    {
     "name": "stdout",
     "output_type": "stream",
     "text": [
      "{'the Ada Cemetery': 1, 'Egypt Valley': 1, 'Honey Creek': 1, 'Honeycreek Road': 1, 'Seidman Park': 1, 'Findlay Cemetery': 1, 'Sand Creek': 2, 'us': 1, 'the Rogue River': 1, 'Rockford': 4, 'Michigan': 13, 'Harsens Island': 1, 'Jackson Ave': 1, 'Ann Arbor': 1, 'I-94': 1, 'a Tribal Center': 1, 'Camp 8': 1, 'East': 14, 'the Bloody Hand': 1, 'Denton Rd': 1, 'Berville': 1, 'Birmingham': 1, 'Trowbridge': 2, 'Iroquois': 2, 'Denton Road': 1, 'Central Lake': 1, 'Chesaning': 1, 'the Sunflower Bridge': 1, 'Croton Dam': 1, 'DC': 2, 'Berwyn elementary(located': 1, 'Decatur': 2, 'Van Buren': 1, 'Marcellus': 1, 'Cass County': 1, 'the Drill Hall': 1, 'Canada': 10, 'Detroit': 6, 'St. Andrews': 1, 'Huron River Dr.': 1, 'the west building': 1, 'South': 10, 'Brush Lake Rd': 1, 'the Muskegon River': 1, 'Grand River': 1, 'Farmington': 1, 'the west gate': 1, 'Graves': 1, 'the Forester Inn': 1, 'the Forester Cemetery': 1, 'Lake Huron': 2, 'Garden City High School': 1, 'Cambridge': 3, 'Grand Haven': 2, 'Ferry Hill': 1, 'Pickett Hall': 2, 'Ada': 2, 'Grayling': 1, 'the west hall': 1, 'Gross Isle': 1, 'the United States': 8, 'Grosse Isle': 1, 'Lake St. Clair': 1, 'the Allegan Woods': 1, 'Harrison Township': 1, 'Budd Lake': 1, 'America': 9, 'Holland': 2, 'Auditorium': 28, 'Inkster Rd': 1, 'the Arts Camp': 1, 'Oak Hill Cemetery': 1, 'Ionia': 1, 'Vicksburg': 3, 'Kalamazoo': 1, 'Alamo Hill': 1, 'The Riverside Cemetery': 1, 'Mt. Olivet Catholic Cemetery': 1, 'Brewer': 2, 'Grand River Valley': 1, 'forgotton': 1, 'Grand Rapids': 1, 'Pine Mountain Road': 1, 'Marquette': 2, 'Iron Mountain': 1, 'Kingsford': 1, 'Bedford Township': 1, 'Lambertville': 3, 'Toledo': 2, 'Ohio': 21, 'Capitol': 2, 'Bailey': 2, 'Mackinac': 2, 'US': 20, 'the Mackinac Bridge': 1, 'Wikipedia 1': 1, 'Madison Heights': 1, 'Pink Palace': 1, 'Manitoulin Island': 1, 'the Anderson Cemetery': 1, 'Halverson': 1, 'Front Street': 1, 'Hidden': 1, 'the Hommochitto River': 1, 'Richmond': 4, 'Memphis': 3, 'the Midland Cemetery': 1, 'Meyer Hill': 1, 'Milan': 2, 'Millington': 2, 'Cobb Hall - 4th Floor - Many': 1, 'Troutman': 1, 'Mt. Pleasant': 1, 'North Muskegon': 1, 'Port Huron': 2, 'Northville': 1, 'north-east': 1, 'East Buno': 1, 'Al Capone': 2, 'Reed City': 1, 'Paris': 2, 'Dole Hall': 1, 'Glenwood Ave': 1, 'Cordley': 1, 'Inkster': 1, 'Inn': 20, '4th Street': 1, 'Downtown Rochester': 1, 'Camp Rogers': 1, 'Roseville': 1, 'approx': 1, 'Wife Agnes': 1, 'Agnes': 4, 'the Felt Mansion': 1, 'Paradise': 1, 'Saint Clair County': 1, 'Grosse Pointe': 1, 'Sterling Heights': 1, 'Hoosier Valley': 1, 'HEARD.-': 1, 'Rochester': 1, 'Highland Hall': 4, 'Sterrit': 1, 'Geek Rd': 1, 'South West': 2, 'Salem': 8, 'Novi': 1, 'Walled Lake': 2, 'Decker': 1, 'Wood Street': 2, 'Corwin': 1, 'Texas': 14, 'Febuary': 1, 'Walnut': 1, 'Newaygo County': 1, 'White Cloud': 1, 'Eastern Michigan': 1, 'North Park Golf Course': 1, 'Fort Roberdeau - Legend': 1, 'Chicago': 22, 'the Wopsononock Mountain': 1, 'Altoona': 3, 'Ebensburg': 1, 'Buckhorn Mountain': 1, 'Buckhorn': 1, 'the Eastern United States': 1, 'Pennsylvania': 10, 'Bloomsburg': 1, 'Us': 3, 'the Kittatinny Ridge': 1, 'Lehigh': 1, 'Kennywood Park': 1, 'Washington': 21, 'Spain': 7, 'the Grundy Memorial Library': 1, 'Mockingbird Hill': 1, 'Lillian': 2, 'Newton': 1, 'Tyler Hall': 1, 'Holicong Road - An old': 1, 'Slippery Rock Creek': 3, 'Butler': 1, 'The Canonsburg Subway': 1, 'Carbon County Prison': 1, 'Bandstand': 1, 'Egg Hill': 1, 'Venango Trail': 1, 'Hellhounds': 1, 'Indian Rock Park': 2, 'Indian Rock': 1, 'the Dubois Area': 1, 'Reeder Hall': 1, 'Pittsburgh': 4, 'Ireland': 3, 'Saint Michael': 1, 'Camp Silver Belle': 1, 'Mountain Springs': 1, 'the Witches Circle': 1, 'Henry': 3, 'West': 7, 'Niagara Hall': 1, 'Philadelphia': 4, 'n’t': 3, 'Valley Forge': 2, 'Flourtown': 1, 'Allentown Rd': 1, 'The Vicary Mansion': 1, 'the Captain Vicary': 1, 'Gettysburg': 3, 'Southern California': 1, 'Glatfelter Hall': 1, 'Pennsylvania Hall - The Administrative': 1, 'Oak Hill': 2, 'the Triangular Field': 1, 'Wheatfield': 1, 'the Gordon Mountain': 1, 'Granville': 1, 'Courthouse Square': 1, 'Roth Hall': 1, 'Trail': 5, 'Harrisburg': 3, 'Susquehanna Township': 1, 'Farm Show': 1, 'the Capital Area Green Belt': 1, 'Edgemont': 1, 'Woodland': 1, 'the Green Belt': 1, 'Indian Cemetery': 2, 'Boscov': 1, 'Edge Hill': 1, 'Hazleton': 1, 'Wyoming': 3, 'Hershey': 1, 'Graeme Park': 1, 'rotunda': 3, 'Rotunda': 3, 'Beaver county': 1, 'Waller Hall Building - Ghost': 1, 'Oak Hall': 1, 'Laurel': 1, 'Ward Hall': 1, 'South Ben Franklin': 1, 'Lancaster county': 1, 'the Mondale Road': 1, 'the Lancaster Green Apartments': 1, 'Satan': 7, 'Trenton': 2, 'Langhorne': 1, 'St. Vincent': 1, \"St. Vincent's\": 1, 'St. Xavier': 1, 'North West': 1, 'Lebanon County': 1, 'Prison': 1, 'Packerton': 1, 'Night of': 1, 'Pa.': 1, 'Michael': 1, 'North Hall': 2, 'Mansfield': 3, 'Media': 1, 'Lima': 4, 'County': 4, 'Delaware County': 1, 'Milford': 1, 'Restland': 1, 'New Ashatola': 1, 'Hillsville Road': 1, 'the Mahoning River': 2, 'Black Hand': 1, 'the River House Restaurant': 1, 'Mansion': 10, 'Quakertown': 2, 'Doyelstown': 1, 'Top Rock Trail': 1, 'West Side Story': 1, 'Perry County': 1, 'Pandemonium': 1, 'Pioneer Cemetery': 2, 'Eastern State': 1, 'the Biddle estate(as': 1, 'Banks': 1, 'Delaware': 2, 'Hillcrest Drive': 1, 'South Hills': 2, \"St. Ann's\": 1, 'Living Learning Center - Room 409': 1, 'the Stripped District of Pittsburgh': 1, 'the John Heinz History Center': 1, 'Allegheny Center': 1, 'Lawrence Hall': 1, 'PNC Park': 1, 'Heinz Stadium': 1, 'the schenley hotel..': 1, 'Bruce Hall': 1, 'Allegheny': 1, 'Central Pa': 1, 'Xavier': 1, 'Grace Hall': 1, 'Woodcrest': 1, 'the Radnor Hotel': 1, 'Smith Hall': 3, 'Selwyn Hall': 1, 'Vito': 2, 'Reading': 1, 'Route 40': 1, 'Johnstown': 1, 'PA': 1, 'WJAC': 1, 'Fort Roberdeau -': 1, 'Fort Roberdeau': 1, 'St. Johns': 1, 'Slippery Rock': 1, 'Miller Auditorium': 1, 'South Park': 2, 'Koppel': 1, \"Diane Hall's\": 1, 'Old Coaly': 1, 'Lemont': 2, 'Strasburg': 1, 'Loganton': 1, 'Kings River': 1, 'Lower Level - In': 1, 'Janesville': 1, 'Manor Lake': 2, \"St. Mary's Hall\": 1, 'the Neshanach Creek': 1, 'Highway 14': 1, 'Sand Canyon': 1, 'LA County': 1, 'Grahm Hill': 1, 'Highway 17': 1, 'S.C.': 1, 'Craven Hall': 1, 'Penelope': 4, 'Boston': 5, 'Waynesboro': 1, 'the Underground Railroad': 2, 'Fort Ord': 1, 'Indian Hills': 2, 'California': 15, 'Sewickley Township': 1, 'Mars Hill Road': 1, 'Coulterville Road': 1, 'Eighth Street': 1, 'Babyroad': 1, 'Duboistown': 1, 'Mosquito Valley Road': 1, 'Accomac': 2, 'the Susquhanna River': 1, 'Molly': 8, 'Tulepehocken Bridge': 1, 'the east coast': 2, 'Kunkle Mansion - There': 1, 'Pine Road': 1, 'I-83': 1, 'Toad Road': 2, 'California Street': 1, 'Magnolia': 1, 'Stockton': 1, 'Pershing Avenue': 1, 'King Avenue': 1, 'San Quentin': 1, 'York County': 1, 'Campbell Hall': 1, 'Hollywood': 5, 'Tulare County': 1, 'Visalia': 1, 'Union City': 2, 'San Antonio Heights': 1, 'Upland': 2, 'the Park Road/Mountain Ave': 1, 'History': 1, 'Zodiac': 1, 'the Napa Valley': 2, 'Prince Louis': 2, 'Gardenia': 1, 'Turners Avenue': 1, 'Adams': 1, 'Massachusetts': 5, 'Athol': 1, 'MA': 2, 'Faint': 1, 'Ventura': 1, 'Santa Clara Cemetery': 1, 'RV': 1, 'Fairmount': 1, 'Boston Harbor': 1, 'Tillinghast Hall': 1, 'Rose Hills Cemetery': 1, 'Building': 2, 'the Green Room': 3, 'moon': 1, 'Orangethorpe St.': 1, 'Yorba': 1, 'Camp Titticut': 1, 'the Bridgewater Triangle': 1, 'Verna': 2, 'Canton': 2, 'Pendleton Rd': 1, 'Fredrico': 1, 'Huttleston Ave': 1, 'China': 1, 'Normal Hall': 1, 'west Fitchburg': 1, 'Baldinville': 1, 'North to': 1, 'the Green River': 1, 'Haverhill': 1, 'Blood': 2, 'Dungeon': 2, 'Lynn': 1, 'Redd': 1, 'Marlborough': 1, 'Blue Hills': 1, 'Indian Territory': 1, 'Hendrix Hall': 1, 'Newburyport': 2, 'the Barlette Mall': 1, 'Ash Hall': 1, 'Mount Hope Cemetery': 1, 'North Attleboro': 1, 'northampton': 1, 'overtoun': 1, 'San L': 1, 'Route 32': 1, 'Palmer': 1, 'WILL': 1, 'Theresa': 1, 'Plymouth': 1, 'Wachusett Mountain': 1, 'Manteca': 1, 'Psycho': 3, 'Hospital': 4, 'Clause Road': 1, 'Bluff Road': 1, 'the Battle of the Rio San Gabriel': 1, \"the King Philip's\": 1, 'Rutland Heights': 1, 'Penny Road': 1, 'Cape Cod Canal': 1, 'Narrows Park': 1, 'Monterey': 1, 'Black': 1, 'Moreno Valley': 1, 'Alaska': 3, 'Naval Base': 1, 'Newport Harbor': 1, 'Niles Canyon': 1, \"Mission San Jose's\": 1, 'St. Stevens': 1, 'St. Stephens': 1, 'Springfield': 5, 'Alumni Hall': 1, 'Stoneham': 1, 'Parsonage': 1, 'England': 9, 'the Goss Building': 1, 'East Street': 2, 'North Street': 1, 'Preservation Park Historic District': 1, 'Oakland': 3, 'Oceanside': 1, 'Downtown Ontario': 1, 'Seal Beach Police Dept': 1, 'U.S.': 10, 'Orange County': 1, 'Pacific Coast Highway': 1, 'the Naval Station': 1, 'REMOVED': 1, 'Cunnif': 1, 'Mount Auburn Cemetery': 1, 'The Auditorium of the hosmer school': 1, 'blueberry hill': 1, 'Easter': 1, 'College Hall - 4th Floor': 1, 'College Hall - 2nd Floor': 1, 'Central Avenue - This road': 1, 'Santa Clara': 1, 'Redondo Beach': 1, 'PV': 1, 'Echo': 1, 'Angeles Crest': 1, 'Colorado': 4, 'the Drama Room': 1, 'Placervilles': 1, 'Main Street': 17, 'Palomares Cemetery': 1, 'Highway 101': 1, 'San Juan Bautista': 1, 'Red Hill Park': 1, 'Lunada bay': 1, 'Prospect Park': 1, 'Redlands': 1, 'Sunset': 2, 'the Plaza Cafe': 1, 'the Tyler Mall': 1, 'Mt. Rubidoux': 2, 'south east': 1, 'north east': 1, 'Author': 1, 'Recreation': 1, 'Lothian': 1, 'Old Sacramento': 1, 'the Freeport Factory': 1, 'Sacramento': 8, 'Sacramento City Councilman': 1, 'the Sacramento River': 4, 'Salinas': 1, 'La Llorona': 2, 'Wyatt Earp': 1, 'Lake Arrowhead': 1, 'Shorecliffs': 1, 'Cottons': 1, 'San Diego Airport': 1, 'San Diego': 3, 'Pendleton': 4, 'Questhaven': 1, 'K Street': 1, 'the Wave Cove': 1, 'the Wave Pool': 1, 'Chinatown': 1, 'San Francisco': 6, 'the Parish Hall': 1, 'Golden Gate Park': 1, 'Park Presidio': 1, 'Stanyan Street': 1, 'Octavia': 1, '17th avenue': 1, 'Stowe Lake Golden Gate Park - It': 1, 'Stowe Lake': 1, 'Pediatric': 1, 'the San Gabriel Mission': 1, 'the Temple City High School': 1, 'White': 2, 'Black Lake -Reports': 1, 'Charlotte': 3, 'Camden': 3, 'Jones Cemetery': 1, 'Clarendon': 2, 'Mabel': 1, 'Galloway Hall - Rumor': 1, 'Ozark': 1, 'morgue': 3, 'St. Bernard': 2, 'Ico': 1, 'Prague Road': 1, 'Highway 270': 1, 'Crystal Springs': 1, 'the Garland/Montgomery County': 1, '514B Central Avenue': 1, 'Hot Springs': 1, 'the Judsonia Cemetery': 1, \"Little Rock's\": 1, 'Mount Holly Cemetery -': 1, 'Old Pioneer Cemetery': 1, 'the Old Mill': 1, 'Dry Hill Rd': 1, 'Highway 220': 1, 'Drake Park': 1, 'Canyon': 2, 'Lincoln City': 1, 'Central Point Elementary': 1, 'Strand': 1, 'Jonesboro': 1, 'Arkansas': 4, 'Witherspoon Hall': 1, 'Little Rock': 1, 'Gertie': 1, 'Damascus': 1, 'Oregon': 7, 'Forest Grove': 2, 'Washington County': 3, 'Tillamook': 1, 'Lister': 1, 'the Oregon Vortex': 1, 'Warren': 5, 'Hwy': 1, 'Medford': 1, 'Todd Hall': 1, 'Yaquina Bay Lighthouse': 1, 'Newport': 2, 'North Bend': 2, 'Ontario': 1, 'The Snake River': 1, 'Malheur Butte': 1, 'Cathedral Park': 1, 'Vaughn Street': 1, 'Portland': 4, 'The Wilcox Mansion': 1, 'Nina': 1, 'the Dark Side of Portland Walking Tour': 1, 'Scapponia Park': 1, 'the North Rim Trail': 1, 'Mansion - This': 1, 'South Salem': 1, 'the middle night': 1, 'Marina Village Pkwy': 1, 'Mariner Square Dr': 1, 'Costa County': 2, 'Empire': 1, 'North Dakota': 3, 'Beaverton': 1, 'the Garden Center': 1, 'Battery': 1, 'Leland Avenue': 1, 'Apple Valley': 1, 'Walgreen': 1, 'Fantasy Island': 1, 'Arcadia': 1, 'the Haunted Coast': 1, 'Castle Air Force Base': 1, 'Reforma Avenue': 1, 'Harvey Auditorium': 1, 'Cudahy': 1, 'Whittier Narrows': 1, 'Teachers': 1, 'Waterdog': 1, 'the Auditorium, Screams': 1, 'Santa Cruz': 4, 'Camp Snoopy': 1, 'Virginia': 5, 'Camarillo': 1, 'the Bell Tower': 3, 'Alabama Ave': 1, 'Alameda': 1, 'Wilmington': 3, 'San Pedro': 1, 'Los Angeles': 3, 'Rancho Dominguez': 1, 'the Inyo Mountains': 1, 'Chowchilla California': 1, 'P.E.': 3, 'Clayton': 3, 'El Dorado': 1, 'Clovis Avenue': 1, 'Ca': 1, 'Placerville': 1, 'Coldsprings Rd': 1, 'the Vineyard House': 1, 'May Schieffer': 1, 'Coloma': 2, 'the English Building': 1, 'Live Oak': 1, 'City Hall': 4, 'Caribbean': 3, 'Disneyland': 2, 'Dolly': 1, 'Pirates': 1, 'Space Mountain': 1, 'a Grad Night': 1, 'Rebecca': 1, 'Dublin': 3, 'San Joaquin': 2, 'Altamont': 1, 'Echo Park': 1, 'Hathaway Hills': 1, 'patient(ghost': 1, 'El Centro': 1, 'American River - A': 1, 'Route 66': 2, 'Fort Bragg': 1, 'Pudding Creek': 1, 'Beachpark Plaza': 1, 'Pinto Lake': 1, 'Fremont': 2, 'Sanctuary': 1, 'Mission San Jose': 1, 'Herndon': 1, 'Harbor and Commonwealth': 1, 'Fullerton': 2, 'Plummer Auditorium': 1, 'the Heritage Hall': 1, 'Long Beach': 1, 'Georgetown': 5, 'Claudia': 1, 'Garden': 1, 'Watsonville Road': 1, 'Hills': 2, 'Glen Helen': 1, 'Groveland': 1, 'UK': 1, 'the Civic Auditorium': 1, 'Nyman Hall': 1, 'Robinson Hall': 1, 'San Jacinto Valley': 1, 'Ramona': 2, 'Laurel Canyon': 1, 'Lookout Mountain': 1, 'the Ladies Vanity Room': 1, 'the Hollywood Roosevelt Hotel': 1, 'Highland': 2, 'Granada': 1, 'Magnolia Street': 1, 'the Imperial Valley': 2, 'the Indio Library': 1, 'Irvine': 1, 'Keene': 1, 'Lerdo Highway': 1, 'Freeway 99': 1, 'china': 4, \"Sighting Shadow's\": 1, 'Hallway': 3, 'Unnaturally Dark': 1, 'Pacific': 1, 'Downtown Long Beach': 1, 'Belmont': 8, 'Roosevelt': 2, 'Dodger Stadium': 2, 'L.A.': 1, 'the White Lady': 1, 'Solano Ave': 1, 'Elysian Park': 1, 'Mansion of the magician': 1, 'Wilshire Boulevard': 1, 'Vermont': 4, \"Walnut - City Of Indusry - St. Mary's Catholic School - Since\": 1, 'Haunting': 1, 'Kabar': 1, 'Neutrogena': 1, 'Broadway': 8, 'Venice': 1, 'Venice Beach Boardwalk': 1, 'Venice Beach': 1, 'Westminster Avenue': 1, 'Chaplin': 1, 'Los Gatos': 2, 'Ajo': 1, 'Phoenix': 3, 'New River': 1, 'the Grandma Room': 1, 'Arizona': 4, 'Carolina': 1, 'Florence': 2, 'Romeo': 2, 'Noftsger Hill Elementary': 1, 'the El Tovar': 1, 'the El Tovar Hotel': 1, 'white roams': 1, 'the Cleopatra Room': 1, \"Launa's Canyon\": 1, 'four(husband': 1, 'wife(Launa': 1, 'Launa': 1, 'Theatre Three': 1, '11:30PM': 1, '1st Street': 1, 'Lake Pleasant': 1, 'Fillmore': 1, 'Deer Valley': 1, \"Deer Valley's\": 1, 'Leveen': 1, '35th Avenue': 1, 'Lynx Lake': 1, 'Diamond Valley': 1, 'Sharlot Hall - Visitors': 1, 'Palo Verde East': 1, 'Tempe': 1, 'Breakfast': 9, 'Padre': 1, 'North Hallway': 1, 'North': 5, 'the Black River': 1, 'Annapolis': 3, 'Truxton': 2, 'Baltimore': 1, 'Maryland': 6, 'Fort': 4, 'Lansdowne': 2, 'Mount Wilson State Hospital': 1, 'Baltimore County': 1, 'Md.': 1, 'Davidge Hall': 2, 'Hall Manor': 1, 'Fort Howard': 1, 'Bowie': 1, 'Fletchertown Road': 2, 'Charlotte Hall': 1, 'Cherryfield Road': 1, 'Marriottsville': 1, 'Historic District': 1, 'Bench': 1, 'Brute': 1, 'DuBois': 1, 'Fort Meade': 2, 'Frostburg': 1, 'C Hall - There': 1, 'Greenbelt': 1, 'Henryton Road': 1, 'Patapsco State Park': 1, 'Harford County': 1, 'Page County - Forest Haven &': 1, 'Riviera Beach': 1, 'Camp Lincoln': 1, 'Cedar': 2, 'Confederate Grays': 1, 'the Confederate Cemetery': 1, 'Outdoor Ed': 1, 'Rocky Hill Cemetery': 1, 'Rocky Hill': 2, 'Woodsboro': 1, 'Coppermine Road': 1, 'Kullihoma': 1, 'the North Boggy Creek': 1, 'Bartlesville': 2, 'Circle Mountain': 1, 'County Road 2700': 1, 'the Arkansas River': 1, 'Byng Auditorium': 2, 'Drama': 2, 'Byng': 2, 'Catoosa': 1, 'Baird': 1, 'New York': 7, 'New Jersey': 4, 'Illinois': 10, 'Tucker Road': 1, 'washita county': 1, 'El Reno': 1, 'Weatherford': 2, 'Ft': 3, 'Kellyville': 1, 'Potowattomie Road': 1, 'NE': 1, 'Sulphur': 1, 'Oklahoma': 3, 'the hill': 1, 'Penn Square Mall': 1, 'County Line': 1, 'Sallisaw': 1, 'Langston': 2, 'the Pizza Hut': 1, 'Ponca City': 1, 'Crybaby Bridge': 1, 'Old Salina': 1, 'Veteran': 2, 'the Ozark Mountains': 1, 'Tulsa': 1, 'Campbellton': 1, 'Lavern': 1, 'Mallet Hall Dorm - Haunted': 1, 'Mallet Hall Dorm - Basement': 1, 'Mallet Hall Dorm – Third Floor - It': 1, 'Freeport': 1, 'YMCA': 6, 'Rock': 1, 'the Beta Theta Pi House': 1, 'Poland': 2, 'Hiram': 2, 'Missouri': 9, 'Maine': 1, 'Vietnam': 4, 'Thomaston': 1, 'York': 1, 'Alaska Railroad': 1, 'Kennicott': 2, 'the Copper River': 1, 'Chitna': 1, 'Chitina': 1, '7PM': 1, 'Kiksaadi': 1, 'Highland Road': 2, 'Louisiana': 3, 'Bossier City': 1, 'the Battle of New Orleans': 1, 'the Pleasant Hill Cemetery': 1, 'Antioch': 1, 'Big Woods': 1, \"Jefferson's Island\": 1, 'Keatchie': 1, 'Highway 172': 1, 'Logansport': 1, 'Shreveport': 1, 'Lafayette': 1, 'Jackson Street': 1, 'New Orleans': 5, 'the Garden District': 2, 'Angela': 1, 'France': 3, 'Superdome': 1, 'Jackson Square': 1, 'Hookmans Graveyard': 1, 'Earth': 4, 'Watertown': 4, 'Grady Hill': 1, 'Georgia': 12, 'Victoria': 2, 'Engle Mountain': 1, 'McCandles Hall - It’s': 1, 'McCandles Hall': 1, 'Alabama': 5, 'Jasper': 1, 'Black Water Creek': 1, 'the Pickens County Courthouse': 1, 'Cullman County': 1, 'premises': 4, 'this Indian Cemetery': 1, 'Dora': 1, 'the Guillot Center': 1, 'Cypress Creek': 1, 'the Coosa River': 1, 'the Gadsden Public Library': 1, 'Noccalula Mountain': 1, 'the Dwight Mill Village': 1, 'Tabor Road': 1, 'Gadsden': 2, 'Black Creek': 2, 'New Castle Road in Gardendale/Morris': 1, 'the Pea River': 1, 'the Choctahatchee River': 1, 'Green Valley Speedway': 1, 'DeKalb County': 1, 'the Carter Mansion': 1, 'Warrior River Bridge': 1, 'the Second Creek Bridge': 1, 'Highway 5': 1, 'Winston County Drag Strip': 1, 'Maple Hill Cemetery': 1, 'Highway 84': 1, 'Mobile Bay': 1, 'South Dakota': 3, 'the south Pacific': 1, 'Mount 9': 1, 'mount 5': 1, 'Norfolk Naval Shipyard': 1, 'Main': 3, 'Bunsen': 1, 'the Alabama River': 1, 'the Tallapoosa River': 1, 'McElderry Road': 1, 'Cheaha Road': 1, 'Cemetery Mt.': 1, 'Highway 43': 1, 'Northport': 1, 'Sandfort Road': 1, 'Pine Ridge': 1, '1AM': 1, 'Banshees': 1, 'River Falls Road': 1, 'Andalusia': 1, 'Mobile': 1, 'Selma': 1, 'Southern Mansion': 1, 'Prospect Road Off': 1, 'Tuscaloosa': 1, 'Hay Hall - On': 1, 'Amelia': 1, 'Leroy': 1, 'St. Joseph': 2, 'Litchfield': 1, 'Akron': 1, 'The Glamorgan Castle': 1, 'Crystal Tissue Factory': 1, 'Columbus': 3, 'Impala': 1, 'Eaton Road': 1, 'West Green': 1, 'Wilson Hall': 1, 'Stroud': 1, 'U.S': 2, 'the Hay Bayler': 1, 'Clark Danbury': 1, 'Bowling Green': 1, 'Brunswick': 1, 'Beaver Creek Canal': 1, 'Gretchen': 1, 'Beaver Creek State Park - Esther Hale': 1, 'Beaver Creek': 2, 'the Beaver Creek': 1, 'Lake Lansing': 1, 'Buffalo Ridge': 1, 'East Miami River Road': 1, 'Western Avenue': 1, 'Cincinnati': 4, 'Northern Kentucky': 1, \"King's Island\": 1, 'the Eiffel Tower': 1, 'Music Hall': 3, 'Blue Ash': 1, 'Hollow': 1, 'Piqua': 2, 'Highway SR4': 1, 'Highland View Hospital - Reports': 1, 'Cleveland': 1, 'Puritas Amusement Park': 1, 'green hills': 1, 'Little Beaver Creek': 1, 'Lisbon': 1, 'Church Hill Road': 1, 'West River Rd': 1, 'Mirror Lake': 2, 'Kelton': 1, 'Ft Hayes': 1, 'http://www.forgottenoh.com/Counties/Trumbull/biroshouse.html - June 2008': 1, 'washington': 1, 'mansfield': 1, 'ohio': 1, 'the Hop Along': 1, 'Blair Hall': 1, 'Spruceville': 1, 'Eaton': 1, 'Elmore': 1, 'the Call Center': 1, 'Chamberlain Road': 1, 'Ohio River': 1, 'Brubaker Rd': 1, 'Germantown': 2, 'Green Springs': 1, 'Greenfield': 1, 'Monroeville Lamereaux': 1, 'Huron': 2, 'Seymour Creek': 1, 'Shawnee Island': 1, 'Hell Lake': 1, 'WWI': 3, 'Hardin County': 1, 'Europe': 2, 'West Toledo Branch Library - Odd': 1, 'Route 29': 1, 'Route 38': 1, 'Malabar Farm Inn': 1, 'Nahum Ward': 1, 'Delta': 1, 'the Marion Cemetery': 1, 'Island': 2, 'the Lucas County Coroners': 1, 'The City of Maumee': 1, 'the Riverside Cemetery in Maumee': 1, 'Mansion - A.K.A. Known': 1, 'Vail': 1, 'Millfield': 1, 'Southeast Ohio': 1, 'Chauncey': 1, 'Millville': 1, 'Moonville': 2, 'Morristown': 3, 'Cemetery': 1, 'Nelsonville': 1, 'Blacks Cemetery': 1, 'New Carlisle': 1, 'the Tuscarawas River': 1, 'Hisey Road': 1, 'Brecksville': 1, 'the Siesta Motel': 1, 'B.C.': 1, 'Athens': 5, \"College Hall - There's\": 1, 'Pickaway Manor': 1, 'Reno Beach': 1, 'Rocky River': 1, 'Center Ridge': 1, 'Zanesville': 1, 'the Frontier Trail': 1, 'Hotel Breakers': 1, 'Creek Road - A': 1, 'The Connector Hall': 1, 'Route 183': 1, 'the Fairmount Greenhouse': 1, 'France Hall': 1, 'Heidelburg': 1, 'Collingwood Ave': 1, 'west hall': 1, 'Vicinity': 1, 'Waterville': 1, 'Perrysburg': 1, 'Wehr Road': 1, 'Troy': 1, 'LeFevre Road': 1, 'KKK': 1, 'Mytrle Hill Cemetery': 1, 'Van Wert County': 1, 'Vermilion': 1, 'Railroad': 2, 'St. Louis': 3, 'Wooster': 1, 'Wayne County': 2, 'the Zaleski CCC Camp': 1, 'Moxahala': 1, 'Scarborough Hall': 1, 'Byram': 1, 'Cape May': 1, 'Back Rd': 1, 'Cedar St.': 1, 'cedar street': 1, 'Route 208 Exit': 1, \"New Jersey's\": 1, 'Route 77': 1, 'Barry': 1, 'Allaire Road': 1, 'Hindenburg': 1, 'New Hope': 3, 'Great Hall - There': 1, 'The Great Hall': 1, 'Woodlawn Park': 1, 'Metuchen': 1, 'Middlesex County': 1, 'Elm Street': 1, 'Parsippany': 1, 'Honeymoon': 2, 'the Battle Champlain': 1, 'Jake Brown Road': 1, 'Intervale Road': 1, 'Route 46': 1, 'Salem City': 1, \"Berry’s'\": 1, 'Raritan': 2, 'Sparta': 2, 'Burgdorf': 1, 'Heartbeat Road - What': 1, 'Heartbeat Road': 1, 'Johnpat': 2, 'the Warren Graveyard': 1, 'Mountain Blvd': 1, 'Mt. Bethel Rd': 1, 'Along River Drive': 1, 'River Drive': 2, 'Creek': 2, 'Fargo': 1, 'Fort YatesThis': 1, 'Altru': 2, 'the Stoney End': 1, 'Stoney End': 1, 'Garrison': 1, 'Casper': 1, 'the Townsend Hotel': 1, \"St. Mark's\": 1, 'Cedar Mountain': 1, 'Spirit Mountain': 1, 'Battle': 2, 'Cecil': 1, 'A.K.A': 1, 'Siberia': 1, 'Oak Sitting': 1, 'Gardens': 1, 'the Zalandia Castle': 1, 'Helen': 1, 'the Grove Park Inn': 1, 'Asheville': 3, 'the Battery Park Hotel': 1, '5th Grade': 1, 'East Hall - East Hall': 1, 'Hardies': 1, 'the Capefear River': 1, 'Fayetteville': 2, 'Annville': 1, 'Jackson': 1, 'Smith Mansion': 1, 'Berea': 1, 'Ky.': 4, 'South West Hall': 1, 'White Hall': 3, 'Neisler Rd': 1, 'Bradfordsville': 1, 'Frozen Creek': 1, 'Hiestand': 1, 'Marion County': 2, 'Taylor County': 1, 'Cave City': 1, 'Glasgow': 1, 'Clermont': 1, 'KY': 1, 'Barberville': 1, 'Laurel Lake': 1, 'Maine Strasse': 1, 'Covington': 1, 'the East Wing': 2, 'Broughton Hospital': 1, 'Morganton': 1, 'North Carolina': 3, 'Dillsboro': 1, 'the Tuckaseegee River': 1, 'the Cabe Lands Trail': 1, 'the Eno River': 1, 'N.C.': 2, 'the Pasqutank River': 1, 'Ernul NC': 1, 'Subway': 1, 'the Auten Rd': 1, 'Hobbs': 1, 'Goshen': 2, 'Cynthiana': 1, 'Dawson Springs': 1, 'Olney Road': 1, 'Allendale': 1, 'St. John Road': 1, 'Saint Johns': 1, 'Black Mountain': 1, 'Phenomena': 1, 'Camp Devil Dog': 1, 'Greensboro': 2, 'www.dawghouse.topcities.com/northcarolina.html': 1, 'the graffiti bridge': 1, 'Camp York': 1, 'Crowder': 1, 'Atlanta': 5, 'Oak Grove': 1, 'Kure Beach': 1, 'the moon shines right on': 1, 'killer(in': 1, 'Kentucky': 6, 'Greensburg': 1, 'Hardburly': 1, 'Mudlick Road': 1, 'Alcapulco Lake': 1, 'Boger City - Strange': 1, 'Louisburg': 1, 'Main Building': 1, 'Kennan': 1, 'Brookwood': 1, 'Pleasant Gardens Baptist': 1, 'Potters Field': 1, 'Evergreen Cottage': 1, 'mt.': 1, 'Watts': 1, 'Pleasant Hill': 4, 'Hopkinsville': 1, 'the Falls Area': 1, 'Hurricane': 1, 'Eastern Kentucky History': 1, 'the Columns Building': 1, 'New Bern': 1, 'the Pamlico Sound': 1, 'the Ocracoke Islands': 1, 'the Cape Hatteras Light House': 1, 'Zooland': 1, 'Asheboro': 1, 'Forest Hills': 1, 'W.B.': 1, 'Lexington': 3, 'Loudoun': 1, 'Louisville': 3, 'Train': 1, 'the Battle Of Shiloh': 1, 'Salisbury': 1, 'Mountain': 1, 'Morpheus Bridge Road': 1, 'Wendell': 1, 'moon lit nights': 1, 'Mt. Holley Road': 1, 'Woodland Hills': 1, 'Taproom': 1, 'Basement': 1, 'the Grapevine Cemetery': 1, 'Heartbeat Bridge': 1, 'Acid Park': 1, 'Forsyth County -': 1, 'Winston Salem': 1, 'Strong': 1, 'the Babcock Dormitory': 1, 'CC': 1, 'Paducah': 1, 'Nunn Hall - A': 1, 'Nunn Hall': 1, 'Wrigley Hill': 1, 'Jeffersonville': 1, 'rm': 1, 'Hester': 1, 'Paintsville': 1, 'highheels': 1, 'Echo River': 1, 'Crystal Cave': 2, 'Lewis': 2, 'Lewis Creek': 1, 'Partridge': 1, 'Wickham': 4, 'Cushing Hall, Andersen Science Center': 1, 'Cushing Hall': 1, 'Charleston': 3, 'Richland': 1, 'Egypt': 4, 'White Hall State Historic Site': 1, 'Cassius': 1, 'Russia': 2, 'Curator': 1, 'the Red River Gorge': 1, 'Spotsville Kentucky': 1, 'Tollesboro': 1, 'Slate Poibt': 1, 'Walton': 1, 'Warsaw': 1, 'the Markland Dam': 1, 'Williamsburg': 4, 'Winchester': 1, 'Coffeyville': 2, 'the Dalton Gang': 1, 'Clay Center': 1, 'Moon Lake': 1, 'Garden City': 1, 'Fort Hays': 1, 'Swinging Bridge Park': 1, 'Independence': 1, 'Shawnee Road': 1, 'Kansas City': 4, 'Kansas': 3, 'Hiawatha Hall': 2, 'Indian Avenue': 1, 'Taminend Hall': 1, 'Douglas county': 1, 'Shadowy': 1, 'Lindsborg': 1, 'the Persian Gulf War': 1, 'Salina': 2, 'salina': 1, 'Topeka': 1, 'Towanda': 1, 'Theorosa': 1, 'Wichita': 1, 'Selkirk': 1, 'Complex': 1, 'Curtis Hall': 2, 'Manhattan': 1, 'Whiskey Hollow Road': 1, 'Tonawanda': 1, 'the City of Batavia': 1, 'Genesee County': 1, 'the Roberson Mansion': 1, 'Hill Road in Danbury': 1, 'Connecticut': 7, 'Morefar': 1, 'Teirney Hall': 1, 'Lombardi Center': 1, 'Hughes Hall': 1, 'Keating Hall': 1, \"O'Hare Hall - A\": 1, 'Silver Beach': 1, 'Baisley Ave': 1, 'Frankie': 1, 'Castle - You': 1, 'Brooklyn': 1, 'Forest Avenue': 1, 'the Griffin Hall - In': 1, 'Grand Island': 1, 'Lindbergh': 1, 'Bosco Hall': 1, 'fourth Street': 1, 'New York City': 1, 'the south east': 1, 'Syracuse': 3, 'East Lake Road': 1, 'Mallina': 1, 'the Chemung Cemetery': 1, 'Monroe': 3, 'Chittenango': 1, 'the Dark Path': 1, 'the Cohoes Falls': 1, 'the Hall of Fame': 1, 'Brockway Hall - Brockway': 1, 'Degroat Hall': 1, 'Brockway': 1, 'Brockway Hall': 2, 'Dewittville': 1, 'NY': 1, 'Lake Erie': 2, 'Canastota': 1, 'Route 52': 1, 'Fort Edward': 1, 'Wyoming County': 2, 'Blake': 1, 'Skaneateles Lake': 1, 'the Henry Hudson': 1, 'the Raynham Hall': 2, 'Norfolk': 2, 'Oyster Bay': 1, 'Raynham Hall': 1, 'Hauppauge': 1, 'Long Island': 1, 'West Point': 1, 'the Vanderbilt Mansion': 1, 'Pollock Road': 1, 'http://www.beardsleecastle.com/ghostpage.htm': 1, 'Lockport': 1, 'Mt. Sinai': 1, 'Lake Ronkonkoma': 1, 'the Secura Building': 1, 'Ashipunn': 1, 'Wisconsin': 3, 'Lighthouse': 2, 'Michigan Island': 1, 'Brodhead': 2, 'Pizzeria': 2, 'NYC': 2, 'Indian Sacred': 1, 'N.Y.': 1, 'North Country Rd': 1, 'Bantley': 1, 'Cornell': 1, 'R.N.': 1, 'Theodosia': 3, 'Alston': 1, 'Shepherd Hall': 1, 'Castle Road': 1, 'Clet Castle': 1, 'Cemetery Road': 1, 'County Road 52': 1, 'Washington Street': 5, 'Oneida': 1, 'Fond Du Lac': 1, 'Fond du Lac': 1, 'Fon du Lac': 1, 'Kenny': 1, 'the South-East Corner': 1, 'Fort Ontario': 1, 'the Old Base': 1, 'the Battle of Plattsburgh': 1, 'Paradise Road': 1, \"Saint Colletta's\": 1, 'County Road VV': 2, 'Bowne Hall': 1, 'Sheahan Hall': 1, 'Marist': 1, 'Lake Ontario': 3, 'Woodman': 1, 'Townline Rd': 1, 'Tainter': 1, 'Irondequoit': 1, 'Sackets Harbor': 1, 'Julia': 2, 'the Scarborough / Ossining': 1, 'Indian Burial Mound': 1, 'Concordia': 3, 'Milwaukee': 7, 'Coburg': 1, 'Sister Sixtoes': 1, 'Studio 13': 1, 'Sandburg': 1, 'North Tower': 1, 'Underground': 2, 'Lowell': 2, 'Sear': 1, \"St. John's\": 1, 'T.B.': 1, 'Brielle Ave': 1, 'Richmond Town': 4, 'Amboy Road': 1, 'the Bender Park Story': 1, 'Nola': 2, 'the Rock Garden Tavern': 1, 'Club Harbor': 1, 'Wolfe': 1, 'syracuse': 1, 'new york': 1, 'Sacky': 1, 'St. Josephs': 1, 'Germany': 1, 'pedophilia': 1, 'Lake Oswald': 1, 'French Road': 1, 'East Wing': 1, 'Forest Park': 1, 'Utica': 1, 'Valley Stream': 1, 'Hook Creek Boulevard': 1, 'Queens': 1, 'New Michigan Road': 1, 'New Castle': 1, 'White Plains': 1, 'Red Bridge': 1, 'Lakeshore Drive': 1, 'Weary': 1, 'The Bridge - There': 1, 'Stoughton': 1, 'Superior': 1, 'West Babylon': 1, 'the Milwaukee County Grounds': 1, 'Holy Angels': 1, 'Shanghai': 1, 'Northeast': 1, 'Zoar': 1, 'the Floyd River': 1, 'Iowa': 5, 'the City of Boone': 1, 'Moingona': 1, 'Des Moines': 2, 'Lawther': 2, 'Warde Hall': 1, 'The Dark Angel': 1, 'Humboldt County': 1, 'City Hall - A': 1, 'Hal': 1, 'the Cloud Room': 1, 'Mall Tower - Merle Hay Mall': 1, 'Merle Hay Tower': 1, 'the Merle Hay Tower': 1, 'the Fischer Building': 1, 'Cedar Hall - South': 1, 'Keg Creek': 1, 'Eagle City Park': 1, 'College Hall': 1, 'the Black Angel': 1, 'Currier Hall - According': 1, 'Currier Hall': 1, 'Lake City': 1, 'white abandon house': 1, 'Coffins Grove Park': 1, '11:00pm': 1, 'the Greenwood Cemetery': 1, 'New Virginia': 1, 'Mars Hill': 1, 'Ottawa': 4, 'Shellsburg': 1, 'Sioux City History - March 2007 Update: The KD Station': 1, 'Rodriguez': 1, 'Swope Hall Room 305': 1, 'Webster County': 1, 'south end park': 1, 'Y.M.C.A.': 1, 'Capital Plaza': 1, 'the Kanawaha River': 1, 'West Virginia': 1, 'Underground Railroad': 1, 'Zona': 1, 'the East Coast': 1, 'Sabbaths': 1, 'Route 857 North': 1, 'North End': 1, 'Parkersburg': 2, 'Marrtown': 2, 'Scotland': 1, 'Kanawha River': 2, 'Weirwood': 1, 'the Ohio River': 4, 'Point Pleasant': 2, 'Michigan Avenue': 1, 'Shrewsbury': 1, 'Miller Hall': 3, 'Ramsey Hall': 1, 'Spencer': 1, 'W.Va.': 1, 'Summersville': 1, 'the Weeping Woman': 1, 'Alamogordo': 2, 'Washington Park': 1, 'Central Ave': 1, 'Edith': 1, 'Osuna': 1, 'The Banditos Motorcycle': 1, 'Llorna': 1, 'Santa Fe County': 1, 'the Memorial Hospital': 1, 'New Mexico': 2, 'Los Alamos': 1, 'Albuquerque': 1, 'Madrid': 1, 'Wild West': 2, 'Hale Lake Just': 1, 'Auburn': 1, 'WA': 1, 'Beverly': 2, 'Jericho': 1, 'Dryden Hall': 1, 'pioneer park': 1, 'the Redmond Duval Road': 1, 'Seattle': 5, 'North hill': 1, 'Kittitas': 1, 'Washington States': 1, 'Airport Road': 1, 'Roche Harbor': 1, 'Cherry Hill': 2, 'the Yakima River': 1, 'Annabel': 3, 'USA': 2, 'Barry Loukaitis': 1, 'Oysterville WA': 1, 'the Green River Killer': 1, 'Eastern Washington': 1, 'Maple Valley Highway': 1, 'Renton': 1, 'the Lakeview Cemetery': 1, 'Elliott Avenue': 1, 'St. Edwards State': 1, 'the Eagles Graveyard': 1, 'Pacific Time': 1, 'Monaghan': 1, 'the Valley Doubletree - A': 1, 'the Wetlands Park': 1, 'the Puyallup River': 1, 'Hooverville': 1, 'the Pierce County Sheriff Deputies': 1, 'Tacoma': 1, 'Vashon Island': 1, 'Western State Sanitarium': 1, 'Fort Vancouver': 2, 'the Pacific Northwest': 1, 'St. Paul’s': 1, 'The City of Chicago Cemetery': 1, 'St. Elmo-valley': 1, 'Alton': 4, 'Fox Lake': 1, 'St Patricks': 1, 'Aurora': 1, 'the Fox River': 1, 'Cisco': 1, 'Munger Road': 2, 'The DuPage County': 1, 'Fiefer Road': 1, 'Belleville West': 1, 'Bethany': 1, 'Shelbyvillle': 1, 'the Middle of Nowhere': 1, 'Bloomington': 1, 'Lake Marion Roads': 1, 'the White River': 2, 'White Lick Creek': 1, 'Bargersville': 1, 'the Wabash River': 1, 'Centralia': 1, 'Stover': 1, 'Sweeney': 1, 'Southside': 1, 'the Eastland Ship Distater': 1, 'the Chicago River': 1, 'Armory': 1, 'Stritch': 1, 'Oak Park Rd': 1, 'Clark Street': 1, 'Elizaville Rd': 1, 'Marshall County': 1, 'the Brushy Prarie Cemetery': 1, 'Indiana': 14, 'Chesterton': 1, 'Lake Michigan': 1, 'Michigan City': 1, 'Clarksville': 1, 'Midnight': 1, 'Mikey': 1, 'the Catract Lake': 1, 'the Biograph Theater': 1, 'Warren Park': 1, 'Collinsville': 1, 'Keebler': 1, 'Lebanon': 2, 'Theater': 1, 'the Kuklehan Mansion': 1, 'North Pointe Sub-Division': 1, 'Disko': 1, 'Van Buren St - A': 1, 'Miami': 6, 'State Street': 1, 'Bachelors': 1, 'The Lake View Cemetery': 1, 'St. Louis - Springfield': 1, 'Moody Lane': 1, 'South Street': 1, 'Edgelea': 1, 'Weston Village': 1, 'the Elgin State Mental Institution': 1, 'Hallways': 1, 'U46': 1, 'k.g.': 1, 'Kimball Street': 1, 'North Avenue': 1, 'Route 83': 3, 'North and York': 1, 'Elmhurst': 1, 'North Ave': 3, 'Evergreen Park': 1, 'Kedzie Ave': 1, \"St. Mary's\": 1, 'the Capone Mob': 1, \"Reaper's Realm\": 1, 'Hanover Cemetery': 1, 'Pixley Knob Road': 1, 'Mountain Grove': 1, 'Mt. Zion Cemetery': 1, 'Mt. Zion': 2, 'the Bethel Cemetery': 1, 'Hymera': 1, 'Ladywood': 2, 'Indianapolis': 2, 'Hartsburg': 1, 'Havana': 1, 'Golf Road': 1, 'Shoe Factory Road': 1, 'Irvington': 1, 'Indianola Park': 1, 'Washington St.': 1, 'City': 1, 'Hawthorne Park': 1, 'Belmont Street': 1, 'Washington Streets': 1, 'Miley Avenue': 1, 'West Washington Street': 1, 'north - east': 1, 'Kankakee': 1, 'ST': 1, \"St. Joseph's Orphanage\": 1, 'Abbey': 1, 'Benedictine Hall': 1, 'Neuzil Hall - Another': 1, 'Neuzil Hall': 1, 'leigon park': 1, 'Trail of Tears': 1, 'Lake Prairie Cemetery - Mists': 1, 'Calumet Avenue': 1, 'Auburn Road': 1, 'the Vandolah Nature Preserve': 1, 'Cedar Canyon': 1, 'Clay Street': 1, 'Holtz Road': 1, 'Thompson Hall': 1, 'Manteno': 1, 'the \"hill': 1, 'Left off Highway 177': 1, 'Mason City Illinois': 1, 'Coles county': 1, 'the cul-de-sac': 2, 'Elpaso': 1, 'LaPorte': 1, 'Hacienda': 1, 'Minooka': 2, 'Warren County': 1, 'Gougar Rd': 1, 'Atkin': 1, 'Williams Hall': 1, 'earth': 3, 'Muncie': 1, 'Jay County': 1, 'Munster Indiana': 1, 'New Corydon': 1, 'South 8th Street': 1, 'Noblesville': 2, 'Springport': 1, 'Spring Valley': 1, 'Sheridan Road': 2, 'Broadway Road': 1, \"Veteran's Parkway\": 1, 'Farmington Road': 1, 'River Station': 1, 'Padua Hall': 1, 'Main Street Graveyard': 3, 'County Road': 1, 'Hancock County': 1, 'River Road': 1, 'P.S.': 1, 'Wabash': 2, 'Porter County': 1, 'Princeton': 1, 'Haddy': 1, 'Kishwaukee Street': 1, 'Burpee': 1, 'Mclean': 1, 'Kane County': 1, 'Dwenger Hall': 1, 'Olson Road': 1, 'River Road -  Apparition': 1, 'Shoals': 1, 'Ursuline': 1, 'Fox River': 1, '7th Avenue': 1, 'the Rock River': 1, 'Seventh Avenue': 1, 'Moon Creek': 1, 'Woodlawn Cemetery': 1, 'Action': 1, 'Patawatami Indians': 1, 'St. Joseph River': 1, 'Washington Hall': 1, 'Columbus Hall': 1, 'Saint Paul': 1, 'Guilford': 1, 'the Terre Haute Country Club': 1, 'Terre Haute': 1, 'Hana': 2, 'Burnt': 2, 'Mill Creek': 1, 'Monmouth': 1, 'Highway 34': 1, 'Wayne': 1, 'Watseka Manor': 1, 'Larkdale': 1, 'Wauconda': 2, 'Lake Zurich': 1, 'Lake County': 1, 'the Wauconda Cemetery': 1, 'Capones': 1, 'Bull Valley': 2, 'Cherry Valley Rd': 1, 'the Fox River Front': 1, 'North of Richmond': 1, 'Wells County': 1, 'the Vauxcleus': 2, 'Mount Vernon': 1, 'Annandale': 1, 'Arlington': 1, 'Wash Frank Hall': 1, 'Walney': 1, 'Grey': 1, 'North Michigan Rd': 1, 'Danville': 1, '770 Main Street': 1, 'Pocahontas Parkway': 1, 'Longfellow': 1, 'watchman': 1, 'Jadwin Village': 1, 'Arlington National Cemetery': 1, 'the Earl of Chatham': 1, 'Chatham': 1, 'Chatham Manor': 2, 'Fitzhugh': 1, 'Frederick Avenue': 1, 'the Chesapeake Bay': 1, 'Fort Monroe': 1, 'Dam Neck Naval Base - December of 1999': 1, 'the Dam Neck Naval Base': 1, 'Port Republic Road': 1, 'Logmill': 1, 'Hiwassee': 1, 'Graydon Manor': 1, 'VMI': 1, 'the Jackson Memorial Hall': 1, 'Signal Hill Rd': 1, 'Battlefield Park -': 1, 'Bridge': 2, 'Cedar Creek Battle Field': 1, 'Va.': 1, 'the Hall of Heroes': 1, 'the Vampire Tomb': 1, 'Nashville': 7, 'Lake Accotink Park': 1, 'Telegraph Road': 1, 'Western Lunatic Asylum': 1, 'The Greenbrier Hotel': 1, 'Churchville': 1, 'the George Wythe house': 1, \"the Governor's Palace in Market Square\": 1, 'the Wade Home': 1, 'Route 1': 1, 'Woodbridge': 1, 'the moon for': 1, 'men?s': 1, 'Fairveiw': 1, 'the Farragut Naval Base': 1, 'Idaho': 1, 'the Oregon Trail': 1, 'Lake Lowell - It': 1, 'the Key Bar': 1, 'Ammon Park': 1, 'bear river': 1, 'BASEMENT': 1, 'Stark Road': 1, 'the Cocheco River - Many years ago': 1, 'Inns': 2, 'Hanna': 1, 'Maples': 1, 'the Hobo Jungle': 1, 'The Greenville Inn': 1, 'Jaffrey': 1, 'N.H.': 1, 'Hampton': 1, 'Huntress': 1, 'the moon': 1, 'children?s': 1, 'Indian Rock Road': 2, 'Pine Hill Cemetery': 1, 'Wentworth': 1, 'The Manor': 2, 'Whistling': 1, 'Mount Anthony': 1, 'Grasse Mount': 1, 'Simpson': 1, 'Castleton State': 1, 'VT': 1, 'Route 14': 1, 'West Hartford': 1, 'the Connecticut River': 1, 'Howland': 1, 'Crowbar': 1, 'Brattleboro': 2, 'Route 9': 1, 'Lavina Field Averill': 1, 'Lavina': 1, 'Jackpot Nevada': 1, 'Las Vegas': 1, 'the Las Vegas Gladiators': 1, 'Sahara': 1, 'Park Lane Mall': 1, 'the 3RD Sat': 1, 'Nevada': 2, 'Mansion -': 1, 'Hawaii': 1, 'Maui High': 1, 'Hilo': 1, 'Kaumana': 1, 'Honolulu': 4, 'the Iolani Palace': 1, \"Kaka'ako Fire Station\": 1, 'Queen Street': 1, 'King Street': 2, 'Punchbowl': 2, 'South Beretania Street': 1, 'Paradise Park - Paradise Park': 1, 'Banshee': 1, 'Morgan': 2, 'the Pali Lookout': 1, 'the Pali Highway': 1, 'the South Beretania': 1, 'Bell Tower - years ago': 1, 'Wahiawa': 1, 'Kahala': 1, 'Kahala Mall': 1, 'the Kahala Mall': 1, 'Mililani': 2, 'Kauai Lihue': 1, 'Paea': 1, 'the Virgin Mary': 1, 'Wailea': 1, 'Waianae Coast': 1, 'Nanakuli': 1, 'Makaha': 2, 'the Ihilani Resort': 1, 'Fiji': 1, 'Marquesas': 1, 'Pearl City': 1, 'a Pearl Harbor': 1, 'Pearl Harbor': 2, 'Roberta': 1, 'Benjamin': 1, 'the Idle Isle': 1, 'Brigham City': 1, 'the Idle Isle Cafe': 1, 'Northern Utah': 2, 'the Brigham City Valley': 1, 'the Mountain for Box Elder': 1, 'Cedar City': 1, 'the Auditorium Theatre': 1, 'Utah': 6, 'Salt Lake City': 2, 'M16': 1, 'Standardville': 1, 'Layton': 1, 'Overland Street': 1, 'North Salt Lake': 1, 'Lazarus': 1, 'the Ogden City Cemetery': 1, '25th Street': 1, 'Ogden': 1, 'Huntsville': 1, 'PG': 1, '25th street': 1, 'Weber River - Reports': 1, 'Salt Lake': 1, 'Salt lake city': 1, 'Liberty Heights - 4 years ago': 1, 'Rio Grand': 1, 'an Area Hotel': 1, 'Argo Hall - This': 1, 'Wild Bill': 1, 'Barnard Park': 1, 'the Mormon Trail': 2, 'Geneva': 1, 'Altman Hall of Hastings College - Altman': 1, 'Lake': 2, \"Jenner's Park\": 1, 'The Camp Creek Cemetery': 1, 'Nebraska City': 1, 'Nebraska': 3, 'Bishof': 1, 'North Platte': 1, 'Balcony': 1, 'Lighting': 1, 'Omaha': 1, 'Hummel Park': 3, 'Plattsmouth': 1, 'Centennial Hall': 2, 'Neihardt Hall': 1, 'Allatoona Lake': 1, 'Barnsley Gardens': 1, 'the Rice House': 1, 'Baker County': 1, 'Turner Rd': 1, 'Alpharetta': 3, 'Federal': 1, 'Stockade Creek': 1, 'Andersonville': 1, 'Highway 341': 1, 'Stewart Avenue': 1, 'Invasion': 1, 'Henry IV Part I': 1, 'Camellia': 1, 'Broad street': 1, 'Augusta': 1, 'Broad Street': 1, 'the Crystal Pistol': 1, 'Bonaire': 1, 'Route 96 East': 1, 'the Ocmulgee River': 1, 'Route 129': 1, 'Highway 129': 1, 'Town Hall': 1, 'Braselton': 2, 'Buford': 1, 'Braselton Highway(124': 1, 'Chatsworth': 1, 'the Trail of Tears': 1, 'Okefenokee': 1, 'Whites': 1, 'Whites Bridge': 1, 'Whitesville Road': 1, 'Cumming': 1, 'Dahlonega': 1, 'Trahlyta': 1, 'Houston County': 1, 'thrill': 1, 'Amicalola Mountain': 1, 'Amicalola State Park': 1, 'Dawsonville': 1, 'Kelly Bridge Road': 1, 'morgue trays': 1, 'Elberton': 1, 'Stonehenge': 1, 'Starr': 1, 'Woolsy Road Bridge -': 1, 'Flatshoals': 1, 'Hong Kong': 1, 'Gilmer County': 1, 'Whitepath': 1, 'the \"Trail of Tears': 1, 'St. Simons': 1, 'Decula': 1, 'Hawkinsville': 1, 'Cochran': 1, 'Kennesaw': 1, 'Cemetery St.': 1, 'Stephenson Road': 1, 'Concord Rd': 1, 'Cobb County': 1, 'Oglethorpe': 3, 'Randolph Street': 1, 'The Taylor House': 1, 'the Kennesaw House': 1, 'Macon': 1, 'the McDonough Station': 1, 'Camp Creek': 1, 'Highway 42': 2, 'Ivey Edwards Rd': 1, 'Clarke': 1, 'Cedar Creek': 1, 'Roscoe Road': 1, 'Coweta County': 1, 'Carver Mill Road': 1, 'Pickens County': 1, 'Scarecorn Creek': 1, 'CCC Road - aka': 1, 'Berry': 3, 'GA.(Sloan Street': 1, 'Sale City': 1, 'Savannah': 2, 'Camp Villamarie - Everyone': 1, 'Weston': 1, 'the Savannah River': 1, 'Jekyll': 1, 'Rockdale county': 1, 'Talbot County': 1, 'Talbot': 1, 'Hickory Springs': 1, 'Quitman': 2, 'Blue Bayou': 1, 'Van Wert': 1, 'Jesup': 1, 'Appling County - Spooklight': 1, 'Cobb Hall - was': 1, 'Gordy Hall': 1, 'Cherokee County': 1, 'Sautee': 1, 'Yonah Mountain': 1, 'the Chattahoochee River': 1, 'Graveyard': 1, 'Clegg': 1, 'the Matador Cemetery': 1, 'Motley Mansion': 1, 'Dallas': 3, 'East Texas': 2, 'Terramont Park -': 1, 'the Stephen F. Austin University': 1, 'Springcreek': 1, 'Pampa': 1, 'Santa Rosa': 1, 'the Sara Jane Haunting': 1, 'the Water Tower': 1, 'Preston Street': 1, 'the Rio Hondo High School': 1, 'Roma': 1, 'Santa Rita': 2, 'Alamo': 2, 'San Antonio': 5, 'Castle Hills': 1, 'Mod 9 and 10 on third': 1, 'San Antonio River': 2, 'the Lobby Bar': 1, 'Rm': 1, 'West Wing': 1, 'South Alamo Street': 1, 'Comanche Park': 1, 'the Historic Register': 1, 'San Antonio Hotel': 1, 'Stinson Field': 1, 'Airport': 1, 'the Ghost Tracks of Shane': 1, 'Holt': 1, 'Admin': 1, 'San Elizario': 1, 'Air Force': 1, 'Thompson Island': 1, 'San Marcos': 1, 'kentucky': 1, 'San Patricio': 2, 'the Aransas River': 2, 'Girl Scout Camp': 1, 'Toddville Mansion': 1, 'Shafter Lake': 1, 'Seminole': 1, 'Andrews': 2, 'The Third Coast': 1, 'Billings': 1, 'Montana': 2, 'the Musselshell River': 1, 'Saint Charles Hall': 1, 'the RV Park': 2, 'the Libby Dam': 3, 'the Riverside Inn': 1, 'Eberly Park': 1, 'Cinemark': 1, \"Hopkin's Park\": 1, 'Goliad': 1, 'Cameron': 1, 'Cameron Park': 1, 'Proctor Springs': 1, 'Rainbow Lake': 2, 'Rainbow Creek': 1, 'Caroline': 1, 'Diamond Oaks Trail': 1, 'Rio Bravo': 1, 'West Columbia': 2, 'East Columbia': 1, 'Santa Ana': 1, 'Southwest': 2, 'Holliday Creek': 1, 'Lucy Park -': 1, 'Clara': 1, 'Sutherlands': 1, 'Eagle Stadium': 1, 'the Galveston Hurricane': 1, 'Highway 385': 1, 'Andrews County': 1, 'the Trinity River': 1, 'Mosier Valley': 1, 'the Driskill Hotel': 1, 'Austin': 2, 'Premont': 1, 'Littlefield': 1, 'the Kerrville Library Bandera Pass': 1, 'Kerr County': 2, 'Bandera County': 1, 'Kerrville': 3, 'Brit Bailey': 1, 'Camp Lulu': 1, 'Brownsville': 3, 'Fort Brown': 1, 'Ft.': 1, 'River': 2, 'Burkeville': 1, 'Waco': 1, 'China Springs': 1, 'Orphanage Rd': 1, 'Moore Road': 1, 'Old Alton Bridge': 2, 'Wilson Plaza': 1, 'Corsicana': 1, 'Bear Creek': 1, 'Jefferson': 1, 'Lake Highlands High School': 1, 'Church Rd': 1, 'White Rock Trail': 1, 'Combs Creek': 1, 'Gaston Ave': 1, 'the North Gym': 1, 'East Bernard': 1, 'Edinburg': 1, 'Shunior': 1, 'Montana Street': 1, 'El Paso': 4, 'Mountain View High School': 1, 'Juarez': 1, 'Mexico': 3, 'the Franklin Mountains': 1, 'Clint': 1, 'Buffalo': 2, 'the Military Installation': 1, 'PT': 1, 'Ft. Worth': 1, 'Fort Worth': 1, 'North Parkway': 1, 'Galveston': 2, 'Tremont': 1, 'the bay edge': 1, 'Shannon': 1, 'Highway 36 East': 1, 'North or South': 1, 'Blue Mound Road': 1, 'the Heights Area': 1, 'Houston': 4, 'Market Square': 1, 'Interstate 10': 2, 'Eldridge': 2, 'the Sam Houston Memorial Museum': 1, 'the South Building': 1, 'the East Building': 1, 'Vernon': 1, 'Buffalo Lake': 1, 'Keller': 1, 'Delaney Hall': 3, 'Stark Hall': 1, 'Lewis Hall': 1, 'Bishop Hall - At': 1, 'Jackson Lake': 1, 'Jamaica': 1, 'the St. Augustan Ball Room': 1, 'reptilian': 1, 'Laredo': 2, 'Zacate': 1, 'La Azteca': 1, 'Nasa Road 1': 2, 'the Tech Carol of Lights': 1, 'the San Marcos': 1, 'Loroe Lane': 2, 'Trahern': 1, 'the Cumberland River': 1, 'the Public Library': 1, 'Collinwood': 1, 'Cookville': 1, 'Tennessee': 8, 'the Surrender House': 1, 'Dover': 1, 'Fort Donelson National Battlefield Park': 1, 'the Fort Donnellson National Cemetery': 1, 'Elk': 1, 'Englewood': 1, 'Historic': 1, 'the Battle of Franklin': 1, 'the Greenbrier Restaurant': 1, 'Gatlinburg': 2, 'Tower': 1, 'Jellico': 1, 'Burleson': 1, 'Okolona': 1, 'Johnson City': 1, 'Doe Mountain': 1, 'Netherland Inn Road': 1, 'Holston River': 2, 'Knoxville': 1, 'center hill dam': 1, '210 Spring St.': 1, \"Coffee County's\": 1, 'Auburn Park': 1, 'Lamar': 1, 'UC': 1, 'Milligan': 1, 'Watch Tower': 1, 'Belmont Mansion': 1, 'Washington D.C.': 1, 'D.C.': 1, 'a.k.a': 1, 'Second Avenue': 1, 'the Opryland Hotel': 1, 'Parrotsville': 1, 'Oliver Springs': 1, 'Dumpling Hill Cemetery': 1, 'the Purdy Cemetery': 1, 'Shiloh': 1, 'West TN': 1, 'the Cumberland Mountains': 1, 'the Mill Dam': 1, 'Highway 27': 1, 'Tuckaway': 1, 'the Battle of Shiloh': 1, 'Surgoinsville': 1, 'Bumpass Cove Road': 1, 'Astor': 1, 'Polk': 1, 'West Palm Beach': 1, 'Coquina Beach': 1, 'Jefferson Old': 1, 'Fort Dade Ave': 1, 'Brooksville': 2, 'Crown': 1, 'Katlin': 1, 'Highway 90': 2, 'G.I.': 1, 'Halifax River': 1, 'Daytona': 1, 'Orlando': 2, 'Florida': 4, 'Fort Clinch': 2, 'Fernandina Beach High School': 1, 'the St. Lucie River': 1, 'Pace Center': 1, 'Fort Pierce': 1, 'A.I.': 1, 'Ft. Lauderdale': 1, 'Shake': 1, 'Gainesville': 1, 'Green Cove Springs': 1, 'Hialeah Miami': 1, 'Hudson Hills Manor - In': 1, 'INDIAN RIVER DRIVE': 1, 'Key West': 2, 'Duval Street - Cold': 1, 'Kissimmee': 1, 'Old Vineland Road': 1, 'the Lake Worth Playhouse': 1, 'Lake Worth': 1, 'New Pass': 1, 'Daytona Beach': 1, 'Ocala': 1, 'Mediterranean': 1, 'Coconut Grove': 1, 'Biscayne Bay': 1, 'Miami Springs': 2, 'The Herlong Mansion': 1, 'Magnolia Creek Lane': 1, 'Ocklawaha': 1, 'Lake Weir': 1, 'Cannas': 1, 'The Econ River - Lots': 1, 'Geniva': 1, 'the \"Tower of Terror': 1, 'Pine Hills': 1, 'Silver Lakes': 1, 'Seville Quarter': 1, 'Alcaniz Street': 1, 'Seville Square': 1, 'Port Charlotte': 1, 'Quincy': 1, 'New Tribes Mission': 1, 'Sarasota': 3, 'Highway 19': 1, 'Capone': 1, 'St. Augustine': 1, 'the City Gates': 1, 'the Old City Gates': 1, 'San Marco': 1, 'London': 2, 'The Skyway Bridge': 1, 'St. Petersburg': 2, 'Leon County Jail': 1, 'The Lively Building': 1, 'College Avenue': 1, 'The Leon Bar': 1, 'Cherry Wood': 1, 'Indian Village': 1, 'the Park Theatre': 1, 'New Port Richey': 1, 'the Umatilla Cemetery': 1, 'Golden Gem': 1, 'Umatilla': 1, 'bay street': 1, 'Winter Park': 1, 'Mo.': 2, 'Kindergarten': 1, 'Bolivar': 1, 'Black Tram': 1, 'mid-90': 2, 'the Hills Outdoor Drama': 1, 'Branson': 1, 'Cape Girardeau': 2, 'Livingston County': 3, 'Break Neck Hill -': 1, 'the Christian County/Stone County Line': 1, 'Pillsbury': 1, 'Tower Hall - Students': 1, 'DD': 2, 'Davisville': 1, 'FARMINGTON': 1, '327th': 1, 'Dumas': 1, 'BB Hwy': 1, 'Farrenburg': 1, 'Leaf Brown Cemetery': 1, 'Glaser Road': 1, 'the State Park': 1, 'Liberty - Faint': 1, 'Jefferson City': 1, 'Metro North Mall - towards': 1, 'Houston Lake': 1, 'Platte County': 1, 'Downtown Kansas City': 1, 'MO': 3, 'the Airport - Strange': 1, 'Tiffany Springs': 1, 'IA': 1, 'Kirksville': 1, 'Northeast Missouri State': 1, 'Bell Tower': 1, 'Groendyke Hall': 1, 'the Scholastic Building': 1, 'Liberty': 1, 'Hudson': 2, 'the County Courthouse': 1, 'Walnut Street': 1, 'Lake Concord': 2, 'the Katy Trail': 1, 'Sedalia': 2, 'Wilcox': 1, 'Rickey Road': 1, 'Laclede County': 1, 'Camden County': 1, 'Smithville': 1, 'Jenkins': 1, 'Phelps Grove Park': 2, 'south west': 1, 'the Convention Center': 1, 'Ste': 1, 'Mississippi': 5, 'Valle': 1, 'Morgue': 2, 'St. Michael': 1, 'the Brant Mansion': 1, 'the Mississippi River': 1, 'St. Louis - Seton Hall - During': 2, 'the Pea Ridge Mine': 1, 'North America': 1, 'Herman': 1, 'Valle Mines': 1, 'Avenue': 1, 'West Plains': 1, 'Gumboro Delaware': 1, 'woodland beach': 1, 'the woodland area': 1, 'karlyn street': 1, 'Turkey Point': 1, 'Pike Creek': 1, 'Jerde Hall': 1, 'Wild Bill Hickock': 1, 'Hill City': 1, 'Mt. Rushmore': 2, 'the bingo hall': 1, 'morgue area': 1, 'Rapid City': 1, 'St. Patrick’s Day': 1, 'Rapid City Regional Airport': 1, 'Sioux Falls': 1, 'Rock Creek': 1, 'Skelton': 1, 'Booth Road': 1, 'Rainbow Bar': 1, 'Hoch Drug': 1, 'Calloway Hall -': 1, 'Gautier': 1, 'Natchez': 1, 'Madeline': 1, 'St. Anthony Hall': 1, 'The Pascagoula River': 1, 'I-10': 1, 'the Singing River': 1, 'Lola': 1, 'Tupelo': 1, 'Mount': 1, 'Berlin': 1, 'Lamentation Mountain': 1, 'the Mattabesset Trail': 1, 'St. Thomas': 2, 'Hartford': 2, 'Bristol': 1, 'New England': 2, 'Cornwall': 1, 'Hearthstone Castle': 1, 'Berkshire Hall': 1, \"Fairfield Hills'\": 1, 'Fairfield Hills': 2, 'Main Street - Reports': 1, 'the Thames River': 1, 'Groton': 1, 'Ragged Mountain': 1, 'the Hammonasset River': 1, 'Nineveh': 1, 'Mount Tom': 1, 'mentaly': 1, 'Hubbard Park': 1, 'Meriden': 3, 'Waterbury Road': 1, 'the Cotter Building': 1, 'Rushford': 1, 'Silver Sands': 1, 'New Britain': 1, 'Lighthouse Park': 1, 'New Haven': 1, 'Newtown': 1, 'Booth': 2, 'Plainfield': 1, 'Great Hill': 1, 'Bickford': 1, 'Elm street': 1, 'Torrington': 2, 'route 8- highway': 1, 'Breakneck Hill Road': 1, 'the Saw Mill Woods': 1, 'the Mattituck Trail': 1, 'Black Rock State Park': 1, 'West Haven': 1, 'Notre Dame': 1, 'Founders Hall': 1, 'Rum River': 1, 'East High': 1, 'this ski hill': 1, 'Noyes Hall': 1, 'Tate Hall': 1, 'Forest City': 1, 'Park Elementary': 1, 'Harringtons': 2, 'Sioux': 1, 'Hutch': 1, 'Loon Lake': 1, 'Minn.': 1, 'Minneapolis': 2, 'Arcola Trail Bridge': 1, 'Arcola Trail': 1, 'Stillwater Minnesota': 1, 'Washington Avenue Bridge - The Washington Avenue Bridge': 1, 'the west bank': 1, 'Highway 7': 1, 'Thief River Falls': 1, 'Oakland Park': 1, 'Pipestone County': 1, 'Holy Name Drive': 1, 'Riverview': 1, 'Shoemaker Hall - In': 1, 'Shoemaker Hall': 1, 'St. Paul': 2, 'Mounds Park Hospital': 1, 'The Southern Building': 1, 'Minnesota': 1, 'The Northern Building': 1, 'the Main Inn': 1, 'the North Side': 1, 'Timberlake Road': 2, 'Willmar': 1, 'St. Helena': 1, 'Mt. St. Park': 1, 'Bingham': 1, 'Brattonsville': 1, 'Bratton': 1, \"the Battle of Huck's Defeat\": 1, 'South Carolina': 5, 'the Congaree River': 1, 'West Highland': 1, 'Apratments': 1, 'Lucas Bay': 1, 'the Memorial Page': 1, 'Edisto Island': 2, 'Ferry Road': 1, 'Blacksburg': 1, 'Gaffney': 2, 'Murrells Inlet': 2, 'Greenville': 2, 'Route 107': 2, 'Hartsville': 1, 'Prospect Road': 1, 'Lynches River': 1, 'Lyman': 1, 'Myrtle Beach': 1, 'Kinard Hall': 1, \"Molly's Rock\": 1, 'Parris Island Marines': 1, 'Northern Greenville County': 1, 'Powdersville': 1, 'Pell Hall': 1, 'Spartanburg': 1, 'Summerville': 1, 'the Wateree River': 1, 'the State of South Carolina': 1, 'Road': 1, 'Rhode Island Hospital': 1, 'Nickerson Hall': 1, 'Nickerson': 2, 'Crescent Park Carousel': 1, 'Carousel': 1, 'Rhode Island': 1, 'Woodglenn Park': 1, 'Smokey Hill Rd': 1, 'Kiowa': 1, 'Bennet Road': 2, 'Blackhawk': 1, 'Macky Auditorium -': 1, 'Cañon City': 1, 'the Broadmoor Hotel': 1, 'the Countess Portales': 1, 'Portales': 1, 'the Garden Shop': 2, 'Gold Camp': 1, 'Colorado Springs': 2, 'Denver': 6, 'Albion Street': 1, 'Colfax Avenue': 1, 'Larimer': 1, 'Montview': 1, 'Quebec': 1, 'Ft. Carson': 1, 'Fort Collins': 1, 'Legacy Park': 1, 'Martinez Park': 1, 'Riverside Park': 1, 'the South Plate River': 1, 'the River Witch': 1, 'Grand Junction': 1, 'the Colorado River': 1, 'Ramkota': 1, 'Northwestern Colorado': 1, 'the Sand Creek': 1, 'Angelica': 1, 'The Littleton Cemetery': 1, 'Littleton': 2, 'Santa Fe Drive': 1, 'Platoro': 2, 'Southern Colorado': 1, 'the County Sheriff': 1, 'Rocky Mountain High Adventure Base': 1, 'Poncha Springs': 1, 'Ft Garland': 1, 'Pemmican Creek': 2, 'Hwy 285': 1, 'Cheyenne': 1, 'Summit Springs': 1, 'Brighton': 1, 'the South Platte River': 1, 'the west riverbank': 1, 'the South Platte': 1, 'Highway': 1}\n"
     ]
    }
   ],
   "source": [
    "entity_loc_tally = defaultdict(int)\n",
    "\n",
    "for list in df_ent['entity_loc_counts']:\n",
    "    for entity in list:\n",
    "        entity_loc_tally[entity] += count\n",
    "\n",
    "entity_loc_tally = dict(entity_loc_tally)\n",
    "print(entity_loc_tally)"
   ]
  },
  {
   "cell_type": "code",
   "execution_count": 108,
   "metadata": {},
   "outputs": [
    {
     "name": "stdout",
     "output_type": "stream",
     "text": [
      "{'Auditorium': 28, 'Chicago': 22, 'Ohio': 21, 'Washington': 21, 'US': 20, 'Inn': 20, 'Main Street': 17, 'California': 15, 'East': 14, 'Texas': 14, 'Indiana': 14, 'Michigan': 13, 'Georgia': 12, 'Canada': 10, 'South': 10, 'Pennsylvania': 10, 'Mansion': 10, 'U.S.': 10, 'Illinois': 10, 'America': 9, 'England': 9, 'Breakfast': 9, 'Missouri': 9, 'the United States': 8, 'Salem': 8, 'Molly': 8, 'Sacramento': 8, 'Belmont': 8, 'Broadway': 8, 'Tennessee': 8, 'Spain': 7, 'West': 7, 'Satan': 7, 'Oregon': 7, 'New York': 7, 'Connecticut': 7, 'Milwaukee': 7, 'Nashville': 7, 'Detroit': 6, 'San Francisco': 6, 'Maryland': 6, 'YMCA': 6, 'Kentucky': 6, 'Miami': 6, 'Utah': 6, 'Denver': 6, 'Trail': 5, 'Boston': 5, 'Hollywood': 5, 'Massachusetts': 5, 'Springfield': 5, 'Warren': 5, 'Virginia': 5, 'Georgetown': 5, 'North': 5, 'New Orleans': 5, 'Alabama': 5, 'Athens': 5, 'Atlanta': 5, 'Washington Street': 5, 'Iowa': 5, 'Seattle': 5, 'San Antonio': 5, 'Mississippi': 5, 'South Carolina': 5, 'Rockford': 4, 'Richmond': 4, 'Agnes': 4, 'Highland Hall': 4, 'Pittsburgh': 4, 'Philadelphia': 4, 'Lima': 4, 'County': 4, 'Penelope': 4, 'Hospital': 4, 'Colorado': 4, 'the Sacramento River': 4, 'Pendleton': 4, 'Arkansas': 4, 'Portland': 4, 'Santa Cruz': 4, 'City Hall': 4, 'china': 4, 'Vermont': 4, 'Arizona': 4, 'Fort': 4, 'New Jersey': 4, 'Vietnam': 4, 'Earth': 4, 'Watertown': 4, 'premises': 4, 'Cincinnati': 4, 'Ky.': 4, 'Pleasant Hill': 4, 'Wickham': 4, 'Egypt': 4, 'Williamsburg': 4, 'Kansas City': 4, 'Richmond Town': 4, 'Ottawa': 4, 'the Ohio River': 4, 'Alton': 4, 'Honolulu': 4, 'El Paso': 4, 'Houston': 4, 'Florida': 4, 'Cambridge': 3, 'Vicksburg': 3, 'Lambertville': 3, 'Memphis': 3, 'Altoona': 3, 'Us': 3, 'Slippery Rock Creek': 3, 'Ireland': 3, 'Henry': 3, 'n’t': 3, 'Gettysburg': 3, 'Harrisburg': 3, 'Wyoming': 3, 'rotunda': 3, 'Rotunda': 3, 'Mansfield': 3, 'Smith Hall': 3, 'the Green Room': 3, 'Psycho': 3, 'Alaska': 3, 'Oakland': 3, 'San Diego': 3, 'Charlotte': 3, 'Camden': 3, 'morgue': 3, 'Washington County': 3, 'North Dakota': 3, 'the Bell Tower': 3, 'Wilmington': 3, 'Los Angeles': 3, 'P.E.': 3, 'Clayton': 3, 'Caribbean': 3, 'Dublin': 3, 'Hallway': 3, 'Phoenix': 3, 'Annapolis': 3, 'Ft': 3, 'Oklahoma': 3, 'Louisiana': 3, 'France': 3, 'South Dakota': 3, 'Main': 3, 'Columbus': 3, 'Music Hall': 3, 'WWI': 3, 'Morristown': 3, 'St. Louis': 3, 'New Hope': 3, 'Asheville': 3, 'White Hall': 3, 'North Carolina': 3, 'Lexington': 3, 'Louisville': 3, 'Charleston': 3, 'Kansas': 3, 'Syracuse': 3, 'Monroe': 3, 'Wisconsin': 3, 'Theodosia': 3, 'Lake Ontario': 3, 'Concordia': 3, 'Miller Hall': 3, 'Annabel': 3, 'Route 83': 3, 'North Ave': 3, 'earth': 3, 'Main Street Graveyard': 3, 'Nebraska': 3, 'Hummel Park': 3, 'Alpharetta': 3, 'Oglethorpe': 3, 'Berry': 3, 'Dallas': 3, 'the Libby Dam': 3, 'Kerrville': 3, 'Brownsville': 3, 'Mexico': 3, 'Delaney Hall': 3, 'Sarasota': 3, 'Livingston County': 3, 'MO': 3, 'Meriden': 3, 'Sand Creek': 2, 'Trowbridge': 2, 'Iroquois': 2, 'DC': 2, 'Decatur': 2, 'Lake Huron': 2, 'Grand Haven': 2, 'Pickett Hall': 2, 'Ada': 2, 'Holland': 2, 'Brewer': 2, 'Marquette': 2, 'Toledo': 2, 'Capitol': 2, 'Bailey': 2, 'Mackinac': 2, 'Milan': 2, 'Millington': 2, 'Port Huron': 2, 'Al Capone': 2, 'Paris': 2, 'South West': 2, 'Walled Lake': 2, 'Wood Street': 2, 'Lillian': 2, 'Indian Rock Park': 2, 'Valley Forge': 2, 'Oak Hill': 2, 'Indian Cemetery': 2, 'Trenton': 2, 'North Hall': 2, 'the Mahoning River': 2, 'Quakertown': 2, 'Pioneer Cemetery': 2, 'Delaware': 2, 'South Hills': 2, 'Vito': 2, 'South Park': 2, 'Lemont': 2, 'Manor Lake': 2, 'the Underground Railroad': 2, 'Indian Hills': 2, 'Accomac': 2, 'the east coast': 2, 'Toad Road': 2, 'Union City': 2, 'Upland': 2, 'the Napa Valley': 2, 'Prince Louis': 2, 'MA': 2, 'Building': 2, 'Verna': 2, 'Canton': 2, 'Blood': 2, 'Dungeon': 2, 'Newburyport': 2, 'East Street': 2, 'Sunset': 2, 'Mt. Rubidoux': 2, 'La Llorona': 2, 'White': 2, 'Clarendon': 2, 'St. Bernard': 2, 'Canyon': 2, 'Forest Grove': 2, 'Newport': 2, 'North Bend': 2, 'Costa County': 2, 'Coloma': 2, 'Disneyland': 2, 'San Joaquin': 2, 'Route 66': 2, 'Fremont': 2, 'Fullerton': 2, 'Hills': 2, 'Ramona': 2, 'Highland': 2, 'the Imperial Valley': 2, 'Roosevelt': 2, 'Dodger Stadium': 2, 'Los Gatos': 2, 'Florence': 2, 'Romeo': 2, 'Truxton': 2, 'Lansdowne': 2, 'Davidge Hall': 2, 'Fletchertown Road': 2, 'Fort Meade': 2, 'Cedar': 2, 'Rocky Hill': 2, 'Bartlesville': 2, 'Byng Auditorium': 2, 'Drama': 2, 'Byng': 2, 'Weatherford': 2, 'Langston': 2, 'Veteran': 2, 'Poland': 2, 'Hiram': 2, 'Kennicott': 2, 'Highland Road': 2, 'the Garden District': 2, 'Victoria': 2, 'Gadsden': 2, 'Black Creek': 2, 'St. Joseph': 2, 'U.S': 2, 'Beaver Creek': 2, 'Piqua': 2, 'Mirror Lake': 2, 'Germantown': 2, 'Huron': 2, 'Europe': 2, 'Island': 2, 'Moonville': 2, 'Railroad': 2, 'Wayne County': 2, 'Honeymoon': 2, 'Raritan': 2, 'Sparta': 2, 'Johnpat': 2, 'River Drive': 2, 'Creek': 2, 'Altru': 2, 'Battle': 2, 'Fayetteville': 2, 'Marion County': 2, 'the East Wing': 2, 'N.C.': 2, 'Goshen': 2, 'Greensboro': 2, 'Crystal Cave': 2, 'Lewis': 2, 'Russia': 2, 'Coffeyville': 2, 'Hiawatha Hall': 2, 'Salina': 2, 'Curtis Hall': 2, 'Brockway Hall': 2, 'Lake Erie': 2, 'Wyoming County': 2, 'the Raynham Hall': 2, 'Norfolk': 2, 'Lighthouse': 2, 'Brodhead': 2, 'Pizzeria': 2, 'NYC': 2, 'County Road VV': 2, 'Julia': 2, 'Underground': 2, 'Lowell': 2, 'Nola': 2, 'Des Moines': 2, 'Lawther': 2, 'Parkersburg': 2, 'Marrtown': 2, 'Kanawha River': 2, 'Point Pleasant': 2, 'Alamogordo': 2, 'New Mexico': 2, 'Wild West': 2, 'Beverly': 2, 'Cherry Hill': 2, 'USA': 2, 'Fort Vancouver': 2, 'Munger Road': 2, 'the White River': 2, 'Lebanon': 2, 'Mt. Zion': 2, 'Ladywood': 2, 'Indianapolis': 2, 'the cul-de-sac': 2, 'Minooka': 2, 'Noblesville': 2, 'Sheridan Road': 2, 'Wabash': 2, 'Hana': 2, 'Burnt': 2, 'Wauconda': 2, 'Bull Valley': 2, 'the Vauxcleus': 2, 'Chatham Manor': 2, 'Bridge': 2, 'Inns': 2, 'Indian Rock Road': 2, 'The Manor': 2, 'Brattleboro': 2, 'Nevada': 2, 'King Street': 2, 'Punchbowl': 2, 'Morgan': 2, 'Mililani': 2, 'Makaha': 2, 'Pearl Harbor': 2, 'Northern Utah': 2, 'Salt Lake City': 2, 'the Mormon Trail': 2, 'Lake': 2, 'Centennial Hall': 2, 'Braselton': 2, 'Highway 42': 2, 'Savannah': 2, 'Quitman': 2, 'East Texas': 2, 'Santa Rita': 2, 'Alamo': 2, 'San Antonio River': 2, 'San Patricio': 2, 'the Aransas River': 2, 'Andrews': 2, 'Montana': 2, 'the RV Park': 2, 'Rainbow Lake': 2, 'West Columbia': 2, 'Southwest': 2, 'Austin': 2, 'Kerr County': 2, 'River': 2, 'Old Alton Bridge': 2, 'Buffalo': 2, 'Galveston': 2, 'Interstate 10': 2, 'Eldridge': 2, 'Laredo': 2, 'Nasa Road 1': 2, 'Loroe Lane': 2, 'Gatlinburg': 2, 'Holston River': 2, 'Brooksville': 2, 'Highway 90': 2, 'Orlando': 2, 'Fort Clinch': 2, 'Key West': 2, 'Miami Springs': 2, 'London': 2, 'St. Petersburg': 2, 'Mo.': 2, 'mid-90': 2, 'Cape Girardeau': 2, 'DD': 2, 'Hudson': 2, 'Lake Concord': 2, 'Sedalia': 2, 'Phelps Grove Park': 2, 'Morgue': 2, 'St. Louis - Seton Hall - During': 2, 'Mt. Rushmore': 2, 'St. Thomas': 2, 'Hartford': 2, 'New England': 2, 'Fairfield Hills': 2, 'Booth': 2, 'Torrington': 2, 'Harringtons': 2, 'Minneapolis': 2, 'St. Paul': 2, 'Timberlake Road': 2, 'Edisto Island': 2, 'Gaffney': 2, 'Murrells Inlet': 2, 'Greenville': 2, 'Route 107': 2, 'Nickerson': 2, 'Bennet Road': 2, 'the Garden Shop': 2, 'Colorado Springs': 2, 'Littleton': 2, 'Platoro': 2, 'Pemmican Creek': 2, 'the Ada Cemetery': 1, 'Egypt Valley': 1, 'Honey Creek': 1, 'Honeycreek Road': 1, 'Seidman Park': 1, 'Findlay Cemetery': 1, 'us': 1, 'the Rogue River': 1, 'Harsens Island': 1, 'Jackson Ave': 1, 'Ann Arbor': 1, 'I-94': 1, 'a Tribal Center': 1, 'Camp 8': 1, 'the Bloody Hand': 1, 'Denton Rd': 1, 'Berville': 1, 'Birmingham': 1, 'Denton Road': 1, 'Central Lake': 1, 'Chesaning': 1, 'the Sunflower Bridge': 1, 'Croton Dam': 1, 'Berwyn elementary(located': 1, 'Van Buren': 1, 'Marcellus': 1, 'Cass County': 1, 'the Drill Hall': 1, 'St. Andrews': 1, 'Huron River Dr.': 1, 'the west building': 1, 'Brush Lake Rd': 1, 'the Muskegon River': 1, 'Grand River': 1, 'Farmington': 1, 'the west gate': 1, 'Graves': 1, 'the Forester Inn': 1, 'the Forester Cemetery': 1, 'Garden City High School': 1, 'Ferry Hill': 1, 'Grayling': 1, 'the west hall': 1, 'Gross Isle': 1, 'Grosse Isle': 1, 'Lake St. Clair': 1, 'the Allegan Woods': 1, 'Harrison Township': 1, 'Budd Lake': 1, 'Inkster Rd': 1, 'the Arts Camp': 1, 'Oak Hill Cemetery': 1, 'Ionia': 1, 'Kalamazoo': 1, 'Alamo Hill': 1, 'The Riverside Cemetery': 1, 'Mt. Olivet Catholic Cemetery': 1, 'Grand River Valley': 1, 'forgotton': 1, 'Grand Rapids': 1, 'Pine Mountain Road': 1, 'Iron Mountain': 1, 'Kingsford': 1, 'Bedford Township': 1, 'the Mackinac Bridge': 1, 'Wikipedia 1': 1, 'Madison Heights': 1, 'Pink Palace': 1, 'Manitoulin Island': 1, 'the Anderson Cemetery': 1, 'Halverson': 1, 'Front Street': 1, 'Hidden': 1, 'the Hommochitto River': 1, 'the Midland Cemetery': 1, 'Meyer Hill': 1, 'Cobb Hall - 4th Floor - Many': 1, 'Troutman': 1, 'Mt. Pleasant': 1, 'North Muskegon': 1, 'Northville': 1, 'north-east': 1, 'East Buno': 1, 'Reed City': 1, 'Dole Hall': 1, 'Glenwood Ave': 1, 'Cordley': 1, 'Inkster': 1, '4th Street': 1, 'Downtown Rochester': 1, 'Camp Rogers': 1, 'Roseville': 1, 'approx': 1, 'Wife Agnes': 1, 'the Felt Mansion': 1, 'Paradise': 1, 'Saint Clair County': 1, 'Grosse Pointe': 1, 'Sterling Heights': 1, 'Hoosier Valley': 1, 'HEARD.-': 1, 'Rochester': 1, 'Sterrit': 1, 'Geek Rd': 1, 'Novi': 1, 'Decker': 1, 'Corwin': 1, 'Febuary': 1, 'Walnut': 1, 'Newaygo County': 1, 'White Cloud': 1, 'Eastern Michigan': 1, 'North Park Golf Course': 1, 'Fort Roberdeau - Legend': 1, 'the Wopsononock Mountain': 1, 'Ebensburg': 1, 'Buckhorn Mountain': 1, 'Buckhorn': 1, 'the Eastern United States': 1, 'Bloomsburg': 1, 'the Kittatinny Ridge': 1, 'Lehigh': 1, 'Kennywood Park': 1, 'the Grundy Memorial Library': 1, 'Mockingbird Hill': 1, 'Newton': 1, 'Tyler Hall': 1, 'Holicong Road - An old': 1, 'Butler': 1, 'The Canonsburg Subway': 1, 'Carbon County Prison': 1, 'Bandstand': 1, 'Egg Hill': 1, 'Venango Trail': 1, 'Hellhounds': 1, 'Indian Rock': 1, 'the Dubois Area': 1, 'Reeder Hall': 1, 'Saint Michael': 1, 'Camp Silver Belle': 1, 'Mountain Springs': 1, 'the Witches Circle': 1, 'Niagara Hall': 1, 'Flourtown': 1, 'Allentown Rd': 1, 'The Vicary Mansion': 1, 'the Captain Vicary': 1, 'Southern California': 1, 'Glatfelter Hall': 1, 'Pennsylvania Hall - The Administrative': 1, 'the Triangular Field': 1, 'Wheatfield': 1, 'the Gordon Mountain': 1, 'Granville': 1, 'Courthouse Square': 1, 'Roth Hall': 1, 'Susquehanna Township': 1, 'Farm Show': 1, 'the Capital Area Green Belt': 1, 'Edgemont': 1, 'Woodland': 1, 'the Green Belt': 1, 'Boscov': 1, 'Edge Hill': 1, 'Hazleton': 1, 'Hershey': 1, 'Graeme Park': 1, 'Beaver county': 1, 'Waller Hall Building - Ghost': 1, 'Oak Hall': 1, 'Laurel': 1, 'Ward Hall': 1, 'South Ben Franklin': 1, 'Lancaster county': 1, 'the Mondale Road': 1, 'the Lancaster Green Apartments': 1, 'Langhorne': 1, 'St. Vincent': 1, \"St. Vincent's\": 1, 'St. Xavier': 1, 'North West': 1, 'Lebanon County': 1, 'Prison': 1, 'Packerton': 1, 'Night of': 1, 'Pa.': 1, 'Michael': 1, 'Media': 1, 'Delaware County': 1, 'Milford': 1, 'Restland': 1, 'New Ashatola': 1, 'Hillsville Road': 1, 'Black Hand': 1, 'the River House Restaurant': 1, 'Doyelstown': 1, 'Top Rock Trail': 1, 'West Side Story': 1, 'Perry County': 1, 'Pandemonium': 1, 'Eastern State': 1, 'the Biddle estate(as': 1, 'Banks': 1, 'Hillcrest Drive': 1, \"St. Ann's\": 1, 'Living Learning Center - Room 409': 1, 'the Stripped District of Pittsburgh': 1, 'the John Heinz History Center': 1, 'Allegheny Center': 1, 'Lawrence Hall': 1, 'PNC Park': 1, 'Heinz Stadium': 1, 'the schenley hotel..': 1, 'Bruce Hall': 1, 'Allegheny': 1, 'Central Pa': 1, 'Xavier': 1, 'Grace Hall': 1, 'Woodcrest': 1, 'the Radnor Hotel': 1, 'Selwyn Hall': 1, 'Reading': 1, 'Route 40': 1, 'Johnstown': 1, 'PA': 1, 'WJAC': 1, 'Fort Roberdeau -': 1, 'Fort Roberdeau': 1, 'St. Johns': 1, 'Slippery Rock': 1, 'Miller Auditorium': 1, 'Koppel': 1, \"Diane Hall's\": 1, 'Old Coaly': 1, 'Strasburg': 1, 'Loganton': 1, 'Kings River': 1, 'Lower Level - In': 1, 'Janesville': 1, \"St. Mary's Hall\": 1, 'the Neshanach Creek': 1, 'Highway 14': 1, 'Sand Canyon': 1, 'LA County': 1, 'Grahm Hill': 1, 'Highway 17': 1, 'S.C.': 1, 'Craven Hall': 1, 'Waynesboro': 1, 'Fort Ord': 1, 'Sewickley Township': 1, 'Mars Hill Road': 1, 'Coulterville Road': 1, 'Eighth Street': 1, 'Babyroad': 1, 'Duboistown': 1, 'Mosquito Valley Road': 1, 'the Susquhanna River': 1, 'Tulepehocken Bridge': 1, 'Kunkle Mansion - There': 1, 'Pine Road': 1, 'I-83': 1, 'California Street': 1, 'Magnolia': 1, 'Stockton': 1, 'Pershing Avenue': 1, 'King Avenue': 1, 'San Quentin': 1, 'York County': 1, 'Campbell Hall': 1, 'Tulare County': 1, 'Visalia': 1, 'San Antonio Heights': 1, 'the Park Road/Mountain Ave': 1, 'History': 1, 'Zodiac': 1, 'Gardenia': 1, 'Turners Avenue': 1, 'Adams': 1, 'Athol': 1, 'Faint': 1, 'Ventura': 1, 'Santa Clara Cemetery': 1, 'RV': 1, 'Fairmount': 1, 'Boston Harbor': 1, 'Tillinghast Hall': 1, 'Rose Hills Cemetery': 1, 'moon': 1, 'Orangethorpe St.': 1, 'Yorba': 1, 'Camp Titticut': 1, 'the Bridgewater Triangle': 1, 'Pendleton Rd': 1, 'Fredrico': 1, 'Huttleston Ave': 1, 'China': 1, 'Normal Hall': 1, 'west Fitchburg': 1, 'Baldinville': 1, 'North to': 1, 'the Green River': 1, 'Haverhill': 1, 'Lynn': 1, 'Redd': 1, 'Marlborough': 1, 'Blue Hills': 1, 'Indian Territory': 1, 'Hendrix Hall': 1, 'the Barlette Mall': 1, 'Ash Hall': 1, 'Mount Hope Cemetery': 1, 'North Attleboro': 1, 'northampton': 1, 'overtoun': 1, 'San L': 1, 'Route 32': 1, 'Palmer': 1, 'WILL': 1, 'Theresa': 1, 'Plymouth': 1, 'Wachusett Mountain': 1, 'Manteca': 1, 'Clause Road': 1, 'Bluff Road': 1, 'the Battle of the Rio San Gabriel': 1, \"the King Philip's\": 1, 'Rutland Heights': 1, 'Penny Road': 1, 'Cape Cod Canal': 1, 'Narrows Park': 1, 'Monterey': 1, 'Black': 1, 'Moreno Valley': 1, 'Naval Base': 1, 'Newport Harbor': 1, 'Niles Canyon': 1, \"Mission San Jose's\": 1, 'St. Stevens': 1, 'St. Stephens': 1, 'Alumni Hall': 1, 'Stoneham': 1, 'Parsonage': 1, 'the Goss Building': 1, 'North Street': 1, 'Preservation Park Historic District': 1, 'Oceanside': 1, 'Downtown Ontario': 1, 'Seal Beach Police Dept': 1, 'Orange County': 1, 'Pacific Coast Highway': 1, 'the Naval Station': 1, 'REMOVED': 1, 'Cunnif': 1, 'Mount Auburn Cemetery': 1, 'The Auditorium of the hosmer school': 1, 'blueberry hill': 1, 'Easter': 1, 'College Hall - 4th Floor': 1, 'College Hall - 2nd Floor': 1, 'Central Avenue - This road': 1, 'Santa Clara': 1, 'Redondo Beach': 1, 'PV': 1, 'Echo': 1, 'Angeles Crest': 1, 'the Drama Room': 1, 'Placervilles': 1, 'Palomares Cemetery': 1, 'Highway 101': 1, 'San Juan Bautista': 1, 'Red Hill Park': 1, 'Lunada bay': 1, 'Prospect Park': 1, 'Redlands': 1, 'the Plaza Cafe': 1, 'the Tyler Mall': 1, 'south east': 1, 'north east': 1, 'Author': 1, 'Recreation': 1, 'Lothian': 1, 'Old Sacramento': 1, 'the Freeport Factory': 1, 'Sacramento City Councilman': 1, 'Salinas': 1, 'Wyatt Earp': 1, 'Lake Arrowhead': 1, 'Shorecliffs': 1, 'Cottons': 1, 'San Diego Airport': 1, 'Questhaven': 1, 'K Street': 1, 'the Wave Cove': 1, 'the Wave Pool': 1, 'Chinatown': 1, 'the Parish Hall': 1, 'Golden Gate Park': 1, 'Park Presidio': 1, 'Stanyan Street': 1, 'Octavia': 1, '17th avenue': 1, 'Stowe Lake Golden Gate Park - It': 1, 'Stowe Lake': 1, 'Pediatric': 1, 'the San Gabriel Mission': 1, 'the Temple City High School': 1, 'Black Lake -Reports': 1, 'Jones Cemetery': 1, 'Mabel': 1, 'Galloway Hall - Rumor': 1, 'Ozark': 1, 'Ico': 1, 'Prague Road': 1, 'Highway 270': 1, 'Crystal Springs': 1, 'the Garland/Montgomery County': 1, '514B Central Avenue': 1, 'Hot Springs': 1, 'the Judsonia Cemetery': 1, \"Little Rock's\": 1, 'Mount Holly Cemetery -': 1, 'Old Pioneer Cemetery': 1, 'the Old Mill': 1, 'Dry Hill Rd': 1, 'Highway 220': 1, 'Drake Park': 1, 'Lincoln City': 1, 'Central Point Elementary': 1, 'Strand': 1, 'Jonesboro': 1, 'Witherspoon Hall': 1, 'Little Rock': 1, 'Gertie': 1, 'Damascus': 1, 'Tillamook': 1, 'Lister': 1, 'the Oregon Vortex': 1, 'Hwy': 1, 'Medford': 1, 'Todd Hall': 1, 'Yaquina Bay Lighthouse': 1, 'Ontario': 1, 'The Snake River': 1, 'Malheur Butte': 1, 'Cathedral Park': 1, 'Vaughn Street': 1, 'The Wilcox Mansion': 1, 'Nina': 1, 'the Dark Side of Portland Walking Tour': 1, 'Scapponia Park': 1, 'the North Rim Trail': 1, 'Mansion - This': 1, 'South Salem': 1, 'the middle night': 1, 'Marina Village Pkwy': 1, 'Mariner Square Dr': 1, 'Empire': 1, 'Beaverton': 1, 'the Garden Center': 1, 'Battery': 1, 'Leland Avenue': 1, 'Apple Valley': 1, 'Walgreen': 1, 'Fantasy Island': 1, 'Arcadia': 1, 'the Haunted Coast': 1, 'Castle Air Force Base': 1, 'Reforma Avenue': 1, 'Harvey Auditorium': 1, 'Cudahy': 1, 'Whittier Narrows': 1, 'Teachers': 1, 'Waterdog': 1, 'the Auditorium, Screams': 1, 'Camp Snoopy': 1, 'Camarillo': 1, 'Alabama Ave': 1, 'Alameda': 1, 'San Pedro': 1, 'Rancho Dominguez': 1, 'the Inyo Mountains': 1, 'Chowchilla California': 1, 'El Dorado': 1, 'Clovis Avenue': 1, 'Ca': 1, 'Placerville': 1, 'Coldsprings Rd': 1, 'the Vineyard House': 1, 'May Schieffer': 1, 'the English Building': 1, 'Live Oak': 1, 'Dolly': 1, 'Pirates': 1, 'Space Mountain': 1, 'a Grad Night': 1, 'Rebecca': 1, 'Altamont': 1, 'Echo Park': 1, 'Hathaway Hills': 1, 'patient(ghost': 1, 'El Centro': 1, 'American River - A': 1, 'Fort Bragg': 1, 'Pudding Creek': 1, 'Beachpark Plaza': 1, 'Pinto Lake': 1, 'Sanctuary': 1, 'Mission San Jose': 1, 'Herndon': 1, 'Harbor and Commonwealth': 1, 'Plummer Auditorium': 1, 'the Heritage Hall': 1, 'Long Beach': 1, 'Claudia': 1, 'Garden': 1, 'Watsonville Road': 1, 'Glen Helen': 1, 'Groveland': 1, 'UK': 1, 'the Civic Auditorium': 1, 'Nyman Hall': 1, 'Robinson Hall': 1, 'San Jacinto Valley': 1, 'Laurel Canyon': 1, 'Lookout Mountain': 1, 'the Ladies Vanity Room': 1, 'the Hollywood Roosevelt Hotel': 1, 'Granada': 1, 'Magnolia Street': 1, 'the Indio Library': 1, 'Irvine': 1, 'Keene': 1, 'Lerdo Highway': 1, 'Freeway 99': 1, \"Sighting Shadow's\": 1, 'Unnaturally Dark': 1, 'Pacific': 1, 'Downtown Long Beach': 1, 'L.A.': 1, 'the White Lady': 1, 'Solano Ave': 1, 'Elysian Park': 1, 'Mansion of the magician': 1, 'Wilshire Boulevard': 1, \"Walnut - City Of Indusry - St. Mary's Catholic School - Since\": 1, 'Haunting': 1, 'Kabar': 1, 'Neutrogena': 1, 'Venice': 1, 'Venice Beach Boardwalk': 1, 'Venice Beach': 1, 'Westminster Avenue': 1, 'Chaplin': 1, 'Ajo': 1, 'New River': 1, 'the Grandma Room': 1, 'Carolina': 1, 'Noftsger Hill Elementary': 1, 'the El Tovar': 1, 'the El Tovar Hotel': 1, 'white roams': 1, 'the Cleopatra Room': 1, \"Launa's Canyon\": 1, 'four(husband': 1, 'wife(Launa': 1, 'Launa': 1, 'Theatre Three': 1, '11:30PM': 1, '1st Street': 1, 'Lake Pleasant': 1, 'Fillmore': 1, 'Deer Valley': 1, \"Deer Valley's\": 1, 'Leveen': 1, '35th Avenue': 1, 'Lynx Lake': 1, 'Diamond Valley': 1, 'Sharlot Hall - Visitors': 1, 'Palo Verde East': 1, 'Tempe': 1, 'Padre': 1, 'North Hallway': 1, 'the Black River': 1, 'Baltimore': 1, 'Mount Wilson State Hospital': 1, 'Baltimore County': 1, 'Md.': 1, 'Hall Manor': 1, 'Fort Howard': 1, 'Bowie': 1, 'Charlotte Hall': 1, 'Cherryfield Road': 1, 'Marriottsville': 1, 'Historic District': 1, 'Bench': 1, 'Brute': 1, 'DuBois': 1, 'Frostburg': 1, 'C Hall - There': 1, 'Greenbelt': 1, 'Henryton Road': 1, 'Patapsco State Park': 1, 'Harford County': 1, 'Page County - Forest Haven &': 1, 'Riviera Beach': 1, 'Camp Lincoln': 1, 'Confederate Grays': 1, 'the Confederate Cemetery': 1, 'Outdoor Ed': 1, 'Rocky Hill Cemetery': 1, 'Woodsboro': 1, 'Coppermine Road': 1, 'Kullihoma': 1, 'the North Boggy Creek': 1, 'Circle Mountain': 1, 'County Road 2700': 1, 'the Arkansas River': 1, 'Catoosa': 1, 'Baird': 1, 'Tucker Road': 1, 'washita county': 1, 'El Reno': 1, 'Kellyville': 1, 'Potowattomie Road': 1, 'NE': 1, 'Sulphur': 1, 'the hill': 1, 'Penn Square Mall': 1, 'County Line': 1, 'Sallisaw': 1, 'the Pizza Hut': 1, 'Ponca City': 1, 'Crybaby Bridge': 1, 'Old Salina': 1, 'the Ozark Mountains': 1, 'Tulsa': 1, 'Campbellton': 1, 'Lavern': 1, 'Mallet Hall Dorm - Haunted': 1, 'Mallet Hall Dorm - Basement': 1, 'Mallet Hall Dorm – Third Floor - It': 1, 'Freeport': 1, 'Rock': 1, 'the Beta Theta Pi House': 1, 'Maine': 1, 'Thomaston': 1, 'York': 1, 'Alaska Railroad': 1, 'the Copper River': 1, 'Chitna': 1, 'Chitina': 1, '7PM': 1, 'Kiksaadi': 1, 'Bossier City': 1, 'the Battle of New Orleans': 1, 'the Pleasant Hill Cemetery': 1, 'Antioch': 1, 'Big Woods': 1, \"Jefferson's Island\": 1, 'Keatchie': 1, 'Highway 172': 1, 'Logansport': 1, 'Shreveport': 1, 'Lafayette': 1, 'Jackson Street': 1, 'Angela': 1, 'Superdome': 1, 'Jackson Square': 1, 'Hookmans Graveyard': 1, 'Grady Hill': 1, 'Engle Mountain': 1, 'McCandles Hall - It’s': 1, 'McCandles Hall': 1, 'Jasper': 1, 'Black Water Creek': 1, 'the Pickens County Courthouse': 1, 'Cullman County': 1, 'this Indian Cemetery': 1, 'Dora': 1, 'the Guillot Center': 1, 'Cypress Creek': 1, 'the Coosa River': 1, 'the Gadsden Public Library': 1, 'Noccalula Mountain': 1, 'the Dwight Mill Village': 1, 'Tabor Road': 1, 'New Castle Road in Gardendale/Morris': 1, 'the Pea River': 1, 'the Choctahatchee River': 1, 'Green Valley Speedway': 1, 'DeKalb County': 1, 'the Carter Mansion': 1, 'Warrior River Bridge': 1, 'the Second Creek Bridge': 1, 'Highway 5': 1, 'Winston County Drag Strip': 1, 'Maple Hill Cemetery': 1, 'Highway 84': 1, 'Mobile Bay': 1, 'the south Pacific': 1, 'Mount 9': 1, 'mount 5': 1, 'Norfolk Naval Shipyard': 1, 'Bunsen': 1, 'the Alabama River': 1, 'the Tallapoosa River': 1, 'McElderry Road': 1, 'Cheaha Road': 1, 'Cemetery Mt.': 1, 'Highway 43': 1, 'Northport': 1, 'Sandfort Road': 1, 'Pine Ridge': 1, '1AM': 1, 'Banshees': 1, 'River Falls Road': 1, 'Andalusia': 1, 'Mobile': 1, 'Selma': 1, 'Southern Mansion': 1, 'Prospect Road Off': 1, 'Tuscaloosa': 1, 'Hay Hall - On': 1, 'Amelia': 1, 'Leroy': 1, 'Litchfield': 1, 'Akron': 1, 'The Glamorgan Castle': 1, 'Crystal Tissue Factory': 1, 'Impala': 1, 'Eaton Road': 1, 'West Green': 1, 'Wilson Hall': 1, 'Stroud': 1, 'the Hay Bayler': 1, 'Clark Danbury': 1, 'Bowling Green': 1, 'Brunswick': 1, 'Beaver Creek Canal': 1, 'Gretchen': 1, 'Beaver Creek State Park - Esther Hale': 1, 'the Beaver Creek': 1, 'Lake Lansing': 1, 'Buffalo Ridge': 1, 'East Miami River Road': 1, 'Western Avenue': 1, 'Northern Kentucky': 1, \"King's Island\": 1, 'the Eiffel Tower': 1, 'Blue Ash': 1, 'Hollow': 1, 'Highway SR4': 1, 'Highland View Hospital - Reports': 1, 'Cleveland': 1, 'Puritas Amusement Park': 1, 'green hills': 1, 'Little Beaver Creek': 1, 'Lisbon': 1, 'Church Hill Road': 1, 'West River Rd': 1, 'Kelton': 1, 'Ft Hayes': 1, 'http://www.forgottenoh.com/Counties/Trumbull/biroshouse.html - June 2008': 1, 'washington': 1, 'mansfield': 1, 'ohio': 1, 'the Hop Along': 1, 'Blair Hall': 1, 'Spruceville': 1, 'Eaton': 1, 'Elmore': 1, 'the Call Center': 1, 'Chamberlain Road': 1, 'Ohio River': 1, 'Brubaker Rd': 1, 'Green Springs': 1, 'Greenfield': 1, 'Monroeville Lamereaux': 1, 'Seymour Creek': 1, 'Shawnee Island': 1, 'Hell Lake': 1, 'Hardin County': 1, 'West Toledo Branch Library - Odd': 1, 'Route 29': 1, 'Route 38': 1, 'Malabar Farm Inn': 1, 'Nahum Ward': 1, 'Delta': 1, 'the Marion Cemetery': 1, 'the Lucas County Coroners': 1, 'The City of Maumee': 1, 'the Riverside Cemetery in Maumee': 1, 'Mansion - A.K.A. Known': 1, 'Vail': 1, 'Millfield': 1, 'Southeast Ohio': 1, 'Chauncey': 1, 'Millville': 1, 'Cemetery': 1, 'Nelsonville': 1, 'Blacks Cemetery': 1, 'New Carlisle': 1, 'the Tuscarawas River': 1, 'Hisey Road': 1, 'Brecksville': 1, 'the Siesta Motel': 1, 'B.C.': 1, \"College Hall - There's\": 1, 'Pickaway Manor': 1, 'Reno Beach': 1, 'Rocky River': 1, 'Center Ridge': 1, 'Zanesville': 1, 'the Frontier Trail': 1, 'Hotel Breakers': 1, 'Creek Road - A': 1, 'The Connector Hall': 1, 'Route 183': 1, 'the Fairmount Greenhouse': 1, 'France Hall': 1, 'Heidelburg': 1, 'Collingwood Ave': 1, 'west hall': 1, 'Vicinity': 1, 'Waterville': 1, 'Perrysburg': 1, 'Wehr Road': 1, 'Troy': 1, 'LeFevre Road': 1, 'KKK': 1, 'Mytrle Hill Cemetery': 1, 'Van Wert County': 1, 'Vermilion': 1, 'Wooster': 1, 'the Zaleski CCC Camp': 1, 'Moxahala': 1, 'Scarborough Hall': 1, 'Byram': 1, 'Cape May': 1, 'Back Rd': 1, 'Cedar St.': 1, 'cedar street': 1, 'Route 208 Exit': 1, \"New Jersey's\": 1, 'Route 77': 1, 'Barry': 1, 'Allaire Road': 1, 'Hindenburg': 1, 'Great Hall - There': 1, 'The Great Hall': 1, 'Woodlawn Park': 1, 'Metuchen': 1, 'Middlesex County': 1, 'Elm Street': 1, 'Parsippany': 1, 'the Battle Champlain': 1, 'Jake Brown Road': 1, 'Intervale Road': 1, 'Route 46': 1, 'Salem City': 1, \"Berry’s'\": 1, 'Burgdorf': 1, 'Heartbeat Road - What': 1, 'Heartbeat Road': 1, 'the Warren Graveyard': 1, 'Mountain Blvd': 1, 'Mt. Bethel Rd': 1, 'Along River Drive': 1, 'Fargo': 1, 'Fort YatesThis': 1, 'the Stoney End': 1, 'Stoney End': 1, 'Garrison': 1, 'Casper': 1, 'the Townsend Hotel': 1, \"St. Mark's\": 1, 'Cedar Mountain': 1, 'Spirit Mountain': 1, 'Cecil': 1, 'A.K.A': 1, 'Siberia': 1, 'Oak Sitting': 1, 'Gardens': 1, 'the Zalandia Castle': 1, 'Helen': 1, 'the Grove Park Inn': 1, 'the Battery Park Hotel': 1, '5th Grade': 1, 'East Hall - East Hall': 1, 'Hardies': 1, 'the Capefear River': 1, 'Annville': 1, 'Jackson': 1, 'Smith Mansion': 1, 'Berea': 1, 'South West Hall': 1, 'Neisler Rd': 1, 'Bradfordsville': 1, 'Frozen Creek': 1, 'Hiestand': 1, 'Taylor County': 1, 'Cave City': 1, 'Glasgow': 1, 'Clermont': 1, 'KY': 1, 'Barberville': 1, 'Laurel Lake': 1, 'Maine Strasse': 1, 'Covington': 1, 'Broughton Hospital': 1, 'Morganton': 1, 'Dillsboro': 1, 'the Tuckaseegee River': 1, 'the Cabe Lands Trail': 1, 'the Eno River': 1, 'the Pasqutank River': 1, 'Ernul NC': 1, 'Subway': 1, 'the Auten Rd': 1, 'Hobbs': 1, 'Cynthiana': 1, 'Dawson Springs': 1, 'Olney Road': 1, 'Allendale': 1, 'St. John Road': 1, 'Saint Johns': 1, 'Black Mountain': 1, 'Phenomena': 1, 'Camp Devil Dog': 1, 'www.dawghouse.topcities.com/northcarolina.html': 1, 'the graffiti bridge': 1, 'Camp York': 1, 'Crowder': 1, 'Oak Grove': 1, 'Kure Beach': 1, 'the moon shines right on': 1, 'killer(in': 1, 'Greensburg': 1, 'Hardburly': 1, 'Mudlick Road': 1, 'Alcapulco Lake': 1, 'Boger City - Strange': 1, 'Louisburg': 1, 'Main Building': 1, 'Kennan': 1, 'Brookwood': 1, 'Pleasant Gardens Baptist': 1, 'Potters Field': 1, 'Evergreen Cottage': 1, 'mt.': 1, 'Watts': 1, 'Hopkinsville': 1, 'the Falls Area': 1, 'Hurricane': 1, 'Eastern Kentucky History': 1, 'the Columns Building': 1, 'New Bern': 1, 'the Pamlico Sound': 1, 'the Ocracoke Islands': 1, 'the Cape Hatteras Light House': 1, 'Zooland': 1, 'Asheboro': 1, 'Forest Hills': 1, 'W.B.': 1, 'Loudoun': 1, 'Train': 1, 'the Battle Of Shiloh': 1, 'Salisbury': 1, 'Mountain': 1, 'Morpheus Bridge Road': 1, 'Wendell': 1, 'moon lit nights': 1, 'Mt. Holley Road': 1, 'Woodland Hills': 1, 'Taproom': 1, 'Basement': 1, 'the Grapevine Cemetery': 1, 'Heartbeat Bridge': 1, 'Acid Park': 1, 'Forsyth County -': 1, 'Winston Salem': 1, 'Strong': 1, 'the Babcock Dormitory': 1, 'CC': 1, 'Paducah': 1, 'Nunn Hall - A': 1, 'Nunn Hall': 1, 'Wrigley Hill': 1, 'Jeffersonville': 1, 'rm': 1, 'Hester': 1, 'Paintsville': 1, 'highheels': 1, 'Echo River': 1, 'Lewis Creek': 1, 'Partridge': 1, 'Cushing Hall, Andersen Science Center': 1, 'Cushing Hall': 1, 'Richland': 1, 'White Hall State Historic Site': 1, 'Cassius': 1, 'Curator': 1, 'the Red River Gorge': 1, 'Spotsville Kentucky': 1, 'Tollesboro': 1, 'Slate Poibt': 1, 'Walton': 1, 'Warsaw': 1, 'the Markland Dam': 1, 'Winchester': 1, 'the Dalton Gang': 1, 'Clay Center': 1, 'Moon Lake': 1, 'Garden City': 1, 'Fort Hays': 1, 'Swinging Bridge Park': 1, 'Independence': 1, 'Shawnee Road': 1, 'Indian Avenue': 1, 'Taminend Hall': 1, 'Douglas county': 1, 'Shadowy': 1, 'Lindsborg': 1, 'the Persian Gulf War': 1, 'salina': 1, 'Topeka': 1, 'Towanda': 1, 'Theorosa': 1, 'Wichita': 1, 'Selkirk': 1, 'Complex': 1, 'Manhattan': 1, 'Whiskey Hollow Road': 1, 'Tonawanda': 1, 'the City of Batavia': 1, 'Genesee County': 1, 'the Roberson Mansion': 1, 'Hill Road in Danbury': 1, 'Morefar': 1, 'Teirney Hall': 1, 'Lombardi Center': 1, 'Hughes Hall': 1, 'Keating Hall': 1, \"O'Hare Hall - A\": 1, 'Silver Beach': 1, 'Baisley Ave': 1, 'Frankie': 1, 'Castle - You': 1, 'Brooklyn': 1, 'Forest Avenue': 1, 'the Griffin Hall - In': 1, 'Grand Island': 1, 'Lindbergh': 1, 'Bosco Hall': 1, 'fourth Street': 1, 'New York City': 1, 'the south east': 1, 'East Lake Road': 1, 'Mallina': 1, 'the Chemung Cemetery': 1, 'Chittenango': 1, 'the Dark Path': 1, 'the Cohoes Falls': 1, 'the Hall of Fame': 1, 'Brockway Hall - Brockway': 1, 'Degroat Hall': 1, 'Brockway': 1, 'Dewittville': 1, 'NY': 1, 'Canastota': 1, 'Route 52': 1, 'Fort Edward': 1, 'Blake': 1, 'Skaneateles Lake': 1, 'the Henry Hudson': 1, 'Oyster Bay': 1, 'Raynham Hall': 1, 'Hauppauge': 1, 'Long Island': 1, 'West Point': 1, 'the Vanderbilt Mansion': 1, 'Pollock Road': 1, 'http://www.beardsleecastle.com/ghostpage.htm': 1, 'Lockport': 1, 'Mt. Sinai': 1, 'Lake Ronkonkoma': 1, 'the Secura Building': 1, 'Ashipunn': 1, 'Michigan Island': 1, 'Indian Sacred': 1, 'N.Y.': 1, 'North Country Rd': 1, 'Bantley': 1, 'Cornell': 1, 'R.N.': 1, 'Alston': 1, 'Shepherd Hall': 1, 'Castle Road': 1, 'Clet Castle': 1, 'Cemetery Road': 1, 'County Road 52': 1, 'Oneida': 1, 'Fond Du Lac': 1, 'Fond du Lac': 1, 'Fon du Lac': 1, 'Kenny': 1, 'the South-East Corner': 1, 'Fort Ontario': 1, 'the Old Base': 1, 'the Battle of Plattsburgh': 1, 'Paradise Road': 1, \"Saint Colletta's\": 1, 'Bowne Hall': 1, 'Sheahan Hall': 1, 'Marist': 1, 'Woodman': 1, 'Townline Rd': 1, 'Tainter': 1, 'Irondequoit': 1, 'Sackets Harbor': 1, 'the Scarborough / Ossining': 1, 'Indian Burial Mound': 1, 'Coburg': 1, 'Sister Sixtoes': 1, 'Studio 13': 1, 'Sandburg': 1, 'North Tower': 1, 'Sear': 1, \"St. John's\": 1, 'T.B.': 1, 'Brielle Ave': 1, 'Amboy Road': 1, 'the Bender Park Story': 1, 'the Rock Garden Tavern': 1, 'Club Harbor': 1, 'Wolfe': 1, 'syracuse': 1, 'new york': 1, 'Sacky': 1, 'St. Josephs': 1, 'Germany': 1, 'pedophilia': 1, 'Lake Oswald': 1, 'French Road': 1, 'East Wing': 1, 'Forest Park': 1, 'Utica': 1, 'Valley Stream': 1, 'Hook Creek Boulevard': 1, 'Queens': 1, 'New Michigan Road': 1, 'New Castle': 1, 'White Plains': 1, 'Red Bridge': 1, 'Lakeshore Drive': 1, 'Weary': 1, 'The Bridge - There': 1, 'Stoughton': 1, 'Superior': 1, 'West Babylon': 1, 'the Milwaukee County Grounds': 1, 'Holy Angels': 1, 'Shanghai': 1, 'Northeast': 1, 'Zoar': 1, 'the Floyd River': 1, 'the City of Boone': 1, 'Moingona': 1, 'Warde Hall': 1, 'The Dark Angel': 1, 'Humboldt County': 1, 'City Hall - A': 1, 'Hal': 1, 'the Cloud Room': 1, 'Mall Tower - Merle Hay Mall': 1, 'Merle Hay Tower': 1, 'the Merle Hay Tower': 1, 'the Fischer Building': 1, 'Cedar Hall - South': 1, 'Keg Creek': 1, 'Eagle City Park': 1, 'College Hall': 1, 'the Black Angel': 1, 'Currier Hall - According': 1, 'Currier Hall': 1, 'Lake City': 1, 'white abandon house': 1, 'Coffins Grove Park': 1, '11:00pm': 1, 'the Greenwood Cemetery': 1, 'New Virginia': 1, 'Mars Hill': 1, 'Shellsburg': 1, 'Sioux City History - March 2007 Update: The KD Station': 1, 'Rodriguez': 1, 'Swope Hall Room 305': 1, 'Webster County': 1, 'south end park': 1, 'Y.M.C.A.': 1, 'Capital Plaza': 1, 'the Kanawaha River': 1, 'West Virginia': 1, 'Underground Railroad': 1, 'Zona': 1, 'the East Coast': 1, 'Sabbaths': 1, 'Route 857 North': 1, 'North End': 1, 'Scotland': 1, 'Weirwood': 1, 'Michigan Avenue': 1, 'Shrewsbury': 1, 'Ramsey Hall': 1, 'Spencer': 1, 'W.Va.': 1, 'Summersville': 1, 'the Weeping Woman': 1, 'Washington Park': 1, 'Central Ave': 1, 'Edith': 1, 'Osuna': 1, 'The Banditos Motorcycle': 1, 'Llorna': 1, 'Santa Fe County': 1, 'the Memorial Hospital': 1, 'Los Alamos': 1, 'Albuquerque': 1, 'Madrid': 1, 'Hale Lake Just': 1, 'Auburn': 1, 'WA': 1, 'Jericho': 1, 'Dryden Hall': 1, 'pioneer park': 1, 'the Redmond Duval Road': 1, 'North hill': 1, 'Kittitas': 1, 'Washington States': 1, 'Airport Road': 1, 'Roche Harbor': 1, 'the Yakima River': 1, 'Barry Loukaitis': 1, 'Oysterville WA': 1, 'the Green River Killer': 1, 'Eastern Washington': 1, 'Maple Valley Highway': 1, 'Renton': 1, 'the Lakeview Cemetery': 1, 'Elliott Avenue': 1, 'St. Edwards State': 1, 'the Eagles Graveyard': 1, 'Pacific Time': 1, 'Monaghan': 1, 'the Valley Doubletree - A': 1, 'the Wetlands Park': 1, 'the Puyallup River': 1, 'Hooverville': 1, 'the Pierce County Sheriff Deputies': 1, 'Tacoma': 1, 'Vashon Island': 1, 'Western State Sanitarium': 1, 'the Pacific Northwest': 1, 'St. Paul’s': 1, 'The City of Chicago Cemetery': 1, 'St. Elmo-valley': 1, 'Fox Lake': 1, 'St Patricks': 1, 'Aurora': 1, 'the Fox River': 1, 'Cisco': 1, 'The DuPage County': 1, 'Fiefer Road': 1, 'Belleville West': 1, 'Bethany': 1, 'Shelbyvillle': 1, 'the Middle of Nowhere': 1, 'Bloomington': 1, 'Lake Marion Roads': 1, 'White Lick Creek': 1, 'Bargersville': 1, 'the Wabash River': 1, 'Centralia': 1, 'Stover': 1, 'Sweeney': 1, 'Southside': 1, 'the Eastland Ship Distater': 1, 'the Chicago River': 1, 'Armory': 1, 'Stritch': 1, 'Oak Park Rd': 1, 'Clark Street': 1, 'Elizaville Rd': 1, 'Marshall County': 1, 'the Brushy Prarie Cemetery': 1, 'Chesterton': 1, 'Lake Michigan': 1, 'Michigan City': 1, 'Clarksville': 1, 'Midnight': 1, 'Mikey': 1, 'the Catract Lake': 1, 'the Biograph Theater': 1, 'Warren Park': 1, 'Collinsville': 1, 'Keebler': 1, 'Theater': 1, 'the Kuklehan Mansion': 1, 'North Pointe Sub-Division': 1, 'Disko': 1, 'Van Buren St - A': 1, 'State Street': 1, 'Bachelors': 1, 'The Lake View Cemetery': 1, 'St. Louis - Springfield': 1, 'Moody Lane': 1, 'South Street': 1, 'Edgelea': 1, 'Weston Village': 1, 'the Elgin State Mental Institution': 1, 'Hallways': 1, 'U46': 1, 'k.g.': 1, 'Kimball Street': 1, 'North Avenue': 1, 'North and York': 1, 'Elmhurst': 1, 'Evergreen Park': 1, 'Kedzie Ave': 1, \"St. Mary's\": 1, 'the Capone Mob': 1, \"Reaper's Realm\": 1, 'Hanover Cemetery': 1, 'Pixley Knob Road': 1, 'Mountain Grove': 1, 'Mt. Zion Cemetery': 1, 'the Bethel Cemetery': 1, 'Hymera': 1, 'Hartsburg': 1, 'Havana': 1, 'Golf Road': 1, 'Shoe Factory Road': 1, 'Irvington': 1, 'Indianola Park': 1, 'Washington St.': 1, 'City': 1, 'Hawthorne Park': 1, 'Belmont Street': 1, 'Washington Streets': 1, 'Miley Avenue': 1, 'West Washington Street': 1, 'north - east': 1, 'Kankakee': 1, 'ST': 1, \"St. Joseph's Orphanage\": 1, 'Abbey': 1, 'Benedictine Hall': 1, 'Neuzil Hall - Another': 1, 'Neuzil Hall': 1, 'leigon park': 1, 'Trail of Tears': 1, 'Lake Prairie Cemetery - Mists': 1, 'Calumet Avenue': 1, 'Auburn Road': 1, 'the Vandolah Nature Preserve': 1, 'Cedar Canyon': 1, 'Clay Street': 1, 'Holtz Road': 1, 'Thompson Hall': 1, 'Manteno': 1, 'the \"hill': 1, 'Left off Highway 177': 1, 'Mason City Illinois': 1, 'Coles county': 1, 'Elpaso': 1, 'LaPorte': 1, 'Hacienda': 1, 'Warren County': 1, 'Gougar Rd': 1, 'Atkin': 1, 'Williams Hall': 1, 'Muncie': 1, 'Jay County': 1, 'Munster Indiana': 1, 'New Corydon': 1, 'South 8th Street': 1, 'Springport': 1, 'Spring Valley': 1, 'Broadway Road': 1, \"Veteran's Parkway\": 1, 'Farmington Road': 1, 'River Station': 1, 'Padua Hall': 1, 'County Road': 1, 'Hancock County': 1, 'River Road': 1, 'P.S.': 1, 'Porter County': 1, 'Princeton': 1, 'Haddy': 1, 'Kishwaukee Street': 1, 'Burpee': 1, 'Mclean': 1, 'Kane County': 1, 'Dwenger Hall': 1, 'Olson Road': 1, 'River Road -  Apparition': 1, 'Shoals': 1, 'Ursuline': 1, 'Fox River': 1, '7th Avenue': 1, 'the Rock River': 1, 'Seventh Avenue': 1, 'Moon Creek': 1, 'Woodlawn Cemetery': 1, 'Action': 1, 'Patawatami Indians': 1, 'St. Joseph River': 1, 'Washington Hall': 1, 'Columbus Hall': 1, 'Saint Paul': 1, 'Guilford': 1, 'the Terre Haute Country Club': 1, 'Terre Haute': 1, 'Mill Creek': 1, 'Monmouth': 1, 'Highway 34': 1, 'Wayne': 1, 'Watseka Manor': 1, 'Larkdale': 1, 'Lake Zurich': 1, 'Lake County': 1, 'the Wauconda Cemetery': 1, 'Capones': 1, 'Cherry Valley Rd': 1, 'the Fox River Front': 1, 'North of Richmond': 1, 'Wells County': 1, 'Mount Vernon': 1, 'Annandale': 1, 'Arlington': 1, 'Wash Frank Hall': 1, 'Walney': 1, 'Grey': 1, 'North Michigan Rd': 1, 'Danville': 1, '770 Main Street': 1, 'Pocahontas Parkway': 1, 'Longfellow': 1, 'watchman': 1, 'Jadwin Village': 1, 'Arlington National Cemetery': 1, 'the Earl of Chatham': 1, 'Chatham': 1, 'Fitzhugh': 1, 'Frederick Avenue': 1, 'the Chesapeake Bay': 1, 'Fort Monroe': 1, 'Dam Neck Naval Base - December of 1999': 1, 'the Dam Neck Naval Base': 1, 'Port Republic Road': 1, 'Logmill': 1, 'Hiwassee': 1, 'Graydon Manor': 1, 'VMI': 1, 'the Jackson Memorial Hall': 1, 'Signal Hill Rd': 1, 'Battlefield Park -': 1, 'Cedar Creek Battle Field': 1, 'Va.': 1, 'the Hall of Heroes': 1, 'the Vampire Tomb': 1, 'Lake Accotink Park': 1, 'Telegraph Road': 1, 'Western Lunatic Asylum': 1, 'The Greenbrier Hotel': 1, 'Churchville': 1, 'the George Wythe house': 1, \"the Governor's Palace in Market Square\": 1, 'the Wade Home': 1, 'Route 1': 1, 'Woodbridge': 1, 'the moon for': 1, 'men?s': 1, 'Fairveiw': 1, 'the Farragut Naval Base': 1, 'Idaho': 1, 'the Oregon Trail': 1, 'Lake Lowell - It': 1, 'the Key Bar': 1, 'Ammon Park': 1, 'bear river': 1, 'BASEMENT': 1, 'Stark Road': 1, 'the Cocheco River - Many years ago': 1, 'Hanna': 1, 'Maples': 1, 'the Hobo Jungle': 1, 'The Greenville Inn': 1, 'Jaffrey': 1, 'N.H.': 1, 'Hampton': 1, 'Huntress': 1, 'the moon': 1, 'children?s': 1, 'Pine Hill Cemetery': 1, 'Wentworth': 1, 'Whistling': 1, 'Mount Anthony': 1, 'Grasse Mount': 1, 'Simpson': 1, 'Castleton State': 1, 'VT': 1, 'Route 14': 1, 'West Hartford': 1, 'the Connecticut River': 1, 'Howland': 1, 'Crowbar': 1, 'Route 9': 1, 'Lavina Field Averill': 1, 'Lavina': 1, 'Jackpot Nevada': 1, 'Las Vegas': 1, 'the Las Vegas Gladiators': 1, 'Sahara': 1, 'Park Lane Mall': 1, 'the 3RD Sat': 1, 'Mansion -': 1, 'Hawaii': 1, 'Maui High': 1, 'Hilo': 1, 'Kaumana': 1, 'the Iolani Palace': 1, \"Kaka'ako Fire Station\": 1, 'Queen Street': 1, 'South Beretania Street': 1, 'Paradise Park - Paradise Park': 1, 'Banshee': 1, 'the Pali Lookout': 1, 'the Pali Highway': 1, 'the South Beretania': 1, 'Bell Tower - years ago': 1, 'Wahiawa': 1, 'Kahala': 1, 'Kahala Mall': 1, 'the Kahala Mall': 1, 'Kauai Lihue': 1, 'Paea': 1, 'the Virgin Mary': 1, 'Wailea': 1, 'Waianae Coast': 1, 'Nanakuli': 1, 'the Ihilani Resort': 1, 'Fiji': 1, 'Marquesas': 1, 'Pearl City': 1, 'a Pearl Harbor': 1, 'Roberta': 1, 'Benjamin': 1, 'the Idle Isle': 1, 'Brigham City': 1, 'the Idle Isle Cafe': 1, 'the Brigham City Valley': 1, 'the Mountain for Box Elder': 1, 'Cedar City': 1, 'the Auditorium Theatre': 1, 'M16': 1, 'Standardville': 1, 'Layton': 1, 'Overland Street': 1, 'North Salt Lake': 1, 'Lazarus': 1, 'the Ogden City Cemetery': 1, '25th Street': 1, 'Ogden': 1, 'Huntsville': 1, 'PG': 1, '25th street': 1, 'Weber River - Reports': 1, 'Salt Lake': 1, 'Salt lake city': 1, 'Liberty Heights - 4 years ago': 1, 'Rio Grand': 1, 'an Area Hotel': 1, 'Argo Hall - This': 1, 'Wild Bill': 1, 'Barnard Park': 1, 'Geneva': 1, 'Altman Hall of Hastings College - Altman': 1, \"Jenner's Park\": 1, 'The Camp Creek Cemetery': 1, 'Nebraska City': 1, 'Bishof': 1, 'North Platte': 1, 'Balcony': 1, 'Lighting': 1, 'Omaha': 1, 'Plattsmouth': 1, 'Neihardt Hall': 1, 'Allatoona Lake': 1, 'Barnsley Gardens': 1, 'the Rice House': 1, 'Baker County': 1, 'Turner Rd': 1, 'Federal': 1, 'Stockade Creek': 1, 'Andersonville': 1, 'Highway 341': 1, 'Stewart Avenue': 1, 'Invasion': 1, 'Henry IV Part I': 1, 'Camellia': 1, 'Broad street': 1, 'Augusta': 1, 'Broad Street': 1, 'the Crystal Pistol': 1, 'Bonaire': 1, 'Route 96 East': 1, 'the Ocmulgee River': 1, 'Route 129': 1, 'Highway 129': 1, 'Town Hall': 1, 'Buford': 1, 'Braselton Highway(124': 1, 'Chatsworth': 1, 'the Trail of Tears': 1, 'Okefenokee': 1, 'Whites': 1, 'Whites Bridge': 1, 'Whitesville Road': 1, 'Cumming': 1, 'Dahlonega': 1, 'Trahlyta': 1, 'Houston County': 1, 'thrill': 1, 'Amicalola Mountain': 1, 'Amicalola State Park': 1, 'Dawsonville': 1, 'Kelly Bridge Road': 1, 'morgue trays': 1, 'Elberton': 1, 'Stonehenge': 1, 'Starr': 1, 'Woolsy Road Bridge -': 1, 'Flatshoals': 1, 'Hong Kong': 1, 'Gilmer County': 1, 'Whitepath': 1, 'the \"Trail of Tears': 1, 'St. Simons': 1, 'Decula': 1, 'Hawkinsville': 1, 'Cochran': 1, 'Kennesaw': 1, 'Cemetery St.': 1, 'Stephenson Road': 1, 'Concord Rd': 1, 'Cobb County': 1, 'Randolph Street': 1, 'The Taylor House': 1, 'the Kennesaw House': 1, 'Macon': 1, 'the McDonough Station': 1, 'Camp Creek': 1, 'Ivey Edwards Rd': 1, 'Clarke': 1, 'Cedar Creek': 1, 'Roscoe Road': 1, 'Coweta County': 1, 'Carver Mill Road': 1, 'Pickens County': 1, 'Scarecorn Creek': 1, 'CCC Road - aka': 1, 'GA.(Sloan Street': 1, 'Sale City': 1, 'Camp Villamarie - Everyone': 1, 'Weston': 1, 'the Savannah River': 1, 'Jekyll': 1, 'Rockdale county': 1, 'Talbot County': 1, 'Talbot': 1, 'Hickory Springs': 1, 'Blue Bayou': 1, 'Van Wert': 1, 'Jesup': 1, 'Appling County - Spooklight': 1, 'Cobb Hall - was': 1, 'Gordy Hall': 1, 'Cherokee County': 1, 'Sautee': 1, 'Yonah Mountain': 1, 'the Chattahoochee River': 1, 'Graveyard': 1, 'Clegg': 1, 'the Matador Cemetery': 1, 'Motley Mansion': 1, 'Terramont Park -': 1, 'the Stephen F. Austin University': 1, 'Springcreek': 1, 'Pampa': 1, 'Santa Rosa': 1, 'the Sara Jane Haunting': 1, 'the Water Tower': 1, 'Preston Street': 1, 'the Rio Hondo High School': 1, 'Roma': 1, 'Castle Hills': 1, 'Mod 9 and 10 on third': 1, 'the Lobby Bar': 1, 'Rm': 1, 'West Wing': 1, 'South Alamo Street': 1, 'Comanche Park': 1, 'the Historic Register': 1, 'San Antonio Hotel': 1, 'Stinson Field': 1, 'Airport': 1, 'the Ghost Tracks of Shane': 1, 'Holt': 1, 'Admin': 1, 'San Elizario': 1, 'Air Force': 1, 'Thompson Island': 1, 'San Marcos': 1, 'kentucky': 1, 'Girl Scout Camp': 1, 'Toddville Mansion': 1, 'Shafter Lake': 1, 'Seminole': 1, 'The Third Coast': 1, 'Billings': 1, 'the Musselshell River': 1, 'Saint Charles Hall': 1, 'the Riverside Inn': 1, 'Eberly Park': 1, 'Cinemark': 1, \"Hopkin's Park\": 1, 'Goliad': 1, 'Cameron': 1, 'Cameron Park': 1, 'Proctor Springs': 1, 'Rainbow Creek': 1, 'Caroline': 1, 'Diamond Oaks Trail': 1, 'Rio Bravo': 1, 'East Columbia': 1, 'Santa Ana': 1, 'Holliday Creek': 1, 'Lucy Park -': 1, 'Clara': 1, 'Sutherlands': 1, 'Eagle Stadium': 1, 'the Galveston Hurricane': 1, 'Highway 385': 1, 'Andrews County': 1, 'the Trinity River': 1, 'Mosier Valley': 1, 'the Driskill Hotel': 1, 'Premont': 1, 'Littlefield': 1, 'the Kerrville Library Bandera Pass': 1, 'Bandera County': 1, 'Brit Bailey': 1, 'Camp Lulu': 1, 'Fort Brown': 1, 'Ft.': 1, 'Burkeville': 1, 'Waco': 1, 'China Springs': 1, 'Orphanage Rd': 1, 'Moore Road': 1, 'Wilson Plaza': 1, 'Corsicana': 1, 'Bear Creek': 1, 'Jefferson': 1, 'Lake Highlands High School': 1, 'Church Rd': 1, 'White Rock Trail': 1, 'Combs Creek': 1, 'Gaston Ave': 1, 'the North Gym': 1, 'East Bernard': 1, 'Edinburg': 1, 'Shunior': 1, 'Montana Street': 1, 'Mountain View High School': 1, 'Juarez': 1, 'the Franklin Mountains': 1, 'Clint': 1, 'the Military Installation': 1, 'PT': 1, 'Ft. Worth': 1, 'Fort Worth': 1, 'North Parkway': 1, 'Tremont': 1, 'the bay edge': 1, 'Shannon': 1, 'Highway 36 East': 1, 'North or South': 1, 'Blue Mound Road': 1, 'the Heights Area': 1, 'Market Square': 1, 'the Sam Houston Memorial Museum': 1, 'the South Building': 1, 'the East Building': 1, 'Vernon': 1, 'Buffalo Lake': 1, 'Keller': 1, 'Stark Hall': 1, 'Lewis Hall': 1, 'Bishop Hall - At': 1, 'Jackson Lake': 1, 'Jamaica': 1, 'the St. Augustan Ball Room': 1, 'reptilian': 1, 'Zacate': 1, 'La Azteca': 1, 'the Tech Carol of Lights': 1, 'the San Marcos': 1, 'Trahern': 1, 'the Cumberland River': 1, 'the Public Library': 1, 'Collinwood': 1, 'Cookville': 1, 'the Surrender House': 1, 'Dover': 1, 'Fort Donelson National Battlefield Park': 1, 'the Fort Donnellson National Cemetery': 1, 'Elk': 1, 'Englewood': 1, 'Historic': 1, 'the Battle of Franklin': 1, 'the Greenbrier Restaurant': 1, 'Tower': 1, 'Jellico': 1, 'Burleson': 1, 'Okolona': 1, 'Johnson City': 1, 'Doe Mountain': 1, 'Netherland Inn Road': 1, 'Knoxville': 1, 'center hill dam': 1, '210 Spring St.': 1, \"Coffee County's\": 1, 'Auburn Park': 1, 'Lamar': 1, 'UC': 1, 'Milligan': 1, 'Watch Tower': 1, 'Belmont Mansion': 1, 'Washington D.C.': 1, 'D.C.': 1, 'a.k.a': 1, 'Second Avenue': 1, 'the Opryland Hotel': 1, 'Parrotsville': 1, 'Oliver Springs': 1, 'Dumpling Hill Cemetery': 1, 'the Purdy Cemetery': 1, 'Shiloh': 1, 'West TN': 1, 'the Cumberland Mountains': 1, 'the Mill Dam': 1, 'Highway 27': 1, 'Tuckaway': 1, 'the Battle of Shiloh': 1, 'Surgoinsville': 1, 'Bumpass Cove Road': 1, 'Astor': 1, 'Polk': 1, 'West Palm Beach': 1, 'Coquina Beach': 1, 'Jefferson Old': 1, 'Fort Dade Ave': 1, 'Crown': 1, 'Katlin': 1, 'G.I.': 1, 'Halifax River': 1, 'Daytona': 1, 'Fernandina Beach High School': 1, 'the St. Lucie River': 1, 'Pace Center': 1, 'Fort Pierce': 1, 'A.I.': 1, 'Ft. Lauderdale': 1, 'Shake': 1, 'Gainesville': 1, 'Green Cove Springs': 1, 'Hialeah Miami': 1, 'Hudson Hills Manor - In': 1, 'INDIAN RIVER DRIVE': 1, 'Duval Street - Cold': 1, 'Kissimmee': 1, 'Old Vineland Road': 1, 'the Lake Worth Playhouse': 1, 'Lake Worth': 1, 'New Pass': 1, 'Daytona Beach': 1, 'Ocala': 1, 'Mediterranean': 1, 'Coconut Grove': 1, 'Biscayne Bay': 1, 'The Herlong Mansion': 1, 'Magnolia Creek Lane': 1, 'Ocklawaha': 1, 'Lake Weir': 1, 'Cannas': 1, 'The Econ River - Lots': 1, 'Geniva': 1, 'the \"Tower of Terror': 1, 'Pine Hills': 1, 'Silver Lakes': 1, 'Seville Quarter': 1, 'Alcaniz Street': 1, 'Seville Square': 1, 'Port Charlotte': 1, 'Quincy': 1, 'New Tribes Mission': 1, 'Highway 19': 1, 'Capone': 1, 'St. Augustine': 1, 'the City Gates': 1, 'the Old City Gates': 1, 'San Marco': 1, 'The Skyway Bridge': 1, 'Leon County Jail': 1, 'The Lively Building': 1, 'College Avenue': 1, 'The Leon Bar': 1, 'Cherry Wood': 1, 'Indian Village': 1, 'the Park Theatre': 1, 'New Port Richey': 1, 'the Umatilla Cemetery': 1, 'Golden Gem': 1, 'Umatilla': 1, 'bay street': 1, 'Winter Park': 1, 'Kindergarten': 1, 'Bolivar': 1, 'Black Tram': 1, 'the Hills Outdoor Drama': 1, 'Branson': 1, 'Break Neck Hill -': 1, 'the Christian County/Stone County Line': 1, 'Pillsbury': 1, 'Tower Hall - Students': 1, 'Davisville': 1, 'FARMINGTON': 1, '327th': 1, 'Dumas': 1, 'BB Hwy': 1, 'Farrenburg': 1, 'Leaf Brown Cemetery': 1, 'Glaser Road': 1, 'the State Park': 1, 'Liberty - Faint': 1, 'Jefferson City': 1, 'Metro North Mall - towards': 1, 'Houston Lake': 1, 'Platte County': 1, 'Downtown Kansas City': 1, 'the Airport - Strange': 1, 'Tiffany Springs': 1, 'IA': 1, 'Kirksville': 1, 'Northeast Missouri State': 1, 'Bell Tower': 1, 'Groendyke Hall': 1, 'the Scholastic Building': 1, 'Liberty': 1, 'the County Courthouse': 1, 'Walnut Street': 1, 'the Katy Trail': 1, 'Wilcox': 1, 'Rickey Road': 1, 'Laclede County': 1, 'Camden County': 1, 'Smithville': 1, 'Jenkins': 1, 'south west': 1, 'the Convention Center': 1, 'Ste': 1, 'Valle': 1, 'St. Michael': 1, 'the Brant Mansion': 1, 'the Mississippi River': 1, 'the Pea Ridge Mine': 1, 'North America': 1, 'Herman': 1, 'Valle Mines': 1, 'Avenue': 1, 'West Plains': 1, 'Gumboro Delaware': 1, 'woodland beach': 1, 'the woodland area': 1, 'karlyn street': 1, 'Turkey Point': 1, 'Pike Creek': 1, 'Jerde Hall': 1, 'Wild Bill Hickock': 1, 'Hill City': 1, 'the bingo hall': 1, 'morgue area': 1, 'Rapid City': 1, 'St. Patrick’s Day': 1, 'Rapid City Regional Airport': 1, 'Sioux Falls': 1, 'Rock Creek': 1, 'Skelton': 1, 'Booth Road': 1, 'Rainbow Bar': 1, 'Hoch Drug': 1, 'Calloway Hall -': 1, 'Gautier': 1, 'Natchez': 1, 'Madeline': 1, 'St. Anthony Hall': 1, 'The Pascagoula River': 1, 'I-10': 1, 'the Singing River': 1, 'Lola': 1, 'Tupelo': 1, 'Mount': 1, 'Berlin': 1, 'Lamentation Mountain': 1, 'the Mattabesset Trail': 1, 'Bristol': 1, 'Cornwall': 1, 'Hearthstone Castle': 1, 'Berkshire Hall': 1, \"Fairfield Hills'\": 1, 'Main Street - Reports': 1, 'the Thames River': 1, 'Groton': 1, 'Ragged Mountain': 1, 'the Hammonasset River': 1, 'Nineveh': 1, 'Mount Tom': 1, 'mentaly': 1, 'Hubbard Park': 1, 'Waterbury Road': 1, 'the Cotter Building': 1, 'Rushford': 1, 'Silver Sands': 1, 'New Britain': 1, 'Lighthouse Park': 1, 'New Haven': 1, 'Newtown': 1, 'Plainfield': 1, 'Great Hill': 1, 'Bickford': 1, 'Elm street': 1, 'route 8- highway': 1, 'Breakneck Hill Road': 1, 'the Saw Mill Woods': 1, 'the Mattituck Trail': 1, 'Black Rock State Park': 1, 'West Haven': 1, 'Notre Dame': 1, 'Founders Hall': 1, 'Rum River': 1, 'East High': 1, 'this ski hill': 1, 'Noyes Hall': 1, 'Tate Hall': 1, 'Forest City': 1, 'Park Elementary': 1, 'Sioux': 1, 'Hutch': 1, 'Loon Lake': 1, 'Minn.': 1, 'Arcola Trail Bridge': 1, 'Arcola Trail': 1, 'Stillwater Minnesota': 1, 'Washington Avenue Bridge - The Washington Avenue Bridge': 1, 'the west bank': 1, 'Highway 7': 1, 'Thief River Falls': 1, 'Oakland Park': 1, 'Pipestone County': 1, 'Holy Name Drive': 1, 'Riverview': 1, 'Shoemaker Hall - In': 1, 'Shoemaker Hall': 1, 'Mounds Park Hospital': 1, 'The Southern Building': 1, 'Minnesota': 1, 'The Northern Building': 1, 'the Main Inn': 1, 'the North Side': 1, 'Willmar': 1, 'St. Helena': 1, 'Mt. St. Park': 1, 'Bingham': 1, 'Brattonsville': 1, 'Bratton': 1, \"the Battle of Huck's Defeat\": 1, 'the Congaree River': 1, 'West Highland': 1, 'Apratments': 1, 'Lucas Bay': 1, 'the Memorial Page': 1, 'Ferry Road': 1, 'Blacksburg': 1, 'Hartsville': 1, 'Prospect Road': 1, 'Lynches River': 1, 'Lyman': 1, 'Myrtle Beach': 1, 'Kinard Hall': 1, \"Molly's Rock\": 1, 'Parris Island Marines': 1, 'Northern Greenville County': 1, 'Powdersville': 1, 'Pell Hall': 1, 'Spartanburg': 1, 'Summerville': 1, 'the Wateree River': 1, 'the State of South Carolina': 1, 'Road': 1, 'Rhode Island Hospital': 1, 'Nickerson Hall': 1, 'Crescent Park Carousel': 1, 'Carousel': 1, 'Rhode Island': 1, 'Woodglenn Park': 1, 'Smokey Hill Rd': 1, 'Kiowa': 1, 'Blackhawk': 1, 'Macky Auditorium -': 1, 'Cañon City': 1, 'the Broadmoor Hotel': 1, 'the Countess Portales': 1, 'Portales': 1, 'Gold Camp': 1, 'Albion Street': 1, 'Colfax Avenue': 1, 'Larimer': 1, 'Montview': 1, 'Quebec': 1, 'Ft. Carson': 1, 'Fort Collins': 1, 'Legacy Park': 1, 'Martinez Park': 1, 'Riverside Park': 1, 'the South Plate River': 1, 'the River Witch': 1, 'Grand Junction': 1, 'the Colorado River': 1, 'Ramkota': 1, 'Northwestern Colorado': 1, 'the Sand Creek': 1, 'Angelica': 1, 'The Littleton Cemetery': 1, 'Santa Fe Drive': 1, 'Southern Colorado': 1, 'the County Sheriff': 1, 'Rocky Mountain High Adventure Base': 1, 'Poncha Springs': 1, 'Ft Garland': 1, 'Hwy 285': 1, 'Cheyenne': 1, 'Summit Springs': 1, 'Brighton': 1, 'the South Platte River': 1, 'the west riverbank': 1, 'the South Platte': 1, 'Highway': 1}\n"
     ]
    }
   ],
   "source": [
    "sorted_text_tally = dict(sorted(entity_loc_tally.items(), key=lambda item: item[1], reverse=True))\n",
    "print(sorted_text_tally)"
   ]
  },
  {
   "cell_type": "code",
   "execution_count": 109,
   "metadata": {},
   "outputs": [
    {
     "data": {
      "image/png": "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",
      "text/plain": [
       "<Figure size 640x480 with 1 Axes>"
      ]
     },
     "metadata": {},
     "output_type": "display_data"
    }
   ],
   "source": [
    "# Get the top 10 most common locations (LOC/GPE/FAC)\n",
    "top_loc_gpe_entities = Counter(sorted_text_tally).most_common(10)\n",
    "\n",
    "locations = [item[0] for item in top_loc_gpe_entities]\n",
    "counts = [item[1] for item in top_loc_gpe_entities]\n",
    "\n",
    "bars = plt.bar(locations, counts)\n",
    "for bar in bars:\n",
    "    plt.text(bar.get_x() + bar.get_width()/2, bar.get_height(), \n",
    "             f'{bar.get_height()}', ha='center', va='bottom', fontsize=12)\n",
    "plt.xlabel('Location')\n",
    "plt.ylabel('Count')\n",
    "plt.title('Most Common LOC/GPE/FAC Entities')\n",
    "plt.xticks(rotation=45)\n",
    "plt.show()"
   ]
  }
 ],
 "metadata": {
  "kernelspec": {
   "display_name": "Python 3 (ipykernel)",
   "language": "python",
   "name": "python3"
  },
  "language_info": {
   "codemirror_mode": {
    "name": "ipython",
    "version": 3
   },
   "file_extension": ".py",
   "mimetype": "text/x-python",
   "name": "python",
   "nbconvert_exporter": "python",
   "pygments_lexer": "ipython3",
   "version": "3.12.7"
  }
 },
 "nbformat": 4,
 "nbformat_minor": 4
}
